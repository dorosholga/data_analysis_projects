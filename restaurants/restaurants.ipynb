{
 "cells": [
  {
   "cell_type": "markdown",
   "metadata": {},
   "source": [
    "# Открытие кафе"
   ]
  },
  {
   "cell_type": "markdown",
   "metadata": {},
   "source": [
    "**Цель:** привлечь средства инвесторов для открытия кафе в Москве, где гостей обслуживают роботы\n",
    "\n",
    "**Задача:** исследовать текущий рынок общественного питания Москвы, дать рекомендации \n",
    "\n",
    "**Шаги:**\n",
    "- исследовать соотношение видов объектов общественного питания по количеству;\n",
    "- исследовать соотношение сетевых и несетевых заведений по количеству;\n",
    "- изучить характеристики сетевого распространения;\n",
    "- рассчитать среднее количество мест для каждого объекта общественного питания;\n",
    "- исследовать улицы и районы, где создана наибольшая концентрация объектов питания"
   ]
  },
  {
   "cell_type": "markdown",
   "metadata": {},
   "source": [
    "## 1. Изучение данных и подготовка их к анализу"
   ]
  },
  {
   "cell_type": "code",
   "execution_count": 1,
   "metadata": {},
   "outputs": [],
   "source": [
    "import pandas as pd\n",
    "import matplotlib.pyplot as plt\n",
    "import seaborn as sns\n",
    "import plotly.express as px\n",
    "from plotly import graph_objects as go\n",
    "import numpy as np"
   ]
  },
  {
   "cell_type": "code",
   "execution_count": 2,
   "metadata": {},
   "outputs": [],
   "source": [
    "try:\n",
    "    data = pd.read_csv('/home/olga/Downloads/rest_data.csv')\n",
    "except:\n",
    "    data = pd.read_csv('/datasets/rest_data.csv')"
   ]
  },
  {
   "cell_type": "code",
   "execution_count": 3,
   "metadata": {},
   "outputs": [
    {
     "data": {
      "text/html": [
       "<div>\n",
       "<style scoped>\n",
       "    .dataframe tbody tr th:only-of-type {\n",
       "        vertical-align: middle;\n",
       "    }\n",
       "\n",
       "    .dataframe tbody tr th {\n",
       "        vertical-align: top;\n",
       "    }\n",
       "\n",
       "    .dataframe thead th {\n",
       "        text-align: right;\n",
       "    }\n",
       "</style>\n",
       "<table border=\"1\" class=\"dataframe\">\n",
       "  <thead>\n",
       "    <tr style=\"text-align: right;\">\n",
       "      <th></th>\n",
       "      <th>id</th>\n",
       "      <th>object_name</th>\n",
       "      <th>chain</th>\n",
       "      <th>object_type</th>\n",
       "      <th>address</th>\n",
       "      <th>number</th>\n",
       "    </tr>\n",
       "  </thead>\n",
       "  <tbody>\n",
       "    <tr>\n",
       "      <th>0</th>\n",
       "      <td>151635</td>\n",
       "      <td>СМЕТАНА</td>\n",
       "      <td>нет</td>\n",
       "      <td>кафе</td>\n",
       "      <td>город Москва, улица Егора Абакумова, дом 9</td>\n",
       "      <td>48</td>\n",
       "    </tr>\n",
       "    <tr>\n",
       "      <th>1</th>\n",
       "      <td>77874</td>\n",
       "      <td>Родник</td>\n",
       "      <td>нет</td>\n",
       "      <td>кафе</td>\n",
       "      <td>город Москва, улица Талалихина, дом 2/1, корпус 1</td>\n",
       "      <td>35</td>\n",
       "    </tr>\n",
       "    <tr>\n",
       "      <th>2</th>\n",
       "      <td>24309</td>\n",
       "      <td>Кафе «Академия»</td>\n",
       "      <td>нет</td>\n",
       "      <td>кафе</td>\n",
       "      <td>город Москва, Абельмановская улица, дом 6</td>\n",
       "      <td>95</td>\n",
       "    </tr>\n",
       "    <tr>\n",
       "      <th>3</th>\n",
       "      <td>21894</td>\n",
       "      <td>ПИЦЦЕТОРИЯ</td>\n",
       "      <td>да</td>\n",
       "      <td>кафе</td>\n",
       "      <td>город Москва, Абрамцевская улица, дом 1</td>\n",
       "      <td>40</td>\n",
       "    </tr>\n",
       "    <tr>\n",
       "      <th>4</th>\n",
       "      <td>119365</td>\n",
       "      <td>Кафе «Вишневая метель»</td>\n",
       "      <td>нет</td>\n",
       "      <td>кафе</td>\n",
       "      <td>город Москва, Абрамцевская улица, дом 9, корпус 1</td>\n",
       "      <td>50</td>\n",
       "    </tr>\n",
       "  </tbody>\n",
       "</table>\n",
       "</div>"
      ],
      "text/plain": [
       "       id             object_name chain object_type  \\\n",
       "0  151635                 СМЕТАНА   нет        кафе   \n",
       "1   77874                  Родник   нет        кафе   \n",
       "2   24309         Кафе «Академия»   нет        кафе   \n",
       "3   21894              ПИЦЦЕТОРИЯ    да        кафе   \n",
       "4  119365  Кафе «Вишневая метель»   нет        кафе   \n",
       "\n",
       "                                             address  number  \n",
       "0         город Москва, улица Егора Абакумова, дом 9      48  \n",
       "1  город Москва, улица Талалихина, дом 2/1, корпус 1      35  \n",
       "2          город Москва, Абельмановская улица, дом 6      95  \n",
       "3            город Москва, Абрамцевская улица, дом 1      40  \n",
       "4  город Москва, Абрамцевская улица, дом 9, корпус 1      50  "
      ]
     },
     "execution_count": 3,
     "metadata": {},
     "output_type": "execute_result"
    }
   ],
   "source": [
    "data.head()"
   ]
  },
  {
   "cell_type": "markdown",
   "metadata": {},
   "source": [
    "**Описание данных**\n",
    "\n",
    "- `id`  — идентификатор объекта;\n",
    "- `object_name` — название объекта общественного питания;\n",
    "- `chain` — сетевой ресторан;\n",
    "- `object_type` — тип объекта общественного питания;\n",
    "- `address` — адрес;\n",
    "- `number` — количество посадочных мест"
   ]
  },
  {
   "cell_type": "code",
   "execution_count": 4,
   "metadata": {},
   "outputs": [
    {
     "name": "stdout",
     "output_type": "stream",
     "text": [
      "<class 'pandas.core.frame.DataFrame'>\n",
      "RangeIndex: 15366 entries, 0 to 15365\n",
      "Data columns (total 6 columns):\n",
      " #   Column       Non-Null Count  Dtype \n",
      "---  ------       --------------  ----- \n",
      " 0   id           15366 non-null  int64 \n",
      " 1   object_name  15366 non-null  object\n",
      " 2   chain        15366 non-null  object\n",
      " 3   object_type  15366 non-null  object\n",
      " 4   address      15366 non-null  object\n",
      " 5   number       15366 non-null  int64 \n",
      "dtypes: int64(2), object(4)\n",
      "memory usage: 720.4+ KB\n"
     ]
    }
   ],
   "source": [
    "data.info()"
   ]
  },
  {
   "cell_type": "markdown",
   "metadata": {},
   "source": [
    "Пропущенных значений в столбцах нет. Все типы данных приведены корректно. Можно было бы заменить тип в столбце на 'chain' на булев. Но можно и оставить строковый."
   ]
  },
  {
   "cell_type": "markdown",
   "metadata": {},
   "source": [
    "Есть смысл проверить наличие дубликатов в названиях, типах заведений и адресах"
   ]
  },
  {
   "cell_type": "markdown",
   "metadata": {},
   "source": [
    "### Столбец \"object_name\""
   ]
  },
  {
   "cell_type": "code",
   "execution_count": 5,
   "metadata": {},
   "outputs": [
    {
     "data": {
      "text/plain": [
       "4973"
      ]
     },
     "execution_count": 5,
     "metadata": {},
     "output_type": "execute_result"
    }
   ],
   "source": [
    "data.duplicated(subset='object_name').sum()"
   ]
  },
  {
   "cell_type": "markdown",
   "metadata": {},
   "source": [
    "Слишком большое число дубликатов, чтобы можно было просто удалить."
   ]
  },
  {
   "cell_type": "code",
   "execution_count": 6,
   "metadata": {},
   "outputs": [
    {
     "data": {
      "text/plain": [
       "Столовая                                267\n",
       "Кафе                                    236\n",
       "Шаурма                                  234\n",
       "KFC                                     155\n",
       "Шоколадница                             142\n",
       "Макдоналдс                              122\n",
       "Бургер Кинг                             122\n",
       "Домино'с Пицца                           86\n",
       "Теремок                                  84\n",
       "Крошка Картошка                          82\n",
       "Пекарня                                  76\n",
       "Милти                                    65\n",
       "Суши Wok                                 61\n",
       "Буфет                                    59\n",
       "СТОЛОВАЯ                                 52\n",
       "Папа Джонс                               50\n",
       "Кофе с собой                             44\n",
       "Школьно-базовая столовая                 44\n",
       "Чайхона №1                               42\n",
       "КАФЕ                                     41\n",
       "Выпечка                                  36\n",
       "Кафетерий                                35\n",
       "Хинкальная                               35\n",
       "Якитория                                 33\n",
       "Додо Пицца                               31\n",
       "Кофе Хаус                                31\n",
       "Starbucks                                30\n",
       "Subway                                   29\n",
       "Кофейня                                  29\n",
       "МАКДОНАЛДС                               29\n",
       "Донер Кебаб                              27\n",
       "Тануки                                   26\n",
       "Хлеб насущный                            24\n",
       "Бистро                                   23\n",
       "БУФЕТ                                    23\n",
       "Иль Патио                                23\n",
       "Мята Lounge                              23\n",
       "Cofix                                    22\n",
       "Прайм стар                               22\n",
       "Старбакс                                 21\n",
       "Донер                                    20\n",
       "Пиццерия                                 19\n",
       "Пицца Хат                                17\n",
       "Сабвей                                   17\n",
       "Кулинария                                17\n",
       "Кафе «Шоколадница»                       16\n",
       "ШОКОЛАДНИЦА                              16\n",
       "Кофе                                     16\n",
       "КОМБИНАТ ПИТАНИЯ МГТУ ИМ.Н.Э.БАУМАНА     16\n",
       "ШАУРМА                                   16\n",
       "Name: object_name, dtype: int64"
      ]
     },
     "execution_count": 6,
     "metadata": {},
     "output_type": "execute_result"
    }
   ],
   "source": [
    "data['object_name'].value_counts().sort_values(ascending=False).head(50)"
   ]
  },
  {
   "cell_type": "markdown",
   "metadata": {},
   "source": [
    "Видим, что особенно много дубликатов среди сетевых заведений общественного питания. Однако у нас нет достаточной информации, чтобы понять, относятся ли заведения, схожие по названию, к одной сети, или это точки разных сетей. "
   ]
  },
  {
   "cell_type": "markdown",
   "metadata": {},
   "source": [
    "### Столбец 'object_type'"
   ]
  },
  {
   "cell_type": "code",
   "execution_count": 7,
   "metadata": {},
   "outputs": [
    {
     "data": {
      "text/plain": [
       "array(['кафе', 'столовая', 'закусочная',\n",
       "       'предприятие быстрого обслуживания', 'ресторан', 'кафетерий',\n",
       "       'буфет', 'бар', 'магазин (отдел кулинарии)'], dtype=object)"
      ]
     },
     "execution_count": 7,
     "metadata": {},
     "output_type": "execute_result"
    }
   ],
   "source": [
    "data['object_type'].unique()"
   ]
  },
  {
   "cell_type": "markdown",
   "metadata": {},
   "source": [
    "**Типы объектов**\n",
    "- `кафе`\n",
    "- `столовая`\n",
    "- `закусочная`\n",
    "- `предприятие быстрого обслуживания`\n",
    "- `ресторан`\n",
    "- `кафетерий`\n",
    "- `буфет`\n",
    "- `бар`\n",
    "- `магазин (отдел кулинарии)`"
   ]
  },
  {
   "cell_type": "markdown",
   "metadata": {},
   "source": [
    "### Столбец 'address'"
   ]
  },
  {
   "cell_type": "code",
   "execution_count": 8,
   "metadata": {},
   "outputs": [
    {
     "data": {
      "text/plain": [
       "6258"
      ]
     },
     "execution_count": 8,
     "metadata": {},
     "output_type": "execute_result"
    }
   ],
   "source": [
    "data['address'].duplicated().sum()"
   ]
  },
  {
   "cell_type": "markdown",
   "metadata": {},
   "source": [
    "Очень много дубликатов. Может объясняться тем, что различные заведения общественного питания могут находится по одному адресу, напрмимер, в торговых центрах."
   ]
  },
  {
   "cell_type": "markdown",
   "metadata": {},
   "source": [
    "### Столбец 'chain'"
   ]
  },
  {
   "cell_type": "code",
   "execution_count": 9,
   "metadata": {},
   "outputs": [
    {
     "data": {
      "text/plain": [
       "7370        0\n",
       "6905        0\n",
       "9853        0\n",
       "9388        0\n",
       "9385        0\n",
       "         ... \n",
       "3686     1200\n",
       "9064     1288\n",
       "8345     1400\n",
       "8148     1500\n",
       "12723    1700\n",
       "Name: number, Length: 15366, dtype: int64"
      ]
     },
     "execution_count": 9,
     "metadata": {},
     "output_type": "execute_result"
    }
   ],
   "source": [
    "data['number'].sort_values()"
   ]
  },
  {
   "cell_type": "markdown",
   "metadata": {},
   "source": [
    "Заметили, что в некоторых заведениях вообще нет посадочных мест. Возможно, некоторые заведения расположены в фудкортах, где столы не относятся к определенной точке. Также, есть вероятность, что некоторые заведения работают только на доставку/на вынос."
   ]
  },
  {
   "cell_type": "markdown",
   "metadata": {},
   "source": [
    "## 2. Анализ данных"
   ]
  },
  {
   "cell_type": "markdown",
   "metadata": {},
   "source": [
    "### Cоотношение видов объектов общественного питания по количеству"
   ]
  },
  {
   "cell_type": "markdown",
   "metadata": {},
   "source": [
    "Исследуем соотношение видов объектов общественного питания по количеству. Построим график"
   ]
  },
  {
   "cell_type": "code",
   "execution_count": 10,
   "metadata": {},
   "outputs": [],
   "source": [
    "object_types = (\n",
    "    data.groupby('object_type', as_index=False)\n",
    "    .agg({'object_name':'count'})\n",
    "    .sort_values(by='object_name', ascending=False)\n",
    ")\n",
    "\n",
    "object_types.columns = ['object_type', 'number']"
   ]
  },
  {
   "cell_type": "code",
   "execution_count": 11,
   "metadata": {
    "scrolled": true
   },
   "outputs": [
    {
     "data": {
      "image/png": "[encoded data removed]",
      "text/plain": [
       "<Figure size 432x288 with 1 Axes>"
      ]
     },
     "metadata": {
      "needs_background": "light"
     },
     "output_type": "display_data"
    }
   ],
   "source": [
    "sns.barplot(x='number',y='object_type', data=object_types, color='slateblue').set_title('Количество видов объектов')\n",
    "plt.xlabel('количество')\n",
    "plt.ylabel('тип объекта');"
   ]
  },
  {
   "cell_type": "markdown",
   "metadata": {},
   "source": [
    "Больше всего объектов - кафе. После идут столовая, ресторан и предприятие быстрого обслуживания. Остальных видов обектов сильно меньше вышеперечисленных"
   ]
  },
  {
   "cell_type": "markdown",
   "metadata": {},
   "source": [
    "### Cоотношение сетевых и несетевых заведений по количеству"
   ]
  },
  {
   "cell_type": "code",
   "execution_count": 12,
   "metadata": {},
   "outputs": [
    {
     "data": {
      "text/plain": [
       "chain\n",
       "нет    12398\n",
       "да      2968\n",
       "Name: number, dtype: int64"
      ]
     },
     "execution_count": 12,
     "metadata": {},
     "output_type": "execute_result"
    }
   ],
   "source": [
    "(\n",
    "    data.groupby('chain')['number'].count().sort_values(ascending=False)\n",
    ")"
   ]
  },
  {
   "cell_type": "code",
   "execution_count": 13,
   "metadata": {},
   "outputs": [
    {
     "data": {
      "image/png": "[encoded data removed]",
      "text/plain": [
       "<Figure size 432x288 with 1 Axes>"
      ]
     },
     "metadata": {},
     "output_type": "display_data"
    }
   ],
   "source": [
    "colors = (\"#a29bfe\", '#fd79a8')\n",
    "labels = 'Не сетевые', 'Сетевые'\n",
    "\n",
    "data['chain'].value_counts().plot(kind='pie', colors=colors, labels=labels, autopct='%1.1f%%')\n",
    "plt.title('Отношение сетевых и не сетевых заведений')\n",
    "plt.ylabel('');"
   ]
  },
  {
   "cell_type": "markdown",
   "metadata": {},
   "source": [
    "Несетевых объектов больше сетевых более, чем в четвре раза."
   ]
  },
  {
   "cell_type": "markdown",
   "metadata": {},
   "source": [
    "### Виды объектов общественного питания, для которых характерно сетевое распространение"
   ]
  },
  {
   "cell_type": "code",
   "execution_count": 14,
   "metadata": {},
   "outputs": [
    {
     "data": {
      "text/html": [
       "<div>\n",
       "<style scoped>\n",
       "    .dataframe tbody tr th:only-of-type {\n",
       "        vertical-align: middle;\n",
       "    }\n",
       "\n",
       "    .dataframe tbody tr th {\n",
       "        vertical-align: top;\n",
       "    }\n",
       "\n",
       "    .dataframe thead th {\n",
       "        text-align: right;\n",
       "    }\n",
       "</style>\n",
       "<table border=\"1\" class=\"dataframe\">\n",
       "  <thead>\n",
       "    <tr style=\"text-align: right;\">\n",
       "      <th></th>\n",
       "      <th>object_type</th>\n",
       "      <th>chain</th>\n",
       "      <th>count</th>\n",
       "    </tr>\n",
       "  </thead>\n",
       "  <tbody>\n",
       "    <tr>\n",
       "      <th>7</th>\n",
       "      <td>кафе</td>\n",
       "      <td>нет</td>\n",
       "      <td>4703</td>\n",
       "    </tr>\n",
       "    <tr>\n",
       "      <th>17</th>\n",
       "      <td>столовая</td>\n",
       "      <td>нет</td>\n",
       "      <td>2584</td>\n",
       "    </tr>\n",
       "    <tr>\n",
       "      <th>15</th>\n",
       "      <td>ресторан</td>\n",
       "      <td>нет</td>\n",
       "      <td>1741</td>\n",
       "    </tr>\n",
       "    <tr>\n",
       "      <th>6</th>\n",
       "      <td>кафе</td>\n",
       "      <td>да</td>\n",
       "      <td>1396</td>\n",
       "    </tr>\n",
       "    <tr>\n",
       "      <th>13</th>\n",
       "      <td>предприятие быстрого обслуживания</td>\n",
       "      <td>нет</td>\n",
       "      <td>1132</td>\n",
       "    </tr>\n",
       "    <tr>\n",
       "      <th>1</th>\n",
       "      <td>бар</td>\n",
       "      <td>нет</td>\n",
       "      <td>819</td>\n",
       "    </tr>\n",
       "    <tr>\n",
       "      <th>12</th>\n",
       "      <td>предприятие быстрого обслуживания</td>\n",
       "      <td>да</td>\n",
       "      <td>791</td>\n",
       "    </tr>\n",
       "    <tr>\n",
       "      <th>3</th>\n",
       "      <td>буфет</td>\n",
       "      <td>нет</td>\n",
       "      <td>574</td>\n",
       "    </tr>\n",
       "    <tr>\n",
       "      <th>14</th>\n",
       "      <td>ресторан</td>\n",
       "      <td>да</td>\n",
       "      <td>544</td>\n",
       "    </tr>\n",
       "    <tr>\n",
       "      <th>9</th>\n",
       "      <td>кафетерий</td>\n",
       "      <td>нет</td>\n",
       "      <td>346</td>\n",
       "    </tr>\n",
       "    <tr>\n",
       "      <th>5</th>\n",
       "      <td>закусочная</td>\n",
       "      <td>нет</td>\n",
       "      <td>304</td>\n",
       "    </tr>\n",
       "    <tr>\n",
       "      <th>11</th>\n",
       "      <td>магазин (отдел кулинарии)</td>\n",
       "      <td>нет</td>\n",
       "      <td>195</td>\n",
       "    </tr>\n",
       "    <tr>\n",
       "      <th>10</th>\n",
       "      <td>магазин (отдел кулинарии)</td>\n",
       "      <td>да</td>\n",
       "      <td>78</td>\n",
       "    </tr>\n",
       "    <tr>\n",
       "      <th>4</th>\n",
       "      <td>закусочная</td>\n",
       "      <td>да</td>\n",
       "      <td>56</td>\n",
       "    </tr>\n",
       "    <tr>\n",
       "      <th>8</th>\n",
       "      <td>кафетерий</td>\n",
       "      <td>да</td>\n",
       "      <td>52</td>\n",
       "    </tr>\n",
       "    <tr>\n",
       "      <th>0</th>\n",
       "      <td>бар</td>\n",
       "      <td>да</td>\n",
       "      <td>37</td>\n",
       "    </tr>\n",
       "    <tr>\n",
       "      <th>2</th>\n",
       "      <td>буфет</td>\n",
       "      <td>да</td>\n",
       "      <td>11</td>\n",
       "    </tr>\n",
       "    <tr>\n",
       "      <th>16</th>\n",
       "      <td>столовая</td>\n",
       "      <td>да</td>\n",
       "      <td>3</td>\n",
       "    </tr>\n",
       "  </tbody>\n",
       "</table>\n",
       "</div>"
      ],
      "text/plain": [
       "                          object_type chain  count\n",
       "7                                кафе   нет   4703\n",
       "17                           столовая   нет   2584\n",
       "15                           ресторан   нет   1741\n",
       "6                                кафе    да   1396\n",
       "13  предприятие быстрого обслуживания   нет   1132\n",
       "1                                 бар   нет    819\n",
       "12  предприятие быстрого обслуживания    да    791\n",
       "3                               буфет   нет    574\n",
       "14                           ресторан    да    544\n",
       "9                           кафетерий   нет    346\n",
       "5                          закусочная   нет    304\n",
       "11          магазин (отдел кулинарии)   нет    195\n",
       "10          магазин (отдел кулинарии)    да     78\n",
       "4                          закусочная    да     56\n",
       "8                           кафетерий    да     52\n",
       "0                                 бар    да     37\n",
       "2                               буфет    да     11\n",
       "16                           столовая    да      3"
      ]
     },
     "execution_count": 14,
     "metadata": {},
     "output_type": "execute_result"
    }
   ],
   "source": [
    "data_chains = (\n",
    "    data.groupby(['object_type', 'chain'])['chain'].count()\n",
    ")\n",
    "data_chains.name = 'count'\n",
    "data_chains = data_chains.reset_index().sort_values(by='count', ascending=False)\n",
    "data_chains"
   ]
  },
  {
   "cell_type": "markdown",
   "metadata": {},
   "source": [
    "Для каждого вида объекта общественного питания характерно в большей степени сетевое распространение. Проверим, у какого из объектов доля сетевого распространения больше:"
   ]
  },
  {
   "cell_type": "code",
   "execution_count": 15,
   "metadata": {},
   "outputs": [
    {
     "data": {
      "image/png": "[encoded data removed]",
      "text/plain": [
       "<Figure size 432x288 with 1 Axes>"
      ]
     },
     "metadata": {
      "needs_background": "light"
     },
     "output_type": "display_data"
    }
   ],
   "source": [
    "sns.barplot(\n",
    "    x='count', \n",
    "    y='object_type', \n",
    "    hue='chain', \n",
    "    data=data_chains, \n",
    "    palette='Set2')\n",
    "\n",
    "plt.title('Сетевое распространение объектов')\n",
    "plt.grid()\n",
    "plt.xlabel('вид объекта')\n",
    "plt.ylabel('количество точек');"
   ]
  },
  {
   "cell_type": "markdown",
   "metadata": {},
   "source": [
    "Больше всего сетевое распространение характерно для предприятий быстрого обслуживания, ресторанов и кафе."
   ]
  },
  {
   "cell_type": "code",
   "execution_count": 16,
   "metadata": {},
   "outputs": [
    {
     "data": {
      "text/html": [
       "<div>\n",
       "<style scoped>\n",
       "    .dataframe tbody tr th:only-of-type {\n",
       "        vertical-align: middle;\n",
       "    }\n",
       "\n",
       "    .dataframe tbody tr th {\n",
       "        vertical-align: top;\n",
       "    }\n",
       "\n",
       "    .dataframe thead th {\n",
       "        text-align: right;\n",
       "    }\n",
       "</style>\n",
       "<table border=\"1\" class=\"dataframe\">\n",
       "  <thead>\n",
       "    <tr style=\"text-align: right;\">\n",
       "      <th></th>\n",
       "      <th>object_type</th>\n",
       "      <th>chain</th>\n",
       "      <th>count</th>\n",
       "    </tr>\n",
       "  </thead>\n",
       "  <tbody>\n",
       "    <tr>\n",
       "      <th>6</th>\n",
       "      <td>кафе</td>\n",
       "      <td>да</td>\n",
       "      <td>1396</td>\n",
       "    </tr>\n",
       "    <tr>\n",
       "      <th>12</th>\n",
       "      <td>предприятие быстрого обслуживания</td>\n",
       "      <td>да</td>\n",
       "      <td>791</td>\n",
       "    </tr>\n",
       "    <tr>\n",
       "      <th>14</th>\n",
       "      <td>ресторан</td>\n",
       "      <td>да</td>\n",
       "      <td>544</td>\n",
       "    </tr>\n",
       "    <tr>\n",
       "      <th>10</th>\n",
       "      <td>магазин (отдел кулинарии)</td>\n",
       "      <td>да</td>\n",
       "      <td>78</td>\n",
       "    </tr>\n",
       "    <tr>\n",
       "      <th>4</th>\n",
       "      <td>закусочная</td>\n",
       "      <td>да</td>\n",
       "      <td>56</td>\n",
       "    </tr>\n",
       "  </tbody>\n",
       "</table>\n",
       "</div>"
      ],
      "text/plain": [
       "                          object_type chain  count\n",
       "6                                кафе    да   1396\n",
       "12  предприятие быстрого обслуживания    да    791\n",
       "14                           ресторан    да    544\n",
       "10          магазин (отдел кулинарии)    да     78\n",
       "4                          закусочная    да     56"
      ]
     },
     "execution_count": 16,
     "metadata": {},
     "output_type": "execute_result"
    }
   ],
   "source": [
    "in_chain = data_chains[data_chains['chain']=='да'].sort_values(by='count', ascending=False)\n",
    "in_chain.head()"
   ]
  },
  {
   "cell_type": "code",
   "execution_count": 17,
   "metadata": {},
   "outputs": [],
   "source": [
    "total_count = data_chains.groupby('object_type')['count'].sum().reset_index()\n",
    "total_count.columns = ['object_type','total_count']\n",
    "in_chain = in_chain.merge(total_count, on='object_type', how='left')\n",
    "in_chain['percent'] = (in_chain['count'] / in_chain['total_count']).round(3)\n",
    "in_chain = in_chain.sort_values(by='percent', ascending=False)"
   ]
  },
  {
   "cell_type": "code",
   "execution_count": 18,
   "metadata": {},
   "outputs": [
    {
     "data": {
      "image/png": "[encoded data removed]",
      "text/plain": [
       "<Figure size 504x360 with 1 Axes>"
      ]
     },
     "metadata": {
      "needs_background": "light"
     },
     "output_type": "display_data"
    }
   ],
   "source": [
    "with plt.style.context('seaborn-muted'):\n",
    "    plt.figure(figsize=(7,5))\n",
    "    plt.bar(x=in_chain['object_type'], height=in_chain['percent'])\n",
    "    plt.grid()\n",
    "    plt.title('Доли сетевых объектов общественного питания для каждого типа')\n",
    "    plt.ylabel('Доля сетевых точек во всех для типа')\n",
    "    plt.xlabel('Тип объекта')\n",
    "    plt.xticks(rotation=-45);"
   ]
  },
  {
   "cell_type": "markdown",
   "metadata": {},
   "source": [
    "### Характерные особенности сетевых заведений"
   ]
  },
  {
   "cell_type": "markdown",
   "metadata": {},
   "source": [
    "Определим, что характерно для сетевых заведений: много заведений с небольшим числом посадочных мест в каждом или мало заведений с большим количеством посадочных мест?"
   ]
  },
  {
   "cell_type": "code",
   "execution_count": 19,
   "metadata": {},
   "outputs": [],
   "source": [
    "# срез по сетевым объектам со средним кол-вом посадочных мест\n",
    "\n",
    "chains = (\n",
    "    data.query('chain == \"да\"')\n",
    "    .groupby('object_name')\n",
    "    .agg({'object_name':'count', 'number':'mean'})\n",
    ")"
   ]
  },
  {
   "cell_type": "code",
   "execution_count": 20,
   "metadata": {},
   "outputs": [
    {
     "data": {
      "text/html": [
       "<div>\n",
       "<style scoped>\n",
       "    .dataframe tbody tr th:only-of-type {\n",
       "        vertical-align: middle;\n",
       "    }\n",
       "\n",
       "    .dataframe tbody tr th {\n",
       "        vertical-align: top;\n",
       "    }\n",
       "\n",
       "    .dataframe thead th {\n",
       "        text-align: right;\n",
       "    }\n",
       "</style>\n",
       "<table border=\"1\" class=\"dataframe\">\n",
       "  <thead>\n",
       "    <tr style=\"text-align: right;\">\n",
       "      <th></th>\n",
       "      <th>objects_amount</th>\n",
       "      <th>mean</th>\n",
       "    </tr>\n",
       "    <tr>\n",
       "      <th>object_name</th>\n",
       "      <th></th>\n",
       "      <th></th>\n",
       "    </tr>\n",
       "  </thead>\n",
       "  <tbody>\n",
       "    <tr>\n",
       "      <th>Beverly Hills Diner</th>\n",
       "      <td>1</td>\n",
       "      <td>88.000000</td>\n",
       "    </tr>\n",
       "    <tr>\n",
       "      <th>Bierloga</th>\n",
       "      <td>1</td>\n",
       "      <td>75.000000</td>\n",
       "    </tr>\n",
       "    <tr>\n",
       "      <th>Black &amp; White</th>\n",
       "      <td>1</td>\n",
       "      <td>40.000000</td>\n",
       "    </tr>\n",
       "    <tr>\n",
       "      <th>Bocconcino</th>\n",
       "      <td>3</td>\n",
       "      <td>66.666667</td>\n",
       "    </tr>\n",
       "    <tr>\n",
       "      <th>BooBo</th>\n",
       "      <td>1</td>\n",
       "      <td>46.000000</td>\n",
       "    </tr>\n",
       "  </tbody>\n",
       "</table>\n",
       "</div>"
      ],
      "text/plain": [
       "                     objects_amount       mean\n",
       "object_name                                   \n",
       "Beverly Hills Diner               1  88.000000\n",
       "Bierloga                          1  75.000000\n",
       "Black & White                     1  40.000000\n",
       "Bocconcino                        3  66.666667\n",
       "BooBo                             1  46.000000"
      ]
     },
     "execution_count": 20,
     "metadata": {},
     "output_type": "execute_result"
    }
   ],
   "source": [
    "chains.columns = ['objects_amount', 'mean']\n",
    "chains.head()"
   ]
  },
  {
   "cell_type": "code",
   "execution_count": 21,
   "metadata": {},
   "outputs": [
    {
     "data": {
      "image/png": "[encoded data removed]",
      "text/plain": [
       "<Figure size 576x432 with 1 Axes>"
      ]
     },
     "metadata": {
      "needs_background": "light"
     },
     "output_type": "display_data"
    }
   ],
   "source": [
    "# строим диаграмму рассеяния по количеству сетевых точек \n",
    "# и среднему кол-ву посадочных мест\n",
    "\n",
    "plt.figure(figsize=(8,6))\n",
    "plt.scatter(chains['mean'], chains['objects_amount'], alpha=0.5, color='#e84393')\n",
    "plt.grid()\n",
    "plt.xlabel('Среднее количество посадочных мест')\n",
    "plt.ylabel('Количество заведений в сети')\n",
    "plt.title('Распределение количества сетевых заведений и количества посадочных мест', fontsize=15);\n",
    "\n",
    "# чтобы понять, где расположена большая часть объектов и посадочных мест,\n",
    "# отметим на графике 90 перцентиль для каждого показателя\n",
    "\n",
    "plt.axhline(np.percentile(chains['objects_amount'], 90), linestyle='--', color='blue')\n",
    "plt.axvline(np.percentile(chains['mean'], 90), linestyle='--', color='blue')\n",
    "plt.show()"
   ]
  },
  {
   "cell_type": "markdown",
   "metadata": {},
   "source": [
    "Большая часть данных (как заведений, так и посадочных мест) расположена в третьей четверти графика. Таким образом, для сетевиков более характерно небольшое число своих точек и  небольшое/среднее число посадочных мест."
   ]
  },
  {
   "cell_type": "markdown",
   "metadata": {},
   "source": [
    "### Cреднее количество посадочных мест для каждого вида объекта общественного питания "
   ]
  },
  {
   "cell_type": "markdown",
   "metadata": {},
   "source": [
    "Для каждого вида объекта общественного питания рассчитаем среднее количество посадочных мест. Определим, какой вид предоставляет в среднем самое большое количество посадочных мест."
   ]
  },
  {
   "cell_type": "code",
   "execution_count": 22,
   "metadata": {},
   "outputs": [
    {
     "data": {
      "text/html": [
       "<div>\n",
       "<style scoped>\n",
       "    .dataframe tbody tr th:only-of-type {\n",
       "        vertical-align: middle;\n",
       "    }\n",
       "\n",
       "    .dataframe tbody tr th {\n",
       "        vertical-align: top;\n",
       "    }\n",
       "\n",
       "    .dataframe thead th {\n",
       "        text-align: right;\n",
       "    }\n",
       "</style>\n",
       "<table border=\"1\" class=\"dataframe\">\n",
       "  <thead>\n",
       "    <tr style=\"text-align: right;\">\n",
       "      <th></th>\n",
       "      <th>type</th>\n",
       "      <th>mean</th>\n",
       "    </tr>\n",
       "  </thead>\n",
       "  <tbody>\n",
       "    <tr>\n",
       "      <th>0</th>\n",
       "      <td>столовая</td>\n",
       "      <td>130.246618</td>\n",
       "    </tr>\n",
       "    <tr>\n",
       "      <th>1</th>\n",
       "      <td>ресторан</td>\n",
       "      <td>96.834136</td>\n",
       "    </tr>\n",
       "    <tr>\n",
       "      <th>2</th>\n",
       "      <td>буфет</td>\n",
       "      <td>51.129915</td>\n",
       "    </tr>\n",
       "    <tr>\n",
       "      <th>3</th>\n",
       "      <td>бар</td>\n",
       "      <td>43.494159</td>\n",
       "    </tr>\n",
       "    <tr>\n",
       "      <th>4</th>\n",
       "      <td>кафе</td>\n",
       "      <td>39.716019</td>\n",
       "    </tr>\n",
       "  </tbody>\n",
       "</table>\n",
       "</div>"
      ],
      "text/plain": [
       "       type        mean\n",
       "0  столовая  130.246618\n",
       "1  ресторан   96.834136\n",
       "2     буфет   51.129915\n",
       "3       бар   43.494159\n",
       "4      кафе   39.716019"
      ]
     },
     "execution_count": 22,
     "metadata": {},
     "output_type": "execute_result"
    }
   ],
   "source": [
    "# группируем по типу объекта и считаем среднее количество мест\n",
    "\n",
    "avg_seats = (\n",
    "    data.groupby('object_type')\n",
    "    .agg({'number':'mean'})\n",
    "    .sort_values(by='number', ascending=False)\n",
    "    .reset_index()\n",
    ")\n",
    "\n",
    "avg_seats.columns = ['type', 'mean']\n",
    "avg_seats.head()"
   ]
  },
  {
   "cell_type": "code",
   "execution_count": 23,
   "metadata": {},
   "outputs": [
    {
     "data": {
      "text/html": [
       "<div>\n",
       "<style scoped>\n",
       "    .dataframe tbody tr th:only-of-type {\n",
       "        vertical-align: middle;\n",
       "    }\n",
       "\n",
       "    .dataframe tbody tr th {\n",
       "        vertical-align: top;\n",
       "    }\n",
       "\n",
       "    .dataframe thead th {\n",
       "        text-align: right;\n",
       "    }\n",
       "</style>\n",
       "<table border=\"1\" class=\"dataframe\">\n",
       "  <thead>\n",
       "    <tr style=\"text-align: right;\">\n",
       "      <th></th>\n",
       "      <th>type</th>\n",
       "      <th>median</th>\n",
       "    </tr>\n",
       "  </thead>\n",
       "  <tbody>\n",
       "    <tr>\n",
       "      <th>0</th>\n",
       "      <td>столовая</td>\n",
       "      <td>103.0</td>\n",
       "    </tr>\n",
       "    <tr>\n",
       "      <th>1</th>\n",
       "      <td>ресторан</td>\n",
       "      <td>80.0</td>\n",
       "    </tr>\n",
       "    <tr>\n",
       "      <th>2</th>\n",
       "      <td>бар</td>\n",
       "      <td>35.0</td>\n",
       "    </tr>\n",
       "    <tr>\n",
       "      <th>3</th>\n",
       "      <td>буфет</td>\n",
       "      <td>32.0</td>\n",
       "    </tr>\n",
       "    <tr>\n",
       "      <th>4</th>\n",
       "      <td>кафе</td>\n",
       "      <td>30.0</td>\n",
       "    </tr>\n",
       "  </tbody>\n",
       "</table>\n",
       "</div>"
      ],
      "text/plain": [
       "       type  median\n",
       "0  столовая   103.0\n",
       "1  ресторан    80.0\n",
       "2       бар    35.0\n",
       "3     буфет    32.0\n",
       "4      кафе    30.0"
      ]
     },
     "execution_count": 23,
     "metadata": {},
     "output_type": "execute_result"
    }
   ],
   "source": [
    "# группируем по типу объекта и считаем медиану\n",
    "\n",
    "med_seats = (\n",
    "    data.groupby('object_type')\n",
    "    .agg({'number':'median'})\n",
    "    .sort_values(by='number', ascending=False)\n",
    "    .reset_index()\n",
    ")\n",
    "\n",
    "med_seats.columns = ['type', 'median']\n",
    "med_seats.head()"
   ]
  },
  {
   "cell_type": "code",
   "execution_count": 24,
   "metadata": {},
   "outputs": [
    {
     "data": {
      "image/png": "[encoded data removed]",
      "text/plain": [
       "<Figure size 432x288 with 1 Axes>"
      ]
     },
     "metadata": {
      "needs_background": "light"
     },
     "output_type": "display_data"
    }
   ],
   "source": [
    "sns.barplot(\n",
    "    x='mean',\n",
    "    y='type',\n",
    "    color='slateblue', \n",
    "    data=avg_seats).set_title('Среднее кол-во мест по видам объектов')\n",
    "plt.xlabel('тип объекта')\n",
    "plt.ylabel('среднее количество мест')\n",
    "plt.grid();"
   ]
  },
  {
   "cell_type": "code",
   "execution_count": 25,
   "metadata": {},
   "outputs": [
    {
     "data": {
      "image/png": "[encoded data removed]",
      "text/plain": [
       "<Figure size 432x288 with 1 Axes>"
      ]
     },
     "metadata": {
      "needs_background": "light"
     },
     "output_type": "display_data"
    }
   ],
   "source": [
    "sns.barplot(\n",
    "    x='median',\n",
    "    y='type',\n",
    "    color='slateblue', \n",
    "    data=med_seats).set_title('Среднее кол-во мест по видам объектов')\n",
    "plt.xlabel('тип объекта')\n",
    "plt.ylabel('медианное количество мест')\n",
    "plt.grid();"
   ]
  },
  {
   "cell_type": "markdown",
   "metadata": {},
   "source": [
    "Больше всего посадочных мест наблюдается в столовых. На втором месте - рестораны. Топ-5 замыкают буфеты, бары и кафе."
   ]
  },
  {
   "cell_type": "markdown",
   "metadata": {},
   "source": [
    "### Выделение в отдельный столбец информации об улице"
   ]
  },
  {
   "cell_type": "markdown",
   "metadata": {},
   "source": [
    "Поместим в список все типы улиц, которые могут встретиться в адресе. \n",
    "Типы улиц:\n",
    "https://geodzen.com/streets?type=sq&"
   ]
  },
  {
   "cell_type": "code",
   "execution_count": 26,
   "metadata": {},
   "outputs": [],
   "source": [
    "street_types = ['улица', 'аллея', 'бульвар', 'дорога', 'квартал',\n",
    "                'линия', 'массив', 'микрорайон', 'мост', 'набережная', \n",
    "                'переулок', 'площадь', 'проезд', 'проспект', \n",
    "                'спуск', 'тракты', 'тупик', 'шоссе']"
   ]
  },
  {
   "cell_type": "markdown",
   "metadata": {},
   "source": [
    "Создадим функцию с вложенным циклом, которая будет перебирать улицы из столбца 'address', а в в каждой строке столбца перебирать слова (типы улиц) из списка выше:"
   ]
  },
  {
   "cell_type": "code",
   "execution_count": 27,
   "metadata": {},
   "outputs": [],
   "source": [
    "def street_def(data):\n",
    "    for street in data:\n",
    "        for street_type in street_types:\n",
    "            if street_type in street:\n",
    "                return street"
   ]
  },
  {
   "cell_type": "markdown",
   "metadata": {},
   "source": [
    "Применим функцию к строкам столбца 'address':"
   ]
  },
  {
   "cell_type": "code",
   "execution_count": 28,
   "metadata": {},
   "outputs": [],
   "source": [
    "data['street'] = data['address'].str.split(', ').apply(street_def)"
   ]
  },
  {
   "cell_type": "code",
   "execution_count": 29,
   "metadata": {},
   "outputs": [
    {
     "data": {
      "text/html": [
       "<div>\n",
       "<style scoped>\n",
       "    .dataframe tbody tr th:only-of-type {\n",
       "        vertical-align: middle;\n",
       "    }\n",
       "\n",
       "    .dataframe tbody tr th {\n",
       "        vertical-align: top;\n",
       "    }\n",
       "\n",
       "    .dataframe thead th {\n",
       "        text-align: right;\n",
       "    }\n",
       "</style>\n",
       "<table border=\"1\" class=\"dataframe\">\n",
       "  <thead>\n",
       "    <tr style=\"text-align: right;\">\n",
       "      <th></th>\n",
       "      <th>id</th>\n",
       "      <th>object_name</th>\n",
       "      <th>chain</th>\n",
       "      <th>object_type</th>\n",
       "      <th>address</th>\n",
       "      <th>number</th>\n",
       "      <th>street</th>\n",
       "    </tr>\n",
       "  </thead>\n",
       "  <tbody>\n",
       "    <tr>\n",
       "      <th>0</th>\n",
       "      <td>151635</td>\n",
       "      <td>СМЕТАНА</td>\n",
       "      <td>нет</td>\n",
       "      <td>кафе</td>\n",
       "      <td>город Москва, улица Егора Абакумова, дом 9</td>\n",
       "      <td>48</td>\n",
       "      <td>улица Егора Абакумова</td>\n",
       "    </tr>\n",
       "    <tr>\n",
       "      <th>1</th>\n",
       "      <td>77874</td>\n",
       "      <td>Родник</td>\n",
       "      <td>нет</td>\n",
       "      <td>кафе</td>\n",
       "      <td>город Москва, улица Талалихина, дом 2/1, корпус 1</td>\n",
       "      <td>35</td>\n",
       "      <td>улица Талалихина</td>\n",
       "    </tr>\n",
       "    <tr>\n",
       "      <th>2</th>\n",
       "      <td>24309</td>\n",
       "      <td>Кафе «Академия»</td>\n",
       "      <td>нет</td>\n",
       "      <td>кафе</td>\n",
       "      <td>город Москва, Абельмановская улица, дом 6</td>\n",
       "      <td>95</td>\n",
       "      <td>Абельмановская улица</td>\n",
       "    </tr>\n",
       "    <tr>\n",
       "      <th>3</th>\n",
       "      <td>21894</td>\n",
       "      <td>ПИЦЦЕТОРИЯ</td>\n",
       "      <td>да</td>\n",
       "      <td>кафе</td>\n",
       "      <td>город Москва, Абрамцевская улица, дом 1</td>\n",
       "      <td>40</td>\n",
       "      <td>Абрамцевская улица</td>\n",
       "    </tr>\n",
       "    <tr>\n",
       "      <th>4</th>\n",
       "      <td>119365</td>\n",
       "      <td>Кафе «Вишневая метель»</td>\n",
       "      <td>нет</td>\n",
       "      <td>кафе</td>\n",
       "      <td>город Москва, Абрамцевская улица, дом 9, корпус 1</td>\n",
       "      <td>50</td>\n",
       "      <td>Абрамцевская улица</td>\n",
       "    </tr>\n",
       "  </tbody>\n",
       "</table>\n",
       "</div>"
      ],
      "text/plain": [
       "       id             object_name chain object_type  \\\n",
       "0  151635                 СМЕТАНА   нет        кафе   \n",
       "1   77874                  Родник   нет        кафе   \n",
       "2   24309         Кафе «Академия»   нет        кафе   \n",
       "3   21894              ПИЦЦЕТОРИЯ    да        кафе   \n",
       "4  119365  Кафе «Вишневая метель»   нет        кафе   \n",
       "\n",
       "                                             address  number  \\\n",
       "0         город Москва, улица Егора Абакумова, дом 9      48   \n",
       "1  город Москва, улица Талалихина, дом 2/1, корпус 1      35   \n",
       "2          город Москва, Абельмановская улица, дом 6      95   \n",
       "3            город Москва, Абрамцевская улица, дом 1      40   \n",
       "4  город Москва, Абрамцевская улица, дом 9, корпус 1      50   \n",
       "\n",
       "                  street  \n",
       "0  улица Егора Абакумова  \n",
       "1       улица Талалихина  \n",
       "2   Абельмановская улица  \n",
       "3     Абрамцевская улица  \n",
       "4     Абрамцевская улица  "
      ]
     },
     "execution_count": 29,
     "metadata": {},
     "output_type": "execute_result"
    }
   ],
   "source": [
    "data.head()"
   ]
  },
  {
   "cell_type": "markdown",
   "metadata": {},
   "source": [
    "### Топ-10 улиц по количеству объектов общественного питания"
   ]
  },
  {
   "cell_type": "markdown",
   "metadata": {},
   "source": [
    "Сделаем срез по заданным параметрам:"
   ]
  },
  {
   "cell_type": "code",
   "execution_count": 30,
   "metadata": {},
   "outputs": [],
   "source": [
    "top_10 = (\n",
    "    data.groupby('street').agg({'object_name':'count'})\n",
    "    .reset_index()\n",
    "    .sort_values(by='object_name', ascending=False)\n",
    "    .head(10)\n",
    ")"
   ]
  },
  {
   "cell_type": "code",
   "execution_count": 31,
   "metadata": {},
   "outputs": [
    {
     "data": {
      "text/html": [
       "<div>\n",
       "<style scoped>\n",
       "    .dataframe tbody tr th:only-of-type {\n",
       "        vertical-align: middle;\n",
       "    }\n",
       "\n",
       "    .dataframe tbody tr th {\n",
       "        vertical-align: top;\n",
       "    }\n",
       "\n",
       "    .dataframe thead th {\n",
       "        text-align: right;\n",
       "    }\n",
       "</style>\n",
       "<table border=\"1\" class=\"dataframe\">\n",
       "  <thead>\n",
       "    <tr style=\"text-align: right;\">\n",
       "      <th></th>\n",
       "      <th>street</th>\n",
       "      <th>count</th>\n",
       "    </tr>\n",
       "  </thead>\n",
       "  <tbody>\n",
       "    <tr>\n",
       "      <th>1431</th>\n",
       "      <td>проспект Мира</td>\n",
       "      <td>204</td>\n",
       "    </tr>\n",
       "    <tr>\n",
       "      <th>1015</th>\n",
       "      <td>Профсоюзная улица</td>\n",
       "      <td>183</td>\n",
       "    </tr>\n",
       "    <tr>\n",
       "      <th>688</th>\n",
       "      <td>Ленинградский проспект</td>\n",
       "      <td>173</td>\n",
       "    </tr>\n",
       "    <tr>\n",
       "      <th>999</th>\n",
       "      <td>Пресненская набережная</td>\n",
       "      <td>167</td>\n",
       "    </tr>\n",
       "    <tr>\n",
       "      <th>401</th>\n",
       "      <td>Варшавское шоссе</td>\n",
       "      <td>165</td>\n",
       "    </tr>\n",
       "    <tr>\n",
       "      <th>691</th>\n",
       "      <td>Ленинский проспект</td>\n",
       "      <td>148</td>\n",
       "    </tr>\n",
       "    <tr>\n",
       "      <th>1427</th>\n",
       "      <td>проспект Вернадского</td>\n",
       "      <td>132</td>\n",
       "    </tr>\n",
       "    <tr>\n",
       "      <th>678</th>\n",
       "      <td>Кутузовский проспект</td>\n",
       "      <td>114</td>\n",
       "    </tr>\n",
       "    <tr>\n",
       "      <th>601</th>\n",
       "      <td>Каширское шоссе</td>\n",
       "      <td>112</td>\n",
       "    </tr>\n",
       "    <tr>\n",
       "      <th>608</th>\n",
       "      <td>Кировоградская улица</td>\n",
       "      <td>110</td>\n",
       "    </tr>\n",
       "  </tbody>\n",
       "</table>\n",
       "</div>"
      ],
      "text/plain": [
       "                      street  count\n",
       "1431           проспект Мира    204\n",
       "1015       Профсоюзная улица    183\n",
       "688   Ленинградский проспект    173\n",
       "999   Пресненская набережная    167\n",
       "401         Варшавское шоссе    165\n",
       "691       Ленинский проспект    148\n",
       "1427    проспект Вернадского    132\n",
       "678     Кутузовский проспект    114\n",
       "601          Каширское шоссе    112\n",
       "608     Кировоградская улица    110"
      ]
     },
     "execution_count": 31,
     "metadata": {},
     "output_type": "execute_result"
    }
   ],
   "source": [
    "top_10.columns = ['street', 'count']\n",
    "top_10"
   ]
  },
  {
   "cell_type": "code",
   "execution_count": 32,
   "metadata": {},
   "outputs": [
    {
     "data": {
      "image/png": "[encoded data removed]",
      "text/plain": [
       "<Figure size 432x288 with 1 Axes>"
      ]
     },
     "metadata": {
      "needs_background": "light"
     },
     "output_type": "display_data"
    }
   ],
   "source": [
    "sns.barplot(\n",
    "    x='count',\n",
    "    y='street',\n",
    "    color='slateblue', \n",
    "    data=top_10).set_title('Топ-10 улиц по количеству объектов общественного питания')\n",
    "plt.xlabel('количество объектов')\n",
    "plt.ylabel('топ-10 улиц')\n",
    "plt.grid();"
   ]
  },
  {
   "cell_type": "markdown",
   "metadata": {},
   "source": [
    "Больше всего заведений общественного питания расположены на проспекте мира. За ним идут Профсоюзная улица, Ленинградский проспект, Пресненская набережная и Варшавское шоссе. Узнаем, в каких районах Москвы находятся эти улицы. Импортируем внешний файл с округами и входящими в них улицами:"
   ]
  },
  {
   "cell_type": "code",
   "execution_count": 33,
   "metadata": {
    "scrolled": true
   },
   "outputs": [
    {
     "data": {
      "text/html": [
       "<div>\n",
       "<style scoped>\n",
       "    .dataframe tbody tr th:only-of-type {\n",
       "        vertical-align: middle;\n",
       "    }\n",
       "\n",
       "    .dataframe tbody tr th {\n",
       "        vertical-align: top;\n",
       "    }\n",
       "\n",
       "    .dataframe thead th {\n",
       "        text-align: right;\n",
       "    }\n",
       "</style>\n",
       "<table border=\"1\" class=\"dataframe\">\n",
       "  <thead>\n",
       "    <tr style=\"text-align: right;\">\n",
       "      <th></th>\n",
       "      <th>streetname</th>\n",
       "      <th>areaid</th>\n",
       "      <th>okrug</th>\n",
       "      <th>area</th>\n",
       "    </tr>\n",
       "  </thead>\n",
       "  <tbody>\n",
       "    <tr>\n",
       "      <th>0</th>\n",
       "      <td>Выставочный переулок</td>\n",
       "      <td>17</td>\n",
       "      <td>ЦАО</td>\n",
       "      <td>Пресненский район</td>\n",
       "    </tr>\n",
       "    <tr>\n",
       "      <th>1</th>\n",
       "      <td>улица Гашека</td>\n",
       "      <td>17</td>\n",
       "      <td>ЦАО</td>\n",
       "      <td>Пресненский район</td>\n",
       "    </tr>\n",
       "    <tr>\n",
       "      <th>2</th>\n",
       "      <td>Большая Никитская улица</td>\n",
       "      <td>17</td>\n",
       "      <td>ЦАО</td>\n",
       "      <td>Пресненский район</td>\n",
       "    </tr>\n",
       "    <tr>\n",
       "      <th>3</th>\n",
       "      <td>Глубокий переулок</td>\n",
       "      <td>17</td>\n",
       "      <td>ЦАО</td>\n",
       "      <td>Пресненский район</td>\n",
       "    </tr>\n",
       "    <tr>\n",
       "      <th>4</th>\n",
       "      <td>Большой Гнездниковский переулок</td>\n",
       "      <td>17</td>\n",
       "      <td>ЦАО</td>\n",
       "      <td>Пресненский район</td>\n",
       "    </tr>\n",
       "  </tbody>\n",
       "</table>\n",
       "</div>"
      ],
      "text/plain": [
       "                        streetname  areaid okrug               area\n",
       "0             Выставочный переулок      17   ЦАО  Пресненский район\n",
       "1                     улица Гашека      17   ЦАО  Пресненский район\n",
       "2          Большая Никитская улица      17   ЦАО  Пресненский район\n",
       "3                Глубокий переулок      17   ЦАО  Пресненский район\n",
       "4  Большой Гнездниковский переулок      17   ЦАО  Пресненский район"
      ]
     },
     "execution_count": 33,
     "metadata": {},
     "output_type": "execute_result"
    }
   ],
   "source": [
    "from io import BytesIO\n",
    "import requests\n",
    "spreadsheet_id = '1YxyMFQsSyapfNAc9DolT1_bWQSJ0e1BIcNcCOQl0bUk'\n",
    "file_name = 'https://docs.google.com/spreadsheets/d/{}/export?format=csv'.format(spreadsheet_id)\n",
    "r = requests.get(file_name)\n",
    "district = pd.read_csv(BytesIO(r.content))\n",
    "district.head()"
   ]
  },
  {
   "cell_type": "code",
   "execution_count": 34,
   "metadata": {},
   "outputs": [],
   "source": [
    "district.columns = ['street', 'area_id', 'okrug', 'area']"
   ]
  },
  {
   "cell_type": "markdown",
   "metadata": {},
   "source": [
    "Соединим необходимые данные из двух датафреймов"
   ]
  },
  {
   "cell_type": "code",
   "execution_count": 35,
   "metadata": {},
   "outputs": [
    {
     "data": {
      "text/html": [
       "<div>\n",
       "<style scoped>\n",
       "    .dataframe tbody tr th:only-of-type {\n",
       "        vertical-align: middle;\n",
       "    }\n",
       "\n",
       "    .dataframe tbody tr th {\n",
       "        vertical-align: top;\n",
       "    }\n",
       "\n",
       "    .dataframe thead th {\n",
       "        text-align: right;\n",
       "    }\n",
       "</style>\n",
       "<table border=\"1\" class=\"dataframe\">\n",
       "  <thead>\n",
       "    <tr style=\"text-align: right;\">\n",
       "      <th></th>\n",
       "      <th>street</th>\n",
       "      <th>count</th>\n",
       "      <th>okrug</th>\n",
       "      <th>area</th>\n",
       "    </tr>\n",
       "  </thead>\n",
       "  <tbody>\n",
       "    <tr>\n",
       "      <th>0</th>\n",
       "      <td>проспект Мира</td>\n",
       "      <td>204</td>\n",
       "      <td>СВАО</td>\n",
       "      <td>Алексеевский район</td>\n",
       "    </tr>\n",
       "    <tr>\n",
       "      <th>1</th>\n",
       "      <td>проспект Мира</td>\n",
       "      <td>204</td>\n",
       "      <td>СВАО</td>\n",
       "      <td>Ярославский Район</td>\n",
       "    </tr>\n",
       "    <tr>\n",
       "      <th>2</th>\n",
       "      <td>проспект Мира</td>\n",
       "      <td>204</td>\n",
       "      <td>СВАО</td>\n",
       "      <td>Район Марьина роща</td>\n",
       "    </tr>\n",
       "    <tr>\n",
       "      <th>3</th>\n",
       "      <td>проспект Мира</td>\n",
       "      <td>204</td>\n",
       "      <td>СВАО</td>\n",
       "      <td>Останкинский район</td>\n",
       "    </tr>\n",
       "    <tr>\n",
       "      <th>4</th>\n",
       "      <td>проспект Мира</td>\n",
       "      <td>204</td>\n",
       "      <td>СВАО</td>\n",
       "      <td>Район Ростокино</td>\n",
       "    </tr>\n",
       "  </tbody>\n",
       "</table>\n",
       "</div>"
      ],
      "text/plain": [
       "          street  count okrug                area\n",
       "0  проспект Мира    204  СВАО  Алексеевский район\n",
       "1  проспект Мира    204  СВАО   Ярославский Район\n",
       "2  проспект Мира    204  СВАО  Район Марьина роща\n",
       "3  проспект Мира    204  СВАО  Останкинский район\n",
       "4  проспект Мира    204  СВАО     Район Ростокино"
      ]
     },
     "execution_count": 35,
     "metadata": {},
     "output_type": "execute_result"
    }
   ],
   "source": [
    "data_merged = top_10.merge(district[['street', 'okrug', 'area']], left_on='street', suffixes=['', '_'], right_on='street')\n",
    "data_merged.head()"
   ]
  },
  {
   "cell_type": "code",
   "execution_count": 36,
   "metadata": {},
   "outputs": [
    {
     "data": {
      "text/plain": [
       "street\n",
       "Варшавское шоссе          [Район Чертаново Центральное, Район Чертаново ...\n",
       "Каширское шоссе           [Район Москворечье-Сабурово, Район Нагатино-Са...\n",
       "Кировоградская улица      [Район Чертаново Центральное, Район Чертаново ...\n",
       "Кутузовский проспект             [Район Дорогомилово, Район Фили-Давыдково]\n",
       "Ленинградский проспект    [Район Аэропорт, Район Беговой, Хорошевский ра...\n",
       "Ленинский проспект        [Район Проспект Вернадского, Район Тропарево-Н...\n",
       "Пресненская набережная                                  [Пресненский район]\n",
       "Профсоюзная улица         [Академический район, Район Черемушки, Район Я...\n",
       "проспект Вернадского      [Район Проспект Вернадского, Район Раменки, Ра...\n",
       "проспект Мира             [Алексеевский район, Ярославский Район, Район ...\n",
       "Name: area, dtype: object"
      ]
     },
     "execution_count": 36,
     "metadata": {},
     "output_type": "execute_result"
    }
   ],
   "source": [
    "data_merged.groupby('street')['area'].unique()"
   ]
  },
  {
   "cell_type": "code",
   "execution_count": 37,
   "metadata": {},
   "outputs": [
    {
     "data": {
      "text/plain": [
       "street                  area                           \n",
       "Варшавское шоссе        Донской район                       [ЮАО]\n",
       "                        Нагорный район                      [ЮАО]\n",
       "                        Район Нагатино-Садовники            [ЮАО]\n",
       "                        Район Северное Бутово              [ЮЗАО]\n",
       "                        Район Чертаново Северное            [ЮАО]\n",
       "                        Район Чертаново Центральное         [ЮАО]\n",
       "                        Район Чертаново Южное               [ЮАО]\n",
       "                        Район Южное Бутово                 [ЮЗАО]\n",
       "Каширское шоссе         Район Москворечье-Сабурово          [ЮАО]\n",
       "                        Район Нагатино-Садовники            [ЮАО]\n",
       "                        Район Орехово-Борисово Северное     [ЮАО]\n",
       "                        Район Орехово-Борисово Южное        [ЮАО]\n",
       "Кировоградская улица    Район Чертаново Северное            [ЮАО]\n",
       "                        Район Чертаново Центральное         [ЮАО]\n",
       "                        Район Чертаново Южное               [ЮАО]\n",
       "Кутузовский проспект    Район Дорогомилово                  [ЗАО]\n",
       "                        Район Фили-Давыдково                [ЗАО]\n",
       "Ленинградский проспект  Район Аэропорт                      [САО]\n",
       "                        Район Беговой                       [САО]\n",
       "                        Район Сокол                         [САО]\n",
       "                        Хорошевский район                   [САО]\n",
       "Ленинский проспект      Донской район                       [ЮАО]\n",
       "                        Ломоносовский район                [ЮЗАО]\n",
       "                        Обручевский район                  [ЮЗАО]\n",
       "                        Район Гагаринский                  [ЮЗАО]\n",
       "                        Район Проспект Вернадского          [ЗАО]\n",
       "                        Район Теплый Стан                  [ЮЗАО]\n",
       "                        Район Тропарево-Никулино            [ЗАО]\n",
       "                        Район Якиманка                      [ЦАО]\n",
       "Пресненская набережная  Пресненский район                   [ЦАО]\n",
       "Профсоюзная улица       Академический район                [ЮЗАО]\n",
       "                        Обручевский район                  [ЮЗАО]\n",
       "                        Район Коньково                     [ЮЗАО]\n",
       "                        Район Теплый Стан                  [ЮЗАО]\n",
       "                        Район Черемушки                    [ЮЗАО]\n",
       "                        Район Ясенево                      [ЮЗАО]\n",
       "проспект Вернадского    Ломоносовский район                [ЮЗАО]\n",
       "                        Район Гагаринский                  [ЮЗАО]\n",
       "                        Район Проспект Вернадского          [ЗАО]\n",
       "                        Район Раменки                       [ЗАО]\n",
       "                        Район Тропарево-Никулино            [ЗАО]\n",
       "проспект Мира           Алексеевский район                 [СВАО]\n",
       "                        Мещанский район                     [ЦАО]\n",
       "                        Останкинский район                 [СВАО]\n",
       "                        Район Марьина роща                 [СВАО]\n",
       "                        Район Ростокино                    [СВАО]\n",
       "                        Район Свиблово                     [СВАО]\n",
       "                        Ярославский Район                  [СВАО]\n",
       "Name: okrug, dtype: object"
      ]
     },
     "execution_count": 37,
     "metadata": {},
     "output_type": "execute_result"
    }
   ],
   "source": [
    "data_merged.groupby(['street', 'area'])['okrug'].unique()"
   ]
  },
  {
   "cell_type": "markdown",
   "metadata": {},
   "source": [
    "Как видно, одна улица может относится к разным районам и округам. Общим можно назвать то, что все топ-10 улиц преимущественно располагаются в нескольких округах: ЮАО, ЮЗАО, ЗАО, СВАО, ЦАО, САО. И в нескольких районах. То есть это очень большие улицы, отсюда и много заведений на них"
   ]
  },
  {
   "cell_type": "markdown",
   "metadata": {},
   "source": [
    "### Число улиц с одним объектом общественного питания"
   ]
  },
  {
   "cell_type": "code",
   "execution_count": 38,
   "metadata": {},
   "outputs": [],
   "source": [
    "one_object = (\n",
    "    data.groupby('street', as_index=False).agg({'object_name':'count'})\n",
    "    .query('object_name == 1')\n",
    ")"
   ]
  },
  {
   "cell_type": "markdown",
   "metadata": {},
   "source": [
    "552 улицы, на которых располагается по одному заведению общественного питания из датасета. Узнаем, в каких районах Москвы находятся эти улицы:"
   ]
  },
  {
   "cell_type": "code",
   "execution_count": 39,
   "metadata": {},
   "outputs": [],
   "source": [
    "# объединяем улицы с одним объектом с датафреймом по районам и округам\n",
    "\n",
    "one_object_merged = one_object.merge(district[['street', 'okrug', 'area']], left_on='street', right_on='street')"
   ]
  },
  {
   "cell_type": "code",
   "execution_count": 40,
   "metadata": {},
   "outputs": [
    {
     "data": {
      "text/plain": [
       "array(['Алексеевский район', 'Алтуфьевский район', 'Бабушкинский район',\n",
       "       'Басманный район', 'Бескудниковский Район', 'Бутырский район',\n",
       "       'Войковский Район', 'Головинский район', 'Даниловский район',\n",
       "       'Дмитровский район', 'Донской район', 'Красносельский район',\n",
       "       'Лосиноостровский район', 'Мещанский район', 'Можайский Район',\n",
       "       'Молжаниновский район', 'Нагорный район', 'Нижегородский район',\n",
       "       'Обручевский район', 'Останкинский район', 'Панфиловский район',\n",
       "       'Пресненский район', 'Район Арбат', 'Район Аэропорт',\n",
       "       'Район Беговой', 'Район Бирюлево Восточное', 'Район Богородское',\n",
       "       'Район Внуково', 'Район Восточное Измайлово', 'Район Восточный',\n",
       "       'Район Выхино-Жулебино', 'Район Гагаринский', 'Район Гольяново',\n",
       "       'Район Дорогомилово', 'Район Замоскворечье',\n",
       "       'Район Западное Дегунино', 'Район Зюзино', 'Район Ивановское',\n",
       "       'Район Измайлово', 'Район Коньково', 'Район Коптево',\n",
       "       'Район Косино-Ухтомский', 'Район Котловка', 'Район Крюково',\n",
       "       'Район Кузьминки', 'Район Кунцево', 'Район Куркино',\n",
       "       'Район Левобережный', 'Район Лефортово', 'Район Лианозово',\n",
       "       'Район Люблино', 'Район Марфино', 'Район Марьина роща',\n",
       "       'Район Марьино', 'Район Матушкино-Савелки', 'Район Метрогородок',\n",
       "       'Район Митино', 'Район Москворечье-Сабурово',\n",
       "       'Район Ново-Переделкино', 'Район Новогиреево', 'Район Отрадное',\n",
       "       'Район Очаково-Матвеевское', 'Район Перово', 'Район Печатники',\n",
       "       'Район Покровское-Стрешнево', 'Район Преображенское',\n",
       "       'Район Раменки', 'Район Ростокино', 'Район Свиблово',\n",
       "       'Район Северное Бутово', 'Район Северное Измайлово',\n",
       "       'Район Северное Медведково', 'Район Северный', 'Район Сокол',\n",
       "       'Район Соколиная Гора', 'Район Сокольники', 'Район Солнцево',\n",
       "       'Район Строгино', 'Район Текстильщики', 'Район Филевский Парк',\n",
       "       'Район Фили-Давыдково', 'Район Хамовники',\n",
       "       'Район Хорошево-Мневники', 'Район Царицыно', 'Район Черемушки',\n",
       "       'Район Чертаново Северное', 'Район Чертаново Южное',\n",
       "       'Район Щукино', 'Район Южное Бутово', 'Район Южное Медведково',\n",
       "       'Район Южное Тушино', 'Район Якиманка', 'Район Ясенево',\n",
       "       'Рязанский район', 'Савеловский район', 'Таганский район',\n",
       "       'Тверской район', 'Тимирязевский Район', 'Хорошевский район',\n",
       "       'Южнопортовый Район', 'Ярославский Район'], dtype=object)"
      ]
     },
     "execution_count": 40,
     "metadata": {},
     "output_type": "execute_result"
    }
   ],
   "source": [
    "# находим все районы, где располагаются улицы с одним заведением\n",
    "\n",
    "one_object_merged['area'].sort_values().unique()"
   ]
  },
  {
   "cell_type": "code",
   "execution_count": 41,
   "metadata": {},
   "outputs": [
    {
     "data": {
      "text/html": [
       "<div>\n",
       "<style scoped>\n",
       "    .dataframe tbody tr th:only-of-type {\n",
       "        vertical-align: middle;\n",
       "    }\n",
       "\n",
       "    .dataframe tbody tr th {\n",
       "        vertical-align: top;\n",
       "    }\n",
       "\n",
       "    .dataframe thead th {\n",
       "        text-align: right;\n",
       "    }\n",
       "</style>\n",
       "<table border=\"1\" class=\"dataframe\">\n",
       "  <thead>\n",
       "    <tr style=\"text-align: right;\">\n",
       "      <th></th>\n",
       "      <th>area</th>\n",
       "      <th>street</th>\n",
       "    </tr>\n",
       "  </thead>\n",
       "  <tbody>\n",
       "    <tr>\n",
       "      <th>95</th>\n",
       "      <td>Таганский район</td>\n",
       "      <td>27</td>\n",
       "    </tr>\n",
       "    <tr>\n",
       "      <th>81</th>\n",
       "      <td>Район Хамовники</td>\n",
       "      <td>26</td>\n",
       "    </tr>\n",
       "    <tr>\n",
       "      <th>3</th>\n",
       "      <td>Басманный район</td>\n",
       "      <td>25</td>\n",
       "    </tr>\n",
       "    <tr>\n",
       "      <th>96</th>\n",
       "      <td>Тверской район</td>\n",
       "      <td>20</td>\n",
       "    </tr>\n",
       "    <tr>\n",
       "      <th>21</th>\n",
       "      <td>Пресненский район</td>\n",
       "      <td>20</td>\n",
       "    </tr>\n",
       "    <tr>\n",
       "      <th>...</th>\n",
       "      <td>...</td>\n",
       "      <td>...</td>\n",
       "    </tr>\n",
       "    <tr>\n",
       "      <th>43</th>\n",
       "      <td>Район Крюково</td>\n",
       "      <td>1</td>\n",
       "    </tr>\n",
       "    <tr>\n",
       "      <th>49</th>\n",
       "      <td>Район Лианозово</td>\n",
       "      <td>1</td>\n",
       "    </tr>\n",
       "    <tr>\n",
       "      <th>18</th>\n",
       "      <td>Обручевский район</td>\n",
       "      <td>1</td>\n",
       "    </tr>\n",
       "    <tr>\n",
       "      <th>79</th>\n",
       "      <td>Район Филевский Парк</td>\n",
       "      <td>1</td>\n",
       "    </tr>\n",
       "    <tr>\n",
       "      <th>89</th>\n",
       "      <td>Район Южное Медведково</td>\n",
       "      <td>1</td>\n",
       "    </tr>\n",
       "  </tbody>\n",
       "</table>\n",
       "<p>101 rows × 2 columns</p>\n",
       "</div>"
      ],
      "text/plain": [
       "                      area  street\n",
       "95         Таганский район      27\n",
       "81         Район Хамовники      26\n",
       "3          Басманный район      25\n",
       "96          Тверской район      20\n",
       "21       Пресненский район      20\n",
       "..                     ...     ...\n",
       "43           Район Крюково       1\n",
       "49         Район Лианозово       1\n",
       "18       Обручевский район       1\n",
       "79    Район Филевский Парк       1\n",
       "89  Район Южное Медведково       1\n",
       "\n",
       "[101 rows x 2 columns]"
      ]
     },
     "execution_count": 41,
     "metadata": {},
     "output_type": "execute_result"
    }
   ],
   "source": [
    "one_object_merged.groupby('area').agg({'street':'nunique'}).reset_index().sort_values('street', ascending=False)"
   ]
  },
  {
   "cell_type": "markdown",
   "metadata": {},
   "source": [
    "Как видим, чаще всего - это улицы в центральных районах, а там много маленьких улочек."
   ]
  },
  {
   "cell_type": "markdown",
   "metadata": {},
   "source": [
    "## 3. Общий вывод и рекомендации"
   ]
  },
  {
   "cell_type": "markdown",
   "metadata": {},
   "source": [
    "Данной работой был исследован текущий рынок общественного питания Москвы для того, чтобы привлечь инвесторов и дать рекомендации по открытию нового кафе.\n",
    "\n",
    "Большую часть рынка заведений общественного питания занимают кафе, столовые, рестораны и предприятие быстрого обслуживания.\n",
    "Для будующего заведения рациональнее выбрать кафе или предприятие быстрого обслуживания в (зависимости от кухни), так как предполагается, что заведение будет небольшим. А обслуживать гостей будут роботы. \n",
    "\n",
    "Несетевых объектов значительно больше, чем сетевых. Данная тенденция характерна для всех видов объектов. Наибольшее сетевое распространение замечено у предприятий быстрого обслуживания, ресторанов и кафе. Сетевым предприятиям свойственно небольшое число своих точек и небольшое/среднее число посадочных мест.\n",
    "В нашем случае все зависит от  целей собственника и инвесторов: есть ли желание стать одной из точек одной сети (в таком случае, придется искать максимально похожую концепцию кафе, чтобы соблюсти все ее стандарты и норматимвы) или создать самостоятельную точку с уникальной концепцией и независящими от центрального офиса методами управления.\n",
    "\n",
    "Были изучено характерное количество посадочных мест для каждого из объектов. Больше всего посадочных мест наблюдается в столовых. На втором месте - рестораны. Топ-5 замыкают буфеты, бары и кафе.\n",
    "\n",
    "Чтобы понять, в каких местах наибольшая проходимость, мы проанализировали количество заведений общественного питания по округам, районам и улицам. В топ-10 попали следующие:\n",
    "- проспект Мира\n",
    "- Профсоюзная улица\n",
    "- Ленинградский проспект\n",
    "- Пресненская набережная\n",
    "- Варшавское шоссе\n",
    "- Ленинский проспект\n",
    "- проспект Вернадского\n",
    "- Кутузовский проспект\n",
    "- Каширское шоссе\n",
    "- Кировоградская улица\n",
    "\n",
    "Стоит рассмотреть их в качестве выбора места для нового кафе. Там, где большая проходимость,  большая и концентрация заведений. Поэтому есть смысл искать помещение именно в таких местах.\n",
    "Однако стоит обратить внимание и на округа с районами, так как одна улица может входить в несколько округов и районов. Больше всего предприятий расположено в ЮАО и ЮЗАО.\n",
    "\n",
    "Также были рассмотрены районы, где меньше всего заведений обещственного питания. Большая часть из них - это спальные районы, где нет смысла размещать большое количество точек.\n",
    "Если инфесторы будущего кафе рассчитывают на высокую проходимость, то чтоит исключить данные районы из потенциального расположения."
   ]
  },
  {
   "cell_type": "markdown",
   "metadata": {},
   "source": [
    "## 4. Презентация"
   ]
  },
  {
   "cell_type": "markdown",
   "metadata": {},
   "source": [
    "https://disk.yandex.ru/i/jVi4fhs8AbFSCg"
   ]
  },
  {
   "cell_type": "code",
   "execution_count": null,
   "metadata": {},
   "outputs": [],
   "source": []
  }
 ],
 "metadata": {
  "ExecuteTimeLog": [
   {
    "duration": 1180,
    "start_time": "2022-06-04T21:50:17.243Z"
   },
   {
    "duration": 70,
    "start_time": "2022-06-04T21:50:18.425Z"
   },
   {
    "duration": 13,
    "start_time": "2022-06-04T21:50:18.497Z"
   },
   {
    "duration": 12,
    "start_time": "2022-06-04T21:50:18.512Z"
   },
   {
    "duration": 6,
    "start_time": "2022-06-04T21:50:18.526Z"
   },
   {
    "duration": 15,
    "start_time": "2022-06-04T21:50:18.533Z"
   },
   {
    "duration": 7,
    "start_time": "2022-06-04T21:50:18.549Z"
   },
   {
    "duration": 14,
    "start_time": "2022-06-04T21:50:18.557Z"
   },
   {
    "duration": 10,
    "start_time": "2022-06-04T21:50:18.572Z"
   },
   {
    "duration": 6,
    "start_time": "2022-06-04T21:50:18.584Z"
   },
   {
    "duration": 498,
    "start_time": "2022-06-04T21:50:18.592Z"
   },
   {
    "duration": 7,
    "start_time": "2022-06-04T21:50:19.091Z"
   },
   {
    "duration": 98,
    "start_time": "2022-06-04T21:50:19.099Z"
   },
   {
    "duration": 13,
    "start_time": "2022-06-04T21:50:19.199Z"
   },
   {
    "duration": 247,
    "start_time": "2022-06-04T21:50:19.227Z"
   },
   {
    "duration": 13,
    "start_time": "2022-06-04T21:50:19.476Z"
   },
   {
    "duration": 8,
    "start_time": "2022-06-04T21:50:19.491Z"
   },
   {
    "duration": 344,
    "start_time": "2022-06-04T21:50:19.501Z"
   },
   {
    "duration": 13,
    "start_time": "2022-06-04T21:50:19.847Z"
   },
   {
    "duration": 223,
    "start_time": "2022-06-04T21:50:19.861Z"
   },
   {
    "duration": 4,
    "start_time": "2022-06-04T21:50:20.087Z"
   },
   {
    "duration": 9,
    "start_time": "2022-06-04T21:50:20.093Z"
   },
   {
    "duration": 77,
    "start_time": "2022-06-04T21:50:20.103Z"
   },
   {
    "duration": 10,
    "start_time": "2022-06-04T21:50:20.182Z"
   },
   {
    "duration": 20,
    "start_time": "2022-06-04T21:50:20.193Z"
   },
   {
    "duration": 15,
    "start_time": "2022-06-04T21:50:20.215Z"
   },
   {
    "duration": 211,
    "start_time": "2022-06-04T21:50:20.232Z"
   },
   {
    "duration": 1349,
    "start_time": "2022-06-04T21:50:20.448Z"
   },
   {
    "duration": 3,
    "start_time": "2022-06-04T21:50:21.798Z"
   },
   {
    "duration": 36,
    "start_time": "2022-06-04T21:50:21.803Z"
   },
   {
    "duration": 8,
    "start_time": "2022-06-04T21:50:21.840Z"
   },
   {
    "duration": 18,
    "start_time": "2022-06-04T21:50:21.850Z"
   },
   {
    "duration": 15,
    "start_time": "2022-06-04T21:50:21.869Z"
   },
   {
    "duration": 13,
    "start_time": "2022-06-04T21:50:21.886Z"
   },
   {
    "duration": 32,
    "start_time": "2022-06-04T21:50:21.900Z"
   },
   {
    "duration": 1542,
    "start_time": "2022-06-06T09:18:36.671Z"
   },
   {
    "duration": 198,
    "start_time": "2022-06-06T09:18:38.215Z"
   },
   {
    "duration": 20,
    "start_time": "2022-06-06T09:18:38.414Z"
   },
   {
    "duration": 23,
    "start_time": "2022-06-06T09:18:38.436Z"
   },
   {
    "duration": 36,
    "start_time": "2022-06-06T09:18:38.462Z"
   },
   {
    "duration": 16,
    "start_time": "2022-06-06T09:18:38.500Z"
   },
   {
    "duration": 6,
    "start_time": "2022-06-06T09:18:38.518Z"
   },
   {
    "duration": 61,
    "start_time": "2022-06-06T09:18:38.526Z"
   },
   {
    "duration": 33,
    "start_time": "2022-06-06T09:18:38.589Z"
   },
   {
    "duration": 34,
    "start_time": "2022-06-06T09:18:38.624Z"
   },
   {
    "duration": 352,
    "start_time": "2022-06-06T09:18:38.660Z"
   },
   {
    "duration": 7,
    "start_time": "2022-06-06T09:18:39.014Z"
   },
   {
    "duration": 145,
    "start_time": "2022-06-06T09:18:39.022Z"
   },
   {
    "duration": 23,
    "start_time": "2022-06-06T09:18:39.172Z"
   },
   {
    "duration": 339,
    "start_time": "2022-06-06T09:18:39.197Z"
   },
   {
    "duration": 27,
    "start_time": "2022-06-06T09:18:39.538Z"
   },
   {
    "duration": 28,
    "start_time": "2022-06-06T09:18:39.573Z"
   },
   {
    "duration": 274,
    "start_time": "2022-06-06T09:18:39.602Z"
   },
   {
    "duration": 14,
    "start_time": "2022-06-06T09:18:39.878Z"
   },
   {
    "duration": 10,
    "start_time": "2022-06-06T09:18:39.893Z"
   },
   {
    "duration": 315,
    "start_time": "2022-06-06T09:18:39.904Z"
   },
   {
    "duration": 31,
    "start_time": "2022-06-06T09:18:40.221Z"
   },
   {
    "duration": 49,
    "start_time": "2022-06-06T09:18:40.254Z"
   },
   {
    "duration": 289,
    "start_time": "2022-06-06T09:18:40.304Z"
   },
   {
    "duration": 251,
    "start_time": "2022-06-06T09:18:40.595Z"
   },
   {
    "duration": 21,
    "start_time": "2022-06-06T09:18:40.853Z"
   },
   {
    "duration": 13,
    "start_time": "2022-06-06T09:18:40.881Z"
   },
   {
    "duration": 63,
    "start_time": "2022-06-06T09:18:40.895Z"
   },
   {
    "duration": 31,
    "start_time": "2022-06-06T09:18:40.966Z"
   },
   {
    "duration": 15,
    "start_time": "2022-06-06T09:18:40.998Z"
   },
   {
    "duration": 8,
    "start_time": "2022-06-06T09:18:41.015Z"
   },
   {
    "duration": 294,
    "start_time": "2022-06-06T09:18:41.025Z"
   },
   {
    "duration": 1373,
    "start_time": "2022-06-06T09:18:41.320Z"
   },
   {
    "duration": 3,
    "start_time": "2022-06-06T09:18:42.695Z"
   },
   {
    "duration": 20,
    "start_time": "2022-06-06T09:18:42.700Z"
   },
   {
    "duration": 24,
    "start_time": "2022-06-06T09:18:42.722Z"
   },
   {
    "duration": 54,
    "start_time": "2022-06-06T09:18:42.749Z"
   },
   {
    "duration": 13,
    "start_time": "2022-06-06T09:18:42.804Z"
   },
   {
    "duration": 17,
    "start_time": "2022-06-06T09:18:42.818Z"
   },
   {
    "duration": 50,
    "start_time": "2022-06-06T09:18:42.837Z"
   },
   {
    "duration": 4,
    "start_time": "2022-06-06T09:25:42.681Z"
   },
   {
    "duration": 18,
    "start_time": "2022-06-06T09:26:01.287Z"
   },
   {
    "duration": 19,
    "start_time": "2022-06-06T09:29:43.927Z"
   },
   {
    "duration": 19,
    "start_time": "2022-06-06T09:29:53.996Z"
   },
   {
    "duration": 21,
    "start_time": "2022-06-06T09:30:03.498Z"
   },
   {
    "duration": 15,
    "start_time": "2022-06-06T09:30:19.665Z"
   },
   {
    "duration": 122,
    "start_time": "2022-06-06T09:31:58.858Z"
   },
   {
    "duration": 13,
    "start_time": "2022-06-06T09:32:05.954Z"
   },
   {
    "duration": 18,
    "start_time": "2022-06-06T09:32:11.073Z"
   },
   {
    "duration": 12,
    "start_time": "2022-06-06T09:32:23.504Z"
   },
   {
    "duration": 19,
    "start_time": "2022-06-06T09:32:49.131Z"
   }
  ],
  "kernelspec": {
   "display_name": "Python 3 (ipykernel)",
   "language": "python",
   "name": "python3"
  },
  "language_info": {
   "codemirror_mode": {
    "name": "ipython",
    "version": 3
   },
   "file_extension": ".py",
   "mimetype": "text/x-python",
   "name": "python",
   "nbconvert_exporter": "python",
   "pygments_lexer": "ipython3",
   "version": "3.10.4"
  },
  "toc": {
   "base_numbering": 1,
   "nav_menu": {},
   "number_sections": true,
   "sideBar": true,
   "skip_h1_title": true,
   "title_cell": "Table of Contents",
   "title_sidebar": "Contents",
   "toc_cell": false,
   "toc_position": {},
   "toc_section_display": true,
   "toc_window_display": true
  },
  "varInspector": {
   "cols": {
    "lenName": 16,
    "lenType": 16,
    "lenVar": 40
   },
   "kernels_config": {
    "python": {
     "delete_cmd_postfix": "",
     "delete_cmd_prefix": "del ",
     "library": "var_list.py",
     "varRefreshCmd": "print(var_dic_list())"
    },
    "r": {
     "delete_cmd_postfix": ") ",
     "delete_cmd_prefix": "rm(",
     "library": "var_list.r",
     "varRefreshCmd": "cat(var_dic_list()) "
    }
   },
   "types_to_exclude": [
    "module",
    "function",
    "builtin_function_or_method",
    "instance",
    "_Feature"
   ],
   "window_display": false
  }
 },
 "nbformat": 4,
 "nbformat_minor": 4
}
