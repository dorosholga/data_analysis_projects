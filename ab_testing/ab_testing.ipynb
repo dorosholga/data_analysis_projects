{
 "cells": [
  {
   "cell_type": "markdown",
   "metadata": {},
   "source": [
    "# A/B-теститование гипотез"
   ]
  },
  {
   "cell_type": "markdown",
   "metadata": {},
   "source": [
    "**Цель:** увеличение выручки интернет-магазина\n",
    "\n",
    "**Задачи:**\n",
    "- изучить данные (описание гипотез, инофрмация о заказах, информация о пользователях);\n",
    "- приоритизировать собранные гипотезы;\n",
    "- запустить A/B-тест;\n",
    "- проанализировать результаты"
   ]
  },
  {
   "cell_type": "markdown",
   "metadata": {},
   "source": [
    "## Содержание"
   ]
  },
  {
   "cell_type": "markdown",
   "metadata": {},
   "source": [
    "1. [Изучение и подготовка данных к анализу](#1id)\n",
    "2. [Приоритизация гипотез](#2id)\n",
    "3. [Анализ A/B-теста](#3id)\n",
    "    * [График кумулятивной выручки по группам](#3.1id)\n",
    "    * [График кумулятивного среднего чека по группам](#3.2id)\n",
    "    * [График относительного изменения кумулятивного среднего чека группы B к группе A](#3.3id)\n",
    "    * [График кумулятивной конверсии по группам](#3.4id)\n",
    "    * [График относительного изменения кумулятивной конверсии группы B к группе A](#3.5id)\n",
    "    * [Точечный график количества заказов по пользователям](#3.6id)\n",
    "    * [Расчет 95-го и 99-го перцентилей количества заказов на пользователя](#3.7id)\n",
    "    * [Точечный график стоимостей заказов](#3.8id)\n",
    "    * [Расчет 95-го и 99-го перцентилей стоимости заказов](#3.9id)\n",
    "    * [Расчет статистической значимости различий в конверсии между группами по «сырым» данным](#3.10id)\n",
    "    * [Расчет статистической значимости различий в среднем чеке заказа между группами по «сырым» данным](#3.11id)\n",
    "    * [Расчет статистической значимости различий в конверсии между группами по «очищенным» данным](#3.12id)\n",
    "    * [Расчет статистической значимости различий в среднем чеке заказа между группами по «очищенным» данным](#3.13id)\n",
    "4. [Решение по результатам теста](#4id)\n",
    "5. [Вывод](#5id)"
   ]
  },
  {
   "cell_type": "markdown",
   "metadata": {},
   "source": [
    "## Изучение и подготовка данных к анализу <a id=\"1id\"></a>"
   ]
  },
  {
   "cell_type": "code",
   "execution_count": 1,
   "metadata": {},
   "outputs": [],
   "source": [
    "import pandas as pd\n",
    "import numpy as np\n",
    "import scipy.stats as stats\n",
    "import datetime as dt\n",
    "from matplotlib import pyplot as plt\n",
    "\n",
    "import warnings\n",
    "warnings.filterwarnings('ignore')"
   ]
  },
  {
   "cell_type": "markdown",
   "metadata": {},
   "source": [
    "### Таблица \"hypothesis\""
   ]
  },
  {
   "cell_type": "code",
   "execution_count": 2,
   "metadata": {},
   "outputs": [],
   "source": [
    "try:\n",
    "    hypothesis = pd.read_csv('/home/olga/Downloads/hypothesis.csv')\n",
    "except:\n",
    "    hypothesis = pd.read_csv('/datasets/hypothesis.csv')"
   ]
  },
  {
   "cell_type": "markdown",
   "metadata": {},
   "source": [
    "- `Hypothesis` — краткое описание гипотезы;\n",
    "- `Reach` — охват пользователей по 10-балльной шкале;\n",
    "- `Impact` — влияние на пользователей по 10-балльной шкале;\n",
    "- `Confidence` — уверенность в гипотезе по 10-балльной шкале;\n",
    "- `Efforts` — затраты ресурсов на проверку гипотезы по 10-балльной шкале. Чем больше значение Efforts, тем дороже проверка гипотезы."
   ]
  },
  {
   "cell_type": "code",
   "execution_count": 3,
   "metadata": {},
   "outputs": [],
   "source": [
    "# Сброс ограничений на количество символов в записи\n",
    "\n",
    "pd.set_option('display.max_colwidth', None)"
   ]
  },
  {
   "cell_type": "code",
   "execution_count": 4,
   "metadata": {},
   "outputs": [
    {
     "data": {
      "text/html": [
       "<div>\n",
       "<style scoped>\n",
       "    .dataframe tbody tr th:only-of-type {\n",
       "        vertical-align: middle;\n",
       "    }\n",
       "\n",
       "    .dataframe tbody tr th {\n",
       "        vertical-align: top;\n",
       "    }\n",
       "\n",
       "    .dataframe thead th {\n",
       "        text-align: right;\n",
       "    }\n",
       "</style>\n",
       "<table border=\"1\" class=\"dataframe\">\n",
       "  <thead>\n",
       "    <tr style=\"text-align: right;\">\n",
       "      <th></th>\n",
       "      <th>Hypothesis</th>\n",
       "      <th>Reach</th>\n",
       "      <th>Impact</th>\n",
       "      <th>Confidence</th>\n",
       "      <th>Efforts</th>\n",
       "    </tr>\n",
       "  </thead>\n",
       "  <tbody>\n",
       "    <tr>\n",
       "      <th>0</th>\n",
       "      <td>Добавить два новых канала привлечения трафика, что позволит привлекать на 30% больше пользователей</td>\n",
       "      <td>3</td>\n",
       "      <td>10</td>\n",
       "      <td>8</td>\n",
       "      <td>6</td>\n",
       "    </tr>\n",
       "    <tr>\n",
       "      <th>1</th>\n",
       "      <td>Запустить собственную службу доставки, что сократит срок доставки заказов</td>\n",
       "      <td>2</td>\n",
       "      <td>5</td>\n",
       "      <td>4</td>\n",
       "      <td>10</td>\n",
       "    </tr>\n",
       "    <tr>\n",
       "      <th>2</th>\n",
       "      <td>Добавить блоки рекомендаций товаров на сайт интернет магазина, чтобы повысить конверсию и средний чек заказа</td>\n",
       "      <td>8</td>\n",
       "      <td>3</td>\n",
       "      <td>7</td>\n",
       "      <td>3</td>\n",
       "    </tr>\n",
       "    <tr>\n",
       "      <th>3</th>\n",
       "      <td>Изменить структура категорий, что увеличит конверсию, т.к. пользователи быстрее найдут нужный товар</td>\n",
       "      <td>8</td>\n",
       "      <td>3</td>\n",
       "      <td>3</td>\n",
       "      <td>8</td>\n",
       "    </tr>\n",
       "    <tr>\n",
       "      <th>4</th>\n",
       "      <td>Изменить цвет фона главной страницы, чтобы увеличить вовлеченность пользователей</td>\n",
       "      <td>3</td>\n",
       "      <td>1</td>\n",
       "      <td>1</td>\n",
       "      <td>1</td>\n",
       "    </tr>\n",
       "  </tbody>\n",
       "</table>\n",
       "</div>"
      ],
      "text/plain": [
       "                                                                                                     Hypothesis  \\\n",
       "0            Добавить два новых канала привлечения трафика, что позволит привлекать на 30% больше пользователей   \n",
       "1                                     Запустить собственную службу доставки, что сократит срок доставки заказов   \n",
       "2  Добавить блоки рекомендаций товаров на сайт интернет магазина, чтобы повысить конверсию и средний чек заказа   \n",
       "3           Изменить структура категорий, что увеличит конверсию, т.к. пользователи быстрее найдут нужный товар   \n",
       "4                              Изменить цвет фона главной страницы, чтобы увеличить вовлеченность пользователей   \n",
       "\n",
       "   Reach  Impact  Confidence  Efforts  \n",
       "0      3      10           8        6  \n",
       "1      2       5           4       10  \n",
       "2      8       3           7        3  \n",
       "3      8       3           3        8  \n",
       "4      3       1           1        1  "
      ]
     },
     "execution_count": 4,
     "metadata": {},
     "output_type": "execute_result"
    }
   ],
   "source": [
    "hypothesis.head()"
   ]
  },
  {
   "cell_type": "markdown",
   "metadata": {},
   "source": [
    "### Таблица \"orders\""
   ]
  },
  {
   "cell_type": "code",
   "execution_count": 5,
   "metadata": {},
   "outputs": [],
   "source": [
    "try:\n",
    "    orders = pd.read_csv('/home/olga/Downloads/orders.csv')\n",
    "except:\n",
    "    orders = pd.read_csv('/datasets/orders.csv')"
   ]
  },
  {
   "cell_type": "markdown",
   "metadata": {},
   "source": [
    "- `transactionId` — идентификатор заказа;\n",
    "- `visitorId` — идентификатор пользователя, совершившего заказ;\n",
    "- `date` — дата, когда был совершён заказ;\n",
    "- `revenue` — выручка заказа;\n",
    "- `group` — группа A/B-теста, в которую попал заказ."
   ]
  },
  {
   "cell_type": "code",
   "execution_count": 6,
   "metadata": {},
   "outputs": [
    {
     "data": {
      "text/html": [
       "<div>\n",
       "<style scoped>\n",
       "    .dataframe tbody tr th:only-of-type {\n",
       "        vertical-align: middle;\n",
       "    }\n",
       "\n",
       "    .dataframe tbody tr th {\n",
       "        vertical-align: top;\n",
       "    }\n",
       "\n",
       "    .dataframe thead th {\n",
       "        text-align: right;\n",
       "    }\n",
       "</style>\n",
       "<table border=\"1\" class=\"dataframe\">\n",
       "  <thead>\n",
       "    <tr style=\"text-align: right;\">\n",
       "      <th></th>\n",
       "      <th>transactionId</th>\n",
       "      <th>visitorId</th>\n",
       "      <th>date</th>\n",
       "      <th>revenue</th>\n",
       "      <th>group</th>\n",
       "    </tr>\n",
       "  </thead>\n",
       "  <tbody>\n",
       "    <tr>\n",
       "      <th>0</th>\n",
       "      <td>3667963787</td>\n",
       "      <td>3312258926</td>\n",
       "      <td>2019-08-15</td>\n",
       "      <td>1650</td>\n",
       "      <td>B</td>\n",
       "    </tr>\n",
       "    <tr>\n",
       "      <th>1</th>\n",
       "      <td>2804400009</td>\n",
       "      <td>3642806036</td>\n",
       "      <td>2019-08-15</td>\n",
       "      <td>730</td>\n",
       "      <td>B</td>\n",
       "    </tr>\n",
       "    <tr>\n",
       "      <th>2</th>\n",
       "      <td>2961555356</td>\n",
       "      <td>4069496402</td>\n",
       "      <td>2019-08-15</td>\n",
       "      <td>400</td>\n",
       "      <td>A</td>\n",
       "    </tr>\n",
       "    <tr>\n",
       "      <th>3</th>\n",
       "      <td>3797467345</td>\n",
       "      <td>1196621759</td>\n",
       "      <td>2019-08-15</td>\n",
       "      <td>9759</td>\n",
       "      <td>B</td>\n",
       "    </tr>\n",
       "    <tr>\n",
       "      <th>4</th>\n",
       "      <td>2282983706</td>\n",
       "      <td>2322279887</td>\n",
       "      <td>2019-08-15</td>\n",
       "      <td>2308</td>\n",
       "      <td>B</td>\n",
       "    </tr>\n",
       "  </tbody>\n",
       "</table>\n",
       "</div>"
      ],
      "text/plain": [
       "   transactionId   visitorId        date  revenue group\n",
       "0     3667963787  3312258926  2019-08-15     1650     B\n",
       "1     2804400009  3642806036  2019-08-15      730     B\n",
       "2     2961555356  4069496402  2019-08-15      400     A\n",
       "3     3797467345  1196621759  2019-08-15     9759     B\n",
       "4     2282983706  2322279887  2019-08-15     2308     B"
      ]
     },
     "execution_count": 6,
     "metadata": {},
     "output_type": "execute_result"
    }
   ],
   "source": [
    "orders.head()"
   ]
  },
  {
   "cell_type": "code",
   "execution_count": 7,
   "metadata": {},
   "outputs": [],
   "source": [
    "orders['date'] = orders['date'].map(lambda x: dt.datetime.strptime(x, '%Y-%m-%d'))"
   ]
  },
  {
   "cell_type": "markdown",
   "metadata": {},
   "source": [
    "Проверим, могли ли попасть одни и те же пользователи в обе группы:"
   ]
  },
  {
   "cell_type": "code",
   "execution_count": 8,
   "metadata": {},
   "outputs": [
    {
     "data": {
      "text/plain": [
       "group    58\n",
       "dtype: int64"
      ]
     },
     "execution_count": 8,
     "metadata": {},
     "output_type": "execute_result"
    }
   ],
   "source": [
    "orders.groupby('visitorId').agg({'group':'nunique'}).query('group > 1').count()"
   ]
  },
  {
   "cell_type": "markdown",
   "metadata": {},
   "source": [
    "58 пользователей попали в обе группы. Так как это противоречит правилам проведения A/B-теста, то просто удалим эти 58 задублированных пользователей, чтобы они не попали ни в одну группу."
   ]
  },
  {
   "cell_type": "code",
   "execution_count": 9,
   "metadata": {},
   "outputs": [],
   "source": [
    "duplicated_visitors = orders.groupby('visitorId').agg({'group':'nunique'}).query('group > 1').reset_index()\n",
    "\n",
    "orders = orders[orders['visitorId'].isin(duplicated_visitors['visitorId']) == False]"
   ]
  },
  {
   "cell_type": "code",
   "execution_count": 10,
   "metadata": {},
   "outputs": [
    {
     "data": {
      "text/plain": [
       "group    0\n",
       "dtype: int64"
      ]
     },
     "execution_count": 10,
     "metadata": {},
     "output_type": "execute_result"
    }
   ],
   "source": [
    "# проверим, что дубликаты удалились\n",
    "\n",
    "orders.groupby('visitorId').agg({'group':'nunique'}).query('group > 1').count()"
   ]
  },
  {
   "cell_type": "code",
   "execution_count": 11,
   "metadata": {},
   "outputs": [
    {
     "name": "stdout",
     "output_type": "stream",
     "text": [
      "2019-08-01 00:00:00\n",
      "2019-08-31 00:00:00\n"
     ]
    }
   ],
   "source": [
    "print(orders['date'].min())\n",
    "print(orders['date'].max())"
   ]
  },
  {
   "cell_type": "markdown",
   "metadata": {},
   "source": [
    "### Таблица \"visitors\""
   ]
  },
  {
   "cell_type": "code",
   "execution_count": 12,
   "metadata": {},
   "outputs": [],
   "source": [
    "try:\n",
    "    visitors = pd.read_csv('/home/olga/Downloads/visitors.csv')\n",
    "except:\n",
    "    visitors = pd.read_csv('/datasets/visitors.csv')"
   ]
  },
  {
   "cell_type": "markdown",
   "metadata": {},
   "source": [
    "- `date` — дата;\n",
    "- `group` — группа A/B-теста;\n",
    "- `visitors` — количество пользователей в указанную дату в указанной группе A/B-теста"
   ]
  },
  {
   "cell_type": "code",
   "execution_count": 13,
   "metadata": {},
   "outputs": [
    {
     "data": {
      "text/html": [
       "<div>\n",
       "<style scoped>\n",
       "    .dataframe tbody tr th:only-of-type {\n",
       "        vertical-align: middle;\n",
       "    }\n",
       "\n",
       "    .dataframe tbody tr th {\n",
       "        vertical-align: top;\n",
       "    }\n",
       "\n",
       "    .dataframe thead th {\n",
       "        text-align: right;\n",
       "    }\n",
       "</style>\n",
       "<table border=\"1\" class=\"dataframe\">\n",
       "  <thead>\n",
       "    <tr style=\"text-align: right;\">\n",
       "      <th></th>\n",
       "      <th>date</th>\n",
       "      <th>group</th>\n",
       "      <th>visitors</th>\n",
       "    </tr>\n",
       "  </thead>\n",
       "  <tbody>\n",
       "    <tr>\n",
       "      <th>0</th>\n",
       "      <td>2019-08-01</td>\n",
       "      <td>A</td>\n",
       "      <td>719</td>\n",
       "    </tr>\n",
       "    <tr>\n",
       "      <th>1</th>\n",
       "      <td>2019-08-02</td>\n",
       "      <td>A</td>\n",
       "      <td>619</td>\n",
       "    </tr>\n",
       "    <tr>\n",
       "      <th>2</th>\n",
       "      <td>2019-08-03</td>\n",
       "      <td>A</td>\n",
       "      <td>507</td>\n",
       "    </tr>\n",
       "    <tr>\n",
       "      <th>3</th>\n",
       "      <td>2019-08-04</td>\n",
       "      <td>A</td>\n",
       "      <td>717</td>\n",
       "    </tr>\n",
       "    <tr>\n",
       "      <th>4</th>\n",
       "      <td>2019-08-05</td>\n",
       "      <td>A</td>\n",
       "      <td>756</td>\n",
       "    </tr>\n",
       "  </tbody>\n",
       "</table>\n",
       "</div>"
      ],
      "text/plain": [
       "         date group  visitors\n",
       "0  2019-08-01     A       719\n",
       "1  2019-08-02     A       619\n",
       "2  2019-08-03     A       507\n",
       "3  2019-08-04     A       717\n",
       "4  2019-08-05     A       756"
      ]
     },
     "execution_count": 13,
     "metadata": {},
     "output_type": "execute_result"
    }
   ],
   "source": [
    "visitors.head()"
   ]
  },
  {
   "cell_type": "code",
   "execution_count": 14,
   "metadata": {},
   "outputs": [],
   "source": [
    "visitors['date'] = visitors['date'].map(lambda x: dt.datetime.strptime(x, '%Y-%m-%d'))"
   ]
  },
  {
   "cell_type": "code",
   "execution_count": 15,
   "metadata": {},
   "outputs": [
    {
     "data": {
      "text/plain": [
       "A    31\n",
       "B    31\n",
       "Name: group, dtype: int64"
      ]
     },
     "execution_count": 15,
     "metadata": {},
     "output_type": "execute_result"
    }
   ],
   "source": [
    "visitors['group'].value_counts()"
   ]
  },
  {
   "cell_type": "markdown",
   "metadata": {},
   "source": [
    "Проверим датафреймы на дубликаты"
   ]
  },
  {
   "cell_type": "code",
   "execution_count": 16,
   "metadata": {},
   "outputs": [
    {
     "data": {
      "text/plain": [
       "0"
      ]
     },
     "execution_count": 16,
     "metadata": {},
     "output_type": "execute_result"
    }
   ],
   "source": [
    "visitors.duplicated().sum()"
   ]
  },
  {
   "cell_type": "code",
   "execution_count": 17,
   "metadata": {},
   "outputs": [
    {
     "data": {
      "text/plain": [
       "0"
      ]
     },
     "execution_count": 17,
     "metadata": {},
     "output_type": "execute_result"
    }
   ],
   "source": [
    "orders.duplicated().sum()"
   ]
  },
  {
   "cell_type": "code",
   "execution_count": 18,
   "metadata": {},
   "outputs": [
    {
     "data": {
      "text/plain": [
       "0"
      ]
     },
     "execution_count": 18,
     "metadata": {},
     "output_type": "execute_result"
    }
   ],
   "source": [
    "hypothesis.duplicated().sum()"
   ]
  },
  {
   "cell_type": "code",
   "execution_count": 19,
   "metadata": {},
   "outputs": [
    {
     "name": "stdout",
     "output_type": "stream",
     "text": [
      "2019-08-01 00:00:00\n",
      "2019-08-31 00:00:00\n"
     ]
    }
   ],
   "source": [
    "print(visitors['date'].min())\n",
    "print(visitors['date'].max())"
   ]
  },
  {
   "cell_type": "markdown",
   "metadata": {},
   "source": [
    "**Вывод**"
   ]
  },
  {
   "cell_type": "markdown",
   "metadata": {},
   "source": [
    "При изучении данных мы поменяли тип данных столбцов 'date' на datetime во всех таблицах.\n",
    "В таблице \"orders\" обнаружили пользователей, которые попали в обе группы, что протеворечит правилам A/B-теста. Поэтому было принято решение избавиться от этих пользователей, чтобы результаты были более объективными.\n",
    "Пропущенных значений и других дубликатов в таблицах нет. Данные готовы к анализу."
   ]
  },
  {
   "cell_type": "markdown",
   "metadata": {},
   "source": [
    "## Приоритизация гипотез <a id=\"2id\"></a>"
   ]
  },
  {
   "cell_type": "markdown",
   "metadata": {},
   "source": [
    "В файле \"hypothesis.csv\" девять гипотез. Применим фрейворки ICE и RICE, чтобы их приоритизировать. Отсортируем их по убыванию приоритета."
   ]
  },
  {
   "cell_type": "code",
   "execution_count": 20,
   "metadata": {},
   "outputs": [
    {
     "data": {
      "text/html": [
       "<div>\n",
       "<style scoped>\n",
       "    .dataframe tbody tr th:only-of-type {\n",
       "        vertical-align: middle;\n",
       "    }\n",
       "\n",
       "    .dataframe tbody tr th {\n",
       "        vertical-align: top;\n",
       "    }\n",
       "\n",
       "    .dataframe thead th {\n",
       "        text-align: right;\n",
       "    }\n",
       "</style>\n",
       "<table border=\"1\" class=\"dataframe\">\n",
       "  <thead>\n",
       "    <tr style=\"text-align: right;\">\n",
       "      <th></th>\n",
       "      <th>Hypothesis</th>\n",
       "      <th>Reach</th>\n",
       "      <th>Impact</th>\n",
       "      <th>Confidence</th>\n",
       "      <th>Efforts</th>\n",
       "    </tr>\n",
       "  </thead>\n",
       "  <tbody>\n",
       "    <tr>\n",
       "      <th>0</th>\n",
       "      <td>Добавить два новых канала привлечения трафика, что позволит привлекать на 30% больше пользователей</td>\n",
       "      <td>3</td>\n",
       "      <td>10</td>\n",
       "      <td>8</td>\n",
       "      <td>6</td>\n",
       "    </tr>\n",
       "    <tr>\n",
       "      <th>1</th>\n",
       "      <td>Запустить собственную службу доставки, что сократит срок доставки заказов</td>\n",
       "      <td>2</td>\n",
       "      <td>5</td>\n",
       "      <td>4</td>\n",
       "      <td>10</td>\n",
       "    </tr>\n",
       "    <tr>\n",
       "      <th>2</th>\n",
       "      <td>Добавить блоки рекомендаций товаров на сайт интернет магазина, чтобы повысить конверсию и средний чек заказа</td>\n",
       "      <td>8</td>\n",
       "      <td>3</td>\n",
       "      <td>7</td>\n",
       "      <td>3</td>\n",
       "    </tr>\n",
       "    <tr>\n",
       "      <th>3</th>\n",
       "      <td>Изменить структура категорий, что увеличит конверсию, т.к. пользователи быстрее найдут нужный товар</td>\n",
       "      <td>8</td>\n",
       "      <td>3</td>\n",
       "      <td>3</td>\n",
       "      <td>8</td>\n",
       "    </tr>\n",
       "    <tr>\n",
       "      <th>4</th>\n",
       "      <td>Изменить цвет фона главной страницы, чтобы увеличить вовлеченность пользователей</td>\n",
       "      <td>3</td>\n",
       "      <td>1</td>\n",
       "      <td>1</td>\n",
       "      <td>1</td>\n",
       "    </tr>\n",
       "    <tr>\n",
       "      <th>5</th>\n",
       "      <td>Добавить страницу отзывов клиентов о магазине, что позволит увеличить количество заказов</td>\n",
       "      <td>3</td>\n",
       "      <td>2</td>\n",
       "      <td>2</td>\n",
       "      <td>3</td>\n",
       "    </tr>\n",
       "    <tr>\n",
       "      <th>6</th>\n",
       "      <td>Показать на главной странице баннеры с актуальными акциями и распродажами, чтобы увеличить конверсию</td>\n",
       "      <td>5</td>\n",
       "      <td>3</td>\n",
       "      <td>8</td>\n",
       "      <td>3</td>\n",
       "    </tr>\n",
       "    <tr>\n",
       "      <th>7</th>\n",
       "      <td>Добавить форму подписки на все основные страницы, чтобы собрать базу клиентов для email-рассылок</td>\n",
       "      <td>10</td>\n",
       "      <td>7</td>\n",
       "      <td>8</td>\n",
       "      <td>5</td>\n",
       "    </tr>\n",
       "    <tr>\n",
       "      <th>8</th>\n",
       "      <td>Запустить акцию, дающую скидку на товар в день рождения</td>\n",
       "      <td>1</td>\n",
       "      <td>9</td>\n",
       "      <td>9</td>\n",
       "      <td>5</td>\n",
       "    </tr>\n",
       "  </tbody>\n",
       "</table>\n",
       "</div>"
      ],
      "text/plain": [
       "                                                                                                     Hypothesis  \\\n",
       "0            Добавить два новых канала привлечения трафика, что позволит привлекать на 30% больше пользователей   \n",
       "1                                     Запустить собственную службу доставки, что сократит срок доставки заказов   \n",
       "2  Добавить блоки рекомендаций товаров на сайт интернет магазина, чтобы повысить конверсию и средний чек заказа   \n",
       "3           Изменить структура категорий, что увеличит конверсию, т.к. пользователи быстрее найдут нужный товар   \n",
       "4                              Изменить цвет фона главной страницы, чтобы увеличить вовлеченность пользователей   \n",
       "5                      Добавить страницу отзывов клиентов о магазине, что позволит увеличить количество заказов   \n",
       "6          Показать на главной странице баннеры с актуальными акциями и распродажами, чтобы увеличить конверсию   \n",
       "7              Добавить форму подписки на все основные страницы, чтобы собрать базу клиентов для email-рассылок   \n",
       "8                                                       Запустить акцию, дающую скидку на товар в день рождения   \n",
       "\n",
       "   Reach  Impact  Confidence  Efforts  \n",
       "0      3      10           8        6  \n",
       "1      2       5           4       10  \n",
       "2      8       3           7        3  \n",
       "3      8       3           3        8  \n",
       "4      3       1           1        1  \n",
       "5      3       2           2        3  \n",
       "6      5       3           8        3  \n",
       "7     10       7           8        5  \n",
       "8      1       9           9        5  "
      ]
     },
     "execution_count": 20,
     "metadata": {},
     "output_type": "execute_result"
    }
   ],
   "source": [
    "hypothesis"
   ]
  },
  {
   "attachments": {
    "image.png": {
     "image/png": "[encoded data removed]"
    }
   },
   "cell_type": "markdown",
   "metadata": {},
   "source": [
    "![image.png](attachment:image.png)"
   ]
  },
  {
   "cell_type": "code",
   "execution_count": 21,
   "metadata": {},
   "outputs": [
    {
     "data": {
      "text/html": [
       "<div>\n",
       "<style scoped>\n",
       "    .dataframe tbody tr th:only-of-type {\n",
       "        vertical-align: middle;\n",
       "    }\n",
       "\n",
       "    .dataframe tbody tr th {\n",
       "        vertical-align: top;\n",
       "    }\n",
       "\n",
       "    .dataframe thead th {\n",
       "        text-align: right;\n",
       "    }\n",
       "</style>\n",
       "<table border=\"1\" class=\"dataframe\">\n",
       "  <thead>\n",
       "    <tr style=\"text-align: right;\">\n",
       "      <th></th>\n",
       "      <th>Hypothesis</th>\n",
       "      <th>ICE</th>\n",
       "      <th>Impact</th>\n",
       "    </tr>\n",
       "  </thead>\n",
       "  <tbody>\n",
       "    <tr>\n",
       "      <th>8</th>\n",
       "      <td>Запустить акцию, дающую скидку на товар в день рождения</td>\n",
       "      <td>16.200000</td>\n",
       "      <td>9</td>\n",
       "    </tr>\n",
       "    <tr>\n",
       "      <th>0</th>\n",
       "      <td>Добавить два новых канала привлечения трафика, что позволит привлекать на 30% больше пользователей</td>\n",
       "      <td>13.333333</td>\n",
       "      <td>10</td>\n",
       "    </tr>\n",
       "    <tr>\n",
       "      <th>7</th>\n",
       "      <td>Добавить форму подписки на все основные страницы, чтобы собрать базу клиентов для email-рассылок</td>\n",
       "      <td>11.200000</td>\n",
       "      <td>7</td>\n",
       "    </tr>\n",
       "    <tr>\n",
       "      <th>6</th>\n",
       "      <td>Показать на главной странице баннеры с актуальными акциями и распродажами, чтобы увеличить конверсию</td>\n",
       "      <td>8.000000</td>\n",
       "      <td>3</td>\n",
       "    </tr>\n",
       "    <tr>\n",
       "      <th>2</th>\n",
       "      <td>Добавить блоки рекомендаций товаров на сайт интернет магазина, чтобы повысить конверсию и средний чек заказа</td>\n",
       "      <td>7.000000</td>\n",
       "      <td>3</td>\n",
       "    </tr>\n",
       "    <tr>\n",
       "      <th>1</th>\n",
       "      <td>Запустить собственную службу доставки, что сократит срок доставки заказов</td>\n",
       "      <td>2.000000</td>\n",
       "      <td>5</td>\n",
       "    </tr>\n",
       "    <tr>\n",
       "      <th>5</th>\n",
       "      <td>Добавить страницу отзывов клиентов о магазине, что позволит увеличить количество заказов</td>\n",
       "      <td>1.333333</td>\n",
       "      <td>2</td>\n",
       "    </tr>\n",
       "    <tr>\n",
       "      <th>3</th>\n",
       "      <td>Изменить структура категорий, что увеличит конверсию, т.к. пользователи быстрее найдут нужный товар</td>\n",
       "      <td>1.125000</td>\n",
       "      <td>3</td>\n",
       "    </tr>\n",
       "    <tr>\n",
       "      <th>4</th>\n",
       "      <td>Изменить цвет фона главной страницы, чтобы увеличить вовлеченность пользователей</td>\n",
       "      <td>1.000000</td>\n",
       "      <td>1</td>\n",
       "    </tr>\n",
       "  </tbody>\n",
       "</table>\n",
       "</div>"
      ],
      "text/plain": [
       "                                                                                                     Hypothesis  \\\n",
       "8                                                       Запустить акцию, дающую скидку на товар в день рождения   \n",
       "0            Добавить два новых канала привлечения трафика, что позволит привлекать на 30% больше пользователей   \n",
       "7              Добавить форму подписки на все основные страницы, чтобы собрать базу клиентов для email-рассылок   \n",
       "6          Показать на главной странице баннеры с актуальными акциями и распродажами, чтобы увеличить конверсию   \n",
       "2  Добавить блоки рекомендаций товаров на сайт интернет магазина, чтобы повысить конверсию и средний чек заказа   \n",
       "1                                     Запустить собственную службу доставки, что сократит срок доставки заказов   \n",
       "5                      Добавить страницу отзывов клиентов о магазине, что позволит увеличить количество заказов   \n",
       "3           Изменить структура категорий, что увеличит конверсию, т.к. пользователи быстрее найдут нужный товар   \n",
       "4                              Изменить цвет фона главной страницы, чтобы увеличить вовлеченность пользователей   \n",
       "\n",
       "         ICE  Impact  \n",
       "8  16.200000       9  \n",
       "0  13.333333      10  \n",
       "7  11.200000       7  \n",
       "6   8.000000       3  \n",
       "2   7.000000       3  \n",
       "1   2.000000       5  \n",
       "5   1.333333       2  \n",
       "3   1.125000       3  \n",
       "4   1.000000       1  "
      ]
     },
     "execution_count": 21,
     "metadata": {},
     "output_type": "execute_result"
    }
   ],
   "source": [
    "# применение фреймворка ICE\n",
    "\n",
    "hypothesis['ICE'] = ((hypothesis['Impact'] * hypothesis['Confidence']) / hypothesis['Efforts'])\n",
    "hypothesis[['Hypothesis', 'ICE', 'Impact']].sort_values(by='ICE', ascending=False)"
   ]
  },
  {
   "cell_type": "markdown",
   "metadata": {},
   "source": [
    "Наиболее перспективные гипотезы под индексами 8,0,7,6 по ICE: \n",
    "- запустить акцию в день рождения\n",
    "- добавить два новых канала привлечения трафика\n",
    "- добавить форму подписки\n",
    "- показ актуальных акций на главной странице"
   ]
  },
  {
   "attachments": {
    "image.png": {
     "image/png": "[encoded data removed]"
    }
   },
   "cell_type": "markdown",
   "metadata": {},
   "source": [
    "![image.png](attachment:image.png)"
   ]
  },
  {
   "cell_type": "code",
   "execution_count": 22,
   "metadata": {},
   "outputs": [
    {
     "data": {
      "text/html": [
       "<div>\n",
       "<style scoped>\n",
       "    .dataframe tbody tr th:only-of-type {\n",
       "        vertical-align: middle;\n",
       "    }\n",
       "\n",
       "    .dataframe tbody tr th {\n",
       "        vertical-align: top;\n",
       "    }\n",
       "\n",
       "    .dataframe thead th {\n",
       "        text-align: right;\n",
       "    }\n",
       "</style>\n",
       "<table border=\"1\" class=\"dataframe\">\n",
       "  <thead>\n",
       "    <tr style=\"text-align: right;\">\n",
       "      <th></th>\n",
       "      <th>Hypothesis</th>\n",
       "      <th>RICE</th>\n",
       "      <th>Reach</th>\n",
       "    </tr>\n",
       "  </thead>\n",
       "  <tbody>\n",
       "    <tr>\n",
       "      <th>7</th>\n",
       "      <td>Добавить форму подписки на все основные страницы, чтобы собрать базу клиентов для email-рассылок</td>\n",
       "      <td>112.0</td>\n",
       "      <td>10</td>\n",
       "    </tr>\n",
       "    <tr>\n",
       "      <th>2</th>\n",
       "      <td>Добавить блоки рекомендаций товаров на сайт интернет магазина, чтобы повысить конверсию и средний чек заказа</td>\n",
       "      <td>56.0</td>\n",
       "      <td>8</td>\n",
       "    </tr>\n",
       "    <tr>\n",
       "      <th>0</th>\n",
       "      <td>Добавить два новых канала привлечения трафика, что позволит привлекать на 30% больше пользователей</td>\n",
       "      <td>40.0</td>\n",
       "      <td>3</td>\n",
       "    </tr>\n",
       "    <tr>\n",
       "      <th>6</th>\n",
       "      <td>Показать на главной странице баннеры с актуальными акциями и распродажами, чтобы увеличить конверсию</td>\n",
       "      <td>40.0</td>\n",
       "      <td>5</td>\n",
       "    </tr>\n",
       "    <tr>\n",
       "      <th>8</th>\n",
       "      <td>Запустить акцию, дающую скидку на товар в день рождения</td>\n",
       "      <td>16.2</td>\n",
       "      <td>1</td>\n",
       "    </tr>\n",
       "    <tr>\n",
       "      <th>3</th>\n",
       "      <td>Изменить структура категорий, что увеличит конверсию, т.к. пользователи быстрее найдут нужный товар</td>\n",
       "      <td>9.0</td>\n",
       "      <td>8</td>\n",
       "    </tr>\n",
       "    <tr>\n",
       "      <th>1</th>\n",
       "      <td>Запустить собственную службу доставки, что сократит срок доставки заказов</td>\n",
       "      <td>4.0</td>\n",
       "      <td>2</td>\n",
       "    </tr>\n",
       "    <tr>\n",
       "      <th>5</th>\n",
       "      <td>Добавить страницу отзывов клиентов о магазине, что позволит увеличить количество заказов</td>\n",
       "      <td>4.0</td>\n",
       "      <td>3</td>\n",
       "    </tr>\n",
       "    <tr>\n",
       "      <th>4</th>\n",
       "      <td>Изменить цвет фона главной страницы, чтобы увеличить вовлеченность пользователей</td>\n",
       "      <td>3.0</td>\n",
       "      <td>3</td>\n",
       "    </tr>\n",
       "  </tbody>\n",
       "</table>\n",
       "</div>"
      ],
      "text/plain": [
       "                                                                                                     Hypothesis  \\\n",
       "7              Добавить форму подписки на все основные страницы, чтобы собрать базу клиентов для email-рассылок   \n",
       "2  Добавить блоки рекомендаций товаров на сайт интернет магазина, чтобы повысить конверсию и средний чек заказа   \n",
       "0            Добавить два новых канала привлечения трафика, что позволит привлекать на 30% больше пользователей   \n",
       "6          Показать на главной странице баннеры с актуальными акциями и распродажами, чтобы увеличить конверсию   \n",
       "8                                                       Запустить акцию, дающую скидку на товар в день рождения   \n",
       "3           Изменить структура категорий, что увеличит конверсию, т.к. пользователи быстрее найдут нужный товар   \n",
       "1                                     Запустить собственную службу доставки, что сократит срок доставки заказов   \n",
       "5                      Добавить страницу отзывов клиентов о магазине, что позволит увеличить количество заказов   \n",
       "4                              Изменить цвет фона главной страницы, чтобы увеличить вовлеченность пользователей   \n",
       "\n",
       "    RICE  Reach  \n",
       "7  112.0     10  \n",
       "2   56.0      8  \n",
       "0   40.0      3  \n",
       "6   40.0      5  \n",
       "8   16.2      1  \n",
       "3    9.0      8  \n",
       "1    4.0      2  \n",
       "5    4.0      3  \n",
       "4    3.0      3  "
      ]
     },
     "execution_count": 22,
     "metadata": {},
     "output_type": "execute_result"
    }
   ],
   "source": [
    "# применение фреймворка RICE\n",
    "\n",
    "hypothesis['RICE'] = (hypothesis['Reach'] * hypothesis['Impact'] * hypothesis['Confidence']) / hypothesis['Efforts']\n",
    "\n",
    "hypothesis[['Hypothesis', 'RICE', 'Reach']].sort_values(by='RICE', ascending=False)"
   ]
  },
  {
   "cell_type": "markdown",
   "metadata": {},
   "source": [
    "Наиболее перспективные гипотезы под индексами 7,2,0,6 по RICE:\n",
    "- добавить форму подписки;\n",
    "- добавить блоки рекомендаций товаров;\n",
    "- добавить два новых канала привлечения трафика;\n",
    "- показ актуальных акций на главной странице"
   ]
  },
  {
   "cell_type": "code",
   "execution_count": 23,
   "metadata": {},
   "outputs": [
    {
     "data": {
      "image/png": "[encoded data removed]",
      "text/plain": [
       "<Figure size 432x288 with 1 Axes>"
      ]
     },
     "metadata": {
      "needs_background": "light"
     },
     "output_type": "display_data"
    }
   ],
   "source": [
    "# создадим график для наглядности\n",
    "\n",
    "y = hypothesis['ICE'] \n",
    "z = hypothesis['RICE'] \n",
    "n = hypothesis.index \n",
    "\n",
    "fig, ax = plt.subplots()\n",
    "ax.scatter(z, y)\n",
    "\n",
    "for i, txt in enumerate(n):\n",
    "    ax.annotate(txt, (z[i], y[i]))\n",
    "\n",
    "plt.title(\"ICE and RICE гипотезы\") \n",
    "plt.xlabel(\"RICE\") \n",
    "plt.ylabel(\"ICE\");"
   ]
  },
  {
   "cell_type": "markdown",
   "metadata": {},
   "source": [
    "Приоритезация гипотез при применении RICE изменилась: на первое место встала гипотзе о добавлении формы подписки. Это произошло, так как параметр охвата у нее наибольший по сравнению с другими гипотезами.\n",
    "\n",
    "**Приоритетными можем считать следующие гипотезы:**\n",
    "- `Добавить форму подписки на все основные страницы, чтобы собрать базу клиентов для email-рассылок`;\n",
    "- `Добавить два новых канала привлечения трафика, что позволит привлекать на 30% больше пользователей`"
   ]
  },
  {
   "cell_type": "markdown",
   "metadata": {},
   "source": [
    "## Анализ A/B-теста <a id=\"3id\"></a>"
   ]
  },
  {
   "cell_type": "markdown",
   "metadata": {},
   "source": [
    "### 1. Построим график кумулятивной выручки по группам <a id=\"3.1id\"></a>"
   ]
  },
  {
   "cell_type": "markdown",
   "metadata": {},
   "source": [
    "Соберём агрегированные кумулятивные по дням данные о заказах в несколько действий:\n",
    "- агрегируем значения;\n",
    "- вычисли максимальную дату;\n",
    "- рассчитаем максимум для группы;\n",
    "- найдем число уникальных транзакций и посетителей;\n",
    "- применим методы к каждой строке датафрейма;\n",
    "- отсортируем результаты по столбцам 'date' и 'group'"
   ]
  },
  {
   "cell_type": "code",
   "execution_count": 24,
   "metadata": {},
   "outputs": [],
   "source": [
    "# создаем массив уникальных пар значений дат и групп теста\n",
    "datesGroups = orders[['date','group']].drop_duplicates() "
   ]
  },
  {
   "cell_type": "code",
   "execution_count": 25,
   "metadata": {},
   "outputs": [],
   "source": [
    "# получаем агрегированные кумулятивные по дням данные о заказах \n",
    "ordersAggregated = datesGroups.apply(lambda x: orders[np.logical_and(orders['date'] <= x['date'], orders['group'] == x['group'])].agg({'date' : 'max', 'group' : 'max', 'transactionId' : 'nunique', 'visitorId' : 'nunique', 'revenue' : 'sum'}), axis=1).sort_values(by=['date','group']) "
   ]
  },
  {
   "cell_type": "code",
   "execution_count": 26,
   "metadata": {},
   "outputs": [],
   "source": [
    "# получаем агрегированные кумулятивные по дням данные о посетителях интернет-магазина \n",
    "visitorsAggregated = datesGroups.apply(lambda x: visitors[np.logical_and(visitors['date'] <= x['date'], visitors['group'] == x['group'])].agg({'date' : 'max', 'group' : 'max', 'visitors' : 'sum'}), axis=1).sort_values(by=['date','group'])"
   ]
  },
  {
   "cell_type": "code",
   "execution_count": 27,
   "metadata": {},
   "outputs": [
    {
     "data": {
      "text/html": [
       "<div>\n",
       "<style scoped>\n",
       "    .dataframe tbody tr th:only-of-type {\n",
       "        vertical-align: middle;\n",
       "    }\n",
       "\n",
       "    .dataframe tbody tr th {\n",
       "        vertical-align: top;\n",
       "    }\n",
       "\n",
       "    .dataframe thead th {\n",
       "        text-align: right;\n",
       "    }\n",
       "</style>\n",
       "<table border=\"1\" class=\"dataframe\">\n",
       "  <thead>\n",
       "    <tr style=\"text-align: right;\">\n",
       "      <th></th>\n",
       "      <th>date</th>\n",
       "      <th>group</th>\n",
       "      <th>orders</th>\n",
       "      <th>buyers</th>\n",
       "      <th>revenue</th>\n",
       "      <th>visitors</th>\n",
       "    </tr>\n",
       "  </thead>\n",
       "  <tbody>\n",
       "    <tr>\n",
       "      <th>0</th>\n",
       "      <td>2019-08-01</td>\n",
       "      <td>A</td>\n",
       "      <td>23</td>\n",
       "      <td>19</td>\n",
       "      <td>142779</td>\n",
       "      <td>719</td>\n",
       "    </tr>\n",
       "    <tr>\n",
       "      <th>1</th>\n",
       "      <td>2019-08-01</td>\n",
       "      <td>B</td>\n",
       "      <td>17</td>\n",
       "      <td>17</td>\n",
       "      <td>59758</td>\n",
       "      <td>713</td>\n",
       "    </tr>\n",
       "    <tr>\n",
       "      <th>2</th>\n",
       "      <td>2019-08-02</td>\n",
       "      <td>A</td>\n",
       "      <td>42</td>\n",
       "      <td>36</td>\n",
       "      <td>234381</td>\n",
       "      <td>1338</td>\n",
       "    </tr>\n",
       "    <tr>\n",
       "      <th>3</th>\n",
       "      <td>2019-08-02</td>\n",
       "      <td>B</td>\n",
       "      <td>40</td>\n",
       "      <td>39</td>\n",
       "      <td>221801</td>\n",
       "      <td>1294</td>\n",
       "    </tr>\n",
       "    <tr>\n",
       "      <th>4</th>\n",
       "      <td>2019-08-03</td>\n",
       "      <td>A</td>\n",
       "      <td>66</td>\n",
       "      <td>60</td>\n",
       "      <td>346854</td>\n",
       "      <td>1845</td>\n",
       "    </tr>\n",
       "  </tbody>\n",
       "</table>\n",
       "</div>"
      ],
      "text/plain": [
       "        date group  orders  buyers  revenue  visitors\n",
       "0 2019-08-01     A      23      19   142779       719\n",
       "1 2019-08-01     B      17      17    59758       713\n",
       "2 2019-08-02     A      42      36   234381      1338\n",
       "3 2019-08-02     B      40      39   221801      1294\n",
       "4 2019-08-03     A      66      60   346854      1845"
      ]
     },
     "execution_count": 27,
     "metadata": {},
     "output_type": "execute_result"
    }
   ],
   "source": [
    "# объединяем кумулятивные данные в одной таблице и присваиваем ее столбцам понятные названия\n",
    "cumulativeData = ordersAggregated.merge(visitorsAggregated, left_on=['date', 'group'], right_on=['date', 'group'])\n",
    "cumulativeData.columns = ['date', 'group', 'orders', 'buyers', 'revenue', 'visitors']\n",
    "\n",
    "cumulativeData.head(5)"
   ]
  },
  {
   "cell_type": "code",
   "execution_count": 28,
   "metadata": {},
   "outputs": [
    {
     "name": "stdout",
     "output_type": "stream",
     "text": [
      "2019-08-01 00:00:00\n",
      "2019-08-31 00:00:00\n"
     ]
    }
   ],
   "source": [
    "print(cumulativeData['date'].min())\n",
    "print(cumulativeData['date'].max())"
   ]
  },
  {
   "cell_type": "markdown",
   "metadata": {},
   "source": [
    "Датафрейм cumulativeData создан корректно. Минимальная и максимальная даты совпадают с данными в исходных данных."
   ]
  },
  {
   "cell_type": "markdown",
   "metadata": {},
   "source": [
    "Построим графики кумулятивной выручки по дням и группам A/B-тестирования: "
   ]
  },
  {
   "cell_type": "code",
   "execution_count": 29,
   "metadata": {},
   "outputs": [
    {
     "data": {
      "image/png": "[encoded data removed]",
      "text/plain": [
       "<Figure size 792x360 with 1 Axes>"
      ]
     },
     "metadata": {
      "needs_background": "light"
     },
     "output_type": "display_data"
    }
   ],
   "source": [
    "# датафрейм с кумулятивным количеством заказов и кумулятивной выручкой по дням в группе А\n",
    "cumulativeRevenueA = cumulativeData[cumulativeData['group']=='A'][['date','revenue', 'orders']]\n",
    "\n",
    "# датафрейм с кумулятивным количеством заказов и кумулятивной выручкой по дням в группе B\n",
    "cumulativeRevenueB = cumulativeData[cumulativeData['group']=='B'][['date','revenue', 'orders']]\n",
    "\n",
    "plt.figure(figsize=(11,5))\n",
    "\n",
    "# Строим график выручки группы А\n",
    "plt.plot(cumulativeRevenueA['date'], cumulativeRevenueA['revenue'], label='A')\n",
    "\n",
    "# Строим график выручки группы B\n",
    "plt.plot(cumulativeRevenueB['date'], cumulativeRevenueB['revenue'], label='B')\n",
    "\n",
    "plt.xlabel('дата')\n",
    "plt.ylabel('выручка')\n",
    "plt.grid()\n",
    "plt.title('График кумулятивной выручки по группам')\n",
    "\n",
    "plt.legend();"
   ]
  },
  {
   "cell_type": "markdown",
   "metadata": {},
   "source": [
    "Выручка растет на протяжении всего теста достаточно равномерно. У группы B заметен резкий скачок примерно с 18 августа. Возможно, это свидетельствует о временном всплеске заказов или покупках дорогостоящих товаров. Стоит проанализировать этот выброс."
   ]
  },
  {
   "cell_type": "markdown",
   "metadata": {},
   "source": [
    "### 2. Построим график кумулятивного среднего чека по группам <a id=\"3.2id\"></a>"
   ]
  },
  {
   "cell_type": "markdown",
   "metadata": {},
   "source": [
    "Построим графики среднего чека по группам — разделим кумулятивную выручку на кумулятивное число заказов:"
   ]
  },
  {
   "cell_type": "code",
   "execution_count": 30,
   "metadata": {},
   "outputs": [
    {
     "data": {
      "image/png": "[encoded data removed]",
      "text/plain": [
       "<Figure size 792x360 with 1 Axes>"
      ]
     },
     "metadata": {
      "needs_background": "light"
     },
     "output_type": "display_data"
    }
   ],
   "source": [
    "plt.figure(figsize=(11,5))\n",
    "plt.plot(cumulativeRevenueA['date'], cumulativeRevenueA['revenue']/cumulativeRevenueA['orders'], label='A')\n",
    "plt.plot(cumulativeRevenueB['date'], cumulativeRevenueB['revenue']/cumulativeRevenueB['orders'], label='B')\n",
    "\n",
    "plt.xlabel('дата')\n",
    "plt.ylabel('средний чек')\n",
    "plt.title('График среднего чека по группам')\n",
    "plt.grid()\n",
    "\n",
    "plt.legend();"
   ]
  },
  {
   "cell_type": "markdown",
   "metadata": {},
   "source": [
    "Средний чек в группах очень неравномерен. Выравнивание идет только c середины теста (со второй половины августа), после резкого скачка показателя группы B в августе.\n",
    "Практически на протяжении всего теста средний чек группы B был выше. Возможно, в эту группу попали дорогостоящие товары, которые создают всплеск на графике. Таким образом, для установление нормального среднего группе B необходимо больше данных."
   ]
  },
  {
   "cell_type": "markdown",
   "metadata": {},
   "source": [
    "### 3. Построим график относительного изменения кумулятивного среднего чека группы B к группе A <a id=\"3.3id\"></a>"
   ]
  },
  {
   "cell_type": "code",
   "execution_count": 31,
   "metadata": {},
   "outputs": [
    {
     "data": {
      "image/png": "[encoded data removed]",
      "text/plain": [
       "<Figure size 792x360 with 1 Axes>"
      ]
     },
     "metadata": {
      "needs_background": "light"
     },
     "output_type": "display_data"
    }
   ],
   "source": [
    "plt.figure(figsize=(11,5))\n",
    "\n",
    "# собираем данные в одном датафрейме\n",
    "mergedCumulativeRevenue = cumulativeRevenueA.merge(cumulativeRevenueB, left_on='date', right_on='date', how='left', suffixes=['A', 'B'])\n",
    "\n",
    "# cтроим отношение средних чеков\n",
    "plt.plot(mergedCumulativeRevenue['date'], (mergedCumulativeRevenue['revenueB']/mergedCumulativeRevenue['ordersB'])/(mergedCumulativeRevenue['revenueA']/mergedCumulativeRevenue['ordersA'])-1)\n",
    "\n",
    "plt.xlabel('дата')\n",
    "plt.ylabel('отношение средних чеков')\n",
    "plt.title('График относительного изменения кумулятивного среднего чека')\n",
    "plt.grid()\n",
    "\n",
    "# добавляем ось X\n",
    "plt.axhline(y=0, color='black', linestyle='--');"
   ]
  },
  {
   "cell_type": "markdown",
   "metadata": {},
   "source": [
    "График отношения средних чеков достаточно резко меняется. Необходимо анализировать выбросы, которые покажут крупные заказы в той и другой группе."
   ]
  },
  {
   "cell_type": "markdown",
   "metadata": {},
   "source": [
    "### 4. Построим график кумулятивной конверсии по группам <a id=\"3.4id\"></a>"
   ]
  },
  {
   "cell_type": "code",
   "execution_count": 32,
   "metadata": {},
   "outputs": [
    {
     "data": {
      "text/plain": [
       "count                    1016\n",
       "unique                     31\n",
       "top       2019-08-05 00:00:00\n",
       "freq                       43\n",
       "first     2019-08-01 00:00:00\n",
       "last      2019-08-31 00:00:00\n",
       "Name: date, dtype: object"
      ]
     },
     "execution_count": 32,
     "metadata": {},
     "output_type": "execute_result"
    }
   ],
   "source": [
    "# найдем максимальное и минимальное значения оси x\n",
    "orders['date'].describe()"
   ]
  },
  {
   "cell_type": "code",
   "execution_count": 33,
   "metadata": {},
   "outputs": [
    {
     "name": "stdout",
     "output_type": "stream",
     "text": [
      "0.036\n",
      "0.024\n"
     ]
    }
   ],
   "source": [
    "# считаем кумулятивную конверсию и ее максимальное и минимальное значения\n",
    "cumulativeData['conversion'] = cumulativeData['orders']/cumulativeData['visitors']\n",
    "print(round(cumulativeData['conversion'].max(), 3))\n",
    "print(round(cumulativeData['conversion'].min(), 3))"
   ]
  },
  {
   "cell_type": "code",
   "execution_count": 34,
   "metadata": {},
   "outputs": [
    {
     "data": {
      "image/png": "[encoded data removed]",
      "text/plain": [
       "<Figure size 720x360 with 1 Axes>"
      ]
     },
     "metadata": {
      "needs_background": "light"
     },
     "output_type": "display_data"
    }
   ],
   "source": [
    "# отделяем данные по группе A\n",
    "cumulativeDataA = cumulativeData[cumulativeData['group']=='A']\n",
    "\n",
    "# отделяем данные по группе B\n",
    "cumulativeDataB = cumulativeData[cumulativeData['group']=='B']\n",
    "\n",
    "plt.figure(figsize=(10,5))\n",
    "plt.title('График кумулятивной конверсии по группам')\n",
    "plt.xlabel('дата')\n",
    "plt.ylabel('кумулятивная конверсия')\n",
    "\n",
    "# строим графики\n",
    "plt.plot(cumulativeDataA['date'], cumulativeDataA['conversion'], label='A')\n",
    "plt.plot(cumulativeDataB['date'], cumulativeDataB['conversion'], label='B')\n",
    "plt.legend()\n",
    "plt.grid()\n",
    "\n",
    "# задаем масштаб осей\n",
    "#plt.axis(['2019-08-01', '2019-08-31', 0.020, 0.040]);"
   ]
  },
  {
   "cell_type": "markdown",
   "metadata": {},
   "source": [
    "Вначале показатель в группе A был выше. После - конверсия группы B стала выше и зафиксировалась на этом месте относительно группы B до конца теста. Конверсия группы A просела и так же зафиксировалась.\n",
    "Вероятно, после достижения достаточной статистической мощности результат выравнялся"
   ]
  },
  {
   "cell_type": "markdown",
   "metadata": {},
   "source": [
    "### 5. Построим график относительного изменения кумулятивной конверсии группы B к группе A <a id=\"3.5id\"></a>"
   ]
  },
  {
   "cell_type": "code",
   "execution_count": 35,
   "metadata": {},
   "outputs": [
    {
     "data": {
      "text/plain": [
       "<matplotlib.lines.Line2D at 0x7fe99864d180>"
      ]
     },
     "execution_count": 35,
     "metadata": {},
     "output_type": "execute_result"
    },
    {
     "data": {
      "image/png": "[encoded data removed]",
      "text/plain": [
       "<Figure size 648x360 with 1 Axes>"
      ]
     },
     "metadata": {
      "needs_background": "light"
     },
     "output_type": "display_data"
    }
   ],
   "source": [
    "mergedCumulativeConversions = cumulativeDataA[['date','conversion']].merge(cumulativeDataB[['date','conversion']], left_on='date', right_on='date', how='left', suffixes=['A', 'B'])\n",
    "\n",
    "plt.figure(figsize=(9,5))\n",
    "plt.title('График относительного изменения кумулятивной конверсии')\n",
    "plt.xlabel('дата')\n",
    "plt.ylabel('отношение кумулятивной конверсии')\n",
    "\n",
    "plt.plot(mergedCumulativeConversions['date'], mergedCumulativeConversions['conversionB']/mergedCumulativeConversions['conversionA']-1, label=\"Относительный прирост конверсии группы B относительно группы A\")\n",
    "plt.legend()\n",
    "\n",
    "plt.axhline(y=0, color='black', linestyle='--')\n",
    "plt.axhline(y=0.1, color='grey', linestyle='--')\n",
    "#plt.axis([\"2019-08-01\", '2019-08-31', -0.3, 0.3]);"
   ]
  },
  {
   "cell_type": "markdown",
   "metadata": {},
   "source": [
    "Вначале теста конверсия группы B проигравала группе A. После вырвалась вперед. К концу периода обе конверсии имеют тенденцию к снижению. Однако показатель группы A снижается чуть активнее, что увеличивает отношение показателя группы B к A.\n",
    "Конверсия - это отношение числа заказов к количеству посетителей за время теста. Пользователи, совершившие много заказов, могут сильно влиять на показатель конверсии.\n",
    "Попроуем с помощью анализа аномалий проверить эту гипотезу."
   ]
  },
  {
   "cell_type": "markdown",
   "metadata": {},
   "source": [
    "### 6. Построим точечный график количества заказов по пользователям <a id=\"3.6id\"></a>"
   ]
  },
  {
   "cell_type": "markdown",
   "metadata": {},
   "source": [
    "Подсчитаем количество заказов по пользователям"
   ]
  },
  {
   "cell_type": "code",
   "execution_count": 36,
   "metadata": {},
   "outputs": [
    {
     "data": {
      "text/html": [
       "<div>\n",
       "<style scoped>\n",
       "    .dataframe tbody tr th:only-of-type {\n",
       "        vertical-align: middle;\n",
       "    }\n",
       "\n",
       "    .dataframe tbody tr th {\n",
       "        vertical-align: top;\n",
       "    }\n",
       "\n",
       "    .dataframe thead th {\n",
       "        text-align: right;\n",
       "    }\n",
       "</style>\n",
       "<table border=\"1\" class=\"dataframe\">\n",
       "  <thead>\n",
       "    <tr style=\"text-align: right;\">\n",
       "      <th></th>\n",
       "      <th>visitorId</th>\n",
       "      <th>orders</th>\n",
       "    </tr>\n",
       "  </thead>\n",
       "  <tbody>\n",
       "    <tr>\n",
       "      <th>908</th>\n",
       "      <td>3967698036</td>\n",
       "      <td>3</td>\n",
       "    </tr>\n",
       "    <tr>\n",
       "      <th>55</th>\n",
       "      <td>249864742</td>\n",
       "      <td>3</td>\n",
       "    </tr>\n",
       "    <tr>\n",
       "      <th>478</th>\n",
       "      <td>2108163459</td>\n",
       "      <td>3</td>\n",
       "    </tr>\n",
       "    <tr>\n",
       "      <th>687</th>\n",
       "      <td>2988190573</td>\n",
       "      <td>3</td>\n",
       "    </tr>\n",
       "    <tr>\n",
       "      <th>890</th>\n",
       "      <td>3908431265</td>\n",
       "      <td>3</td>\n",
       "    </tr>\n",
       "    <tr>\n",
       "      <th>138</th>\n",
       "      <td>611059232</td>\n",
       "      <td>3</td>\n",
       "    </tr>\n",
       "    <tr>\n",
       "      <th>632</th>\n",
       "      <td>2742574263</td>\n",
       "      <td>3</td>\n",
       "    </tr>\n",
       "    <tr>\n",
       "      <th>157</th>\n",
       "      <td>678354126</td>\n",
       "      <td>2</td>\n",
       "    </tr>\n",
       "    <tr>\n",
       "      <th>323</th>\n",
       "      <td>1404560065</td>\n",
       "      <td>2</td>\n",
       "    </tr>\n",
       "    <tr>\n",
       "      <th>452</th>\n",
       "      <td>1985475298</td>\n",
       "      <td>2</td>\n",
       "    </tr>\n",
       "  </tbody>\n",
       "</table>\n",
       "</div>"
      ],
      "text/plain": [
       "      visitorId  orders\n",
       "908  3967698036       3\n",
       "55    249864742       3\n",
       "478  2108163459       3\n",
       "687  2988190573       3\n",
       "890  3908431265       3\n",
       "138   611059232       3\n",
       "632  2742574263       3\n",
       "157   678354126       2\n",
       "323  1404560065       2\n",
       "452  1985475298       2"
      ]
     },
     "execution_count": 36,
     "metadata": {},
     "output_type": "execute_result"
    }
   ],
   "source": [
    "ordersByUsers = (\n",
    "    orders.groupby('visitorId', as_index=False)\n",
    "    .agg({'transactionId': 'nunique'})\n",
    ")\n",
    "\n",
    "ordersByUsers.columns = ['visitorId', 'orders']\n",
    "\n",
    "ordersByUsers.sort_values(by='orders', ascending=False).head(10)"
   ]
  },
  {
   "cell_type": "markdown",
   "metadata": {},
   "source": [
    "Есть пользователи, которые совершали 2 и 3 заказа, что больше, чем совершает в среднем посетитель сайта за неделю (всего один, гистограмма ниже)."
   ]
  },
  {
   "cell_type": "markdown",
   "metadata": {},
   "source": [
    "Построим гистрограмму распределения количества заказов на одного пользователя:"
   ]
  },
  {
   "cell_type": "code",
   "execution_count": 37,
   "metadata": {},
   "outputs": [
    {
     "data": {
      "image/png": "[encoded data removed]",
      "text/plain": [
       "<Figure size 432x288 with 1 Axes>"
      ]
     },
     "metadata": {
      "needs_background": "light"
     },
     "output_type": "display_data"
    }
   ],
   "source": [
    "plt.hist(ordersByUsers['orders'])\n",
    "plt.title('Количество заказов на одного пользователя');"
   ]
  },
  {
   "cell_type": "markdown",
   "metadata": {},
   "source": [
    "Большинство совершают только один заказ. Но есть доля и тех, кто делает 2-3 заказа. Распределение ненормальное."
   ]
  },
  {
   "cell_type": "markdown",
   "metadata": {},
   "source": [
    "Построим точечную диаграмму числа заказов на одного пользователя:"
   ]
  },
  {
   "cell_type": "code",
   "execution_count": 38,
   "metadata": {},
   "outputs": [
    {
     "data": {
      "image/png": "[encoded data removed]",
      "text/plain": [
       "<Figure size 432x288 with 1 Axes>"
      ]
     },
     "metadata": {
      "needs_background": "light"
     },
     "output_type": "display_data"
    }
   ],
   "source": [
    "x_values = pd.Series(range(0,len(ordersByUsers)))\n",
    "\n",
    "plt.scatter(x_values, ordersByUsers['orders'])\n",
    "plt.title('Число заказов на одного пользователя'); "
   ]
  },
  {
   "cell_type": "markdown",
   "metadata": {},
   "source": [
    "Достаточно много пользователей, которые делают 2-3 заказа. Однако их доля неясна, чтобы можно было их определить, как аномальные."
   ]
  },
  {
   "cell_type": "markdown",
   "metadata": {},
   "source": [
    "### 7. Посчитаем 95-й и 99-й перцентили количества заказов на пользователя. Выберем границу для определения аномальных пользователей <a id=\"3.7id\"></a>"
   ]
  },
  {
   "cell_type": "markdown",
   "metadata": {},
   "source": [
    "Посчитаем выборочные перцентили количества заказов на одного пользователя:"
   ]
  },
  {
   "cell_type": "code",
   "execution_count": 39,
   "metadata": {},
   "outputs": [
    {
     "name": "stdout",
     "output_type": "stream",
     "text": [
      "[1. 2.]\n"
     ]
    }
   ],
   "source": [
    "print(np.percentile(ordersByUsers['orders'], [95, 99])) "
   ]
  },
  {
   "cell_type": "markdown",
   "metadata": {},
   "source": [
    "Не более 5% пользователей оформляли более одного заказа. Не более 1% оформляли более двух заказов. Так как по графику из предыдущего пункта видно, что есть значительно число пользователей, совершающих более одного заказа, то отсечем только 1% в качестве аномальных значений."
   ]
  },
  {
   "cell_type": "code",
   "execution_count": 40,
   "metadata": {},
   "outputs": [
    {
     "data": {
      "text/plain": [
       "2"
      ]
     },
     "execution_count": 40,
     "metadata": {},
     "output_type": "execute_result"
    }
   ],
   "source": [
    "max_orders = int(np.percentile(ordersByUsers['orders'], [99]))\n",
    "max_orders"
   ]
  },
  {
   "cell_type": "markdown",
   "metadata": {},
   "source": [
    "### 8. Построим точечный график стоимостей заказов <a id=\"3.8id\"></a>"
   ]
  },
  {
   "cell_type": "markdown",
   "metadata": {},
   "source": [
    "Для начала построим гистограмму распределения стоимостей заказов: "
   ]
  },
  {
   "cell_type": "code",
   "execution_count": 41,
   "metadata": {},
   "outputs": [
    {
     "data": {
      "image/png": "[encoded data removed]",
      "text/plain": [
       "<Figure size 432x288 with 1 Axes>"
      ]
     },
     "metadata": {
      "needs_background": "light"
     },
     "output_type": "display_data"
    }
   ],
   "source": [
    "plt.hist(orders['revenue']/1000, bins=100)\n",
    "plt.title('Распределение стоимостей заказов');"
   ]
  },
  {
   "cell_type": "markdown",
   "metadata": {},
   "source": [
    "По гистограмме видно, что большинство заказов умещается в диапазон до 100 тыс рублей."
   ]
  },
  {
   "cell_type": "markdown",
   "metadata": {},
   "source": [
    "Построим точечный график распределения:"
   ]
  },
  {
   "cell_type": "code",
   "execution_count": 42,
   "metadata": {},
   "outputs": [
    {
     "data": {
      "image/png": "[encoded data removed]",
      "text/plain": [
       "<Figure size 432x288 with 1 Axes>"
      ]
     },
     "metadata": {
      "needs_background": "light"
     },
     "output_type": "display_data"
    }
   ],
   "source": [
    "x_values = pd.Series(range(0,len(orders['revenue'])))\n",
    "plt.scatter(x_values, orders['revenue'])\n",
    "plt.grid()\n",
    "plt.title('Распределение стоимостей заказов'); "
   ]
  },
  {
   "cell_type": "markdown",
   "metadata": {},
   "source": [
    "Большинство посетителей приобретают товары на сумму не более 100 тыс рублей. Видим два выброса: один в районе 200 тыс рублей, второй - очень крупный, более 1.2 млн рублей.\n",
    "Взглянем на график чуть ближе:"
   ]
  },
  {
   "cell_type": "code",
   "execution_count": 43,
   "metadata": {},
   "outputs": [],
   "source": [
    "orders_query = orders.loc[orders['revenue'] < 180000]\n",
    "x2_values = pd.Series(range(0,len(orders_query['revenue'])))"
   ]
  },
  {
   "cell_type": "code",
   "execution_count": 44,
   "metadata": {},
   "outputs": [
    {
     "data": {
      "image/png": "[encoded data removed]",
      "text/plain": [
       "<Figure size 432x288 with 1 Axes>"
      ]
     },
     "metadata": {
      "needs_background": "light"
     },
     "output_type": "display_data"
    }
   ],
   "source": [
    "plt.scatter(x2_values, orders_query['revenue']/1000);"
   ]
  },
  {
   "cell_type": "markdown",
   "metadata": {},
   "source": [
    "Большая концентрация покупателей расположена в диапазоне до 20 тыс рублей. Просчитаем перцентили, чтобы понять, какую долю занимают заказы более 20 тыс."
   ]
  },
  {
   "cell_type": "markdown",
   "metadata": {},
   "source": [
    "### 9. Посчитаем 95-й и 99-й перцентили стоимости заказов <a id=\"3.9id\"></a>"
   ]
  },
  {
   "cell_type": "code",
   "execution_count": 45,
   "metadata": {},
   "outputs": [
    {
     "name": "stdout",
     "output_type": "stream",
     "text": [
      "[26785. 53904.]\n"
     ]
    }
   ],
   "source": [
    "print(np.percentile(orders['revenue'], [95, 99])) "
   ]
  },
  {
   "cell_type": "markdown",
   "metadata": {},
   "source": [
    "Не более 5% заказов дороже 26 785 рублей и не более 1% дороже 53 904 рубля.\n",
    "5% заказов все же кажется значительным объемом для того, чтобы исключить его из выборки. Установим 99-перцентиль, как границу для определения аномальных значений."
   ]
  },
  {
   "cell_type": "markdown",
   "metadata": {},
   "source": [
    "### 10. Посчитаем статистическую значимость различий в конверсии между группами по «сырым» данным <a id=\"3.10id\"></a>"
   ]
  },
  {
   "cell_type": "markdown",
   "metadata": {},
   "source": [
    "Посчитаем статистическую значимость различий в конверсии между группами по «сырым» данным — без удаления аномальных пользователей."
   ]
  },
  {
   "cell_type": "markdown",
   "metadata": {},
   "source": [
    "Сформулируем гипотезы:\n",
    "\n",
    "- `HO:` различий в конверсии между группами нет;\n",
    "- `H1:` различия в конверсии между группами есть."
   ]
  },
  {
   "cell_type": "markdown",
   "metadata": {},
   "source": [
    "Уровень статистической значимости - 0.05"
   ]
  },
  {
   "cell_type": "markdown",
   "metadata": {},
   "source": [
    "Подготовим данные"
   ]
  },
  {
   "cell_type": "code",
   "execution_count": 46,
   "metadata": {},
   "outputs": [],
   "source": [
    "visitorsADaily = visitors[visitors['group'] == 'A'][['date', 'visitors']]\n",
    "visitorsADaily.columns = ['date', 'visitorsPerDateA']\n",
    "\n",
    "\n",
    "visitorsBDaily = visitors[visitors['group'] == 'B'][['date', 'visitors']]\n",
    "visitorsBDaily.columns = ['date', 'visitorsPerDateB']"
   ]
  },
  {
   "cell_type": "markdown",
   "metadata": {},
   "source": [
    "Посчитаем статистическую значимость различия в конверсии между группами.\n",
    "Создадим переменные `ordersByUsersA` и `ordersByUsersB` со столбцами ['visitorId', 'transactionId']. В них для пользователей, которые заказывали хотя бы 1 раз, укажем число совершённых заказов. "
   ]
  },
  {
   "cell_type": "markdown",
   "metadata": {},
   "source": [
    "Объявим переменные sampleA и sampleB, в которых пользователям из разных групп будет соответствовать количество заказов. Тем, кто ничего не заказал, будут соответствовать нули. Таким образом подготовим выборки к проверке критерием Манна-Уитни."
   ]
  },
  {
   "cell_type": "markdown",
   "metadata": {},
   "source": [
    "Применим критерий и отформатируем p-value, округлив его до трёх знаков после запятой.\n",
    "Выведем относительный прирост конверсии группы B: конверсия группы B / конверсия группы A - 1. Округлим до трёх знаков после запятой."
   ]
  },
  {
   "cell_type": "code",
   "execution_count": 47,
   "metadata": {},
   "outputs": [
    {
     "name": "stdout",
     "output_type": "stream",
     "text": [
      "p-value: 0.01102\n",
      "Различие в конверсии: 0.160\n"
     ]
    }
   ],
   "source": [
    "ordersByUsersA = (\n",
    "    orders[orders['group'] == 'A']\n",
    "    .groupby('visitorId', as_index=False)\n",
    "    .agg({'transactionId': pd.Series.nunique})\n",
    ")\n",
    "ordersByUsersA.columns = ['visitorId', 'orders']\n",
    "\n",
    "ordersByUsersB = (\n",
    "    orders[orders['group'] == 'B']\n",
    "    .groupby('visitorId', as_index=False)\n",
    "    .agg({'transactionId': pd.Series.nunique})\n",
    ")\n",
    "ordersByUsersB.columns = ['visitorId', 'orders']\n",
    "\n",
    "sampleA = pd.concat(\n",
    "    [\n",
    "        ordersByUsersA['orders'],\n",
    "        pd.Series(\n",
    "            0,\n",
    "            index=np.arange(\n",
    "                visitorsADaily['visitorsPerDateA'].sum() - len(ordersByUsersA['orders'])\n",
    "            ),\n",
    "            name='orders',\n",
    "        ),\n",
    "    ],\n",
    "    axis=0,\n",
    ")\n",
    "\n",
    "sampleB = pd.concat(\n",
    "    [\n",
    "        ordersByUsersB['orders'],\n",
    "        pd.Series(\n",
    "            0,\n",
    "            index=np.arange(\n",
    "                visitorsBDaily['visitorsPerDateB'].sum() - len(ordersByUsersB['orders'])\n",
    "            ),\n",
    "            name='orders',\n",
    "        ),\n",
    "    ],\n",
    "    axis=0,\n",
    ")\n",
    "\n",
    "print('p-value:',\"{0:.5f}\".format(stats.mannwhitneyu(sampleA, sampleB)[1]))\n",
    "\n",
    "print('Различие в конверсии:',\"{0:.3f}\".format(sampleB.mean() / sampleA.mean() - 1))"
   ]
  },
  {
   "cell_type": "markdown",
   "metadata": {},
   "source": [
    "p-value получился меньше 0.05. Значит нулевую гипотезу о том, что различий в конверсии между группами нет отвергаем. Относительный выигрыш группы B относительно группы A равен 16%."
   ]
  },
  {
   "cell_type": "markdown",
   "metadata": {},
   "source": [
    "### 11. Посчитаем статистическую значимость различий в среднем чеке заказа между группами по «сырым» данным <a id=\"3.11id\"></a>"
   ]
  },
  {
   "cell_type": "markdown",
   "metadata": {},
   "source": [
    "- `H0:` различий в среднем чеке между группами нет;\n",
    "- `H1:` различия в среднем чеке между группами есть"
   ]
  },
  {
   "cell_type": "markdown",
   "metadata": {},
   "source": [
    "Передадим критерию mannwhitneyu() данные о выручке с заказов, а также найдём относительные различия в среднем чеке между группами:"
   ]
  },
  {
   "cell_type": "code",
   "execution_count": 48,
   "metadata": {},
   "outputs": [
    {
     "name": "stdout",
     "output_type": "stream",
     "text": [
      "p-value: 0.82949\n",
      "Различие в среднем чеке: 0.287\n"
     ]
    }
   ],
   "source": [
    "print('p-value: {0:.5f}'.format(stats.mannwhitneyu(orders[orders['group']=='A']['revenue'], orders[orders['group']=='B']['revenue'])[1]))\n",
    "print('Различие в среднем чеке: {0:.3f}'.format(orders[orders['group']=='B']['revenue'].mean()/orders[orders['group']=='A']['revenue'].mean()-1)) "
   ]
  },
  {
   "cell_type": "markdown",
   "metadata": {},
   "source": [
    "p-value сильно больше статистической значимости в 0.05. Не отвергаем нулевую гипотезу о том, что различий в среднем чеке между группами нет. По сырым данным выигрыш группы B составляет почти 29% по отношению к группе A. \n",
    "Нами были замечаны аномальные значения. Возможно, их обработка позволит изменить результат теста."
   ]
  },
  {
   "cell_type": "markdown",
   "metadata": {},
   "source": [
    "Примем за аномальных пользователей тех, кто совершил более 2 заказов или совершил заказ дороже 53 904 рублей. Таким образом мы уберем 1% посетителей с наибольшим числом заказов и 1% пользователей с дорогими заказами.\n",
    "\n",
    "Сделаем срезы пользователей с числом заказов больше 2 — usersWithManyOrders и пользователей, совершивших заказы дороже 53 904 — usersWithExpensiveOrders. Объединим их в таблице abnormalUsers"
   ]
  },
  {
   "cell_type": "code",
   "execution_count": 49,
   "metadata": {},
   "outputs": [
    {
     "data": {
      "text/plain": [
       "53904.0"
      ]
     },
     "execution_count": 49,
     "metadata": {},
     "output_type": "execute_result"
    }
   ],
   "source": [
    "revenu_max=np.percentile(orders['revenue'], [95, 99])[1]\n",
    "revenu_max"
   ]
  },
  {
   "cell_type": "code",
   "execution_count": 50,
   "metadata": {},
   "outputs": [
    {
     "name": "stdout",
     "output_type": "stream",
     "text": [
      "1099    148427295\n",
      "33      249864742\n",
      "58      611059232\n",
      "949     887908475\n",
      "744     888512513\n",
      "Name: visitorId, dtype: int64\n",
      "16\n"
     ]
    }
   ],
   "source": [
    "# вычисление количества аномальных пользователей\n",
    "\n",
    "usersWithManyOrders = pd.concat(\n",
    "    [\n",
    "        ordersByUsersA[ordersByUsersA['orders'] > max_orders]['visitorId'],\n",
    "        ordersByUsersB[ordersByUsersB['orders'] > max_orders]['visitorId'],\n",
    "    ],\n",
    "    axis=0,\n",
    ")\n",
    "usersWithExpensiveOrders = orders[orders['revenue'] > revenu_max]['visitorId']\n",
    "abnormalUsers = (\n",
    "    pd.concat([usersWithManyOrders, usersWithExpensiveOrders], axis=0)\n",
    "    .drop_duplicates()\n",
    "    .sort_values()\n",
    ")\n",
    "print(abnormalUsers.head(5))\n",
    "print(abnormalUsers.shape[0]) "
   ]
  },
  {
   "cell_type": "markdown",
   "metadata": {},
   "source": [
    "Итого 16 аномальных пользователей."
   ]
  },
  {
   "cell_type": "markdown",
   "metadata": {},
   "source": [
    "### 12. Посчитаем статистическую значимость различий в конверсии между группами по «очищенным» данным <a id=\"3.12id\"></a>"
   ]
  },
  {
   "cell_type": "markdown",
   "metadata": {},
   "source": [
    "Выясним, как эти пользователи повлияли на результаты теста."
   ]
  },
  {
   "cell_type": "markdown",
   "metadata": {},
   "source": [
    "Сформулируем гипотезы:\n",
    "\n",
    "- `HO:` различий в конверсии между группами нет;\n",
    "- `H1:` различия в конверсии между группами есть."
   ]
  },
  {
   "cell_type": "code",
   "execution_count": 51,
   "metadata": {},
   "outputs": [],
   "source": [
    "# подготовка выборки количества заказов по пользователям по группам теста\n",
    "\n",
    "sampleAFiltered = pd.concat(\n",
    "    [\n",
    "        ordersByUsersA[\n",
    "            np.logical_not(ordersByUsersA['visitorId'].isin(abnormalUsers))\n",
    "        ]['orders'],\n",
    "        pd.Series(\n",
    "            0,\n",
    "            index=np.arange(\n",
    "                visitorsADaily['visitorsPerDateA'].sum() - len(ordersByUsersA['orders'])\n",
    "            ),\n",
    "            name='orders',\n",
    "        ),\n",
    "    ],\n",
    "    axis=0,\n",
    ")\n",
    "\n",
    "sampleBFiltered = pd.concat(\n",
    "    [\n",
    "        ordersByUsersB[\n",
    "            np.logical_not(ordersByUsersB['visitorId'].isin(abnormalUsers))\n",
    "        ]['orders'],\n",
    "        pd.Series(\n",
    "            0,\n",
    "            index=np.arange(\n",
    "                visitorsBDaily['visitorsPerDateB'].sum() - len(ordersByUsersB['orders'])\n",
    "            ),\n",
    "            name='orders',\n",
    "        ),\n",
    "    ],\n",
    "    axis=0,\n",
    ") "
   ]
  },
  {
   "cell_type": "markdown",
   "metadata": {},
   "source": [
    "Применим статистический критерий Манна-Уитни к полученным выборкам:"
   ]
  },
  {
   "cell_type": "code",
   "execution_count": 52,
   "metadata": {},
   "outputs": [
    {
     "name": "stdout",
     "output_type": "stream",
     "text": [
      "p-value: 0.00702\n",
      "Различие в конверсии: 0.189\n"
     ]
    }
   ],
   "source": [
    "print('p-value: {0:.5f}'.format(stats.mannwhitneyu(sampleAFiltered, sampleBFiltered)[1]))\n",
    "print('Различие в конверсии: {0:.3f}'.format(sampleBFiltered.mean()/sampleAFiltered.mean()-1)) "
   ]
  },
  {
   "cell_type": "markdown",
   "metadata": {},
   "source": [
    "p-value намного меньше 0.05. Отвергаем нулевую гипотезу об отсутствии различий показателей конверсии. После обработки аномальных значений конверсия группы B увеличилась до 18,9% относительно конверсии группы A."
   ]
  },
  {
   "cell_type": "markdown",
   "metadata": {},
   "source": [
    "### 13. Посчитаем статистическую значимость различий в среднем чеке заказа между группами по «очищенным» данным <a id=\"3.13id\"></a>"
   ]
  },
  {
   "cell_type": "markdown",
   "metadata": {},
   "source": [
    "- `H0:` различий в среднем чеке между группами нет;\n",
    "- `H1:` различия в среднем чеке между группами есть"
   ]
  },
  {
   "cell_type": "code",
   "execution_count": 53,
   "metadata": {},
   "outputs": [
    {
     "name": "stdout",
     "output_type": "stream",
     "text": [
      "p-value:0.78770\n",
      "Различие в среднем чеке: -0.032\n"
     ]
    }
   ],
   "source": [
    "print(\n",
    "    'p-value:{0:.5f}'.format(\n",
    "        stats.mannwhitneyu(\n",
    "            orders[\n",
    "                np.logical_and(\n",
    "                    orders['group'] == 'A',\n",
    "                    np.logical_not(orders['visitorId'].isin(abnormalUsers)),\n",
    "                )\n",
    "            ]['revenue'],\n",
    "            orders[\n",
    "                np.logical_and(\n",
    "                    orders['group'] == 'B',\n",
    "                    np.logical_not(orders['visitorId'].isin(abnormalUsers)),\n",
    "                )\n",
    "            ]['revenue'],\n",
    "        )[1]\n",
    "    )\n",
    ")\n",
    "\n",
    "print(\n",
    "    \"Различие в среднем чеке: {0:.3f}\".format(\n",
    "        orders[\n",
    "            np.logical_and(\n",
    "                orders['group'] == 'B',\n",
    "                np.logical_not(orders['visitorId'].isin(abnormalUsers)),\n",
    "            )\n",
    "        ]['revenue'].mean()\n",
    "        / orders[\n",
    "            np.logical_and(\n",
    "                orders['group'] == 'A',\n",
    "                np.logical_not(orders['visitorId'].isin(abnormalUsers)),\n",
    "            )\n",
    "        ]['revenue'].mean()\n",
    "        - 1\n",
    "    )\n",
    ") "
   ]
  },
  {
   "cell_type": "markdown",
   "metadata": {},
   "source": [
    "p-value больше 0.05. Нулевую гипотезу о равенстве средних чеков отвергнуть не можем.\n",
    "Относительное изменение среднего чека в группе B по отношению группы A после очистки данных -3.2%. Таким образом, средий чек после фильтрации аномалий (убрали крупный заказ на 1.2 млн руб) у группы B снизился и стал меньше среднего чека группы A."
   ]
  },
  {
   "cell_type": "markdown",
   "metadata": {},
   "source": [
    "### 14. Решение по результатам теста <a id=\"4id\"></a>"
   ]
  },
  {
   "cell_type": "markdown",
   "metadata": {},
   "source": [
    "**Результаты:**\n",
    "\n",
    "- обнаружены статистически значимые различия по конверсии между группами по «сырым» и по данным после обратботки аномальных значений. 16% по сырым и 19% по очищенным данным показатели группы B были выше A, что говорит об увеличении количества покупателей;\n",
    "- разница между сегментами по среднему чеку группы B к группе А по очищенным данным сократилась с 29% в пользу группы B до 3% в пользу группы A. Не смотря на это из-за значительного увеличения числа покупателей в группе B прибыль компании все равно увеличится;\n",
    "- разница показателей конверсии является статистически значимой, поэтому есть смысл останосить тест, признать его успешным (победу группы B) и применить изменение, которое мы проверяли на статистическую значимость, на всех посетителей."
   ]
  },
  {
   "cell_type": "markdown",
   "metadata": {},
   "source": [
    "## 5. Выводы <a id=\"5id\"></a>"
   ]
  },
  {
   "cell_type": "markdown",
   "metadata": {},
   "source": [
    "Целью данного исследования является получение данных, на основе которых интернет-магазин может увеличить свою выручку.\n",
    "\n",
    "В распоряжении у нас было три файла с информацией:\n",
    "- файл с девятью гипотезами;\n",
    "- таблица с заказами пользователей;\n",
    "- таблица посетителей, разделенных на две группы\n",
    "\n",
    "Перед запуском A/B-теста была проведена приоритезация гипотез с помощью фреймворков ICE и RICE. Лидирующими на проведение теста оказались:\n",
    "- `добавление формы подписки на все основные страницы, чтобы собрать базу клиентов для email-рассылок`;\n",
    "- `добавление двух новых каналов привлечения трафика, что позволит привлекать на 30% больше пользователей`\n",
    "\n",
    "В ходе проведения A/B-теста проверялись две метрики: изменение конверсии и размера среднего чека в обеих группах. Анализ производился, как на \"сырых\", так и на очищенных данных, чтобы определить силу влияния выбросов.\n",
    "\n",
    "Различия конверсии по сырым и очищенным данным тест не показал. В обоих случаях лидировала группа B. Обработка аномалий повлияла на показатель среднего чека. С выбросами средний чек группы B был выше на 29%. После обработки стал ниже среднего чека группы A на 3,2%.\n",
    "С учетом большого увеличения \"покупающих\" пользователей группы B выручка все равно увеличилась.\n",
    "\n",
    "Принято решение остановить тест и признать его успешным. Распространить нововведение на всех пользователей интернет-магазина."
   ]
  }
 ],
 "metadata": {
  "ExecuteTimeLog": [
   {
    "duration": 1362,
    "start_time": "2022-05-25T05:42:10.812Z"
   },
   {
    "duration": 64,
    "start_time": "2022-05-25T05:42:12.177Z"
   },
   {
    "duration": 4,
    "start_time": "2022-05-25T05:42:12.242Z"
   },
   {
    "duration": 15,
    "start_time": "2022-05-25T05:42:12.248Z"
   },
   {
    "duration": 133,
    "start_time": "2022-05-25T05:42:12.265Z"
   },
   {
    "duration": 8,
    "start_time": "2022-05-25T05:42:12.399Z"
   },
   {
    "duration": 15,
    "start_time": "2022-05-25T05:42:12.408Z"
   },
   {
    "duration": 15,
    "start_time": "2022-05-25T05:42:12.424Z"
   },
   {
    "duration": 14,
    "start_time": "2022-05-25T05:42:12.440Z"
   },
   {
    "duration": 10,
    "start_time": "2022-05-25T05:42:12.457Z"
   },
   {
    "duration": 4,
    "start_time": "2022-05-25T05:42:12.468Z"
   },
   {
    "duration": 59,
    "start_time": "2022-05-25T05:42:12.474Z"
   },
   {
    "duration": 7,
    "start_time": "2022-05-25T05:42:12.535Z"
   },
   {
    "duration": 7,
    "start_time": "2022-05-25T05:42:12.544Z"
   },
   {
    "duration": 26,
    "start_time": "2022-05-25T05:42:12.552Z"
   },
   {
    "duration": 8,
    "start_time": "2022-05-25T05:42:12.580Z"
   },
   {
    "duration": 13,
    "start_time": "2022-05-25T05:42:12.590Z"
   },
   {
    "duration": 11,
    "start_time": "2022-05-25T05:42:12.605Z"
   },
   {
    "duration": 7,
    "start_time": "2022-05-25T05:42:12.617Z"
   },
   {
    "duration": 12,
    "start_time": "2022-05-25T05:42:12.626Z"
   },
   {
    "duration": 26,
    "start_time": "2022-05-25T05:42:12.639Z"
   },
   {
    "duration": 22,
    "start_time": "2022-05-25T05:42:12.667Z"
   },
   {
    "duration": 197,
    "start_time": "2022-05-25T05:42:12.691Z"
   },
   {
    "duration": 6,
    "start_time": "2022-05-25T05:42:12.890Z"
   },
   {
    "duration": 192,
    "start_time": "2022-05-25T05:42:12.898Z"
   },
   {
    "duration": 120,
    "start_time": "2022-05-25T05:42:13.091Z"
   },
   {
    "duration": 23,
    "start_time": "2022-05-25T05:42:13.213Z"
   },
   {
    "duration": 12,
    "start_time": "2022-05-25T05:42:13.240Z"
   },
   {
    "duration": 415,
    "start_time": "2022-05-25T05:42:13.254Z"
   },
   {
    "duration": 218,
    "start_time": "2022-05-25T05:42:13.671Z"
   },
   {
    "duration": 378,
    "start_time": "2022-05-25T05:42:13.891Z"
   },
   {
    "duration": 9,
    "start_time": "2022-05-25T05:42:14.271Z"
   },
   {
    "duration": 10,
    "start_time": "2022-05-25T05:42:14.282Z"
   },
   {
    "duration": 386,
    "start_time": "2022-05-25T05:42:14.294Z"
   },
   {
    "duration": 0,
    "start_time": "2022-05-25T05:42:14.682Z"
   },
   {
    "duration": 0,
    "start_time": "2022-05-25T05:42:14.683Z"
   },
   {
    "duration": 0,
    "start_time": "2022-05-25T05:42:14.685Z"
   },
   {
    "duration": 0,
    "start_time": "2022-05-25T05:42:14.686Z"
   },
   {
    "duration": 0,
    "start_time": "2022-05-25T05:42:14.687Z"
   },
   {
    "duration": 0,
    "start_time": "2022-05-25T05:42:14.688Z"
   },
   {
    "duration": 0,
    "start_time": "2022-05-25T05:42:14.689Z"
   },
   {
    "duration": 0,
    "start_time": "2022-05-25T05:42:14.690Z"
   },
   {
    "duration": 0,
    "start_time": "2022-05-25T05:42:14.691Z"
   },
   {
    "duration": 0,
    "start_time": "2022-05-25T05:42:14.692Z"
   },
   {
    "duration": 0,
    "start_time": "2022-05-25T05:42:14.693Z"
   },
   {
    "duration": 0,
    "start_time": "2022-05-25T05:42:14.694Z"
   },
   {
    "duration": 0,
    "start_time": "2022-05-25T05:42:14.695Z"
   },
   {
    "duration": 0,
    "start_time": "2022-05-25T05:42:14.697Z"
   },
   {
    "duration": 0,
    "start_time": "2022-05-25T05:42:14.698Z"
   },
   {
    "duration": 0,
    "start_time": "2022-05-25T05:42:14.726Z"
   },
   {
    "duration": 0,
    "start_time": "2022-05-25T05:42:14.728Z"
   },
   {
    "duration": 0,
    "start_time": "2022-05-25T05:42:14.729Z"
   },
   {
    "duration": 0,
    "start_time": "2022-05-25T05:42:14.731Z"
   },
   {
    "duration": 225,
    "start_time": "2022-05-25T05:43:06.790Z"
   },
   {
    "duration": 204,
    "start_time": "2022-05-25T05:43:11.270Z"
   },
   {
    "duration": 358,
    "start_time": "2022-05-25T05:43:17.606Z"
   },
   {
    "duration": 316,
    "start_time": "2022-05-25T05:43:22.433Z"
   },
   {
    "duration": 12,
    "start_time": "2022-05-25T05:43:40.479Z"
   },
   {
    "duration": 1132,
    "start_time": "2022-05-25T05:43:46.762Z"
   },
   {
    "duration": 28,
    "start_time": "2022-05-25T05:43:47.896Z"
   },
   {
    "duration": 3,
    "start_time": "2022-05-25T05:43:47.926Z"
   },
   {
    "duration": 18,
    "start_time": "2022-05-25T05:43:47.931Z"
   },
   {
    "duration": 42,
    "start_time": "2022-05-25T05:43:47.950Z"
   },
   {
    "duration": 8,
    "start_time": "2022-05-25T05:43:47.994Z"
   },
   {
    "duration": 16,
    "start_time": "2022-05-25T05:43:48.004Z"
   },
   {
    "duration": 14,
    "start_time": "2022-05-25T05:43:48.021Z"
   },
   {
    "duration": 10,
    "start_time": "2022-05-25T05:43:48.036Z"
   },
   {
    "duration": 9,
    "start_time": "2022-05-25T05:43:48.049Z"
   },
   {
    "duration": 6,
    "start_time": "2022-05-25T05:43:48.060Z"
   },
   {
    "duration": 25,
    "start_time": "2022-05-25T05:43:48.068Z"
   },
   {
    "duration": 7,
    "start_time": "2022-05-25T05:43:48.095Z"
   },
   {
    "duration": 23,
    "start_time": "2022-05-25T05:43:48.104Z"
   },
   {
    "duration": 9,
    "start_time": "2022-05-25T05:43:48.130Z"
   },
   {
    "duration": 16,
    "start_time": "2022-05-25T05:43:48.141Z"
   },
   {
    "duration": 16,
    "start_time": "2022-05-25T05:43:48.159Z"
   },
   {
    "duration": 8,
    "start_time": "2022-05-25T05:43:48.177Z"
   },
   {
    "duration": 12,
    "start_time": "2022-05-25T05:43:48.187Z"
   },
   {
    "duration": 15,
    "start_time": "2022-05-25T05:43:48.201Z"
   },
   {
    "duration": 17,
    "start_time": "2022-05-25T05:43:48.218Z"
   },
   {
    "duration": 14,
    "start_time": "2022-05-25T05:43:48.237Z"
   },
   {
    "duration": 187,
    "start_time": "2022-05-25T05:43:48.253Z"
   },
   {
    "duration": 5,
    "start_time": "2022-05-25T05:43:48.442Z"
   },
   {
    "duration": 173,
    "start_time": "2022-05-25T05:43:48.449Z"
   },
   {
    "duration": 132,
    "start_time": "2022-05-25T05:43:48.625Z"
   },
   {
    "duration": 13,
    "start_time": "2022-05-25T05:43:48.759Z"
   },
   {
    "duration": 14,
    "start_time": "2022-05-25T05:43:48.776Z"
   },
   {
    "duration": 412,
    "start_time": "2022-05-25T05:43:48.792Z"
   },
   {
    "duration": 215,
    "start_time": "2022-05-25T05:43:49.206Z"
   },
   {
    "duration": 302,
    "start_time": "2022-05-25T05:43:49.426Z"
   },
   {
    "duration": 9,
    "start_time": "2022-05-25T05:43:49.730Z"
   },
   {
    "duration": 17,
    "start_time": "2022-05-25T05:43:49.740Z"
   },
   {
    "duration": 221,
    "start_time": "2022-05-25T05:43:49.759Z"
   },
   {
    "duration": 383,
    "start_time": "2022-05-25T05:43:49.982Z"
   },
   {
    "duration": 11,
    "start_time": "2022-05-25T05:43:50.367Z"
   },
   {
    "duration": 148,
    "start_time": "2022-05-25T05:43:50.380Z"
   },
   {
    "duration": 165,
    "start_time": "2022-05-25T05:43:50.530Z"
   },
   {
    "duration": 4,
    "start_time": "2022-05-25T05:43:50.696Z"
   },
   {
    "duration": 8,
    "start_time": "2022-05-25T05:43:50.702Z"
   },
   {
    "duration": 272,
    "start_time": "2022-05-25T05:43:50.712Z"
   },
   {
    "duration": 159,
    "start_time": "2022-05-25T05:43:50.986Z"
   },
   {
    "duration": 7,
    "start_time": "2022-05-25T05:43:51.148Z"
   },
   {
    "duration": 129,
    "start_time": "2022-05-25T05:43:51.156Z"
   },
   {
    "duration": 5,
    "start_time": "2022-05-25T05:43:51.287Z"
   },
   {
    "duration": 15,
    "start_time": "2022-05-25T05:43:51.294Z"
   },
   {
    "duration": 287,
    "start_time": "2022-05-25T05:43:51.310Z"
   },
   {
    "duration": 10,
    "start_time": "2022-05-25T05:43:51.598Z"
   },
   {
    "duration": 19,
    "start_time": "2022-05-25T05:43:51.609Z"
   },
   {
    "duration": 10,
    "start_time": "2022-05-25T05:43:51.630Z"
   },
   {
    "duration": 28,
    "start_time": "2022-05-25T05:43:51.641Z"
   },
   {
    "duration": 35,
    "start_time": "2022-05-25T05:43:51.671Z"
   },
   {
    "duration": 22,
    "start_time": "2022-05-25T05:43:51.707Z"
   }
  ],
  "kernelspec": {
   "display_name": "Python 3 (ipykernel)",
   "language": "python",
   "name": "python3"
  },
  "language_info": {
   "codemirror_mode": {
    "name": "ipython",
    "version": 3
   },
   "file_extension": ".py",
   "mimetype": "text/x-python",
   "name": "python",
   "nbconvert_exporter": "python",
   "pygments_lexer": "ipython3",
   "version": "3.10.4"
  },
  "toc": {
   "base_numbering": 1,
   "nav_menu": {},
   "number_sections": true,
   "sideBar": true,
   "skip_h1_title": true,
   "title_cell": "Table of Contents",
   "title_sidebar": "Contents",
   "toc_cell": false,
   "toc_position": {},
   "toc_section_display": true,
   "toc_window_display": true
  },
  "varInspector": {
   "cols": {
    "lenName": 16,
    "lenType": 16,
    "lenVar": 40
   },
   "kernels_config": {
    "python": {
     "delete_cmd_postfix": "",
     "delete_cmd_prefix": "del ",
     "library": "var_list.py",
     "varRefreshCmd": "print(var_dic_list())"
    },
    "r": {
     "delete_cmd_postfix": ") ",
     "delete_cmd_prefix": "rm(",
     "library": "var_list.r",
     "varRefreshCmd": "cat(var_dic_list()) "
    }
   },
   "types_to_exclude": [
    "module",
    "function",
    "builtin_function_or_method",
    "instance",
    "_Feature"
   ],
   "window_display": false
  }
 },
 "nbformat": 4,
 "nbformat_minor": 4
}
