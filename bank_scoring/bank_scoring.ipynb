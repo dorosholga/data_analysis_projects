{
 "cells": [
  {
   "cell_type": "markdown",
   "metadata": {},
   "source": [
    "# Модель кредитного скоринга"
   ]
  },
  {
   "cell_type": "markdown",
   "metadata": {},
   "source": [
    "**Цель проекта:** определить, как влияют семейное положение клиента и наличие у него детей на закрытие кредита в срок "
   ]
  },
  {
   "cell_type": "markdown",
   "metadata": {},
   "source": [
    "### Содержание\n",
    "\n",
    "1. [Изучение данных](#1id)\n",
    "\n",
    "2. [Предобработка данных](#2id)\n",
    "    * [Поиск пропущенных значений](#2.1id)\n",
    "    * [Заполнение пропущенных и замена некорректных значений](#2.2id)\n",
    "    * [Изменение типов данных](#2.3id)\n",
    "    * [Поиск и обработка дубликатов](#2.4id)\n",
    "3. [Лемматизация](#3id)\n",
    "4. [Категоризация данных](#4id)\n",
    "    * [Создание категорий](#4.1id)\n",
    "    * [Категоризация по наличию детей](#4.2id)\n",
    "    * [Категоризация по уровню дохода](#4.3id)\n",
    "5. [Поиск влияния факторов на погашения кредита в срок](#5id)\n",
    "    * [Зависимость между наличием детей и возвратом кредита в срок](#5.1id)\n",
    "    * [Зависимость между семейным положением и возвратом кредита в срок](#5.2id)\n",
    "    * [Зависимость между уровнем дохода и возвратом кредита в срок](#5.3id)\n",
    "    * [Влияние целей кредита на его возврат в срок](#5.4id)\n",
    "6. [Итоги исследования и реккомендации](#6id)"
   ]
  },
  {
   "cell_type": "markdown",
   "metadata": {},
   "source": [
    "## Шаг 1. Изучение данных <a id=\"1id\"></a>"
   ]
  },
  {
   "cell_type": "code",
   "execution_count": 1,
   "metadata": {},
   "outputs": [],
   "source": [
    "import warnings\n",
    "warnings.filterwarnings('ignore')\n",
    "\n",
    "import pandas as pd\n",
    "import matplotlib as plt"
   ]
  },
  {
   "cell_type": "markdown",
   "metadata": {},
   "source": [
    "Импортируем нужные библиотеки и изучим данные "
   ]
  },
  {
   "cell_type": "code",
   "execution_count": 2,
   "metadata": {
    "scrolled": false
   },
   "outputs": [
    {
     "data": {
      "text/html": [
       "<div>\n",
       "<style scoped>\n",
       "    .dataframe tbody tr th:only-of-type {\n",
       "        vertical-align: middle;\n",
       "    }\n",
       "\n",
       "    .dataframe tbody tr th {\n",
       "        vertical-align: top;\n",
       "    }\n",
       "\n",
       "    .dataframe thead th {\n",
       "        text-align: right;\n",
       "    }\n",
       "</style>\n",
       "<table border=\"1\" class=\"dataframe\">\n",
       "  <thead>\n",
       "    <tr style=\"text-align: right;\">\n",
       "      <th></th>\n",
       "      <th>children</th>\n",
       "      <th>days_employed</th>\n",
       "      <th>dob_years</th>\n",
       "      <th>education</th>\n",
       "      <th>education_id</th>\n",
       "      <th>family_status</th>\n",
       "      <th>family_status_id</th>\n",
       "      <th>gender</th>\n",
       "      <th>income_type</th>\n",
       "      <th>debt</th>\n",
       "      <th>total_income</th>\n",
       "      <th>purpose</th>\n",
       "    </tr>\n",
       "  </thead>\n",
       "  <tbody>\n",
       "    <tr>\n",
       "      <th>0</th>\n",
       "      <td>1</td>\n",
       "      <td>-8437.673028</td>\n",
       "      <td>42</td>\n",
       "      <td>высшее</td>\n",
       "      <td>0</td>\n",
       "      <td>женат / замужем</td>\n",
       "      <td>0</td>\n",
       "      <td>F</td>\n",
       "      <td>сотрудник</td>\n",
       "      <td>0</td>\n",
       "      <td>253875.639453</td>\n",
       "      <td>покупка жилья</td>\n",
       "    </tr>\n",
       "    <tr>\n",
       "      <th>1</th>\n",
       "      <td>1</td>\n",
       "      <td>-4024.803754</td>\n",
       "      <td>36</td>\n",
       "      <td>среднее</td>\n",
       "      <td>1</td>\n",
       "      <td>женат / замужем</td>\n",
       "      <td>0</td>\n",
       "      <td>F</td>\n",
       "      <td>сотрудник</td>\n",
       "      <td>0</td>\n",
       "      <td>112080.014102</td>\n",
       "      <td>приобретение автомобиля</td>\n",
       "    </tr>\n",
       "    <tr>\n",
       "      <th>2</th>\n",
       "      <td>0</td>\n",
       "      <td>-5623.422610</td>\n",
       "      <td>33</td>\n",
       "      <td>Среднее</td>\n",
       "      <td>1</td>\n",
       "      <td>женат / замужем</td>\n",
       "      <td>0</td>\n",
       "      <td>M</td>\n",
       "      <td>сотрудник</td>\n",
       "      <td>0</td>\n",
       "      <td>145885.952297</td>\n",
       "      <td>покупка жилья</td>\n",
       "    </tr>\n",
       "    <tr>\n",
       "      <th>3</th>\n",
       "      <td>3</td>\n",
       "      <td>-4124.747207</td>\n",
       "      <td>32</td>\n",
       "      <td>среднее</td>\n",
       "      <td>1</td>\n",
       "      <td>женат / замужем</td>\n",
       "      <td>0</td>\n",
       "      <td>M</td>\n",
       "      <td>сотрудник</td>\n",
       "      <td>0</td>\n",
       "      <td>267628.550329</td>\n",
       "      <td>дополнительное образование</td>\n",
       "    </tr>\n",
       "    <tr>\n",
       "      <th>4</th>\n",
       "      <td>0</td>\n",
       "      <td>340266.072047</td>\n",
       "      <td>53</td>\n",
       "      <td>среднее</td>\n",
       "      <td>1</td>\n",
       "      <td>гражданский брак</td>\n",
       "      <td>1</td>\n",
       "      <td>F</td>\n",
       "      <td>пенсионер</td>\n",
       "      <td>0</td>\n",
       "      <td>158616.077870</td>\n",
       "      <td>сыграть свадьбу</td>\n",
       "    </tr>\n",
       "    <tr>\n",
       "      <th>5</th>\n",
       "      <td>0</td>\n",
       "      <td>-926.185831</td>\n",
       "      <td>27</td>\n",
       "      <td>высшее</td>\n",
       "      <td>0</td>\n",
       "      <td>гражданский брак</td>\n",
       "      <td>1</td>\n",
       "      <td>M</td>\n",
       "      <td>компаньон</td>\n",
       "      <td>0</td>\n",
       "      <td>255763.565419</td>\n",
       "      <td>покупка жилья</td>\n",
       "    </tr>\n",
       "    <tr>\n",
       "      <th>6</th>\n",
       "      <td>0</td>\n",
       "      <td>-2879.202052</td>\n",
       "      <td>43</td>\n",
       "      <td>высшее</td>\n",
       "      <td>0</td>\n",
       "      <td>женат / замужем</td>\n",
       "      <td>0</td>\n",
       "      <td>F</td>\n",
       "      <td>компаньон</td>\n",
       "      <td>0</td>\n",
       "      <td>240525.971920</td>\n",
       "      <td>операции с жильем</td>\n",
       "    </tr>\n",
       "    <tr>\n",
       "      <th>7</th>\n",
       "      <td>0</td>\n",
       "      <td>-152.779569</td>\n",
       "      <td>50</td>\n",
       "      <td>СРЕДНЕЕ</td>\n",
       "      <td>1</td>\n",
       "      <td>женат / замужем</td>\n",
       "      <td>0</td>\n",
       "      <td>M</td>\n",
       "      <td>сотрудник</td>\n",
       "      <td>0</td>\n",
       "      <td>135823.934197</td>\n",
       "      <td>образование</td>\n",
       "    </tr>\n",
       "    <tr>\n",
       "      <th>8</th>\n",
       "      <td>2</td>\n",
       "      <td>-6929.865299</td>\n",
       "      <td>35</td>\n",
       "      <td>ВЫСШЕЕ</td>\n",
       "      <td>0</td>\n",
       "      <td>гражданский брак</td>\n",
       "      <td>1</td>\n",
       "      <td>F</td>\n",
       "      <td>сотрудник</td>\n",
       "      <td>0</td>\n",
       "      <td>95856.832424</td>\n",
       "      <td>на проведение свадьбы</td>\n",
       "    </tr>\n",
       "    <tr>\n",
       "      <th>9</th>\n",
       "      <td>0</td>\n",
       "      <td>-2188.756445</td>\n",
       "      <td>41</td>\n",
       "      <td>среднее</td>\n",
       "      <td>1</td>\n",
       "      <td>женат / замужем</td>\n",
       "      <td>0</td>\n",
       "      <td>M</td>\n",
       "      <td>сотрудник</td>\n",
       "      <td>0</td>\n",
       "      <td>144425.938277</td>\n",
       "      <td>покупка жилья для семьи</td>\n",
       "    </tr>\n",
       "  </tbody>\n",
       "</table>\n",
       "</div>"
      ],
      "text/plain": [
       "   children  days_employed  dob_years education  education_id  \\\n",
       "0         1   -8437.673028         42    высшее             0   \n",
       "1         1   -4024.803754         36   среднее             1   \n",
       "2         0   -5623.422610         33   Среднее             1   \n",
       "3         3   -4124.747207         32   среднее             1   \n",
       "4         0  340266.072047         53   среднее             1   \n",
       "5         0    -926.185831         27    высшее             0   \n",
       "6         0   -2879.202052         43    высшее             0   \n",
       "7         0    -152.779569         50   СРЕДНЕЕ             1   \n",
       "8         2   -6929.865299         35    ВЫСШЕЕ             0   \n",
       "9         0   -2188.756445         41   среднее             1   \n",
       "\n",
       "      family_status  family_status_id gender income_type  debt   total_income  \\\n",
       "0   женат / замужем                 0      F   сотрудник     0  253875.639453   \n",
       "1   женат / замужем                 0      F   сотрудник     0  112080.014102   \n",
       "2   женат / замужем                 0      M   сотрудник     0  145885.952297   \n",
       "3   женат / замужем                 0      M   сотрудник     0  267628.550329   \n",
       "4  гражданский брак                 1      F   пенсионер     0  158616.077870   \n",
       "5  гражданский брак                 1      M   компаньон     0  255763.565419   \n",
       "6   женат / замужем                 0      F   компаньон     0  240525.971920   \n",
       "7   женат / замужем                 0      M   сотрудник     0  135823.934197   \n",
       "8  гражданский брак                 1      F   сотрудник     0   95856.832424   \n",
       "9   женат / замужем                 0      M   сотрудник     0  144425.938277   \n",
       "\n",
       "                      purpose  \n",
       "0               покупка жилья  \n",
       "1     приобретение автомобиля  \n",
       "2               покупка жилья  \n",
       "3  дополнительное образование  \n",
       "4             сыграть свадьбу  \n",
       "5               покупка жилья  \n",
       "6           операции с жильем  \n",
       "7                 образование  \n",
       "8       на проведение свадьбы  \n",
       "9     покупка жилья для семьи  "
      ]
     },
     "metadata": {},
     "output_type": "display_data"
    }
   ],
   "source": [
    "try:\n",
    "    data = pd.read_csv('/home/olga/Downloads/data.csv') \n",
    "except:    \n",
    "    data = pd.read_csv('/datasets/data.csv')\n",
    "\n",
    "from pymystem3 import Mystem\n",
    "m = Mystem() \n",
    "\n",
    "import seaborn\n",
    "\n",
    "display(data.head(10))"
   ]
  },
  {
   "cell_type": "code",
   "execution_count": 3,
   "metadata": {},
   "outputs": [
    {
     "name": "stdout",
     "output_type": "stream",
     "text": [
      "<class 'pandas.core.frame.DataFrame'>\n",
      "RangeIndex: 21525 entries, 0 to 21524\n",
      "Data columns (total 12 columns):\n",
      " #   Column            Non-Null Count  Dtype  \n",
      "---  ------            --------------  -----  \n",
      " 0   children          21525 non-null  int64  \n",
      " 1   days_employed     19351 non-null  float64\n",
      " 2   dob_years         21525 non-null  int64  \n",
      " 3   education         21525 non-null  object \n",
      " 4   education_id      21525 non-null  int64  \n",
      " 5   family_status     21525 non-null  object \n",
      " 6   family_status_id  21525 non-null  int64  \n",
      " 7   gender            21525 non-null  object \n",
      " 8   income_type       21525 non-null  object \n",
      " 9   debt              21525 non-null  int64  \n",
      " 10  total_income      19351 non-null  float64\n",
      " 11  purpose           21525 non-null  object \n",
      "dtypes: float64(2), int64(5), object(5)\n",
      "memory usage: 2.0+ MB\n"
     ]
    }
   ],
   "source": [
    "# взглянем на общую информацию датафрейма\n",
    "\n",
    "data.info()"
   ]
  },
  {
   "cell_type": "markdown",
   "metadata": {},
   "source": [
    "В датасете 12 столбцов. В столбцах \"days_employed\" и \"total_income\" есть пропуски. \n",
    "Применим также метод describe(), чтобы взглянуть на основные статистические данные, возможные аномалии."
   ]
  },
  {
   "cell_type": "code",
   "execution_count": 4,
   "metadata": {},
   "outputs": [
    {
     "data": {
      "text/html": [
       "<div>\n",
       "<style scoped>\n",
       "    .dataframe tbody tr th:only-of-type {\n",
       "        vertical-align: middle;\n",
       "    }\n",
       "\n",
       "    .dataframe tbody tr th {\n",
       "        vertical-align: top;\n",
       "    }\n",
       "\n",
       "    .dataframe thead th {\n",
       "        text-align: right;\n",
       "    }\n",
       "</style>\n",
       "<table border=\"1\" class=\"dataframe\">\n",
       "  <thead>\n",
       "    <tr style=\"text-align: right;\">\n",
       "      <th></th>\n",
       "      <th>children</th>\n",
       "      <th>days_employed</th>\n",
       "      <th>dob_years</th>\n",
       "      <th>education_id</th>\n",
       "      <th>family_status_id</th>\n",
       "      <th>debt</th>\n",
       "      <th>total_income</th>\n",
       "    </tr>\n",
       "  </thead>\n",
       "  <tbody>\n",
       "    <tr>\n",
       "      <th>count</th>\n",
       "      <td>21525.000000</td>\n",
       "      <td>19351.000000</td>\n",
       "      <td>21525.000000</td>\n",
       "      <td>21525.000000</td>\n",
       "      <td>21525.000000</td>\n",
       "      <td>21525.000000</td>\n",
       "      <td>1.935100e+04</td>\n",
       "    </tr>\n",
       "    <tr>\n",
       "      <th>mean</th>\n",
       "      <td>0.538908</td>\n",
       "      <td>63046.497661</td>\n",
       "      <td>43.293380</td>\n",
       "      <td>0.817236</td>\n",
       "      <td>0.972544</td>\n",
       "      <td>0.080883</td>\n",
       "      <td>1.674223e+05</td>\n",
       "    </tr>\n",
       "    <tr>\n",
       "      <th>std</th>\n",
       "      <td>1.381587</td>\n",
       "      <td>140827.311974</td>\n",
       "      <td>12.574584</td>\n",
       "      <td>0.548138</td>\n",
       "      <td>1.420324</td>\n",
       "      <td>0.272661</td>\n",
       "      <td>1.029716e+05</td>\n",
       "    </tr>\n",
       "    <tr>\n",
       "      <th>min</th>\n",
       "      <td>-1.000000</td>\n",
       "      <td>-18388.949901</td>\n",
       "      <td>0.000000</td>\n",
       "      <td>0.000000</td>\n",
       "      <td>0.000000</td>\n",
       "      <td>0.000000</td>\n",
       "      <td>2.066726e+04</td>\n",
       "    </tr>\n",
       "    <tr>\n",
       "      <th>25%</th>\n",
       "      <td>0.000000</td>\n",
       "      <td>-2747.423625</td>\n",
       "      <td>33.000000</td>\n",
       "      <td>1.000000</td>\n",
       "      <td>0.000000</td>\n",
       "      <td>0.000000</td>\n",
       "      <td>1.030532e+05</td>\n",
       "    </tr>\n",
       "    <tr>\n",
       "      <th>50%</th>\n",
       "      <td>0.000000</td>\n",
       "      <td>-1203.369529</td>\n",
       "      <td>42.000000</td>\n",
       "      <td>1.000000</td>\n",
       "      <td>0.000000</td>\n",
       "      <td>0.000000</td>\n",
       "      <td>1.450179e+05</td>\n",
       "    </tr>\n",
       "    <tr>\n",
       "      <th>75%</th>\n",
       "      <td>1.000000</td>\n",
       "      <td>-291.095954</td>\n",
       "      <td>53.000000</td>\n",
       "      <td>1.000000</td>\n",
       "      <td>1.000000</td>\n",
       "      <td>0.000000</td>\n",
       "      <td>2.034351e+05</td>\n",
       "    </tr>\n",
       "    <tr>\n",
       "      <th>max</th>\n",
       "      <td>20.000000</td>\n",
       "      <td>401755.400475</td>\n",
       "      <td>75.000000</td>\n",
       "      <td>4.000000</td>\n",
       "      <td>4.000000</td>\n",
       "      <td>1.000000</td>\n",
       "      <td>2.265604e+06</td>\n",
       "    </tr>\n",
       "  </tbody>\n",
       "</table>\n",
       "</div>"
      ],
      "text/plain": [
       "           children  days_employed     dob_years  education_id  \\\n",
       "count  21525.000000   19351.000000  21525.000000  21525.000000   \n",
       "mean       0.538908   63046.497661     43.293380      0.817236   \n",
       "std        1.381587  140827.311974     12.574584      0.548138   \n",
       "min       -1.000000  -18388.949901      0.000000      0.000000   \n",
       "25%        0.000000   -2747.423625     33.000000      1.000000   \n",
       "50%        0.000000   -1203.369529     42.000000      1.000000   \n",
       "75%        1.000000    -291.095954     53.000000      1.000000   \n",
       "max       20.000000  401755.400475     75.000000      4.000000   \n",
       "\n",
       "       family_status_id          debt  total_income  \n",
       "count      21525.000000  21525.000000  1.935100e+04  \n",
       "mean           0.972544      0.080883  1.674223e+05  \n",
       "std            1.420324      0.272661  1.029716e+05  \n",
       "min            0.000000      0.000000  2.066726e+04  \n",
       "25%            0.000000      0.000000  1.030532e+05  \n",
       "50%            0.000000      0.000000  1.450179e+05  \n",
       "75%            1.000000      0.000000  2.034351e+05  \n",
       "max            4.000000      1.000000  2.265604e+06  "
      ]
     },
     "execution_count": 4,
     "metadata": {},
     "output_type": "execute_result"
    }
   ],
   "source": [
    "data.describe()"
   ]
  },
  {
   "cell_type": "markdown",
   "metadata": {},
   "source": [
    "В столбце \"children\" находим пару неоднозначных значений. Минимальным зачением является отрицательное число. Подозрительным числом кажется и максимальное значение - 20, что является большой редкостью. Однако оставим этот выброс, так как перед нами стоит вопрос оценить возврат кредита в срок у людей имеющих детей и бездетных. Средний показатель количества детей нам не понадобится.\n",
    "Также видим большое количество отрицательных значений и далекие от действительности данные по стажу: более 75% значений отрицательны и максимальный стаж в 1100 лет - странность."
   ]
  },
  {
   "cell_type": "markdown",
   "metadata": {},
   "source": [
    "## Шаг 2. Предобработка данных <a id=\"2id\"></a>"
   ]
  },
  {
   "cell_type": "markdown",
   "metadata": {},
   "source": [
    "### 2.1 Поиск пропущенных значений <a id=\"2.1id\"></a>"
   ]
  },
  {
   "cell_type": "code",
   "execution_count": 5,
   "metadata": {},
   "outputs": [
    {
     "name": "stdout",
     "output_type": "stream",
     "text": [
      "children               0\n",
      "days_employed       2174\n",
      "dob_years              0\n",
      "education              0\n",
      "education_id           0\n",
      "family_status          0\n",
      "family_status_id       0\n",
      "gender                 0\n",
      "income_type            0\n",
      "debt                   0\n",
      "total_income        2174\n",
      "purpose                0\n",
      "dtype: int64\n"
     ]
    }
   ],
   "source": [
    "# поиск пропущенных значений\n",
    "\n",
    "print(data.isna().sum())"
   ]
  },
  {
   "cell_type": "code",
   "execution_count": 6,
   "metadata": {},
   "outputs": [
    {
     "data": {
      "text/html": [
       "<div>\n",
       "<style scoped>\n",
       "    .dataframe tbody tr th:only-of-type {\n",
       "        vertical-align: middle;\n",
       "    }\n",
       "\n",
       "    .dataframe tbody tr th {\n",
       "        vertical-align: top;\n",
       "    }\n",
       "\n",
       "    .dataframe thead th {\n",
       "        text-align: right;\n",
       "    }\n",
       "</style>\n",
       "<table border=\"1\" class=\"dataframe\">\n",
       "  <thead>\n",
       "    <tr style=\"text-align: right;\">\n",
       "      <th></th>\n",
       "      <th>children</th>\n",
       "      <th>days_employed</th>\n",
       "      <th>dob_years</th>\n",
       "      <th>education</th>\n",
       "      <th>education_id</th>\n",
       "      <th>family_status</th>\n",
       "      <th>family_status_id</th>\n",
       "      <th>gender</th>\n",
       "      <th>income_type</th>\n",
       "      <th>debt</th>\n",
       "      <th>total_income</th>\n",
       "      <th>purpose</th>\n",
       "    </tr>\n",
       "  </thead>\n",
       "  <tbody>\n",
       "    <tr>\n",
       "      <th>12</th>\n",
       "      <td>0</td>\n",
       "      <td>NaN</td>\n",
       "      <td>65</td>\n",
       "      <td>среднее</td>\n",
       "      <td>1</td>\n",
       "      <td>гражданский брак</td>\n",
       "      <td>1</td>\n",
       "      <td>M</td>\n",
       "      <td>пенсионер</td>\n",
       "      <td>0</td>\n",
       "      <td>NaN</td>\n",
       "      <td>сыграть свадьбу</td>\n",
       "    </tr>\n",
       "    <tr>\n",
       "      <th>26</th>\n",
       "      <td>0</td>\n",
       "      <td>NaN</td>\n",
       "      <td>41</td>\n",
       "      <td>среднее</td>\n",
       "      <td>1</td>\n",
       "      <td>женат / замужем</td>\n",
       "      <td>0</td>\n",
       "      <td>M</td>\n",
       "      <td>госслужащий</td>\n",
       "      <td>0</td>\n",
       "      <td>NaN</td>\n",
       "      <td>образование</td>\n",
       "    </tr>\n",
       "    <tr>\n",
       "      <th>29</th>\n",
       "      <td>0</td>\n",
       "      <td>NaN</td>\n",
       "      <td>63</td>\n",
       "      <td>среднее</td>\n",
       "      <td>1</td>\n",
       "      <td>Не женат / не замужем</td>\n",
       "      <td>4</td>\n",
       "      <td>F</td>\n",
       "      <td>пенсионер</td>\n",
       "      <td>0</td>\n",
       "      <td>NaN</td>\n",
       "      <td>строительство жилой недвижимости</td>\n",
       "    </tr>\n",
       "    <tr>\n",
       "      <th>41</th>\n",
       "      <td>0</td>\n",
       "      <td>NaN</td>\n",
       "      <td>50</td>\n",
       "      <td>среднее</td>\n",
       "      <td>1</td>\n",
       "      <td>женат / замужем</td>\n",
       "      <td>0</td>\n",
       "      <td>F</td>\n",
       "      <td>госслужащий</td>\n",
       "      <td>0</td>\n",
       "      <td>NaN</td>\n",
       "      <td>сделка с подержанным автомобилем</td>\n",
       "    </tr>\n",
       "    <tr>\n",
       "      <th>55</th>\n",
       "      <td>0</td>\n",
       "      <td>NaN</td>\n",
       "      <td>54</td>\n",
       "      <td>среднее</td>\n",
       "      <td>1</td>\n",
       "      <td>гражданский брак</td>\n",
       "      <td>1</td>\n",
       "      <td>F</td>\n",
       "      <td>пенсионер</td>\n",
       "      <td>1</td>\n",
       "      <td>NaN</td>\n",
       "      <td>сыграть свадьбу</td>\n",
       "    </tr>\n",
       "  </tbody>\n",
       "</table>\n",
       "</div>"
      ],
      "text/plain": [
       "    children  days_employed  dob_years education  education_id  \\\n",
       "12         0            NaN         65   среднее             1   \n",
       "26         0            NaN         41   среднее             1   \n",
       "29         0            NaN         63   среднее             1   \n",
       "41         0            NaN         50   среднее             1   \n",
       "55         0            NaN         54   среднее             1   \n",
       "\n",
       "            family_status  family_status_id gender  income_type  debt  \\\n",
       "12       гражданский брак                 1      M    пенсионер     0   \n",
       "26        женат / замужем                 0      M  госслужащий     0   \n",
       "29  Не женат / не замужем                 4      F    пенсионер     0   \n",
       "41        женат / замужем                 0      F  госслужащий     0   \n",
       "55       гражданский брак                 1      F    пенсионер     1   \n",
       "\n",
       "    total_income                           purpose  \n",
       "12           NaN                   сыграть свадьбу  \n",
       "26           NaN                       образование  \n",
       "29           NaN  строительство жилой недвижимости  \n",
       "41           NaN  сделка с подержанным автомобилем  \n",
       "55           NaN                   сыграть свадьбу  "
      ]
     },
     "metadata": {},
     "output_type": "display_data"
    }
   ],
   "source": [
    "# выведем датасет, где в обоих столбцах встречаются пропущенные значения\n",
    "\n",
    "na_strings = data[data['days_employed'].isna() & data['total_income'].isna()]\n",
    "display(na_strings.head())"
   ]
  },
  {
   "cell_type": "code",
   "execution_count": 7,
   "metadata": {},
   "outputs": [
    {
     "data": {
      "text/plain": [
       "2174"
      ]
     },
     "execution_count": 7,
     "metadata": {},
     "output_type": "execute_result"
    }
   ],
   "source": [
    "len(na_strings['days_employed'])"
   ]
  },
  {
   "cell_type": "code",
   "execution_count": 8,
   "metadata": {},
   "outputs": [
    {
     "data": {
      "text/plain": [
       "2174"
      ]
     },
     "execution_count": 8,
     "metadata": {},
     "output_type": "execute_result"
    }
   ],
   "source": [
    "len(na_strings['total_income'])"
   ]
  },
  {
   "cell_type": "markdown",
   "metadata": {},
   "source": [
    "В датасете мы обнаружили по 2174 пропуска в столбцах, где указан общий трудовой страж(days_employed), а также ежемесячный доход(total_income). Количество пропущенных значений в обоих столбцах одинаковое. Причиной пропусков может быть ошибка в выгрузке данных, объединение нескольких таблиц и просто отсутствие иниформации."
   ]
  },
  {
   "cell_type": "markdown",
   "metadata": {},
   "source": [
    "Вывели строки, где в обоих стобцах встречаются пустые значения. Есть закономерность: если значения отсутствуют в стобце 'days_employed', то в тех же строках они отсутсвуют и в столбце 'total_income'"
   ]
  },
  {
   "cell_type": "markdown",
   "metadata": {},
   "source": [
    "### 2.2 Заполнение пропущенных и замена некорректных значений <a id=\"2.2id\"></a>"
   ]
  },
  {
   "cell_type": "markdown",
   "metadata": {},
   "source": [
    "Здесь мы столкнулись с пропусками в столбцах с количественными переменными. При удалении 2174 сторк мы потеряем большой объем информации, поэтому для заполнения пропусков выберем медианные значения"
   ]
  },
  {
   "cell_type": "code",
   "execution_count": 9,
   "metadata": {},
   "outputs": [
    {
     "name": "stdout",
     "output_type": "stream",
     "text": [
      "Cреднее значение трудового стажа: -1203\n",
      "Среднее значение ежемесячного дохода: 145018\n"
     ]
    }
   ],
   "source": [
    "avr_days_employed = data['days_employed'].median()  # среднее значение по столбцу \"days_employed\"\n",
    "print('Cреднее значение трудового стажа:', round(avr_days_employed))\n",
    "\n",
    "avr_total_income = data['total_income'].median()  # среднее значение по столбцу \"total_income\"\n",
    "print('Среднее значение ежемесячного дохода:', round(avr_total_income))"
   ]
  },
  {
   "cell_type": "code",
   "execution_count": 10,
   "metadata": {},
   "outputs": [
    {
     "name": "stdout",
     "output_type": "stream",
     "text": [
      "children            0\n",
      "days_employed       0\n",
      "dob_years           0\n",
      "education           0\n",
      "education_id        0\n",
      "family_status       0\n",
      "family_status_id    0\n",
      "gender              0\n",
      "income_type         0\n",
      "debt                0\n",
      "total_income        0\n",
      "purpose             0\n",
      "dtype: int64\n"
     ]
    }
   ],
   "source": [
    "# Заменим пропущенные значения в столбцах значениями медианы\n",
    "\n",
    "data['days_employed'] = data['days_employed'].fillna(avr_days_employed)\n",
    "data['total_income'] = data['total_income'].fillna(avr_total_income)\n",
    "\n",
    "print(data.isna().sum())  # проверим, что пустых значений не осталось"
   ]
  },
  {
   "cell_type": "markdown",
   "metadata": {},
   "source": [
    "Сделаем все значение в столбце \"children\" положительными и проверим, что отрицательных не осталось"
   ]
  },
  {
   "cell_type": "code",
   "execution_count": 11,
   "metadata": {},
   "outputs": [
    {
     "name": "stdout",
     "output_type": "stream",
     "text": [
      "False    21525\n",
      "Name: children, dtype: int64\n"
     ]
    }
   ],
   "source": [
    "data['children'] = abs(data['children'])\n",
    "print((data['children'] < 0).value_counts())"
   ]
  },
  {
   "cell_type": "markdown",
   "metadata": {},
   "source": [
    "В представленном датасете мы обнаружили и заполнили пропуски в столбцах 'days_employed' и 'total_income' медианным значением. Убедились, что после совершенных действий пустых значений не осталось."
   ]
  },
  {
   "cell_type": "markdown",
   "metadata": {},
   "source": [
    "### 2.3 Изменение типов данных <a id=\"2.3id\"></a>"
   ]
  },
  {
   "cell_type": "markdown",
   "metadata": {},
   "source": [
    "Изменим тип данных о стаже с вещественных на целочисленные значения в столбце \"days_employed\""
   ]
  },
  {
   "cell_type": "code",
   "execution_count": 12,
   "metadata": {},
   "outputs": [
    {
     "name": "stdout",
     "output_type": "stream",
     "text": [
      "0         -8437\n",
      "1         -4024\n",
      "2         -5623\n",
      "3         -4124\n",
      "4        340266\n",
      "          ...  \n",
      "21520     -4529\n",
      "21521    343937\n",
      "21522     -2113\n",
      "21523     -3112\n",
      "21524     -1984\n",
      "Name: days_employed, Length: 21525, dtype: int64\n"
     ]
    }
   ],
   "source": [
    "# используем метод astype() для перевода значений в нужный тип\n",
    "\n",
    "data['days_employed'] = data['days_employed'].astype('int')\n",
    "print(data['days_employed'])"
   ]
  },
  {
   "cell_type": "markdown",
   "metadata": {},
   "source": [
    "Видим, что значения в столбце \"days_employed\" отрицательные, что не характерно для стажа работы. \n",
    "Возможно, некоторые значения заполнялись в ручную, используя тире. Преобразуем числа в абсолютные значения с помощью функции для нахождения модуля abs() и проверим новые значения."
   ]
  },
  {
   "cell_type": "code",
   "execution_count": 13,
   "metadata": {},
   "outputs": [
    {
     "name": "stdout",
     "output_type": "stream",
     "text": [
      "0          8437\n",
      "1          4024\n",
      "2          5623\n",
      "3          4124\n",
      "4        340266\n",
      "          ...  \n",
      "21520      4529\n",
      "21521    343937\n",
      "21522      2113\n",
      "21523      3112\n",
      "21524      1984\n",
      "Name: days_employed, Length: 21525, dtype: int64\n"
     ]
    }
   ],
   "source": [
    "data['days_employed'] = abs(data['days_employed'])\n",
    "print(data['days_employed'])"
   ]
  },
  {
   "cell_type": "markdown",
   "metadata": {},
   "source": [
    "Теперь показатели стажа работы положительные целочисленные значения."
   ]
  },
  {
   "cell_type": "markdown",
   "metadata": {},
   "source": [
    "Выведем значения стажа у пенсионеров. Цифры слишком большие, чтобы быть действительностью. Возможно, данные записаны в другом формате исчисления (не в днях), или вещественные значения были записаны некорректно: плавающая точка оказалась не в том месте. Как вариант, можно разделить все значения, превышающие четыре знака, на 100. Но в данном случае изменение данных никак не повлияет на наши дальнейшие исследования"
   ]
  },
  {
   "cell_type": "code",
   "execution_count": 14,
   "metadata": {},
   "outputs": [
    {
     "name": "stdout",
     "output_type": "stream",
     "text": [
      "4        340266\n",
      "12         1203\n",
      "18       400281\n",
      "24       338551\n",
      "25       363548\n",
      "          ...  \n",
      "21505    338904\n",
      "21508    386497\n",
      "21509    362161\n",
      "21518    373995\n",
      "21521    343937\n",
      "Name: days_employed, Length: 3856, dtype: int64\n"
     ]
    }
   ],
   "source": [
    "print(data[data['income_type'] == 'пенсионер']['days_employed'])"
   ]
  },
  {
   "cell_type": "code",
   "execution_count": 15,
   "metadata": {},
   "outputs": [
    {
     "name": "stdout",
     "output_type": "stream",
     "text": [
      "0        8437\n",
      "1        4024\n",
      "2        5623\n",
      "3        4124\n",
      "7         152\n",
      "         ... \n",
      "21515     467\n",
      "21519    2351\n",
      "21522    2113\n",
      "21523    3112\n",
      "21524    1984\n",
      "Name: days_employed, Length: 11119, dtype: int64\n"
     ]
    }
   ],
   "source": [
    "print(data[data['income_type'] == 'сотрудник']['days_employed'])"
   ]
  },
  {
   "cell_type": "markdown",
   "metadata": {},
   "source": [
    "### 2.4 Поиск и обработка дубликатов <a id=\"2.4id\"></a>"
   ]
  },
  {
   "cell_type": "markdown",
   "metadata": {},
   "source": [
    "Проверим, есть ли в таблице дубликаты, которые не позволят корректно проанализировать данные"
   ]
  },
  {
   "cell_type": "code",
   "execution_count": 16,
   "metadata": {},
   "outputs": [
    {
     "data": {
      "text/plain": [
       "54"
      ]
     },
     "execution_count": 16,
     "metadata": {},
     "output_type": "execute_result"
    }
   ],
   "source": [
    "data.duplicated().sum()  # поиск явных дубликатов"
   ]
  },
  {
   "cell_type": "markdown",
   "metadata": {},
   "source": [
    "В датафрейме мы обнаружили 54 дубликата, которые мы удалим методом drop_duplicates()"
   ]
  },
  {
   "cell_type": "code",
   "execution_count": 17,
   "metadata": {},
   "outputs": [
    {
     "data": {
      "text/plain": [
       "Index(['children', 'days_employed', 'dob_years', 'education', 'education_id',\n",
       "       'family_status', 'family_status_id', 'gender', 'income_type', 'debt',\n",
       "       'total_income', 'purpose'],\n",
       "      dtype='object')"
      ]
     },
     "execution_count": 17,
     "metadata": {},
     "output_type": "execute_result"
    }
   ],
   "source": [
    "data.columns"
   ]
  },
  {
   "cell_type": "code",
   "execution_count": 18,
   "metadata": {},
   "outputs": [],
   "source": [
    "data = data.drop_duplicates().reset_index(drop=True)"
   ]
  },
  {
   "cell_type": "code",
   "execution_count": 19,
   "metadata": {},
   "outputs": [
    {
     "data": {
      "text/plain": [
       "Index(['children', 'days_employed', 'dob_years', 'education', 'education_id',\n",
       "       'family_status', 'family_status_id', 'gender', 'income_type', 'debt',\n",
       "       'total_income', 'purpose'],\n",
       "      dtype='object')"
      ]
     },
     "execution_count": 19,
     "metadata": {},
     "output_type": "execute_result"
    }
   ],
   "source": [
    "data.columns"
   ]
  },
  {
   "cell_type": "code",
   "execution_count": 20,
   "metadata": {},
   "outputs": [
    {
     "data": {
      "text/plain": [
       "0"
      ]
     },
     "execution_count": 20,
     "metadata": {},
     "output_type": "execute_result"
    }
   ],
   "source": [
    "data.duplicated().sum() # повторно проверим наличие дубликатов"
   ]
  },
  {
   "cell_type": "markdown",
   "metadata": {},
   "source": [
    "Теперь попробуем найти неявные дубликаты, которые могут быть спрятаны за некорректным типом данных, разным регистром и тд."
   ]
  },
  {
   "cell_type": "code",
   "execution_count": 21,
   "metadata": {},
   "outputs": [
    {
     "data": {
      "text/plain": [
       "1203      2125\n",
       "327         16\n",
       "133         16\n",
       "438         15\n",
       "204         14\n",
       "          ... \n",
       "8200         1\n",
       "9090         1\n",
       "360849       1\n",
       "2101         1\n",
       "343937       1\n",
       "Name: days_employed, Length: 9086, dtype: int64"
      ]
     },
     "execution_count": 21,
     "metadata": {},
     "output_type": "execute_result"
    }
   ],
   "source": [
    "data['days_employed'].value_counts()"
   ]
  },
  {
   "cell_type": "code",
   "execution_count": 22,
   "metadata": {
    "scrolled": true
   },
   "outputs": [
    {
     "data": {
      "text/plain": [
       "среднее                13705\n",
       "высшее                  4710\n",
       "СРЕДНЕЕ                  772\n",
       "Среднее                  711\n",
       "неоконченное высшее      668\n",
       "ВЫСШЕЕ                   273\n",
       "Высшее                   268\n",
       "начальное                250\n",
       "Неоконченное высшее       47\n",
       "НЕОКОНЧЕННОЕ ВЫСШЕЕ       29\n",
       "НАЧАЛЬНОЕ                 17\n",
       "Начальное                 15\n",
       "ученая степень             4\n",
       "Ученая степень             1\n",
       "УЧЕНАЯ СТЕПЕНЬ             1\n",
       "Name: education, dtype: int64"
      ]
     },
     "execution_count": 22,
     "metadata": {},
     "output_type": "execute_result"
    }
   ],
   "source": [
    "data['education'].value_counts()"
   ]
  },
  {
   "cell_type": "markdown",
   "metadata": {},
   "source": [
    "Видим, что в значениях столбца много дубликатов. Приведем все строки к одному регистру"
   ]
  },
  {
   "cell_type": "code",
   "execution_count": 23,
   "metadata": {},
   "outputs": [
    {
     "name": "stdout",
     "output_type": "stream",
     "text": [
      "среднее                15188\n",
      "высшее                  5251\n",
      "неоконченное высшее      744\n",
      "начальное                282\n",
      "ученая степень             6\n",
      "Name: education, dtype: int64\n"
     ]
    }
   ],
   "source": [
    "data['education'] = data['education'].str.lower()\n",
    "print(data['education'].value_counts())"
   ]
  },
  {
   "cell_type": "markdown",
   "metadata": {},
   "source": [
    "Теперь у нас всего пять значений в столбе \"образование\". Проверим на неявные дубликаты столбец 'education' методом unique():"
   ]
  },
  {
   "cell_type": "code",
   "execution_count": 24,
   "metadata": {},
   "outputs": [
    {
     "data": {
      "text/plain": [
       "array(['высшее', 'среднее', 'неоконченное высшее', 'начальное',\n",
       "       'ученая степень'], dtype=object)"
      ]
     },
     "execution_count": 24,
     "metadata": {},
     "output_type": "execute_result"
    }
   ],
   "source": [
    "data['education'].unique()"
   ]
  },
  {
   "cell_type": "code",
   "execution_count": 25,
   "metadata": {
    "scrolled": false
   },
   "outputs": [
    {
     "name": "stdout",
     "output_type": "stream",
     "text": [
      "женат / замужем          12344\n",
      "гражданский брак          4163\n",
      "Не женат / не замужем     2810\n",
      "в разводе                 1195\n",
      "вдовец / вдова             959\n",
      "Name: family_status, dtype: int64\n"
     ]
    }
   ],
   "source": [
    "print(data['family_status'].value_counts())"
   ]
  },
  {
   "cell_type": "markdown",
   "metadata": {},
   "source": [
    "В столбце 'family_status' у нас все в порядке. Но для визуального удобства тоже приведем все значения к нижнему регистру"
   ]
  },
  {
   "cell_type": "code",
   "execution_count": 26,
   "metadata": {},
   "outputs": [
    {
     "name": "stdout",
     "output_type": "stream",
     "text": [
      "женат / замужем          12344\n",
      "гражданский брак          4163\n",
      "не женат / не замужем     2810\n",
      "в разводе                 1195\n",
      "вдовец / вдова             959\n",
      "Name: family_status, dtype: int64\n"
     ]
    }
   ],
   "source": [
    "data['family_status'] = data['family_status'].str.lower()\n",
    "print(data['family_status'].value_counts())"
   ]
  },
  {
   "cell_type": "code",
   "execution_count": 27,
   "metadata": {},
   "outputs": [
    {
     "name": "stdout",
     "output_type": "stream",
     "text": [
      "F      14189\n",
      "M       7281\n",
      "XNA        1\n",
      "Name: gender, dtype: int64\n"
     ]
    }
   ],
   "source": [
    "print(data['gender'].value_counts())"
   ]
  },
  {
   "cell_type": "markdown",
   "metadata": {},
   "source": [
    "В столбце о доходах оставим два знака после запятой"
   ]
  },
  {
   "cell_type": "code",
   "execution_count": 28,
   "metadata": {},
   "outputs": [
    {
     "data": {
      "text/plain": [
       "0        253875.64\n",
       "1        112080.01\n",
       "2        145885.95\n",
       "3        267628.55\n",
       "4        158616.08\n",
       "           ...    \n",
       "21466    224791.86\n",
       "21467    155999.81\n",
       "21468     89672.56\n",
       "21469    244093.05\n",
       "21470     82047.42\n",
       "Name: total_income, Length: 21471, dtype: float64"
      ]
     },
     "execution_count": 28,
     "metadata": {},
     "output_type": "execute_result"
    }
   ],
   "source": [
    "data['total_income'].round(2)"
   ]
  },
  {
   "cell_type": "code",
   "execution_count": 29,
   "metadata": {},
   "outputs": [
    {
     "name": "stdout",
     "output_type": "stream",
     "text": [
      "сотрудник          11091\n",
      "компаньон           5080\n",
      "пенсионер           3837\n",
      "госслужащий         1457\n",
      "безработный            2\n",
      "предприниматель        2\n",
      "студент                1\n",
      "в декрете              1\n",
      "Name: income_type, dtype: int64\n"
     ]
    }
   ],
   "source": [
    "print(data['income_type'].value_counts())"
   ]
  },
  {
   "cell_type": "code",
   "execution_count": 30,
   "metadata": {
    "scrolled": true
   },
   "outputs": [
    {
     "name": "stdout",
     "output_type": "stream",
     "text": [
      "свадьба                                   793\n",
      "на проведение свадьбы                     773\n",
      "сыграть свадьбу                           769\n",
      "операции с недвижимостью                  675\n",
      "покупка коммерческой недвижимости         662\n",
      "покупка жилья для сдачи                   652\n",
      "операции с жильем                         652\n",
      "операции с коммерческой недвижимостью     650\n",
      "покупка жилья                             646\n",
      "жилье                                     646\n",
      "покупка жилья для семьи                   638\n",
      "строительство собственной недвижимости    635\n",
      "недвижимость                              633\n",
      "операции со своей недвижимостью           627\n",
      "строительство жилой недвижимости          625\n",
      "покупка недвижимости                      621\n",
      "покупка своего жилья                      620\n",
      "строительство недвижимости                619\n",
      "ремонт жилью                              607\n",
      "покупка жилой недвижимости                606\n",
      "на покупку своего автомобиля              505\n",
      "заняться высшим образованием              496\n",
      "автомобиль                                494\n",
      "сделка с подержанным автомобилем          486\n",
      "свой автомобиль                           479\n",
      "на покупку подержанного автомобиля        478\n",
      "автомобили                                478\n",
      "на покупку автомобиля                     472\n",
      "приобретение автомобиля                   461\n",
      "дополнительное образование                460\n",
      "сделка с автомобилем                      455\n",
      "высшее образование                        452\n",
      "образование                               447\n",
      "получение дополнительного образования     447\n",
      "получение образования                     442\n",
      "профильное образование                    436\n",
      "получение высшего образования             426\n",
      "заняться образованием                     408\n",
      "Name: purpose, dtype: int64\n"
     ]
    }
   ],
   "source": [
    "print(data['purpose'].value_counts())"
   ]
  },
  {
   "cell_type": "markdown",
   "metadata": {},
   "source": [
    "В столбце \"purpose\" много похожих значений, которые можно распределить в общие категории."
   ]
  },
  {
   "cell_type": "markdown",
   "metadata": {},
   "source": [
    "**Вывод:** мы избавились от дубликатов в датасете.Причины их возникновения могут быть различны: ручное заполенение датасета, некорректная выгрузка данных, объединение нескольких таблиц. Также скорректировали тип данных в необходимом столбце, заменили значения на корректные."
   ]
  },
  {
   "cell_type": "markdown",
   "metadata": {},
   "source": [
    "## Шаг 3. Лемматизация <a id=\"3id\"></a>"
   ]
  },
  {
   "cell_type": "markdown",
   "metadata": {},
   "source": [
    "Чтобы определить причины взятия кредита, рассмотрим столбец \"purpose\" и проведем процесс лемматизации, который позволит разбить данные в ячейках на категории"
   ]
  },
  {
   "cell_type": "code",
   "execution_count": 31,
   "metadata": {
    "scrolled": true
   },
   "outputs": [
    {
     "data": {
      "text/plain": [
       "свадьба                                   793\n",
       "на проведение свадьбы                     773\n",
       "сыграть свадьбу                           769\n",
       "операции с недвижимостью                  675\n",
       "покупка коммерческой недвижимости         662\n",
       "покупка жилья для сдачи                   652\n",
       "операции с жильем                         652\n",
       "операции с коммерческой недвижимостью     650\n",
       "покупка жилья                             646\n",
       "жилье                                     646\n",
       "покупка жилья для семьи                   638\n",
       "строительство собственной недвижимости    635\n",
       "недвижимость                              633\n",
       "операции со своей недвижимостью           627\n",
       "строительство жилой недвижимости          625\n",
       "покупка недвижимости                      621\n",
       "покупка своего жилья                      620\n",
       "строительство недвижимости                619\n",
       "ремонт жилью                              607\n",
       "покупка жилой недвижимости                606\n",
       "на покупку своего автомобиля              505\n",
       "заняться высшим образованием              496\n",
       "автомобиль                                494\n",
       "сделка с подержанным автомобилем          486\n",
       "свой автомобиль                           479\n",
       "на покупку подержанного автомобиля        478\n",
       "автомобили                                478\n",
       "на покупку автомобиля                     472\n",
       "приобретение автомобиля                   461\n",
       "дополнительное образование                460\n",
       "сделка с автомобилем                      455\n",
       "высшее образование                        452\n",
       "образование                               447\n",
       "получение дополнительного образования     447\n",
       "получение образования                     442\n",
       "профильное образование                    436\n",
       "получение высшего образования             426\n",
       "заняться образованием                     408\n",
       "Name: purpose, dtype: int64"
      ]
     },
     "execution_count": 31,
     "metadata": {},
     "output_type": "execute_result"
    }
   ],
   "source": [
    "purpose = data['purpose'].value_counts()\n",
    "purpose"
   ]
  },
  {
   "cell_type": "markdown",
   "metadata": {},
   "source": [
    "Разобьем данные столбца на четыре логические категории:\n",
    "1. свадьба\n",
    "2. недвижимость\n",
    "3. автомобиль\n",
    "4. образование"
   ]
  },
  {
   "cell_type": "markdown",
   "metadata": {},
   "source": [
    "Лемматизация возможна только для строк. Создадим пустую строку и циклом заполним ее значениями из столбца \"purpose\""
   ]
  },
  {
   "cell_type": "code",
   "execution_count": 32,
   "metadata": {},
   "outputs": [
    {
     "name": "stdout",
     "output_type": "stream",
     "text": [
      "покупка жилья приобретение автомобиля дополнительное образование сыграть свадьбу операции с жильем образование на проведение свадьбы покупка жилья для семьи покупка недвижимости покупка коммерческой недвижимости покупка жилой недвижимости строительство собственной недвижимости недвижимость строительство недвижимости на покупку подержанного автомобиля на покупку своего автомобиля операции с коммерческой недвижимостью строительство жилой недвижимости жилье операции со своей недвижимостью автомобили заняться образованием сделка с подержанным автомобилем получение образования автомобиль свадьба получение дополнительного образования покупка своего жилья операции с недвижимостью получение высшего образования свой автомобиль сделка с автомобилем профильное образование высшее образование покупка жилья для сдачи на покупку автомобиля ремонт жилью заняться высшим образованием \n"
     ]
    }
   ],
   "source": [
    "purpose = data['purpose'].unique()  # заносим в переменную уникальные значения столбца purpose\n",
    "purpose_row = ''\n",
    "\n",
    "\n",
    "for row in purpose:\n",
    "    purpose_row += row + ' '\n",
    "    \n",
    "print(purpose_row)"
   ]
  },
  {
   "cell_type": "code",
   "execution_count": 33,
   "metadata": {},
   "outputs": [
    {
     "name": "stdout",
     "output_type": "stream",
     "text": [
      "Counter({' ': 96, 'покупка': 10, 'недвижимость': 10, 'автомобиль': 9, 'образование': 9, 'жилье': 7, 'с': 5, 'операция': 4, 'на': 4, 'свой': 4, 'свадьба': 3, 'строительство': 3, 'получение': 3, 'высокий': 3, 'дополнительный': 2, 'для': 2, 'коммерческий': 2, 'жилой': 2, 'подержать': 2, 'заниматься': 2, 'сделка': 2, 'приобретение': 1, 'сыграть': 1, 'проведение': 1, 'семья': 1, 'собственный': 1, 'со': 1, 'профильный': 1, 'сдача': 1, 'ремонт': 1, ' \\n': 1})\n"
     ]
    }
   ],
   "source": [
    "lemmas = m.lemmatize(purpose_row)\n",
    "\n",
    "from collections import Counter\n",
    "print(Counter(lemmas))"
   ]
  },
  {
   "cell_type": "markdown",
   "metadata": {},
   "source": [
    "Произведена лемматизация значений столбца. На ее основе можем категоризировать данные"
   ]
  },
  {
   "cell_type": "markdown",
   "metadata": {},
   "source": [
    "## Шаг 4. Категоризация данных <a id=\"4id\"></a>"
   ]
  },
  {
   "cell_type": "markdown",
   "metadata": {},
   "source": [
    "### 4.1 Создание категорий <a id=\"4.1id\"></a>"
   ]
  },
  {
   "cell_type": "markdown",
   "metadata": {},
   "source": [
    "Создадим четыре списка с выявленными раннее категориями и внесем туда леммы (значения), которые соответствуют конкретной категории"
   ]
  },
  {
   "cell_type": "code",
   "execution_count": 34,
   "metadata": {},
   "outputs": [],
   "source": [
    "wedding = ['свадьба', 'сыграть']\n",
    "real_estate = ['жилье','недвижимость', 'строительство', 'жилой', 'сдача', 'ремонт']\n",
    "car = ['автомобиль', 'подержать']\n",
    "education = ['образование', 'профильный']"
   ]
  },
  {
   "cell_type": "code",
   "execution_count": 35,
   "metadata": {},
   "outputs": [],
   "source": [
    "# создадим функцию, которая определяет категорию по лемме\n",
    "\n",
    "def purpose_category(purpose):\n",
    "    lemmas = m.lemmatize(purpose)\n",
    "    for lemma in lemmas:\n",
    "        if lemma in wedding:\n",
    "            return 'свадьба'\n",
    "        if lemma in real_estate:\n",
    "            return 'недвижимость'\n",
    "        if lemma in car:\n",
    "            return 'автомобиль'\n",
    "        if lemma in education:\n",
    "            return 'образование'   "
   ]
  },
  {
   "cell_type": "code",
   "execution_count": 36,
   "metadata": {
    "scrolled": true
   },
   "outputs": [],
   "source": [
    "# создадим новый столбец, куда внесем категорию цели взятия кредита клиента\n",
    "\n",
    "data['purpose_category'] = data['purpose'].apply(purpose_category)"
   ]
  },
  {
   "cell_type": "code",
   "execution_count": 37,
   "metadata": {},
   "outputs": [
    {
     "data": {
      "text/plain": [
       "недвижимость    10814\n",
       "автомобиль       4308\n",
       "образование      4014\n",
       "свадьба          2335\n",
       "Name: purpose_category, dtype: int64"
      ]
     },
     "execution_count": 37,
     "metadata": {},
     "output_type": "execute_result"
    }
   ],
   "source": [
    "# посчитаем количество каждой категории\n",
    "\n",
    "data['purpose_category'].value_counts()"
   ]
  },
  {
   "cell_type": "markdown",
   "metadata": {},
   "source": [
    "Чаще всего клиенты берут кредит для преобретения недвижимости"
   ]
  },
  {
   "cell_type": "markdown",
   "metadata": {},
   "source": [
    "### 4.2 Категоризация по наличию детей <a id=\"4.2id\"></a>"
   ]
  },
  {
   "cell_type": "markdown",
   "metadata": {},
   "source": [
    "Проведем категоризацию по количеству детей в семье.\n",
    "Выделим \"бездетная\", \"малодетная\" и \"многодетная\""
   ]
  },
  {
   "cell_type": "code",
   "execution_count": 38,
   "metadata": {},
   "outputs": [],
   "source": [
    "# создаем функцию, которая категоризирует семьи по количеству детей\n",
    "\n",
    "def children_category(children):\n",
    "    \n",
    "    if children == 0:\n",
    "        return 'бездетная'\n",
    "    if 1 <= children <= 2:\n",
    "        return 'малодетная'\n",
    "    return 'многодетная'"
   ]
  },
  {
   "cell_type": "code",
   "execution_count": 39,
   "metadata": {},
   "outputs": [],
   "source": [
    "data['children_category'] = data['children'].apply(children_category)"
   ]
  },
  {
   "cell_type": "code",
   "execution_count": 40,
   "metadata": {},
   "outputs": [
    {
     "name": "stdout",
     "output_type": "stream",
     "text": [
      "бездетная      14107\n",
      "малодетная      6908\n",
      "многодетная      456\n",
      "Name: children_category, dtype: int64\n"
     ]
    }
   ],
   "source": [
    "print(data['children_category'].value_counts())"
   ]
  },
  {
   "cell_type": "markdown",
   "metadata": {},
   "source": [
    "Большая часть клиентов банка - бездетные. Вдвое меньше количества клиентов, у которых 1-2 ребенка"
   ]
  },
  {
   "cell_type": "markdown",
   "metadata": {},
   "source": [
    "### 4.3 Категоризация по уровню дохода <a id=\"4.3id\"></a>"
   ]
  },
  {
   "cell_type": "markdown",
   "metadata": {},
   "source": [
    "Чтобы разделить диапазон дохода на категории, найдем минимальный, максимальный и медианный"
   ]
  },
  {
   "cell_type": "code",
   "execution_count": 41,
   "metadata": {},
   "outputs": [
    {
     "data": {
      "text/plain": [
       "count      21471.0\n",
       "mean      165210.0\n",
       "std        97984.0\n",
       "min        20667.0\n",
       "25%       107655.0\n",
       "50%       145018.0\n",
       "75%       195752.0\n",
       "max      2265604.0\n",
       "Name: total_income, dtype: float64"
      ]
     },
     "execution_count": 41,
     "metadata": {},
     "output_type": "execute_result"
    }
   ],
   "source": [
    "data['total_income'].describe().round()"
   ]
  },
  {
   "cell_type": "markdown",
   "metadata": {},
   "source": [
    "Напишем функцию, которая разделит клиентов на категории в зависимости от получаемого дохода. Будем отталкиваться от квартилей, которые представлены в методе describe(). Предположим, что данные из датасета принадлежат гражданам одной из развитых стран, где бОльшая часть населения принадлежит к среднему классу (между 25% и 75%). Однако для более точной сегментации пригодились бы данные о МРОТ и других экономических показателей того региона, чьи данные представлены, а также распределение по классам. "
   ]
  },
  {
   "cell_type": "code",
   "execution_count": 42,
   "metadata": {},
   "outputs": [],
   "source": [
    "def total_income_category(total_income):\n",
    "    if total_income < 107655:\n",
    "        return \"низкий доход\"\n",
    "    if 107655 <= total_income <= 195752:\n",
    "        return \"средний доход\"\n",
    "    return \"высокий доход\""
   ]
  },
  {
   "cell_type": "code",
   "execution_count": 43,
   "metadata": {},
   "outputs": [
    {
     "name": "stdout",
     "output_type": "stream",
     "text": [
      "средний доход    10735\n",
      "высокий доход     5368\n",
      "низкий доход      5368\n",
      "Name: total_income_category, dtype: int64\n"
     ]
    }
   ],
   "source": [
    "# добавим отдельный столбец для категорий по доходу\n",
    "\n",
    "data['total_income_category'] = data['total_income'].apply(total_income_category)\n",
    "print(data['total_income_category'].value_counts())"
   ]
  },
  {
   "cell_type": "markdown",
   "metadata": {},
   "source": [
    "Большая часть заемщиков  - это люди со средним доходом."
   ]
  },
  {
   "cell_type": "markdown",
   "metadata": {},
   "source": [
    "## Шаг 5. Поиск влияния факторов на погашения кредита в срок <a id=\"5id\"></a>"
   ]
  },
  {
   "cell_type": "markdown",
   "metadata": {},
   "source": [
    "На основе полученного анализа ответим на поставленные вопросы, подкрепив выводы графиками."
   ]
  },
  {
   "cell_type": "markdown",
   "metadata": {},
   "source": [
    "### 5.1 Есть ли зависимость между наличием детей и возвратом кредита в срок? <a id=\"5.1id\"></a>"
   ]
  },
  {
   "cell_type": "code",
   "execution_count": 44,
   "metadata": {},
   "outputs": [
    {
     "data": {
      "image/png": "[encoded data removed]",
      "text/plain": [
       "<Figure size 432x288 with 1 Axes>"
      ]
     },
     "metadata": {
      "needs_background": "light"
     },
     "output_type": "display_data"
    }
   ],
   "source": [
    "seaborn.barplot(x='children_category', y='debt', data=data).set_title('Зависимость наличия детей от погашения кредита в срок');"
   ]
  },
  {
   "cell_type": "code",
   "execution_count": 45,
   "metadata": {},
   "outputs": [
    {
     "data": {
      "text/plain": [
       "children_category\n",
       "бездетная      0.075353\n",
       "малодетная     0.092501\n",
       "многодетная    0.085526\n",
       "Name: debt, dtype: float64"
      ]
     },
     "execution_count": 45,
     "metadata": {},
     "output_type": "execute_result"
    }
   ],
   "source": [
    "data.groupby('children_category')['debt'].mean()"
   ]
  },
  {
   "cell_type": "markdown",
   "metadata": {},
   "source": [
    "Как видим, семьи без детей чаще отдают кредиты в срок, так как суммарные расходы семей, где дети есть, больше, чем у бездетных семей."
   ]
  },
  {
   "cell_type": "markdown",
   "metadata": {},
   "source": [
    "### 5.2 Есть ли зависимость между семейным положением и возвратом кредита в срок? <a id=\"5.2id\"></a>"
   ]
  },
  {
   "cell_type": "code",
   "execution_count": 46,
   "metadata": {},
   "outputs": [
    {
     "data": {
      "image/png": "[encoded data removed]",
      "text/plain": [
       "<Figure size 432x288 with 1 Axes>"
      ]
     },
     "metadata": {
      "needs_background": "light"
     },
     "output_type": "display_data"
    }
   ],
   "source": [
    "seaborn.barplot(x='debt', y='family_status', data=data).set_title('Зависимость семейного положения от погашение кредита в срок');"
   ]
  },
  {
   "cell_type": "code",
   "execution_count": 47,
   "metadata": {},
   "outputs": [
    {
     "data": {
      "text/plain": [
       "family_status\n",
       "в разводе                0.071130\n",
       "вдовец / вдова           0.065693\n",
       "гражданский брак         0.093202\n",
       "женат / замужем          0.075421\n",
       "не женат / не замужем    0.097509\n",
       "Name: debt, dtype: float64"
      ]
     },
     "execution_count": 47,
     "metadata": {},
     "output_type": "execute_result"
    }
   ],
   "source": [
    "data.groupby('family_status')['debt'].mean()"
   ]
  },
  {
   "cell_type": "markdown",
   "metadata": {},
   "source": [
    "Клиенты, не состоящие в официальном браке чаще отдают кредиты вовремя. Это может быть связано с тем, что у таких пар  чаще бывает раздельный бюджет. Люди рассчитывают больше на себя и ограничены собственным доходом, не охотно берут долгосрочне кредиты, которые сложно возвращать."
   ]
  },
  {
   "cell_type": "markdown",
   "metadata": {},
   "source": [
    "### 5.3 Есть ли зависимость между уровнем дохода и возвратом кредита в срок? <a id=\"5.3id\"></a>"
   ]
  },
  {
   "cell_type": "markdown",
   "metadata": {},
   "source": [
    "Покажем численно и визуально зависимость уровня дохода от своевременного погашения кредита"
   ]
  },
  {
   "cell_type": "code",
   "execution_count": 48,
   "metadata": {},
   "outputs": [
    {
     "data": {
      "text/plain": [
       "total_income_category\n",
       "высокий доход    0.071349\n",
       "низкий доход     0.079545\n",
       "средний доход    0.086726\n",
       "Name: debt, dtype: float64"
      ]
     },
     "execution_count": 48,
     "metadata": {},
     "output_type": "execute_result"
    }
   ],
   "source": [
    "data.groupby('total_income_category')['debt'].mean()"
   ]
  },
  {
   "cell_type": "code",
   "execution_count": 49,
   "metadata": {},
   "outputs": [
    {
     "data": {
      "image/png": "[encoded data removed]",
      "text/plain": [
       "<Figure size 432x288 with 1 Axes>"
      ]
     },
     "metadata": {
      "needs_background": "light"
     },
     "output_type": "display_data"
    }
   ],
   "source": [
    "seaborn.barplot(x='total_income_category', y='debt', data=data).set_title('Зависимость дохода от погашение кредита в срок');"
   ]
  },
  {
   "cell_type": "markdown",
   "metadata": {},
   "source": [
    "По группировке и графику видно, что клиенты со средним и высоким доходами более склонны выплачивать кредит в срок (почти на 20% чаще, чем с низким). Вероятно, получаемый ими доход позволяет откладывать больше средств для погашения кредита, в то время как клиенты с низким доходом вынуждены большую часть средств тратить на товары и услуги первой необходимости.\n",
    "Попробуем с помощью сводной таблицы увидеть еще одну зависимость между образованием и своевременной выплатой кредита."
   ]
  },
  {
   "cell_type": "code",
   "execution_count": 50,
   "metadata": {},
   "outputs": [
    {
     "data": {
      "text/html": [
       "<div>\n",
       "<style scoped>\n",
       "    .dataframe tbody tr th:only-of-type {\n",
       "        vertical-align: middle;\n",
       "    }\n",
       "\n",
       "    .dataframe tbody tr th {\n",
       "        vertical-align: top;\n",
       "    }\n",
       "\n",
       "    .dataframe thead th {\n",
       "        text-align: right;\n",
       "    }\n",
       "</style>\n",
       "<table border=\"1\" class=\"dataframe\">\n",
       "  <thead>\n",
       "    <tr style=\"text-align: right;\">\n",
       "      <th>education</th>\n",
       "      <th>высшее</th>\n",
       "      <th>начальное</th>\n",
       "      <th>неоконченное высшее</th>\n",
       "      <th>среднее</th>\n",
       "      <th>ученая степень</th>\n",
       "    </tr>\n",
       "    <tr>\n",
       "      <th>total_income_category</th>\n",
       "      <th></th>\n",
       "      <th></th>\n",
       "      <th></th>\n",
       "      <th></th>\n",
       "      <th></th>\n",
       "    </tr>\n",
       "  </thead>\n",
       "  <tbody>\n",
       "    <tr>\n",
       "      <th>высокий доход</th>\n",
       "      <td>0.046629</td>\n",
       "      <td>0.095238</td>\n",
       "      <td>0.123932</td>\n",
       "      <td>0.082798</td>\n",
       "      <td>0.0</td>\n",
       "    </tr>\n",
       "    <tr>\n",
       "      <th>низкий доход</th>\n",
       "      <td>0.057292</td>\n",
       "      <td>0.063636</td>\n",
       "      <td>0.076389</td>\n",
       "      <td>0.084005</td>\n",
       "      <td>0.0</td>\n",
       "    </tr>\n",
       "    <tr>\n",
       "      <th>средний доход</th>\n",
       "      <td>0.056574</td>\n",
       "      <td>0.153846</td>\n",
       "      <td>0.076503</td>\n",
       "      <td>0.095898</td>\n",
       "      <td>0.0</td>\n",
       "    </tr>\n",
       "  </tbody>\n",
       "</table>\n",
       "</div>"
      ],
      "text/plain": [
       "education                высшее  начальное  неоконченное высшее   среднее  \\\n",
       "total_income_category                                                       \n",
       "высокий доход          0.046629   0.095238             0.123932  0.082798   \n",
       "низкий доход           0.057292   0.063636             0.076389  0.084005   \n",
       "средний доход          0.056574   0.153846             0.076503  0.095898   \n",
       "\n",
       "education              ученая степень  \n",
       "total_income_category                  \n",
       "высокий доход                     0.0  \n",
       "низкий доход                      0.0  \n",
       "средний доход                     0.0  "
      ]
     },
     "execution_count": 50,
     "metadata": {},
     "output_type": "execute_result"
    }
   ],
   "source": [
    "data_pivot_by_education = data.pivot_table(index=['total_income_category'], columns='education', values='debt', aggfunc='mean')\n",
    "data_pivot_by_education"
   ]
  },
  {
   "cell_type": "markdown",
   "metadata": {},
   "source": [
    "Как видим, образование также косвенно влияет на погашение кредита в срок. Чем оно выше, тем в среднем выше доход у заемщиков, тем они быстрее погашают задолжность перед банком. Таким образом, банкам также стоит учитывать уровень образования у своих клиентов."
   ]
  },
  {
   "cell_type": "markdown",
   "metadata": {},
   "source": [
    "### 5.4 Как разные цели кредита влияют на его возврат в срок? <a id=\"5.4id\"></a>"
   ]
  },
  {
   "cell_type": "code",
   "execution_count": 51,
   "metadata": {},
   "outputs": [
    {
     "data": {
      "image/png": "[encoded data removed]",
      "text/plain": [
       "<Figure size 432x288 with 1 Axes>"
      ]
     },
     "metadata": {
      "needs_background": "light"
     },
     "output_type": "display_data"
    }
   ],
   "source": [
    "seaborn.barplot(x='purpose_category', y='debt', data=data).set_title('Зависимость категории кредита от погашение его в срок');"
   ]
  },
  {
   "cell_type": "code",
   "execution_count": 52,
   "metadata": {},
   "outputs": [
    {
     "data": {
      "text/plain": [
       "purpose_category\n",
       "автомобиль      0.093547\n",
       "недвижимость    0.072314\n",
       "образование     0.092177\n",
       "свадьба         0.079657\n",
       "Name: debt, dtype: float64"
      ]
     },
     "execution_count": 52,
     "metadata": {},
     "output_type": "execute_result"
    }
   ],
   "source": [
    "data.groupby('purpose_category')['debt'].mean()"
   ]
  },
  {
   "cell_type": "markdown",
   "metadata": {},
   "source": [
    "Чаще всего в срок заемщики погашают кредиты за покупку автомобиля и оплату образования. Это связано с более низкой процентной ставкой на данные категории, а также сроком их выплаты, в отличие от недвижимости. "
   ]
  },
  {
   "cell_type": "markdown",
   "metadata": {},
   "source": [
    "### Шаг 6. Итоги исследования:  <a id=\"6id\"></a>"
   ]
  },
  {
   "cell_type": "markdown",
   "metadata": {},
   "source": [
    "На основе данных о клиентах банка нам удалось провести анализ кредитоспособности заемщиков. Главной задачей было выяснить, как влияют такие показатели, как семейное положение и количество детей на погашение кредита в срок. \n",
    "\n",
    "Выяснили, что клиенты без детей чаще отдают долг банку вовремя. Это связано с тем, что, как правило, сумарные расходы семей с детьми больше, чем у бездетных - свободных денежных средств для оплаты кредита становится меньше.\n",
    " \n",
    "Анализ показал, что люди не состоящие в официальном браке, а также холостые чаще выплачивают кредит в срок. Скорее всего это связано с большей финансовой автономностью, раздельными бюджетами и невысоким желанием рисковать, когда ответственность за свое благополучие лежит только на самом человеке. Отсутствие семьи так же снижает риск появления больших и непредвиденных расходов.\n",
    "\n",
    "Были проверены связи между своевременной выплатой кредита, уровнем дохода, а так же причиной взятия кредита.\n",
    "Чем выше уровень дохода, тем чаще заемщики отдают долг в срок. Цели кредита тоже влияют на срок погащения кредита. Кредиты за покупку автомобиля и образование отдаются чаще вовремя, чем кредиты на недвижимость и свадьбу. Способность выплачивать кредит за недвижимость может меняться, так как больше растянута во времени, чем кредиты по остальным категориям."
   ]
  },
  {
   "cell_type": "code",
   "execution_count": null,
   "metadata": {},
   "outputs": [],
   "source": []
  }
 ],
 "metadata": {
  "ExecuteTimeLog": [
   {
    "duration": 1577,
    "start_time": "2022-01-24T07:54:36.095Z"
   },
   {
    "duration": 15,
    "start_time": "2022-01-24T07:54:37.676Z"
   },
   {
    "duration": 67,
    "start_time": "2022-01-24T07:54:37.695Z"
   },
   {
    "duration": 13,
    "start_time": "2022-01-24T07:54:37.766Z"
   },
   {
    "duration": 19,
    "start_time": "2022-01-24T07:54:37.781Z"
   },
   {
    "duration": 29,
    "start_time": "2022-01-24T07:54:37.823Z"
   },
   {
    "duration": 10,
    "start_time": "2022-01-24T07:54:37.855Z"
   },
   {
    "duration": 8,
    "start_time": "2022-01-24T07:54:37.870Z"
   },
   {
    "duration": 8,
    "start_time": "2022-01-24T07:54:37.882Z"
   },
   {
    "duration": 24,
    "start_time": "2022-01-24T07:54:37.924Z"
   },
   {
    "duration": 27,
    "start_time": "2022-01-24T07:54:37.950Z"
   },
   {
    "duration": 52,
    "start_time": "2022-01-24T07:54:37.980Z"
   },
   {
    "duration": 8,
    "start_time": "2022-01-24T07:54:38.035Z"
   },
   {
    "duration": 8,
    "start_time": "2022-01-24T07:54:38.045Z"
   },
   {
    "duration": 21,
    "start_time": "2022-01-24T07:54:38.055Z"
   },
   {
    "duration": 49,
    "start_time": "2022-01-24T07:54:38.078Z"
   },
   {
    "duration": 22,
    "start_time": "2022-01-24T07:54:38.130Z"
   },
   {
    "duration": 10,
    "start_time": "2022-01-24T07:54:38.155Z"
   },
   {
    "duration": 14,
    "start_time": "2022-01-24T07:54:38.167Z"
   },
   {
    "duration": 45,
    "start_time": "2022-01-24T07:54:38.184Z"
   },
   {
    "duration": 12,
    "start_time": "2022-01-24T07:54:38.231Z"
   },
   {
    "duration": 7,
    "start_time": "2022-01-24T07:54:38.246Z"
   },
   {
    "duration": 846,
    "start_time": "2022-01-24T07:54:38.259Z"
   },
   {
    "duration": 14,
    "start_time": "2022-01-24T07:54:39.109Z"
   },
   {
    "duration": 7,
    "start_time": "2022-01-24T07:54:39.126Z"
   },
   {
    "duration": 4125,
    "start_time": "2022-01-24T07:54:39.135Z"
   },
   {
    "duration": 9,
    "start_time": "2022-01-24T07:54:43.262Z"
   },
   {
    "duration": 5,
    "start_time": "2022-01-24T07:54:43.274Z"
   },
   {
    "duration": 63,
    "start_time": "2022-01-24T07:54:43.281Z"
   },
   {
    "duration": 44,
    "start_time": "2022-01-24T07:54:43.347Z"
   },
   {
    "duration": 30,
    "start_time": "2022-01-24T07:54:43.393Z"
   },
   {
    "duration": 6,
    "start_time": "2022-01-24T07:54:43.425Z"
   },
   {
    "duration": 8,
    "start_time": "2022-01-24T07:54:43.433Z"
   },
   {
    "duration": 5,
    "start_time": "2022-01-24T07:54:43.444Z"
   },
   {
    "duration": 20,
    "start_time": "2022-01-24T07:54:43.452Z"
   },
   {
    "duration": 783,
    "start_time": "2022-01-24T07:54:43.475Z"
   },
   {
    "duration": 20,
    "start_time": "2022-01-24T07:54:44.261Z"
   },
   {
    "duration": 921,
    "start_time": "2022-01-24T07:54:44.283Z"
   },
   {
    "duration": 18,
    "start_time": "2022-01-24T07:54:45.206Z"
   },
   {
    "duration": 8,
    "start_time": "2022-01-24T07:54:45.226Z"
   },
   {
    "duration": 838,
    "start_time": "2022-01-24T07:54:45.236Z"
   },
   {
    "duration": 47,
    "start_time": "2022-01-24T07:54:46.076Z"
   },
   {
    "duration": 911,
    "start_time": "2022-01-24T07:54:46.125Z"
   },
   {
    "duration": 11,
    "start_time": "2022-01-24T07:54:47.039Z"
   },
   {
    "duration": 31,
    "start_time": "2022-01-24T08:03:49.072Z"
   },
   {
    "duration": 30,
    "start_time": "2022-01-24T08:07:24.295Z"
   },
   {
    "duration": 1984,
    "start_time": "2022-01-24T08:08:23.862Z"
   },
   {
    "duration": 14,
    "start_time": "2022-01-24T08:08:25.848Z"
   },
   {
    "duration": 71,
    "start_time": "2022-01-24T08:08:25.864Z"
   },
   {
    "duration": 11,
    "start_time": "2022-01-24T08:08:25.938Z"
   },
   {
    "duration": 9,
    "start_time": "2022-01-24T08:08:25.951Z"
   },
   {
    "duration": 14,
    "start_time": "2022-01-24T08:08:25.962Z"
   },
   {
    "duration": 7,
    "start_time": "2022-01-24T08:08:25.979Z"
   },
   {
    "duration": 26,
    "start_time": "2022-01-24T08:08:26.025Z"
   },
   {
    "duration": 7,
    "start_time": "2022-01-24T08:08:26.053Z"
   },
   {
    "duration": 8,
    "start_time": "2022-01-24T08:08:26.063Z"
   },
   {
    "duration": 57,
    "start_time": "2022-01-24T08:08:26.073Z"
   },
   {
    "duration": 25,
    "start_time": "2022-01-24T08:08:26.132Z"
   },
   {
    "duration": 23,
    "start_time": "2022-01-24T08:08:26.160Z"
   },
   {
    "duration": 41,
    "start_time": "2022-01-24T08:08:26.186Z"
   },
   {
    "duration": 7,
    "start_time": "2022-01-24T08:08:26.229Z"
   },
   {
    "duration": 23,
    "start_time": "2022-01-24T08:08:26.238Z"
   },
   {
    "duration": 8,
    "start_time": "2022-01-24T08:08:26.263Z"
   },
   {
    "duration": 67,
    "start_time": "2022-01-24T08:08:26.274Z"
   },
   {
    "duration": 9,
    "start_time": "2022-01-24T08:08:26.343Z"
   },
   {
    "duration": 11,
    "start_time": "2022-01-24T08:08:26.354Z"
   },
   {
    "duration": 8,
    "start_time": "2022-01-24T08:08:26.368Z"
   },
   {
    "duration": 70,
    "start_time": "2022-01-24T08:08:26.379Z"
   },
   {
    "duration": 9,
    "start_time": "2022-01-24T08:08:26.454Z"
   },
   {
    "duration": 8,
    "start_time": "2022-01-24T08:08:26.466Z"
   },
   {
    "duration": 893,
    "start_time": "2022-01-24T08:08:26.476Z"
   },
   {
    "duration": 5,
    "start_time": "2022-01-24T08:08:27.372Z"
   },
   {
    "duration": 7,
    "start_time": "2022-01-24T08:08:27.379Z"
   },
   {
    "duration": 3818,
    "start_time": "2022-01-24T08:08:27.388Z"
   },
   {
    "duration": 18,
    "start_time": "2022-01-24T08:08:31.209Z"
   },
   {
    "duration": 17,
    "start_time": "2022-01-24T08:08:31.231Z"
   },
   {
    "duration": 43,
    "start_time": "2022-01-24T08:08:31.250Z"
   },
   {
    "duration": 52,
    "start_time": "2022-01-24T08:08:31.295Z"
   },
   {
    "duration": 6,
    "start_time": "2022-01-24T08:08:31.349Z"
   },
   {
    "duration": 7,
    "start_time": "2022-01-24T08:08:31.357Z"
   },
   {
    "duration": 12,
    "start_time": "2022-01-24T08:08:31.366Z"
   },
   {
    "duration": 43,
    "start_time": "2022-01-24T08:08:31.380Z"
   },
   {
    "duration": 45,
    "start_time": "2022-01-24T08:08:31.425Z"
   },
   {
    "duration": 703,
    "start_time": "2022-01-24T08:08:31.473Z"
   },
   {
    "duration": 19,
    "start_time": "2022-01-24T08:08:32.178Z"
   },
   {
    "duration": 910,
    "start_time": "2022-01-24T08:08:32.199Z"
   },
   {
    "duration": 13,
    "start_time": "2022-01-24T08:08:33.112Z"
   },
   {
    "duration": 9,
    "start_time": "2022-01-24T08:08:33.127Z"
   },
   {
    "duration": 835,
    "start_time": "2022-01-24T08:08:33.138Z"
   },
   {
    "duration": 30,
    "start_time": "2022-01-24T08:08:33.975Z"
   },
   {
    "duration": 878,
    "start_time": "2022-01-24T08:08:34.007Z"
   },
   {
    "duration": 9,
    "start_time": "2022-01-24T08:08:34.888Z"
   },
   {
    "duration": 1567,
    "start_time": "2022-01-24T08:10:02.032Z"
   },
   {
    "duration": 14,
    "start_time": "2022-01-24T08:10:03.602Z"
   },
   {
    "duration": 50,
    "start_time": "2022-01-24T08:10:03.619Z"
   },
   {
    "duration": 11,
    "start_time": "2022-01-24T08:10:03.671Z"
   },
   {
    "duration": 7,
    "start_time": "2022-01-24T08:10:03.685Z"
   },
   {
    "duration": 14,
    "start_time": "2022-01-24T08:10:03.694Z"
   },
   {
    "duration": 8,
    "start_time": "2022-01-24T08:10:03.723Z"
   },
   {
    "duration": 35,
    "start_time": "2022-01-24T08:10:03.734Z"
   },
   {
    "duration": 6,
    "start_time": "2022-01-24T08:10:03.773Z"
   },
   {
    "duration": 9,
    "start_time": "2022-01-24T08:10:03.782Z"
   },
   {
    "duration": 29,
    "start_time": "2022-01-24T08:10:03.793Z"
   },
   {
    "duration": 25,
    "start_time": "2022-01-24T08:10:03.824Z"
   },
   {
    "duration": 23,
    "start_time": "2022-01-24T08:10:03.851Z"
   },
   {
    "duration": 7,
    "start_time": "2022-01-24T08:10:03.876Z"
   },
   {
    "duration": 7,
    "start_time": "2022-01-24T08:10:03.886Z"
   },
   {
    "duration": 30,
    "start_time": "2022-01-24T08:10:03.895Z"
   },
   {
    "duration": 8,
    "start_time": "2022-01-24T08:10:03.927Z"
   },
   {
    "duration": 30,
    "start_time": "2022-01-24T08:10:03.937Z"
   },
   {
    "duration": 11,
    "start_time": "2022-01-24T08:10:03.969Z"
   },
   {
    "duration": 13,
    "start_time": "2022-01-24T08:10:03.983Z"
   },
   {
    "duration": 11,
    "start_time": "2022-01-24T08:10:03.999Z"
   },
   {
    "duration": 37,
    "start_time": "2022-01-24T08:10:04.012Z"
   },
   {
    "duration": 9,
    "start_time": "2022-01-24T08:10:04.052Z"
   },
   {
    "duration": 13,
    "start_time": "2022-01-24T08:10:04.064Z"
   },
   {
    "duration": 1472,
    "start_time": "2022-01-24T08:10:04.080Z"
   },
   {
    "duration": 4,
    "start_time": "2022-01-24T08:10:05.555Z"
   },
   {
    "duration": 60,
    "start_time": "2022-01-24T08:10:05.564Z"
   },
   {
    "duration": 4378,
    "start_time": "2022-01-24T08:10:05.627Z"
   },
   {
    "duration": 21,
    "start_time": "2022-01-24T08:10:10.008Z"
   },
   {
    "duration": 8,
    "start_time": "2022-01-24T08:10:10.031Z"
   },
   {
    "duration": 41,
    "start_time": "2022-01-24T08:10:10.041Z"
   },
   {
    "duration": 64,
    "start_time": "2022-01-24T08:10:10.085Z"
   },
   {
    "duration": 6,
    "start_time": "2022-01-24T08:10:10.152Z"
   },
   {
    "duration": 6,
    "start_time": "2022-01-24T08:10:10.161Z"
   },
   {
    "duration": 6,
    "start_time": "2022-01-24T08:10:10.170Z"
   },
   {
    "duration": 45,
    "start_time": "2022-01-24T08:10:10.179Z"
   },
   {
    "duration": 19,
    "start_time": "2022-01-24T08:10:10.227Z"
   },
   {
    "duration": 721,
    "start_time": "2022-01-24T08:10:10.248Z"
   },
   {
    "duration": 20,
    "start_time": "2022-01-24T08:10:10.972Z"
   },
   {
    "duration": 956,
    "start_time": "2022-01-24T08:10:10.994Z"
   },
   {
    "duration": 10,
    "start_time": "2022-01-24T08:10:11.952Z"
   },
   {
    "duration": 9,
    "start_time": "2022-01-24T08:10:11.965Z"
   },
   {
    "duration": 884,
    "start_time": "2022-01-24T08:10:11.977Z"
   },
   {
    "duration": 32,
    "start_time": "2022-01-24T08:10:12.864Z"
   },
   {
    "duration": 955,
    "start_time": "2022-01-24T08:10:12.898Z"
   },
   {
    "duration": 10,
    "start_time": "2022-01-24T08:10:13.856Z"
   },
   {
    "duration": 2042,
    "start_time": "2022-01-24T08:11:47.295Z"
   },
   {
    "duration": 14,
    "start_time": "2022-01-24T08:11:49.340Z"
   },
   {
    "duration": 68,
    "start_time": "2022-01-24T08:11:49.357Z"
   },
   {
    "duration": 11,
    "start_time": "2022-01-24T08:11:49.428Z"
   },
   {
    "duration": 8,
    "start_time": "2022-01-24T08:11:49.442Z"
   },
   {
    "duration": 13,
    "start_time": "2022-01-24T08:11:49.452Z"
   },
   {
    "duration": 8,
    "start_time": "2022-01-24T08:11:49.468Z"
   },
   {
    "duration": 68,
    "start_time": "2022-01-24T08:11:49.479Z"
   },
   {
    "duration": 7,
    "start_time": "2022-01-24T08:11:49.549Z"
   },
   {
    "duration": 7,
    "start_time": "2022-01-24T08:11:49.558Z"
   },
   {
    "duration": 21,
    "start_time": "2022-01-24T08:11:49.567Z"
   },
   {
    "duration": 25,
    "start_time": "2022-01-24T08:11:49.624Z"
   },
   {
    "duration": 21,
    "start_time": "2022-01-24T08:11:49.652Z"
   },
   {
    "duration": 8,
    "start_time": "2022-01-24T08:11:49.675Z"
   },
   {
    "duration": 39,
    "start_time": "2022-01-24T08:11:49.686Z"
   },
   {
    "duration": 22,
    "start_time": "2022-01-24T08:11:49.727Z"
   },
   {
    "duration": 7,
    "start_time": "2022-01-24T08:11:49.751Z"
   },
   {
    "duration": 25,
    "start_time": "2022-01-24T08:11:49.761Z"
   },
   {
    "duration": 38,
    "start_time": "2022-01-24T08:11:49.788Z"
   },
   {
    "duration": 8,
    "start_time": "2022-01-24T08:11:49.828Z"
   },
   {
    "duration": 10,
    "start_time": "2022-01-24T08:11:49.838Z"
   },
   {
    "duration": 83,
    "start_time": "2022-01-24T08:11:49.850Z"
   },
   {
    "duration": 10,
    "start_time": "2022-01-24T08:11:49.937Z"
   },
   {
    "duration": 7,
    "start_time": "2022-01-24T08:11:49.950Z"
   },
   {
    "duration": 887,
    "start_time": "2022-01-24T08:11:49.960Z"
   },
   {
    "duration": 4,
    "start_time": "2022-01-24T08:11:50.850Z"
   },
   {
    "duration": 8,
    "start_time": "2022-01-24T08:11:50.856Z"
   },
   {
    "duration": 3968,
    "start_time": "2022-01-24T08:11:50.866Z"
   },
   {
    "duration": 10,
    "start_time": "2022-01-24T08:11:54.836Z"
   },
   {
    "duration": 10,
    "start_time": "2022-01-24T08:11:54.848Z"
   },
   {
    "duration": 46,
    "start_time": "2022-01-24T08:11:54.860Z"
   },
   {
    "duration": 39,
    "start_time": "2022-01-24T08:11:54.924Z"
   },
   {
    "duration": 6,
    "start_time": "2022-01-24T08:11:54.965Z"
   },
   {
    "duration": 5,
    "start_time": "2022-01-24T08:11:54.974Z"
   },
   {
    "duration": 43,
    "start_time": "2022-01-24T08:11:54.982Z"
   },
   {
    "duration": 3,
    "start_time": "2022-01-24T08:11:55.028Z"
   },
   {
    "duration": 19,
    "start_time": "2022-01-24T08:11:55.034Z"
   },
   {
    "duration": 743,
    "start_time": "2022-01-24T08:11:55.056Z"
   },
   {
    "duration": 31,
    "start_time": "2022-01-24T08:11:55.802Z"
   },
   {
    "duration": 1001,
    "start_time": "2022-01-24T08:11:55.835Z"
   },
   {
    "duration": 14,
    "start_time": "2022-01-24T08:11:56.839Z"
   },
   {
    "duration": 15,
    "start_time": "2022-01-24T08:11:56.856Z"
   },
   {
    "duration": 1014,
    "start_time": "2022-01-24T08:11:56.874Z"
   },
   {
    "duration": 48,
    "start_time": "2022-01-24T08:11:57.891Z"
   },
   {
    "duration": 990,
    "start_time": "2022-01-24T08:11:57.941Z"
   },
   {
    "duration": 10,
    "start_time": "2022-01-24T08:11:58.934Z"
   },
   {
    "duration": 20,
    "start_time": "2022-01-24T08:13:35.870Z"
   },
   {
    "duration": 1417,
    "start_time": "2022-01-24T08:19:17.240Z"
   },
   {
    "duration": 14,
    "start_time": "2022-01-24T08:19:18.660Z"
   },
   {
    "duration": 64,
    "start_time": "2022-01-24T08:19:18.677Z"
   },
   {
    "duration": 10,
    "start_time": "2022-01-24T08:19:18.744Z"
   },
   {
    "duration": 10,
    "start_time": "2022-01-24T08:19:18.756Z"
   },
   {
    "duration": 12,
    "start_time": "2022-01-24T08:19:18.769Z"
   },
   {
    "duration": 40,
    "start_time": "2022-01-24T08:19:18.783Z"
   },
   {
    "duration": 27,
    "start_time": "2022-01-24T08:19:18.827Z"
   },
   {
    "duration": 7,
    "start_time": "2022-01-24T08:19:18.857Z"
   },
   {
    "duration": 6,
    "start_time": "2022-01-24T08:19:18.866Z"
   },
   {
    "duration": 58,
    "start_time": "2022-01-24T08:19:18.874Z"
   },
   {
    "duration": 16,
    "start_time": "2022-01-24T08:19:18.934Z"
   },
   {
    "duration": 26,
    "start_time": "2022-01-24T08:19:18.952Z"
   },
   {
    "duration": 45,
    "start_time": "2022-01-24T08:19:18.980Z"
   },
   {
    "duration": 27,
    "start_time": "2022-01-24T08:19:19.027Z"
   },
   {
    "duration": 7,
    "start_time": "2022-01-24T08:19:19.056Z"
   },
   {
    "duration": 8,
    "start_time": "2022-01-24T08:19:19.065Z"
   },
   {
    "duration": 56,
    "start_time": "2022-01-24T08:19:19.075Z"
   },
   {
    "duration": 8,
    "start_time": "2022-01-24T08:19:19.133Z"
   },
   {
    "duration": 23,
    "start_time": "2022-01-24T08:19:19.143Z"
   },
   {
    "duration": 11,
    "start_time": "2022-01-24T08:19:19.168Z"
   },
   {
    "duration": 42,
    "start_time": "2022-01-24T08:19:19.182Z"
   },
   {
    "duration": 8,
    "start_time": "2022-01-24T08:19:19.228Z"
   },
   {
    "duration": 10,
    "start_time": "2022-01-24T08:19:19.239Z"
   },
   {
    "duration": 10,
    "start_time": "2022-01-24T08:19:19.252Z"
   },
   {
    "duration": 844,
    "start_time": "2022-01-24T08:19:19.264Z"
   },
   {
    "duration": 4,
    "start_time": "2022-01-24T08:19:20.110Z"
   },
   {
    "duration": 6,
    "start_time": "2022-01-24T08:19:20.123Z"
   },
   {
    "duration": 3931,
    "start_time": "2022-01-24T08:19:20.132Z"
   },
   {
    "duration": 9,
    "start_time": "2022-01-24T08:19:24.065Z"
   },
   {
    "duration": 6,
    "start_time": "2022-01-24T08:19:24.076Z"
   },
   {
    "duration": 62,
    "start_time": "2022-01-24T08:19:24.084Z"
   },
   {
    "duration": 37,
    "start_time": "2022-01-24T08:19:24.148Z"
   },
   {
    "duration": 5,
    "start_time": "2022-01-24T08:19:24.187Z"
   },
   {
    "duration": 34,
    "start_time": "2022-01-24T08:19:24.194Z"
   },
   {
    "duration": 8,
    "start_time": "2022-01-24T08:19:24.230Z"
   },
   {
    "duration": 5,
    "start_time": "2022-01-24T08:19:24.241Z"
   },
   {
    "duration": 19,
    "start_time": "2022-01-24T08:19:24.249Z"
   },
   {
    "duration": 739,
    "start_time": "2022-01-24T08:19:24.271Z"
   },
   {
    "duration": 26,
    "start_time": "2022-01-24T08:19:25.013Z"
   },
   {
    "duration": 956,
    "start_time": "2022-01-24T08:19:25.042Z"
   },
   {
    "duration": 22,
    "start_time": "2022-01-24T08:19:26.001Z"
   },
   {
    "duration": 12,
    "start_time": "2022-01-24T08:19:26.026Z"
   },
   {
    "duration": 989,
    "start_time": "2022-01-24T08:19:26.041Z"
   },
   {
    "duration": 104,
    "start_time": "2022-01-24T08:19:27.033Z"
   },
   {
    "duration": 2193,
    "start_time": "2022-01-24T08:19:27.140Z"
   },
   {
    "duration": 9,
    "start_time": "2022-01-24T08:19:29.335Z"
   },
   {
    "duration": 2283,
    "start_time": "2022-01-24T08:21:18.461Z"
   },
   {
    "duration": 14,
    "start_time": "2022-01-24T08:21:20.747Z"
   },
   {
    "duration": 97,
    "start_time": "2022-01-24T08:21:20.765Z"
   },
   {
    "duration": 63,
    "start_time": "2022-01-24T08:21:20.864Z"
   },
   {
    "duration": 9,
    "start_time": "2022-01-24T08:21:20.930Z"
   },
   {
    "duration": 16,
    "start_time": "2022-01-24T08:21:20.942Z"
   },
   {
    "duration": 7,
    "start_time": "2022-01-24T08:21:20.961Z"
   },
   {
    "duration": 76,
    "start_time": "2022-01-24T08:21:20.971Z"
   },
   {
    "duration": 6,
    "start_time": "2022-01-24T08:21:21.051Z"
   },
   {
    "duration": 7,
    "start_time": "2022-01-24T08:21:21.060Z"
   },
   {
    "duration": 21,
    "start_time": "2022-01-24T08:21:21.124Z"
   },
   {
    "duration": 5,
    "start_time": "2022-01-24T08:21:21.147Z"
   },
   {
    "duration": 73,
    "start_time": "2022-01-24T08:21:21.155Z"
   },
   {
    "duration": 6,
    "start_time": "2022-01-24T08:21:21.230Z"
   },
   {
    "duration": 25,
    "start_time": "2022-01-24T08:21:21.238Z"
   },
   {
    "duration": 59,
    "start_time": "2022-01-24T08:21:21.265Z"
   },
   {
    "duration": 8,
    "start_time": "2022-01-24T08:21:21.326Z"
   },
   {
    "duration": 22,
    "start_time": "2022-01-24T08:21:21.336Z"
   },
   {
    "duration": 7,
    "start_time": "2022-01-24T08:21:21.360Z"
   },
   {
    "duration": 22,
    "start_time": "2022-01-24T08:21:21.424Z"
   },
   {
    "duration": 9,
    "start_time": "2022-01-24T08:21:21.448Z"
   },
   {
    "duration": 63,
    "start_time": "2022-01-24T08:21:21.459Z"
   },
   {
    "duration": 9,
    "start_time": "2022-01-24T08:21:21.524Z"
   },
   {
    "duration": 10,
    "start_time": "2022-01-24T08:21:21.535Z"
   },
   {
    "duration": 7,
    "start_time": "2022-01-24T08:21:21.547Z"
   },
   {
    "duration": 1081,
    "start_time": "2022-01-24T08:21:21.556Z"
   },
   {
    "duration": 4,
    "start_time": "2022-01-24T08:21:22.642Z"
   },
   {
    "duration": 6,
    "start_time": "2022-01-24T08:21:22.649Z"
   },
   {
    "duration": 3766,
    "start_time": "2022-01-24T08:21:22.658Z"
   },
   {
    "duration": 9,
    "start_time": "2022-01-24T08:21:26.427Z"
   },
   {
    "duration": 17,
    "start_time": "2022-01-24T08:21:26.438Z"
   },
   {
    "duration": 46,
    "start_time": "2022-01-24T08:21:26.457Z"
   },
   {
    "duration": 53,
    "start_time": "2022-01-24T08:21:26.505Z"
   },
   {
    "duration": 7,
    "start_time": "2022-01-24T08:21:26.561Z"
   },
   {
    "duration": 7,
    "start_time": "2022-01-24T08:21:26.571Z"
   },
   {
    "duration": 44,
    "start_time": "2022-01-24T08:21:26.581Z"
   },
   {
    "duration": 5,
    "start_time": "2022-01-24T08:21:26.628Z"
   },
   {
    "duration": 20,
    "start_time": "2022-01-24T08:21:26.636Z"
   },
   {
    "duration": 762,
    "start_time": "2022-01-24T08:21:26.659Z"
   },
   {
    "duration": 19,
    "start_time": "2022-01-24T08:21:27.423Z"
   },
   {
    "duration": 968,
    "start_time": "2022-01-24T08:21:27.445Z"
   },
   {
    "duration": 14,
    "start_time": "2022-01-24T08:21:28.416Z"
   },
   {
    "duration": 9,
    "start_time": "2022-01-24T08:21:28.432Z"
   },
   {
    "duration": 895,
    "start_time": "2022-01-24T08:21:28.443Z"
   },
   {
    "duration": 32,
    "start_time": "2022-01-24T08:21:29.340Z"
   },
   {
    "duration": 916,
    "start_time": "2022-01-24T08:21:29.375Z"
   },
   {
    "duration": 9,
    "start_time": "2022-01-24T08:21:30.293Z"
   }
  ],
  "kernelspec": {
   "display_name": "Python 3 (ipykernel)",
   "language": "python",
   "name": "python3"
  },
  "language_info": {
   "codemirror_mode": {
    "name": "ipython",
    "version": 3
   },
   "file_extension": ".py",
   "mimetype": "text/x-python",
   "name": "python",
   "nbconvert_exporter": "python",
   "pygments_lexer": "ipython3",
   "version": "3.10.4"
  },
  "toc": {
   "base_numbering": 1,
   "nav_menu": {},
   "number_sections": true,
   "sideBar": true,
   "skip_h1_title": true,
   "title_cell": "Table of Contents",
   "title_sidebar": "Contents",
   "toc_cell": false,
   "toc_position": {
    "height": "calc(100% - 180px)",
    "left": "10px",
    "top": "150px",
    "width": "167.4px"
   },
   "toc_section_display": true,
   "toc_window_display": false
  }
 },
 "nbformat": 4,
 "nbformat_minor": 4
}
