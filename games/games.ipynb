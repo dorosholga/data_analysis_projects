{
 "cells": [
  {
   "cell_type": "markdown",
   "metadata": {},
   "source": [
    "# Планирование рекламной компании для интернет-магазина «Стримчик» на 2017 год"
   ]
  },
  {
   "cell_type": "markdown",
   "metadata": {},
   "source": [
    "**Описание:** \n",
    "\n",
    "Из открытых источников доступны исторические данные о продажах игр интернет-маназина \"Стримчик\", оценки пользователей и экспертов, жанры и платформы\n",
    "\n",
    "**Задачи:** \n",
    "- изучить данные\n",
    "- подготовить данные для дальнейшего анализа\n",
    "- провести исследовательский анализ данных\n",
    "- выявить закономерности, определяющие успешность игры\n",
    "- составить пользовательские портреты для Северной Америки, Японии и Европы\n",
    "- задать и проверить гипотезы\n",
    "- сделать выводы\n",
    "\n",
    "\n",
    "**Цель:** \n",
    "\n",
    "На основе полученных данных сделать ставку на потенциально популярный продукт и спланировать рекламные\n",
    "кампании на будущий год"
   ]
  },
  {
   "cell_type": "markdown",
   "metadata": {},
   "source": [
    "### Содержание"
   ]
  },
  {
   "cell_type": "markdown",
   "metadata": {},
   "source": [
    "1. [Изучение данных](#1id)\n",
    "2. [Подготовка данных](#2id)\n",
    "3. [Анализ данных](#3id)\n",
    "    * [Количество игр в разные годы](#3.1id)\n",
    "    * [Динамика продаж по платформам и годам](#3.2id)\n",
    "    * [Анализ актуального периода 2012 - 2016 гг](#3.3id)\n",
    "    * [Влияние отзывов на продажи](#3.4id)\n",
    "    * [Распределение игр по жанрам](#3.5id)\n",
    "4. [Портреты пользователей по регионам](#4id)\n",
    "    * [Портрет пользователя Северной Америки](#4.1id)\n",
    "    * [Портрет пользователя Европы](#4.2id)\n",
    "    * [Портрет пользователя Японии](#4.3id)\n",
    "5. [Общий вывод](#5id)"
   ]
  },
  {
   "cell_type": "code",
   "execution_count": 1,
   "metadata": {},
   "outputs": [],
   "source": [
    "import pandas as pd\n",
    "import numpy as np\n",
    "import matplotlib.pyplot as plt \n",
    "import seaborn as sns\n",
    "from scipy import stats as st\n",
    "\n",
    "import warnings\n",
    "warnings.filterwarnings('ignore')"
   ]
  },
  {
   "cell_type": "markdown",
   "metadata": {},
   "source": [
    "## 1. Изучение данных <a id=\"1id\"></a>"
   ]
  },
  {
   "cell_type": "markdown",
   "metadata": {},
   "source": [
    "**Описание данных**\n",
    "\n",
    "- `Name` — название игры\n",
    "- `Platform` — платформа\n",
    "- `Year_of_Release` — год выпуска\n",
    "- `Genre` — жанр игры\n",
    "- `NA_sales` — продажи в Северной Америке (миллионы проданных копий)\n",
    "- `EU_sales` — продажи в Европе (миллионы проданных копий)\n",
    "- `JP_sales` — продажи в Японии (миллионы проданных копий)\n",
    "- `Other_sales` — продажи в других странах (миллионы проданных копий)\n",
    "- `Critic_Score` — оценка критиков (максимум 100)\n",
    "- `User_Score` — оценка пользователей (максимум 10)\n",
    "- `Rating` — рейтинг от организации ESRB (англ. Entertainment Software Rating Board). Эта ассоциация определяет рейтинг компьютерных игр и присваивает им подходящую возрастную категорию."
   ]
  },
  {
   "cell_type": "code",
   "execution_count": 2,
   "metadata": {},
   "outputs": [
    {
     "data": {
      "text/html": [
       "<div>\n",
       "<style scoped>\n",
       "    .dataframe tbody tr th:only-of-type {\n",
       "        vertical-align: middle;\n",
       "    }\n",
       "\n",
       "    .dataframe tbody tr th {\n",
       "        vertical-align: top;\n",
       "    }\n",
       "\n",
       "    .dataframe thead th {\n",
       "        text-align: right;\n",
       "    }\n",
       "</style>\n",
       "<table border=\"1\" class=\"dataframe\">\n",
       "  <thead>\n",
       "    <tr style=\"text-align: right;\">\n",
       "      <th></th>\n",
       "      <th>Name</th>\n",
       "      <th>Platform</th>\n",
       "      <th>Year_of_Release</th>\n",
       "      <th>Genre</th>\n",
       "      <th>NA_sales</th>\n",
       "      <th>EU_sales</th>\n",
       "      <th>JP_sales</th>\n",
       "      <th>Other_sales</th>\n",
       "      <th>Critic_Score</th>\n",
       "      <th>User_Score</th>\n",
       "      <th>Rating</th>\n",
       "    </tr>\n",
       "  </thead>\n",
       "  <tbody>\n",
       "    <tr>\n",
       "      <th>0</th>\n",
       "      <td>Wii Sports</td>\n",
       "      <td>Wii</td>\n",
       "      <td>2006.0</td>\n",
       "      <td>Sports</td>\n",
       "      <td>41.36</td>\n",
       "      <td>28.96</td>\n",
       "      <td>3.77</td>\n",
       "      <td>8.45</td>\n",
       "      <td>76.0</td>\n",
       "      <td>8</td>\n",
       "      <td>E</td>\n",
       "    </tr>\n",
       "    <tr>\n",
       "      <th>1</th>\n",
       "      <td>Super Mario Bros.</td>\n",
       "      <td>NES</td>\n",
       "      <td>1985.0</td>\n",
       "      <td>Platform</td>\n",
       "      <td>29.08</td>\n",
       "      <td>3.58</td>\n",
       "      <td>6.81</td>\n",
       "      <td>0.77</td>\n",
       "      <td>NaN</td>\n",
       "      <td>NaN</td>\n",
       "      <td>NaN</td>\n",
       "    </tr>\n",
       "    <tr>\n",
       "      <th>2</th>\n",
       "      <td>Mario Kart Wii</td>\n",
       "      <td>Wii</td>\n",
       "      <td>2008.0</td>\n",
       "      <td>Racing</td>\n",
       "      <td>15.68</td>\n",
       "      <td>12.76</td>\n",
       "      <td>3.79</td>\n",
       "      <td>3.29</td>\n",
       "      <td>82.0</td>\n",
       "      <td>8.3</td>\n",
       "      <td>E</td>\n",
       "    </tr>\n",
       "    <tr>\n",
       "      <th>3</th>\n",
       "      <td>Wii Sports Resort</td>\n",
       "      <td>Wii</td>\n",
       "      <td>2009.0</td>\n",
       "      <td>Sports</td>\n",
       "      <td>15.61</td>\n",
       "      <td>10.93</td>\n",
       "      <td>3.28</td>\n",
       "      <td>2.95</td>\n",
       "      <td>80.0</td>\n",
       "      <td>8</td>\n",
       "      <td>E</td>\n",
       "    </tr>\n",
       "    <tr>\n",
       "      <th>4</th>\n",
       "      <td>Pokemon Red/Pokemon Blue</td>\n",
       "      <td>GB</td>\n",
       "      <td>1996.0</td>\n",
       "      <td>Role-Playing</td>\n",
       "      <td>11.27</td>\n",
       "      <td>8.89</td>\n",
       "      <td>10.22</td>\n",
       "      <td>1.00</td>\n",
       "      <td>NaN</td>\n",
       "      <td>NaN</td>\n",
       "      <td>NaN</td>\n",
       "    </tr>\n",
       "    <tr>\n",
       "      <th>5</th>\n",
       "      <td>Tetris</td>\n",
       "      <td>GB</td>\n",
       "      <td>1989.0</td>\n",
       "      <td>Puzzle</td>\n",
       "      <td>23.20</td>\n",
       "      <td>2.26</td>\n",
       "      <td>4.22</td>\n",
       "      <td>0.58</td>\n",
       "      <td>NaN</td>\n",
       "      <td>NaN</td>\n",
       "      <td>NaN</td>\n",
       "    </tr>\n",
       "    <tr>\n",
       "      <th>6</th>\n",
       "      <td>New Super Mario Bros.</td>\n",
       "      <td>DS</td>\n",
       "      <td>2006.0</td>\n",
       "      <td>Platform</td>\n",
       "      <td>11.28</td>\n",
       "      <td>9.14</td>\n",
       "      <td>6.50</td>\n",
       "      <td>2.88</td>\n",
       "      <td>89.0</td>\n",
       "      <td>8.5</td>\n",
       "      <td>E</td>\n",
       "    </tr>\n",
       "    <tr>\n",
       "      <th>7</th>\n",
       "      <td>Wii Play</td>\n",
       "      <td>Wii</td>\n",
       "      <td>2006.0</td>\n",
       "      <td>Misc</td>\n",
       "      <td>13.96</td>\n",
       "      <td>9.18</td>\n",
       "      <td>2.93</td>\n",
       "      <td>2.84</td>\n",
       "      <td>58.0</td>\n",
       "      <td>6.6</td>\n",
       "      <td>E</td>\n",
       "    </tr>\n",
       "    <tr>\n",
       "      <th>8</th>\n",
       "      <td>New Super Mario Bros. Wii</td>\n",
       "      <td>Wii</td>\n",
       "      <td>2009.0</td>\n",
       "      <td>Platform</td>\n",
       "      <td>14.44</td>\n",
       "      <td>6.94</td>\n",
       "      <td>4.70</td>\n",
       "      <td>2.24</td>\n",
       "      <td>87.0</td>\n",
       "      <td>8.4</td>\n",
       "      <td>E</td>\n",
       "    </tr>\n",
       "    <tr>\n",
       "      <th>9</th>\n",
       "      <td>Duck Hunt</td>\n",
       "      <td>NES</td>\n",
       "      <td>1984.0</td>\n",
       "      <td>Shooter</td>\n",
       "      <td>26.93</td>\n",
       "      <td>0.63</td>\n",
       "      <td>0.28</td>\n",
       "      <td>0.47</td>\n",
       "      <td>NaN</td>\n",
       "      <td>NaN</td>\n",
       "      <td>NaN</td>\n",
       "    </tr>\n",
       "  </tbody>\n",
       "</table>\n",
       "</div>"
      ],
      "text/plain": [
       "                        Name Platform  Year_of_Release         Genre  \\\n",
       "0                 Wii Sports      Wii           2006.0        Sports   \n",
       "1          Super Mario Bros.      NES           1985.0      Platform   \n",
       "2             Mario Kart Wii      Wii           2008.0        Racing   \n",
       "3          Wii Sports Resort      Wii           2009.0        Sports   \n",
       "4   Pokemon Red/Pokemon Blue       GB           1996.0  Role-Playing   \n",
       "5                     Tetris       GB           1989.0        Puzzle   \n",
       "6      New Super Mario Bros.       DS           2006.0      Platform   \n",
       "7                   Wii Play      Wii           2006.0          Misc   \n",
       "8  New Super Mario Bros. Wii      Wii           2009.0      Platform   \n",
       "9                  Duck Hunt      NES           1984.0       Shooter   \n",
       "\n",
       "   NA_sales  EU_sales  JP_sales  Other_sales  Critic_Score User_Score Rating  \n",
       "0     41.36     28.96      3.77         8.45          76.0          8      E  \n",
       "1     29.08      3.58      6.81         0.77           NaN        NaN    NaN  \n",
       "2     15.68     12.76      3.79         3.29          82.0        8.3      E  \n",
       "3     15.61     10.93      3.28         2.95          80.0          8      E  \n",
       "4     11.27      8.89     10.22         1.00           NaN        NaN    NaN  \n",
       "5     23.20      2.26      4.22         0.58           NaN        NaN    NaN  \n",
       "6     11.28      9.14      6.50         2.88          89.0        8.5      E  \n",
       "7     13.96      9.18      2.93         2.84          58.0        6.6      E  \n",
       "8     14.44      6.94      4.70         2.24          87.0        8.4      E  \n",
       "9     26.93      0.63      0.28         0.47           NaN        NaN    NaN  "
      ]
     },
     "execution_count": 2,
     "metadata": {},
     "output_type": "execute_result"
    }
   ],
   "source": [
    "try:\n",
    "    df = pd.read_csv('/home/olga/Downloads/games.csv')\n",
    "except:\n",
    "    df = pd.read_csv('/datasets/games.csv')\n",
    "df.head(10)"
   ]
  },
  {
   "cell_type": "code",
   "execution_count": 3,
   "metadata": {},
   "outputs": [
    {
     "name": "stdout",
     "output_type": "stream",
     "text": [
      "<class 'pandas.core.frame.DataFrame'>\n",
      "RangeIndex: 16715 entries, 0 to 16714\n",
      "Data columns (total 11 columns):\n",
      " #   Column           Non-Null Count  Dtype  \n",
      "---  ------           --------------  -----  \n",
      " 0   Name             16713 non-null  object \n",
      " 1   Platform         16715 non-null  object \n",
      " 2   Year_of_Release  16446 non-null  float64\n",
      " 3   Genre            16713 non-null  object \n",
      " 4   NA_sales         16715 non-null  float64\n",
      " 5   EU_sales         16715 non-null  float64\n",
      " 6   JP_sales         16715 non-null  float64\n",
      " 7   Other_sales      16715 non-null  float64\n",
      " 8   Critic_Score     8137 non-null   float64\n",
      " 9   User_Score       10014 non-null  object \n",
      " 10  Rating           9949 non-null   object \n",
      "dtypes: float64(6), object(5)\n",
      "memory usage: 1.4+ MB\n"
     ]
    }
   ],
   "source": [
    "df.info()"
   ]
  },
  {
   "cell_type": "markdown",
   "metadata": {},
   "source": [
    "#### Пропуски"
   ]
  },
  {
   "cell_type": "markdown",
   "metadata": {},
   "source": [
    "- **Название игры:**\n",
    "всего два пропущенных названия. Есть смысл удалить две строки\n",
    "- **Год выпуска:**\n",
    "возможно, получится восполнить пропуски с помощью внешних источников\n",
    "- **Жанр:**\n",
    "предположительно, что пропуски те же, что и в названии игр\n",
    "- **Оценка критиков:**\n",
    "больше всего пропусков\n",
    "- **Оценка пользователей:**\n",
    "много пропусков\n",
    "- **Рейтинг:**\n",
    "много пропусков"
   ]
  },
  {
   "cell_type": "markdown",
   "metadata": {},
   "source": [
    "Приведем все названия столбцов к нижнему регистру, а также заменим тип данных колонки \"год выпуска\" на int"
   ]
  },
  {
   "cell_type": "markdown",
   "metadata": {},
   "source": [
    "## 2. Подготовка данных <a id=\"2id\"></a>"
   ]
  },
  {
   "cell_type": "markdown",
   "metadata": {},
   "source": [
    "Приведем все названия столбцов к нижнему регистру"
   ]
  },
  {
   "cell_type": "code",
   "execution_count": 4,
   "metadata": {},
   "outputs": [
    {
     "data": {
      "text/html": [
       "<div>\n",
       "<style scoped>\n",
       "    .dataframe tbody tr th:only-of-type {\n",
       "        vertical-align: middle;\n",
       "    }\n",
       "\n",
       "    .dataframe tbody tr th {\n",
       "        vertical-align: top;\n",
       "    }\n",
       "\n",
       "    .dataframe thead th {\n",
       "        text-align: right;\n",
       "    }\n",
       "</style>\n",
       "<table border=\"1\" class=\"dataframe\">\n",
       "  <thead>\n",
       "    <tr style=\"text-align: right;\">\n",
       "      <th></th>\n",
       "      <th>name</th>\n",
       "      <th>platform</th>\n",
       "      <th>year_of_release</th>\n",
       "      <th>genre</th>\n",
       "      <th>na_sales</th>\n",
       "      <th>eu_sales</th>\n",
       "      <th>jp_sales</th>\n",
       "      <th>other_sales</th>\n",
       "      <th>critic_score</th>\n",
       "      <th>user_score</th>\n",
       "      <th>rating</th>\n",
       "    </tr>\n",
       "  </thead>\n",
       "  <tbody>\n",
       "    <tr>\n",
       "      <th>0</th>\n",
       "      <td>Wii Sports</td>\n",
       "      <td>Wii</td>\n",
       "      <td>2006.0</td>\n",
       "      <td>Sports</td>\n",
       "      <td>41.36</td>\n",
       "      <td>28.96</td>\n",
       "      <td>3.77</td>\n",
       "      <td>8.45</td>\n",
       "      <td>76.0</td>\n",
       "      <td>8</td>\n",
       "      <td>E</td>\n",
       "    </tr>\n",
       "    <tr>\n",
       "      <th>1</th>\n",
       "      <td>Super Mario Bros.</td>\n",
       "      <td>NES</td>\n",
       "      <td>1985.0</td>\n",
       "      <td>Platform</td>\n",
       "      <td>29.08</td>\n",
       "      <td>3.58</td>\n",
       "      <td>6.81</td>\n",
       "      <td>0.77</td>\n",
       "      <td>NaN</td>\n",
       "      <td>NaN</td>\n",
       "      <td>NaN</td>\n",
       "    </tr>\n",
       "    <tr>\n",
       "      <th>2</th>\n",
       "      <td>Mario Kart Wii</td>\n",
       "      <td>Wii</td>\n",
       "      <td>2008.0</td>\n",
       "      <td>Racing</td>\n",
       "      <td>15.68</td>\n",
       "      <td>12.76</td>\n",
       "      <td>3.79</td>\n",
       "      <td>3.29</td>\n",
       "      <td>82.0</td>\n",
       "      <td>8.3</td>\n",
       "      <td>E</td>\n",
       "    </tr>\n",
       "    <tr>\n",
       "      <th>3</th>\n",
       "      <td>Wii Sports Resort</td>\n",
       "      <td>Wii</td>\n",
       "      <td>2009.0</td>\n",
       "      <td>Sports</td>\n",
       "      <td>15.61</td>\n",
       "      <td>10.93</td>\n",
       "      <td>3.28</td>\n",
       "      <td>2.95</td>\n",
       "      <td>80.0</td>\n",
       "      <td>8</td>\n",
       "      <td>E</td>\n",
       "    </tr>\n",
       "    <tr>\n",
       "      <th>4</th>\n",
       "      <td>Pokemon Red/Pokemon Blue</td>\n",
       "      <td>GB</td>\n",
       "      <td>1996.0</td>\n",
       "      <td>Role-Playing</td>\n",
       "      <td>11.27</td>\n",
       "      <td>8.89</td>\n",
       "      <td>10.22</td>\n",
       "      <td>1.00</td>\n",
       "      <td>NaN</td>\n",
       "      <td>NaN</td>\n",
       "      <td>NaN</td>\n",
       "    </tr>\n",
       "  </tbody>\n",
       "</table>\n",
       "</div>"
      ],
      "text/plain": [
       "                       name platform  year_of_release         genre  na_sales  \\\n",
       "0                Wii Sports      Wii           2006.0        Sports     41.36   \n",
       "1         Super Mario Bros.      NES           1985.0      Platform     29.08   \n",
       "2            Mario Kart Wii      Wii           2008.0        Racing     15.68   \n",
       "3         Wii Sports Resort      Wii           2009.0        Sports     15.61   \n",
       "4  Pokemon Red/Pokemon Blue       GB           1996.0  Role-Playing     11.27   \n",
       "\n",
       "   eu_sales  jp_sales  other_sales  critic_score user_score rating  \n",
       "0     28.96      3.77         8.45          76.0          8      E  \n",
       "1      3.58      6.81         0.77           NaN        NaN    NaN  \n",
       "2     12.76      3.79         3.29          82.0        8.3      E  \n",
       "3     10.93      3.28         2.95          80.0          8      E  \n",
       "4      8.89     10.22         1.00           NaN        NaN    NaN  "
      ]
     },
     "execution_count": 4,
     "metadata": {},
     "output_type": "execute_result"
    }
   ],
   "source": [
    "df.columns = df.columns.str.lower()\n",
    "df.head()"
   ]
  },
  {
   "cell_type": "markdown",
   "metadata": {},
   "source": [
    "Заменим значения столбца \"year_of_release\" на целочисленный тип"
   ]
  },
  {
   "cell_type": "markdown",
   "metadata": {},
   "source": [
    "### Столбец \"name\""
   ]
  },
  {
   "cell_type": "code",
   "execution_count": 5,
   "metadata": {},
   "outputs": [
    {
     "data": {
      "text/plain": [
       "count                           16713\n",
       "unique                          11559\n",
       "top       Need for Speed: Most Wanted\n",
       "freq                               12\n",
       "Name: name, dtype: object"
      ]
     },
     "execution_count": 5,
     "metadata": {},
     "output_type": "execute_result"
    }
   ],
   "source": [
    "df['name'].describe()"
   ]
  },
  {
   "cell_type": "code",
   "execution_count": 6,
   "metadata": {},
   "outputs": [
    {
     "data": {
      "text/plain": [
       "5155"
      ]
     },
     "execution_count": 6,
     "metadata": {},
     "output_type": "execute_result"
    }
   ],
   "source": [
    "df['name'].duplicated().sum()"
   ]
  },
  {
   "cell_type": "code",
   "execution_count": 7,
   "metadata": {},
   "outputs": [
    {
     "data": {
      "text/plain": [
       "2"
      ]
     },
     "execution_count": 7,
     "metadata": {},
     "output_type": "execute_result"
    }
   ],
   "source": [
    "df['name'].isna().sum()"
   ]
  },
  {
   "cell_type": "markdown",
   "metadata": {},
   "source": [
    "Есть смысл удалить две строки, у которых неизвестно название игры"
   ]
  },
  {
   "cell_type": "code",
   "execution_count": 8,
   "metadata": {},
   "outputs": [],
   "source": [
    "df = df.dropna(subset=['name']).reset_index()"
   ]
  },
  {
   "cell_type": "markdown",
   "metadata": {},
   "source": [
    "### Столбец \"platform\""
   ]
  },
  {
   "cell_type": "code",
   "execution_count": 9,
   "metadata": {},
   "outputs": [
    {
     "data": {
      "text/plain": [
       "array(['Wii', 'NES', 'GB', 'DS', 'X360', 'PS3', 'PS2', 'SNES', 'GBA',\n",
       "       'PS4', '3DS', 'N64', 'PS', 'XB', 'PC', '2600', 'PSP', 'XOne',\n",
       "       'WiiU', 'GC', 'GEN', 'DC', 'PSV', 'SAT', 'SCD', 'WS', 'NG', 'TG16',\n",
       "       '3DO', 'GG', 'PCFX'], dtype=object)"
      ]
     },
     "execution_count": 9,
     "metadata": {},
     "output_type": "execute_result"
    }
   ],
   "source": [
    "df['platform'].unique()"
   ]
  },
  {
   "cell_type": "markdown",
   "metadata": {},
   "source": [
    "Пропущенных значений нет"
   ]
  },
  {
   "cell_type": "markdown",
   "metadata": {},
   "source": [
    "### Столбец \"year_of_release\""
   ]
  },
  {
   "cell_type": "code",
   "execution_count": 10,
   "metadata": {},
   "outputs": [
    {
     "data": {
      "text/plain": [
       "array([1980., 1981., 1982., 1983., 1984., 1985., 1986., 1987., 1988.,\n",
       "       1989., 1990., 1991., 1992., 1993., 1994., 1995., 1996., 1997.,\n",
       "       1998., 1999., 2000., 2001., 2002., 2003., 2004., 2005., 2006.,\n",
       "       2007., 2008., 2009., 2010., 2011., 2012., 2013., 2014., 2015.,\n",
       "       2016.,   nan])"
      ]
     },
     "execution_count": 10,
     "metadata": {},
     "output_type": "execute_result"
    }
   ],
   "source": [
    "df['year_of_release'].sort_values().unique()"
   ]
  },
  {
   "cell_type": "markdown",
   "metadata": {},
   "source": [
    "### Столбец \"genre\""
   ]
  },
  {
   "cell_type": "markdown",
   "metadata": {},
   "source": [
    "Представлено 12 различных игровых жанров. Пропущенных значений нет."
   ]
  },
  {
   "cell_type": "code",
   "execution_count": 11,
   "metadata": {},
   "outputs": [
    {
     "data": {
      "text/plain": [
       "array(['Action', 'Adventure', 'Fighting', 'Misc', 'Platform', 'Puzzle',\n",
       "       'Racing', 'Role-Playing', 'Shooter', 'Simulation', 'Sports',\n",
       "       'Strategy'], dtype=object)"
      ]
     },
     "execution_count": 11,
     "metadata": {},
     "output_type": "execute_result"
    }
   ],
   "source": [
    "df['genre'].sort_values().unique()"
   ]
  },
  {
   "cell_type": "code",
   "execution_count": 12,
   "metadata": {},
   "outputs": [
    {
     "data": {
      "text/plain": [
       "0"
      ]
     },
     "execution_count": 12,
     "metadata": {},
     "output_type": "execute_result"
    }
   ],
   "source": [
    "df['genre'].isna().sum()"
   ]
  },
  {
   "cell_type": "markdown",
   "metadata": {},
   "source": [
    "### Столбец \"critic_score\""
   ]
  },
  {
   "cell_type": "markdown",
   "metadata": {},
   "source": [
    "Оценку критиков округлим до двух знаков после запятой. Пропущенных значений нет"
   ]
  },
  {
   "cell_type": "code",
   "execution_count": 13,
   "metadata": {},
   "outputs": [
    {
     "data": {
      "text/plain": [
       "count    8137.000000\n",
       "mean       68.967679\n",
       "std        13.938165\n",
       "min        13.000000\n",
       "25%        60.000000\n",
       "50%        71.000000\n",
       "75%        79.000000\n",
       "max        98.000000\n",
       "Name: critic_score, dtype: float64"
      ]
     },
     "execution_count": 13,
     "metadata": {},
     "output_type": "execute_result"
    }
   ],
   "source": [
    "df['critic_score'].describe()"
   ]
  },
  {
   "cell_type": "code",
   "execution_count": 14,
   "metadata": {},
   "outputs": [
    {
     "data": {
      "text/plain": [
       "0    76.0\n",
       "1     NaN\n",
       "2    82.0\n",
       "3    80.0\n",
       "4     NaN\n",
       "Name: critic_score, dtype: float64"
      ]
     },
     "execution_count": 14,
     "metadata": {},
     "output_type": "execute_result"
    }
   ],
   "source": [
    "# заменим тип данных с строкового на вещественный\n",
    "df['critic_score'] = df['critic_score'].astype('float').round(2)\n",
    "df['critic_score'].head()"
   ]
  },
  {
   "cell_type": "code",
   "execution_count": 15,
   "metadata": {},
   "outputs": [
    {
     "data": {
      "text/plain": [
       "8576"
      ]
     },
     "execution_count": 15,
     "metadata": {},
     "output_type": "execute_result"
    }
   ],
   "source": [
    "df['critic_score'].isna().sum()"
   ]
  },
  {
   "cell_type": "markdown",
   "metadata": {},
   "source": [
    "### Столбец \"user_score\""
   ]
  },
  {
   "cell_type": "code",
   "execution_count": 16,
   "metadata": {},
   "outputs": [
    {
     "data": {
      "text/plain": [
       "count     10014\n",
       "unique       96\n",
       "top         tbd\n",
       "freq       2424\n",
       "Name: user_score, dtype: object"
      ]
     },
     "execution_count": 16,
     "metadata": {},
     "output_type": "execute_result"
    }
   ],
   "source": [
    "df['user_score'].describe()"
   ]
  },
  {
   "cell_type": "markdown",
   "metadata": {},
   "source": [
    "В значениях столбца видим аббревиатуру \"tbd\", что скорее значит \"to be determined\", то есть \"предстоит определить\". Есть смысл заменить аббревиатуру просто на пустые значения"
   ]
  },
  {
   "cell_type": "code",
   "execution_count": 17,
   "metadata": {},
   "outputs": [],
   "source": [
    "df.loc[df['user_score'] == 'tbd', 'user_score'] = np.nan"
   ]
  },
  {
   "cell_type": "code",
   "execution_count": 18,
   "metadata": {},
   "outputs": [],
   "source": [
    "# заменим тип данных с строкового на вещественный\n",
    "df['user_score'] = df['user_score'].astype('float')"
   ]
  },
  {
   "cell_type": "code",
   "execution_count": 19,
   "metadata": {},
   "outputs": [
    {
     "data": {
      "text/plain": [
       "9123"
      ]
     },
     "execution_count": 19,
     "metadata": {},
     "output_type": "execute_result"
    }
   ],
   "source": [
    "df['user_score'].isna().sum()"
   ]
  },
  {
   "cell_type": "markdown",
   "metadata": {},
   "source": [
    "В столбцах с оценкой пользователей много пропусков. На саму оценку может влиять огромное количество факторов, поэтому восполнение пробелов медианой/средним/нулями будет некорректно."
   ]
  },
  {
   "cell_type": "markdown",
   "metadata": {},
   "source": [
    "### Столбец \"rating\""
   ]
  },
  {
   "cell_type": "markdown",
   "metadata": {},
   "source": [
    "Рассмотрим рейтинг от организации ESRB (англ. Entertainment Software Rating Board)"
   ]
  },
  {
   "cell_type": "code",
   "execution_count": 20,
   "metadata": {},
   "outputs": [
    {
     "data": {
      "text/plain": [
       "array(['E', nan, 'M', 'T', 'E10+', 'K-A', 'AO', 'EC', 'RP'], dtype=object)"
      ]
     },
     "execution_count": 20,
     "metadata": {},
     "output_type": "execute_result"
    }
   ],
   "source": [
    "df['rating'].unique()"
   ]
  },
  {
   "cell_type": "markdown",
   "metadata": {},
   "source": [
    "Описание рейтинга: http://www.gamer.ru/everything/reytingi-esrb-ot-a-do-ya"
   ]
  },
  {
   "cell_type": "markdown",
   "metadata": {},
   "source": [
    "- `«E»` («Everyone») — «Для всех»\n",
    "- `«M»` («Mature») — «От 17 лет»\n",
    "- `«T»` («Teen») — «Подросткам 13—19 лет»\n",
    "- `«E10+»` («Everyone 10 and older») — «Для всех старше 10 лет»\n",
    "- `«K-A»`(\"Kids to Adults\")— \"Для детей и взрослых\"\n",
    "- `«AO»` («Adults Only 18+») — «Только для взрослых»\n",
    "- `«EC»` (\"Early childhood\") — \"Для детей младшего возраста\"\n",
    "- `«RP»` ( «Rating Pending»») — «Рейтинг ожидается»"
   ]
  },
  {
   "cell_type": "markdown",
   "metadata": {},
   "source": [
    "Википедия сообщает, что рейтинг \"K-A\" - это первоначальная версия рейтинга «E»:\n",
    "https://ru.wikipedia.org/wiki/Entertainment_Software_Rating_Board\n",
    "Видимо, выборка была собрана из периода до и после изменения. Будем придерживаться актуального рейтинга и заменим обозначение старого рейтинга на новый и еще  раз проверим уникальные значения"
   ]
  },
  {
   "cell_type": "code",
   "execution_count": 21,
   "metadata": {},
   "outputs": [],
   "source": [
    "df.loc[(df.rating == 'K-A'), 'rating'] = 'E'"
   ]
  },
  {
   "cell_type": "code",
   "execution_count": 22,
   "metadata": {},
   "outputs": [
    {
     "data": {
      "text/plain": [
       "array(['E', nan, 'M', 'T', 'E10+', 'AO', 'EC', 'RP'], dtype=object)"
      ]
     },
     "execution_count": 22,
     "metadata": {},
     "output_type": "execute_result"
    }
   ],
   "source": [
    "df['rating'].unique()"
   ]
  },
  {
   "cell_type": "markdown",
   "metadata": {},
   "source": [
    "### Суммарные продажи во всех регионах"
   ]
  },
  {
   "cell_type": "markdown",
   "metadata": {},
   "source": [
    "Создадим дополнительный столбец, где посчитаем сумманый объем продаж во всех представленных регионах"
   ]
  },
  {
   "cell_type": "code",
   "execution_count": 23,
   "metadata": {},
   "outputs": [
    {
     "data": {
      "text/html": [
       "<div>\n",
       "<style scoped>\n",
       "    .dataframe tbody tr th:only-of-type {\n",
       "        vertical-align: middle;\n",
       "    }\n",
       "\n",
       "    .dataframe tbody tr th {\n",
       "        vertical-align: top;\n",
       "    }\n",
       "\n",
       "    .dataframe thead th {\n",
       "        text-align: right;\n",
       "    }\n",
       "</style>\n",
       "<table border=\"1\" class=\"dataframe\">\n",
       "  <thead>\n",
       "    <tr style=\"text-align: right;\">\n",
       "      <th></th>\n",
       "      <th>index</th>\n",
       "      <th>name</th>\n",
       "      <th>platform</th>\n",
       "      <th>year_of_release</th>\n",
       "      <th>genre</th>\n",
       "      <th>na_sales</th>\n",
       "      <th>eu_sales</th>\n",
       "      <th>jp_sales</th>\n",
       "      <th>other_sales</th>\n",
       "      <th>critic_score</th>\n",
       "      <th>user_score</th>\n",
       "      <th>rating</th>\n",
       "      <th>total_sales</th>\n",
       "    </tr>\n",
       "  </thead>\n",
       "  <tbody>\n",
       "    <tr>\n",
       "      <th>0</th>\n",
       "      <td>0</td>\n",
       "      <td>Wii Sports</td>\n",
       "      <td>Wii</td>\n",
       "      <td>2006.0</td>\n",
       "      <td>Sports</td>\n",
       "      <td>41.36</td>\n",
       "      <td>28.96</td>\n",
       "      <td>3.77</td>\n",
       "      <td>8.45</td>\n",
       "      <td>76.0</td>\n",
       "      <td>8.0</td>\n",
       "      <td>E</td>\n",
       "      <td>82.54</td>\n",
       "    </tr>\n",
       "    <tr>\n",
       "      <th>1</th>\n",
       "      <td>1</td>\n",
       "      <td>Super Mario Bros.</td>\n",
       "      <td>NES</td>\n",
       "      <td>1985.0</td>\n",
       "      <td>Platform</td>\n",
       "      <td>29.08</td>\n",
       "      <td>3.58</td>\n",
       "      <td>6.81</td>\n",
       "      <td>0.77</td>\n",
       "      <td>NaN</td>\n",
       "      <td>NaN</td>\n",
       "      <td>NaN</td>\n",
       "      <td>40.24</td>\n",
       "    </tr>\n",
       "    <tr>\n",
       "      <th>2</th>\n",
       "      <td>2</td>\n",
       "      <td>Mario Kart Wii</td>\n",
       "      <td>Wii</td>\n",
       "      <td>2008.0</td>\n",
       "      <td>Racing</td>\n",
       "      <td>15.68</td>\n",
       "      <td>12.76</td>\n",
       "      <td>3.79</td>\n",
       "      <td>3.29</td>\n",
       "      <td>82.0</td>\n",
       "      <td>8.3</td>\n",
       "      <td>E</td>\n",
       "      <td>35.52</td>\n",
       "    </tr>\n",
       "    <tr>\n",
       "      <th>3</th>\n",
       "      <td>3</td>\n",
       "      <td>Wii Sports Resort</td>\n",
       "      <td>Wii</td>\n",
       "      <td>2009.0</td>\n",
       "      <td>Sports</td>\n",
       "      <td>15.61</td>\n",
       "      <td>10.93</td>\n",
       "      <td>3.28</td>\n",
       "      <td>2.95</td>\n",
       "      <td>80.0</td>\n",
       "      <td>8.0</td>\n",
       "      <td>E</td>\n",
       "      <td>32.77</td>\n",
       "    </tr>\n",
       "    <tr>\n",
       "      <th>4</th>\n",
       "      <td>4</td>\n",
       "      <td>Pokemon Red/Pokemon Blue</td>\n",
       "      <td>GB</td>\n",
       "      <td>1996.0</td>\n",
       "      <td>Role-Playing</td>\n",
       "      <td>11.27</td>\n",
       "      <td>8.89</td>\n",
       "      <td>10.22</td>\n",
       "      <td>1.00</td>\n",
       "      <td>NaN</td>\n",
       "      <td>NaN</td>\n",
       "      <td>NaN</td>\n",
       "      <td>31.38</td>\n",
       "    </tr>\n",
       "  </tbody>\n",
       "</table>\n",
       "</div>"
      ],
      "text/plain": [
       "   index                      name platform  year_of_release         genre  \\\n",
       "0      0                Wii Sports      Wii           2006.0        Sports   \n",
       "1      1         Super Mario Bros.      NES           1985.0      Platform   \n",
       "2      2            Mario Kart Wii      Wii           2008.0        Racing   \n",
       "3      3         Wii Sports Resort      Wii           2009.0        Sports   \n",
       "4      4  Pokemon Red/Pokemon Blue       GB           1996.0  Role-Playing   \n",
       "\n",
       "   na_sales  eu_sales  jp_sales  other_sales  critic_score  user_score rating  \\\n",
       "0     41.36     28.96      3.77         8.45          76.0         8.0      E   \n",
       "1     29.08      3.58      6.81         0.77           NaN         NaN    NaN   \n",
       "2     15.68     12.76      3.79         3.29          82.0         8.3      E   \n",
       "3     15.61     10.93      3.28         2.95          80.0         8.0      E   \n",
       "4     11.27      8.89     10.22         1.00           NaN         NaN    NaN   \n",
       "\n",
       "   total_sales  \n",
       "0        82.54  \n",
       "1        40.24  \n",
       "2        35.52  \n",
       "3        32.77  \n",
       "4        31.38  "
      ]
     },
     "execution_count": 23,
     "metadata": {},
     "output_type": "execute_result"
    }
   ],
   "source": [
    "df['total_sales'] = df['na_sales'] + df['eu_sales'] + df['jp_sales'] + df['other_sales']\n",
    "df.head()"
   ]
  },
  {
   "cell_type": "markdown",
   "metadata": {},
   "source": [
    "## 3. Анализ данных <a id=\"3id\"></a>"
   ]
  },
  {
   "cell_type": "markdown",
   "metadata": {},
   "source": [
    "### 3.1 Количество игр в разные годы <a id=\"3.1id\"></a>"
   ]
  },
  {
   "cell_type": "markdown",
   "metadata": {},
   "source": [
    "Проанализируем количество игр, которые выпускались в разные годы "
   ]
  },
  {
   "cell_type": "code",
   "execution_count": 24,
   "metadata": {},
   "outputs": [
    {
     "data": {
      "text/plain": [
       "year_of_release\n",
       "1980.0       9\n",
       "1984.0      14\n",
       "1985.0      14\n",
       "1988.0      15\n",
       "1990.0      16\n",
       "1987.0      16\n",
       "1989.0      17\n",
       "1983.0      17\n",
       "1986.0      21\n",
       "1982.0      36\n",
       "1991.0      41\n",
       "1992.0      43\n",
       "1981.0      46\n",
       "1993.0      60\n",
       "1994.0     121\n",
       "1995.0     219\n",
       "1996.0     263\n",
       "1997.0     289\n",
       "1999.0     338\n",
       "2000.0     350\n",
       "1998.0     379\n",
       "2001.0     482\n",
       "2016.0     502\n",
       "2013.0     544\n",
       "2014.0     581\n",
       "2015.0     606\n",
       "2012.0     653\n",
       "2004.0     762\n",
       "2003.0     775\n",
       "2002.0     829\n",
       "2005.0     939\n",
       "2006.0    1006\n",
       "2011.0    1136\n",
       "2007.0    1197\n",
       "2010.0    1255\n",
       "2009.0    1426\n",
       "2008.0    1427\n",
       "Name: name, dtype: int64"
      ]
     },
     "execution_count": 24,
     "metadata": {},
     "output_type": "execute_result"
    }
   ],
   "source": [
    "df.groupby('year_of_release')['name'].count().sort_values()"
   ]
  },
  {
   "cell_type": "markdown",
   "metadata": {},
   "source": [
    "Почти в каждый год изучаемого периода выпускались игры. Исключения составляют 7 лет: 1986, 1987, 1989-1991, 1993, 1995. Открытые источники говорят, что игры выпускались ежегодно с 1985. Однако по каким-то причинам эти игры не были включены в датасет. Максимум подряд отсутствует статистика за три года. \"Выпавшие\" годы не сильно меняют картину, потому как тренд все равно четко прослеживается\n",
    "\n",
    "https://www.igromania.ru/games/all/all/1986/\n"
   ]
  },
  {
   "cell_type": "code",
   "execution_count": 25,
   "metadata": {},
   "outputs": [
    {
     "data": {
      "image/png": "[encoded data removed]",
      "text/plain": [
       "<Figure size 720x360 with 1 Axes>"
      ]
     },
     "metadata": {
      "needs_background": "light"
     },
     "output_type": "display_data"
    }
   ],
   "source": [
    "df.groupby('year_of_release')['name'].count().plot(figsize=(10,5), grid=True)\n",
    "plt.title('Выпуск игр по годам')\n",
    "plt.xlabel('год выпуска')\n",
    "plt.ylabel('количество игр');"
   ]
  },
  {
   "cell_type": "markdown",
   "metadata": {},
   "source": [
    "Начало исследуемого периода начинается с очень маленького числа выпускаемых игр. Вероятно, это связано с кризисом компютерных игр (1983-1985 гг). Согласно исследованиям, падение рынка составило почти 97%:\n",
    "https://ru.wikipedia.org/wiki/Кризис_индустрии_компьютерных_игр_1983_года\n",
    "\n",
    "С 2000 года начался активный рост индустрии, пик которого пришелся на 2008 год. Далее последовал финансовый кризис, который сильно повлиял на геймдев, опустив показатели в несколько раз:\n",
    "https://dtf.ru/gameindustry/65407-igrovaya-industriya-i-finansovyy-krizis-2008-goda"
   ]
  },
  {
   "cell_type": "markdown",
   "metadata": {},
   "source": [
    "### 3.2 Динамика продаж по платформам и годам <a id=\"3.2id\"></a>"
   ]
  },
  {
   "cell_type": "markdown",
   "metadata": {},
   "source": [
    "Посмотрим, как менялись продажи по платформам. Выберем\n",
    "платформы с наибольшими суммарными продажами и построим\n",
    "распределение по годам. Узнаем, за какой характерный срок появляются\n",
    "новые и исчезают старые платформы"
   ]
  },
  {
   "cell_type": "code",
   "execution_count": 26,
   "metadata": {},
   "outputs": [
    {
     "data": {
      "text/plain": [
       "platform\n",
       "PS2     1255.77\n",
       "X360     971.42\n",
       "PS3      939.65\n",
       "Wii      907.51\n",
       "DS       806.12\n",
       "PS       730.86\n",
       "GBA      317.85\n",
       "PS4      314.14\n",
       "PSP      294.05\n",
       "PC       259.52\n",
       "3DS      259.00\n",
       "XB       257.74\n",
       "GB       255.46\n",
       "NES      251.05\n",
       "N64      218.68\n",
       "SNES     200.04\n",
       "GC       198.93\n",
       "XOne     159.32\n",
       "2600      96.98\n",
       "WiiU      82.19\n",
       "PSV       54.07\n",
       "SAT       33.59\n",
       "GEN       28.35\n",
       "DC        15.95\n",
       "SCD        1.86\n",
       "NG         1.44\n",
       "WS         1.42\n",
       "TG16       0.16\n",
       "3DO        0.10\n",
       "GG         0.04\n",
       "PCFX       0.03\n",
       "Name: total_sales, dtype: float64"
      ]
     },
     "execution_count": 26,
     "metadata": {},
     "output_type": "execute_result"
    }
   ],
   "source": [
    "# суммарные продажи по платформам\n",
    "df.groupby('platform')['total_sales'].sum().sort_values(ascending=False)"
   ]
  },
  {
   "cell_type": "markdown",
   "metadata": {},
   "source": [
    "Для наглядности построим график продаж игр по платформам за весь исследуемый период"
   ]
  },
  {
   "cell_type": "code",
   "execution_count": 27,
   "metadata": {},
   "outputs": [
    {
     "data": {
      "image/png": "[encoded data removed]",
      "text/plain": [
       "<Figure size 720x360 with 1 Axes>"
      ]
     },
     "metadata": {
      "needs_background": "light"
     },
     "output_type": "display_data"
    }
   ],
   "source": [
    "platform_rating = df.pivot_table(\n",
    "    index='platform', values='total_sales', aggfunc='sum'\n",
    ").sort_values(by='total_sales', ascending=False)\n",
    "\n",
    "plt.figure(figsize=(10,5))\n",
    "sns.barplot(x=platform_rating.index,y=platform_rating['total_sales'])\n",
    "plt.title(\"Продажи по платформам за весь период\")\n",
    "plt.xlabel(\"Название платформы\")\n",
    "plt.ylabel(\"Количество продаж\");"
   ]
  },
  {
   "cell_type": "markdown",
   "metadata": {},
   "source": [
    "Самые успешные платформы: PS2, X360, PS3, Wii, DS. Создадим переменную, в которую войдут топ 5 платформ, у которых показатели продаж выше остальных"
   ]
  },
  {
   "cell_type": "code",
   "execution_count": 28,
   "metadata": {},
   "outputs": [
    {
     "data": {
      "text/html": [
       "<div>\n",
       "<style scoped>\n",
       "    .dataframe tbody tr th:only-of-type {\n",
       "        vertical-align: middle;\n",
       "    }\n",
       "\n",
       "    .dataframe tbody tr th {\n",
       "        vertical-align: top;\n",
       "    }\n",
       "\n",
       "    .dataframe thead th {\n",
       "        text-align: right;\n",
       "    }\n",
       "</style>\n",
       "<table border=\"1\" class=\"dataframe\">\n",
       "  <thead>\n",
       "    <tr style=\"text-align: right;\">\n",
       "      <th></th>\n",
       "      <th>total_sales</th>\n",
       "    </tr>\n",
       "    <tr>\n",
       "      <th>platform</th>\n",
       "      <th></th>\n",
       "    </tr>\n",
       "  </thead>\n",
       "  <tbody>\n",
       "    <tr>\n",
       "      <th>PS2</th>\n",
       "      <td>1255.77</td>\n",
       "    </tr>\n",
       "    <tr>\n",
       "      <th>X360</th>\n",
       "      <td>971.42</td>\n",
       "    </tr>\n",
       "    <tr>\n",
       "      <th>PS3</th>\n",
       "      <td>939.65</td>\n",
       "    </tr>\n",
       "    <tr>\n",
       "      <th>Wii</th>\n",
       "      <td>907.51</td>\n",
       "    </tr>\n",
       "    <tr>\n",
       "      <th>DS</th>\n",
       "      <td>806.12</td>\n",
       "    </tr>\n",
       "  </tbody>\n",
       "</table>\n",
       "</div>"
      ],
      "text/plain": [
       "          total_sales\n",
       "platform             \n",
       "PS2           1255.77\n",
       "X360           971.42\n",
       "PS3            939.65\n",
       "Wii            907.51\n",
       "DS             806.12"
      ]
     },
     "execution_count": 28,
     "metadata": {},
     "output_type": "execute_result"
    }
   ],
   "source": [
    "top_5_platforms = df.pivot_table(\n",
    "    index='platform', values='total_sales', aggfunc='sum'\n",
    ").sort_values(by='total_sales', ascending=False).head(5)\n",
    "\n",
    "top_5_platforms"
   ]
  },
  {
   "cell_type": "markdown",
   "metadata": {},
   "source": [
    "**Самыми прибыльными платформами оказались:**\n",
    "- `Sony PlayStation 2`\n",
    "- `Xbox 360`\n",
    "- `Sony PlayStation 3`\n",
    "- `Nintendo Wii`\n",
    "- `Nintendo DS`\n",
    "\n",
    "Перезапишем датафрейм топ-5 платформ со всеми остальными данными из общей таблицы и построим распределение выпуска игр по годам"
   ]
  },
  {
   "cell_type": "code",
   "execution_count": 29,
   "metadata": {},
   "outputs": [
    {
     "data": {
      "text/html": [
       "<div>\n",
       "<style scoped>\n",
       "    .dataframe tbody tr th:only-of-type {\n",
       "        vertical-align: middle;\n",
       "    }\n",
       "\n",
       "    .dataframe tbody tr th {\n",
       "        vertical-align: top;\n",
       "    }\n",
       "\n",
       "    .dataframe thead th {\n",
       "        text-align: right;\n",
       "    }\n",
       "</style>\n",
       "<table border=\"1\" class=\"dataframe\">\n",
       "  <thead>\n",
       "    <tr style=\"text-align: right;\">\n",
       "      <th></th>\n",
       "      <th>index</th>\n",
       "      <th>name</th>\n",
       "      <th>platform</th>\n",
       "      <th>year_of_release</th>\n",
       "      <th>genre</th>\n",
       "      <th>na_sales</th>\n",
       "      <th>eu_sales</th>\n",
       "      <th>jp_sales</th>\n",
       "      <th>other_sales</th>\n",
       "      <th>critic_score</th>\n",
       "      <th>user_score</th>\n",
       "      <th>rating</th>\n",
       "      <th>total_sales</th>\n",
       "    </tr>\n",
       "  </thead>\n",
       "  <tbody>\n",
       "    <tr>\n",
       "      <th>0</th>\n",
       "      <td>0</td>\n",
       "      <td>Wii Sports</td>\n",
       "      <td>Wii</td>\n",
       "      <td>2006.0</td>\n",
       "      <td>Sports</td>\n",
       "      <td>41.36</td>\n",
       "      <td>28.96</td>\n",
       "      <td>3.77</td>\n",
       "      <td>8.45</td>\n",
       "      <td>76.0</td>\n",
       "      <td>8.0</td>\n",
       "      <td>E</td>\n",
       "      <td>82.54</td>\n",
       "    </tr>\n",
       "    <tr>\n",
       "      <th>2</th>\n",
       "      <td>2</td>\n",
       "      <td>Mario Kart Wii</td>\n",
       "      <td>Wii</td>\n",
       "      <td>2008.0</td>\n",
       "      <td>Racing</td>\n",
       "      <td>15.68</td>\n",
       "      <td>12.76</td>\n",
       "      <td>3.79</td>\n",
       "      <td>3.29</td>\n",
       "      <td>82.0</td>\n",
       "      <td>8.3</td>\n",
       "      <td>E</td>\n",
       "      <td>35.52</td>\n",
       "    </tr>\n",
       "    <tr>\n",
       "      <th>3</th>\n",
       "      <td>3</td>\n",
       "      <td>Wii Sports Resort</td>\n",
       "      <td>Wii</td>\n",
       "      <td>2009.0</td>\n",
       "      <td>Sports</td>\n",
       "      <td>15.61</td>\n",
       "      <td>10.93</td>\n",
       "      <td>3.28</td>\n",
       "      <td>2.95</td>\n",
       "      <td>80.0</td>\n",
       "      <td>8.0</td>\n",
       "      <td>E</td>\n",
       "      <td>32.77</td>\n",
       "    </tr>\n",
       "    <tr>\n",
       "      <th>6</th>\n",
       "      <td>6</td>\n",
       "      <td>New Super Mario Bros.</td>\n",
       "      <td>DS</td>\n",
       "      <td>2006.0</td>\n",
       "      <td>Platform</td>\n",
       "      <td>11.28</td>\n",
       "      <td>9.14</td>\n",
       "      <td>6.50</td>\n",
       "      <td>2.88</td>\n",
       "      <td>89.0</td>\n",
       "      <td>8.5</td>\n",
       "      <td>E</td>\n",
       "      <td>29.80</td>\n",
       "    </tr>\n",
       "    <tr>\n",
       "      <th>7</th>\n",
       "      <td>7</td>\n",
       "      <td>Wii Play</td>\n",
       "      <td>Wii</td>\n",
       "      <td>2006.0</td>\n",
       "      <td>Misc</td>\n",
       "      <td>13.96</td>\n",
       "      <td>9.18</td>\n",
       "      <td>2.93</td>\n",
       "      <td>2.84</td>\n",
       "      <td>58.0</td>\n",
       "      <td>6.6</td>\n",
       "      <td>E</td>\n",
       "      <td>28.91</td>\n",
       "    </tr>\n",
       "  </tbody>\n",
       "</table>\n",
       "</div>"
      ],
      "text/plain": [
       "   index                   name platform  year_of_release     genre  na_sales  \\\n",
       "0      0             Wii Sports      Wii           2006.0    Sports     41.36   \n",
       "2      2         Mario Kart Wii      Wii           2008.0    Racing     15.68   \n",
       "3      3      Wii Sports Resort      Wii           2009.0    Sports     15.61   \n",
       "6      6  New Super Mario Bros.       DS           2006.0  Platform     11.28   \n",
       "7      7               Wii Play      Wii           2006.0      Misc     13.96   \n",
       "\n",
       "   eu_sales  jp_sales  other_sales  critic_score  user_score rating  \\\n",
       "0     28.96      3.77         8.45          76.0         8.0      E   \n",
       "2     12.76      3.79         3.29          82.0         8.3      E   \n",
       "3     10.93      3.28         2.95          80.0         8.0      E   \n",
       "6      9.14      6.50         2.88          89.0         8.5      E   \n",
       "7      9.18      2.93         2.84          58.0         6.6      E   \n",
       "\n",
       "   total_sales  \n",
       "0        82.54  \n",
       "2        35.52  \n",
       "3        32.77  \n",
       "6        29.80  \n",
       "7        28.91  "
      ]
     },
     "execution_count": 29,
     "metadata": {},
     "output_type": "execute_result"
    }
   ],
   "source": [
    "top_5_platforms = df.query('platform in @top_5_platforms.index')\n",
    "top_5_platforms.head()"
   ]
  },
  {
   "cell_type": "code",
   "execution_count": 30,
   "metadata": {},
   "outputs": [
    {
     "data": {
      "image/png": "[encoded data removed]",
      "text/plain": [
       "<Figure size 720x360 with 1 Axes>"
      ]
     },
     "metadata": {
      "needs_background": "light"
     },
     "output_type": "display_data"
    }
   ],
   "source": [
    "top_5_platforms.pivot_table(index='year_of_release', \n",
    "                             columns='platform', \n",
    "                             values='total_sales',\n",
    "                             aggfunc='sum').plot(figsize=(10,5),\n",
    "                                                 grid=True,\n",
    "                                                 title='Распределение продаж по годам')\n",
    "plt.xlabel('год')\n",
    "plt.ylabel('суммарные продажи');"
   ]
  },
  {
   "cell_type": "markdown",
   "metadata": {},
   "source": [
    "Как видно из графика, средняя продолжительность существования платформ - 8,4 года.\n",
    "Пик роста количества платформ пришелся на 2004-2006 годы: почти каждый год появлялась новая игровая площадка"
   ]
  },
  {
   "cell_type": "markdown",
   "metadata": {},
   "source": [
    "### 3.3 Анализ актуального периода 2012 - 2016 гг <a id=\"3.3id\"></a>"
   ]
  },
  {
   "cell_type": "markdown",
   "metadata": {},
   "source": [
    "Игровая индустрия меняется очень быстро. Основываясь на графиках выпуска игр по годам, а также распределения продаж различных платформ по годам, где продолжительность жизни платформ составляет 8-10 лет, а пика своей продуктивности достигают в среднем через 2-4 года, то для построения прогноза на 2017 года целесообразно взять для анализа последние 5 лет. "
   ]
  },
  {
   "cell_type": "code",
   "execution_count": 31,
   "metadata": {},
   "outputs": [
    {
     "data": {
      "text/plain": [
       "array([2013., 2015., 2012., 2014., 2016.])"
      ]
     },
     "execution_count": 31,
     "metadata": {},
     "output_type": "execute_result"
    }
   ],
   "source": [
    "actual_period = df.loc[df['year_of_release'] >= 2012]\n",
    "actual_period['year_of_release'].unique()"
   ]
  },
  {
   "cell_type": "markdown",
   "metadata": {},
   "source": [
    "Определим лидирующие платформы по продажам, начиная с 2012 года. Выберем несколько потенциально прибыльных платформ."
   ]
  },
  {
   "cell_type": "code",
   "execution_count": 32,
   "metadata": {},
   "outputs": [
    {
     "data": {
      "text/html": [
       "<div>\n",
       "<style scoped>\n",
       "    .dataframe tbody tr th:only-of-type {\n",
       "        vertical-align: middle;\n",
       "    }\n",
       "\n",
       "    .dataframe tbody tr th {\n",
       "        vertical-align: top;\n",
       "    }\n",
       "\n",
       "    .dataframe thead th {\n",
       "        text-align: right;\n",
       "    }\n",
       "</style>\n",
       "<table border=\"1\" class=\"dataframe\">\n",
       "  <thead>\n",
       "    <tr style=\"text-align: right;\">\n",
       "      <th></th>\n",
       "      <th></th>\n",
       "      <th>total_sales</th>\n",
       "    </tr>\n",
       "    <tr>\n",
       "      <th>platform</th>\n",
       "      <th>year_of_release</th>\n",
       "      <th></th>\n",
       "    </tr>\n",
       "  </thead>\n",
       "  <tbody>\n",
       "    <tr>\n",
       "      <th rowspan=\"5\" valign=\"top\">3DS</th>\n",
       "      <th>2012.0</th>\n",
       "      <td>51.36</td>\n",
       "    </tr>\n",
       "    <tr>\n",
       "      <th>2013.0</th>\n",
       "      <td>56.57</td>\n",
       "    </tr>\n",
       "    <tr>\n",
       "      <th>2014.0</th>\n",
       "      <td>43.76</td>\n",
       "    </tr>\n",
       "    <tr>\n",
       "      <th>2015.0</th>\n",
       "      <td>27.78</td>\n",
       "    </tr>\n",
       "    <tr>\n",
       "      <th>2016.0</th>\n",
       "      <td>15.14</td>\n",
       "    </tr>\n",
       "    <tr>\n",
       "      <th rowspan=\"2\" valign=\"top\">DS</th>\n",
       "      <th>2012.0</th>\n",
       "      <td>11.01</td>\n",
       "    </tr>\n",
       "    <tr>\n",
       "      <th>2013.0</th>\n",
       "      <td>1.54</td>\n",
       "    </tr>\n",
       "    <tr>\n",
       "      <th rowspan=\"5\" valign=\"top\">PC</th>\n",
       "      <th>2012.0</th>\n",
       "      <td>23.22</td>\n",
       "    </tr>\n",
       "    <tr>\n",
       "      <th>2013.0</th>\n",
       "      <td>12.38</td>\n",
       "    </tr>\n",
       "    <tr>\n",
       "      <th>2014.0</th>\n",
       "      <td>13.28</td>\n",
       "    </tr>\n",
       "    <tr>\n",
       "      <th>2015.0</th>\n",
       "      <td>8.52</td>\n",
       "    </tr>\n",
       "    <tr>\n",
       "      <th>2016.0</th>\n",
       "      <td>5.25</td>\n",
       "    </tr>\n",
       "    <tr>\n",
       "      <th rowspan=\"5\" valign=\"top\">PS3</th>\n",
       "      <th>2012.0</th>\n",
       "      <td>107.36</td>\n",
       "    </tr>\n",
       "    <tr>\n",
       "      <th>2013.0</th>\n",
       "      <td>113.25</td>\n",
       "    </tr>\n",
       "    <tr>\n",
       "      <th>2014.0</th>\n",
       "      <td>47.76</td>\n",
       "    </tr>\n",
       "    <tr>\n",
       "      <th>2015.0</th>\n",
       "      <td>16.82</td>\n",
       "    </tr>\n",
       "    <tr>\n",
       "      <th>2016.0</th>\n",
       "      <td>3.60</td>\n",
       "    </tr>\n",
       "    <tr>\n",
       "      <th rowspan=\"4\" valign=\"top\">PS4</th>\n",
       "      <th>2013.0</th>\n",
       "      <td>25.99</td>\n",
       "    </tr>\n",
       "    <tr>\n",
       "      <th>2014.0</th>\n",
       "      <td>100.00</td>\n",
       "    </tr>\n",
       "    <tr>\n",
       "      <th>2015.0</th>\n",
       "      <td>118.90</td>\n",
       "    </tr>\n",
       "    <tr>\n",
       "      <th>2016.0</th>\n",
       "      <td>69.25</td>\n",
       "    </tr>\n",
       "    <tr>\n",
       "      <th rowspan=\"4\" valign=\"top\">PSP</th>\n",
       "      <th>2012.0</th>\n",
       "      <td>7.69</td>\n",
       "    </tr>\n",
       "    <tr>\n",
       "      <th>2013.0</th>\n",
       "      <td>3.14</td>\n",
       "    </tr>\n",
       "    <tr>\n",
       "      <th>2014.0</th>\n",
       "      <td>0.24</td>\n",
       "    </tr>\n",
       "    <tr>\n",
       "      <th>2015.0</th>\n",
       "      <td>0.12</td>\n",
       "    </tr>\n",
       "    <tr>\n",
       "      <th rowspan=\"5\" valign=\"top\">PSV</th>\n",
       "      <th>2012.0</th>\n",
       "      <td>16.19</td>\n",
       "    </tr>\n",
       "    <tr>\n",
       "      <th>2013.0</th>\n",
       "      <td>10.59</td>\n",
       "    </tr>\n",
       "    <tr>\n",
       "      <th>2014.0</th>\n",
       "      <td>11.90</td>\n",
       "    </tr>\n",
       "    <tr>\n",
       "      <th>2015.0</th>\n",
       "      <td>6.25</td>\n",
       "    </tr>\n",
       "    <tr>\n",
       "      <th>2016.0</th>\n",
       "      <td>4.25</td>\n",
       "    </tr>\n",
       "    <tr>\n",
       "      <th rowspan=\"5\" valign=\"top\">Wii</th>\n",
       "      <th>2012.0</th>\n",
       "      <td>21.71</td>\n",
       "    </tr>\n",
       "    <tr>\n",
       "      <th>2013.0</th>\n",
       "      <td>8.59</td>\n",
       "    </tr>\n",
       "    <tr>\n",
       "      <th>2014.0</th>\n",
       "      <td>3.75</td>\n",
       "    </tr>\n",
       "    <tr>\n",
       "      <th>2015.0</th>\n",
       "      <td>1.14</td>\n",
       "    </tr>\n",
       "    <tr>\n",
       "      <th>2016.0</th>\n",
       "      <td>0.18</td>\n",
       "    </tr>\n",
       "    <tr>\n",
       "      <th rowspan=\"5\" valign=\"top\">WiiU</th>\n",
       "      <th>2012.0</th>\n",
       "      <td>17.56</td>\n",
       "    </tr>\n",
       "    <tr>\n",
       "      <th>2013.0</th>\n",
       "      <td>21.65</td>\n",
       "    </tr>\n",
       "    <tr>\n",
       "      <th>2014.0</th>\n",
       "      <td>22.03</td>\n",
       "    </tr>\n",
       "    <tr>\n",
       "      <th>2015.0</th>\n",
       "      <td>16.35</td>\n",
       "    </tr>\n",
       "    <tr>\n",
       "      <th>2016.0</th>\n",
       "      <td>4.60</td>\n",
       "    </tr>\n",
       "    <tr>\n",
       "      <th rowspan=\"5\" valign=\"top\">X360</th>\n",
       "      <th>2012.0</th>\n",
       "      <td>99.74</td>\n",
       "    </tr>\n",
       "    <tr>\n",
       "      <th>2013.0</th>\n",
       "      <td>88.58</td>\n",
       "    </tr>\n",
       "    <tr>\n",
       "      <th>2014.0</th>\n",
       "      <td>34.74</td>\n",
       "    </tr>\n",
       "    <tr>\n",
       "      <th>2015.0</th>\n",
       "      <td>11.96</td>\n",
       "    </tr>\n",
       "    <tr>\n",
       "      <th>2016.0</th>\n",
       "      <td>1.52</td>\n",
       "    </tr>\n",
       "    <tr>\n",
       "      <th rowspan=\"4\" valign=\"top\">XOne</th>\n",
       "      <th>2013.0</th>\n",
       "      <td>18.96</td>\n",
       "    </tr>\n",
       "    <tr>\n",
       "      <th>2014.0</th>\n",
       "      <td>54.07</td>\n",
       "    </tr>\n",
       "    <tr>\n",
       "      <th>2015.0</th>\n",
       "      <td>60.14</td>\n",
       "    </tr>\n",
       "    <tr>\n",
       "      <th>2016.0</th>\n",
       "      <td>26.15</td>\n",
       "    </tr>\n",
       "  </tbody>\n",
       "</table>\n",
       "</div>"
      ],
      "text/plain": [
       "                          total_sales\n",
       "platform year_of_release             \n",
       "3DS      2012.0                 51.36\n",
       "         2013.0                 56.57\n",
       "         2014.0                 43.76\n",
       "         2015.0                 27.78\n",
       "         2016.0                 15.14\n",
       "DS       2012.0                 11.01\n",
       "         2013.0                  1.54\n",
       "PC       2012.0                 23.22\n",
       "         2013.0                 12.38\n",
       "         2014.0                 13.28\n",
       "         2015.0                  8.52\n",
       "         2016.0                  5.25\n",
       "PS3      2012.0                107.36\n",
       "         2013.0                113.25\n",
       "         2014.0                 47.76\n",
       "         2015.0                 16.82\n",
       "         2016.0                  3.60\n",
       "PS4      2013.0                 25.99\n",
       "         2014.0                100.00\n",
       "         2015.0                118.90\n",
       "         2016.0                 69.25\n",
       "PSP      2012.0                  7.69\n",
       "         2013.0                  3.14\n",
       "         2014.0                  0.24\n",
       "         2015.0                  0.12\n",
       "PSV      2012.0                 16.19\n",
       "         2013.0                 10.59\n",
       "         2014.0                 11.90\n",
       "         2015.0                  6.25\n",
       "         2016.0                  4.25\n",
       "Wii      2012.0                 21.71\n",
       "         2013.0                  8.59\n",
       "         2014.0                  3.75\n",
       "         2015.0                  1.14\n",
       "         2016.0                  0.18\n",
       "WiiU     2012.0                 17.56\n",
       "         2013.0                 21.65\n",
       "         2014.0                 22.03\n",
       "         2015.0                 16.35\n",
       "         2016.0                  4.60\n",
       "X360     2012.0                 99.74\n",
       "         2013.0                 88.58\n",
       "         2014.0                 34.74\n",
       "         2015.0                 11.96\n",
       "         2016.0                  1.52\n",
       "XOne     2013.0                 18.96\n",
       "         2014.0                 54.07\n",
       "         2015.0                 60.14\n",
       "         2016.0                 26.15"
      ]
     },
     "execution_count": 32,
     "metadata": {},
     "output_type": "execute_result"
    }
   ],
   "source": [
    "best_sales_platform = pd.pivot_table(actual_period, index=['platform','year_of_release'], \n",
    "                                     values='total_sales', aggfunc = 'sum')\n",
    "best_sales_platform"
   ]
  },
  {
   "cell_type": "code",
   "execution_count": 33,
   "metadata": {},
   "outputs": [
    {
     "data": {
      "text/html": [
       "<div>\n",
       "<style scoped>\n",
       "    .dataframe tbody tr th:only-of-type {\n",
       "        vertical-align: middle;\n",
       "    }\n",
       "\n",
       "    .dataframe tbody tr th {\n",
       "        vertical-align: top;\n",
       "    }\n",
       "\n",
       "    .dataframe thead th {\n",
       "        text-align: right;\n",
       "    }\n",
       "</style>\n",
       "<table border=\"1\" class=\"dataframe\">\n",
       "  <thead>\n",
       "    <tr style=\"text-align: right;\">\n",
       "      <th></th>\n",
       "      <th>total_sales</th>\n",
       "    </tr>\n",
       "    <tr>\n",
       "      <th>platform</th>\n",
       "      <th></th>\n",
       "    </tr>\n",
       "  </thead>\n",
       "  <tbody>\n",
       "    <tr>\n",
       "      <th>PS4</th>\n",
       "      <td>314.14</td>\n",
       "    </tr>\n",
       "    <tr>\n",
       "      <th>PS3</th>\n",
       "      <td>288.79</td>\n",
       "    </tr>\n",
       "    <tr>\n",
       "      <th>X360</th>\n",
       "      <td>236.54</td>\n",
       "    </tr>\n",
       "    <tr>\n",
       "      <th>3DS</th>\n",
       "      <td>194.61</td>\n",
       "    </tr>\n",
       "    <tr>\n",
       "      <th>XOne</th>\n",
       "      <td>159.32</td>\n",
       "    </tr>\n",
       "    <tr>\n",
       "      <th>WiiU</th>\n",
       "      <td>82.19</td>\n",
       "    </tr>\n",
       "    <tr>\n",
       "      <th>PC</th>\n",
       "      <td>62.65</td>\n",
       "    </tr>\n",
       "    <tr>\n",
       "      <th>PSV</th>\n",
       "      <td>49.18</td>\n",
       "    </tr>\n",
       "    <tr>\n",
       "      <th>Wii</th>\n",
       "      <td>35.37</td>\n",
       "    </tr>\n",
       "    <tr>\n",
       "      <th>DS</th>\n",
       "      <td>12.55</td>\n",
       "    </tr>\n",
       "    <tr>\n",
       "      <th>PSP</th>\n",
       "      <td>11.19</td>\n",
       "    </tr>\n",
       "  </tbody>\n",
       "</table>\n",
       "</div>"
      ],
      "text/plain": [
       "          total_sales\n",
       "platform             \n",
       "PS4            314.14\n",
       "PS3            288.79\n",
       "X360           236.54\n",
       "3DS            194.61\n",
       "XOne           159.32\n",
       "WiiU            82.19\n",
       "PC              62.65\n",
       "PSV             49.18\n",
       "Wii             35.37\n",
       "DS              12.55\n",
       "PSP             11.19"
      ]
     },
     "execution_count": 33,
     "metadata": {},
     "output_type": "execute_result"
    }
   ],
   "source": [
    "# сгруппируем платформы и посчитаем суммарные продажи\n",
    "best_sales_platform = pd.pivot_table(actual_period, index='platform', \n",
    "                                     values='total_sales', aggfunc = 'sum')\n",
    "best_sales_platform.sort_values('total_sales', ascending=False)"
   ]
  },
  {
   "cell_type": "markdown",
   "metadata": {},
   "source": [
    "Лидирующие по продажам платформы за последние пять лет: PS3, X360, PS4, XOne, 3DS.\n",
    "Рост продаж за изучаемый период заметен у платформ PS4, XOne, WiiU.\n",
    "Падают продажи у 3DS, DS, PC, Wii, X360"
   ]
  },
  {
   "cell_type": "markdown",
   "metadata": {},
   "source": [
    "Теперь снова из актуального периода выберем топ-5 платформ и построим для них ящики с усами."
   ]
  },
  {
   "cell_type": "code",
   "execution_count": 34,
   "metadata": {},
   "outputs": [
    {
     "data": {
      "text/html": [
       "<div>\n",
       "<style scoped>\n",
       "    .dataframe tbody tr th:only-of-type {\n",
       "        vertical-align: middle;\n",
       "    }\n",
       "\n",
       "    .dataframe tbody tr th {\n",
       "        vertical-align: top;\n",
       "    }\n",
       "\n",
       "    .dataframe thead th {\n",
       "        text-align: right;\n",
       "    }\n",
       "</style>\n",
       "<table border=\"1\" class=\"dataframe\">\n",
       "  <thead>\n",
       "    <tr style=\"text-align: right;\">\n",
       "      <th></th>\n",
       "      <th>total_sales</th>\n",
       "    </tr>\n",
       "    <tr>\n",
       "      <th>platform</th>\n",
       "      <th></th>\n",
       "    </tr>\n",
       "  </thead>\n",
       "  <tbody>\n",
       "    <tr>\n",
       "      <th>PS4</th>\n",
       "      <td>314.14</td>\n",
       "    </tr>\n",
       "    <tr>\n",
       "      <th>PS3</th>\n",
       "      <td>288.79</td>\n",
       "    </tr>\n",
       "    <tr>\n",
       "      <th>X360</th>\n",
       "      <td>236.54</td>\n",
       "    </tr>\n",
       "    <tr>\n",
       "      <th>3DS</th>\n",
       "      <td>194.61</td>\n",
       "    </tr>\n",
       "    <tr>\n",
       "      <th>XOne</th>\n",
       "      <td>159.32</td>\n",
       "    </tr>\n",
       "  </tbody>\n",
       "</table>\n",
       "</div>"
      ],
      "text/plain": [
       "          total_sales\n",
       "platform             \n",
       "PS4            314.14\n",
       "PS3            288.79\n",
       "X360           236.54\n",
       "3DS            194.61\n",
       "XOne           159.32"
      ]
     },
     "execution_count": 34,
     "metadata": {},
     "output_type": "execute_result"
    }
   ],
   "source": [
    "# выбираем пять самых успешных платформ с 2012 года\n",
    "\n",
    "top_5 = best_sales_platform.sort_values(by='total_sales', ascending=False).head(5)\n",
    "\n",
    "top_5"
   ]
  },
  {
   "cell_type": "code",
   "execution_count": 35,
   "metadata": {},
   "outputs": [
    {
     "data": {
      "text/html": [
       "<div>\n",
       "<style scoped>\n",
       "    .dataframe tbody tr th:only-of-type {\n",
       "        vertical-align: middle;\n",
       "    }\n",
       "\n",
       "    .dataframe tbody tr th {\n",
       "        vertical-align: top;\n",
       "    }\n",
       "\n",
       "    .dataframe thead th {\n",
       "        text-align: right;\n",
       "    }\n",
       "</style>\n",
       "<table border=\"1\" class=\"dataframe\">\n",
       "  <thead>\n",
       "    <tr style=\"text-align: right;\">\n",
       "      <th></th>\n",
       "      <th>index</th>\n",
       "      <th>name</th>\n",
       "      <th>platform</th>\n",
       "      <th>year_of_release</th>\n",
       "      <th>genre</th>\n",
       "      <th>na_sales</th>\n",
       "      <th>eu_sales</th>\n",
       "      <th>jp_sales</th>\n",
       "      <th>other_sales</th>\n",
       "      <th>critic_score</th>\n",
       "      <th>user_score</th>\n",
       "      <th>rating</th>\n",
       "      <th>total_sales</th>\n",
       "    </tr>\n",
       "  </thead>\n",
       "  <tbody>\n",
       "    <tr>\n",
       "      <th>16</th>\n",
       "      <td>16</td>\n",
       "      <td>Grand Theft Auto V</td>\n",
       "      <td>PS3</td>\n",
       "      <td>2013.0</td>\n",
       "      <td>Action</td>\n",
       "      <td>7.02</td>\n",
       "      <td>9.09</td>\n",
       "      <td>0.98</td>\n",
       "      <td>3.96</td>\n",
       "      <td>97.0</td>\n",
       "      <td>8.2</td>\n",
       "      <td>M</td>\n",
       "      <td>21.05</td>\n",
       "    </tr>\n",
       "    <tr>\n",
       "      <th>23</th>\n",
       "      <td>23</td>\n",
       "      <td>Grand Theft Auto V</td>\n",
       "      <td>X360</td>\n",
       "      <td>2013.0</td>\n",
       "      <td>Action</td>\n",
       "      <td>9.66</td>\n",
       "      <td>5.14</td>\n",
       "      <td>0.06</td>\n",
       "      <td>1.41</td>\n",
       "      <td>97.0</td>\n",
       "      <td>8.1</td>\n",
       "      <td>M</td>\n",
       "      <td>16.27</td>\n",
       "    </tr>\n",
       "    <tr>\n",
       "      <th>31</th>\n",
       "      <td>31</td>\n",
       "      <td>Call of Duty: Black Ops 3</td>\n",
       "      <td>PS4</td>\n",
       "      <td>2015.0</td>\n",
       "      <td>Shooter</td>\n",
       "      <td>6.03</td>\n",
       "      <td>5.86</td>\n",
       "      <td>0.36</td>\n",
       "      <td>2.38</td>\n",
       "      <td>NaN</td>\n",
       "      <td>NaN</td>\n",
       "      <td>NaN</td>\n",
       "      <td>14.63</td>\n",
       "    </tr>\n",
       "    <tr>\n",
       "      <th>33</th>\n",
       "      <td>33</td>\n",
       "      <td>Pokemon X/Pokemon Y</td>\n",
       "      <td>3DS</td>\n",
       "      <td>2013.0</td>\n",
       "      <td>Role-Playing</td>\n",
       "      <td>5.28</td>\n",
       "      <td>4.19</td>\n",
       "      <td>4.35</td>\n",
       "      <td>0.78</td>\n",
       "      <td>NaN</td>\n",
       "      <td>NaN</td>\n",
       "      <td>NaN</td>\n",
       "      <td>14.60</td>\n",
       "    </tr>\n",
       "    <tr>\n",
       "      <th>34</th>\n",
       "      <td>34</td>\n",
       "      <td>Call of Duty: Black Ops II</td>\n",
       "      <td>PS3</td>\n",
       "      <td>2012.0</td>\n",
       "      <td>Shooter</td>\n",
       "      <td>4.99</td>\n",
       "      <td>5.73</td>\n",
       "      <td>0.65</td>\n",
       "      <td>2.42</td>\n",
       "      <td>83.0</td>\n",
       "      <td>5.3</td>\n",
       "      <td>M</td>\n",
       "      <td>13.79</td>\n",
       "    </tr>\n",
       "    <tr>\n",
       "      <th>...</th>\n",
       "      <td>...</td>\n",
       "      <td>...</td>\n",
       "      <td>...</td>\n",
       "      <td>...</td>\n",
       "      <td>...</td>\n",
       "      <td>...</td>\n",
       "      <td>...</td>\n",
       "      <td>...</td>\n",
       "      <td>...</td>\n",
       "      <td>...</td>\n",
       "      <td>...</td>\n",
       "      <td>...</td>\n",
       "      <td>...</td>\n",
       "    </tr>\n",
       "    <tr>\n",
       "      <th>16670</th>\n",
       "      <td>16672</td>\n",
       "      <td>Metal Gear Solid V: The Definitive Experience</td>\n",
       "      <td>XOne</td>\n",
       "      <td>2016.0</td>\n",
       "      <td>Action</td>\n",
       "      <td>0.01</td>\n",
       "      <td>0.00</td>\n",
       "      <td>0.00</td>\n",
       "      <td>0.00</td>\n",
       "      <td>NaN</td>\n",
       "      <td>NaN</td>\n",
       "      <td>M</td>\n",
       "      <td>0.01</td>\n",
       "    </tr>\n",
       "    <tr>\n",
       "      <th>16672</th>\n",
       "      <td>16674</td>\n",
       "      <td>Tsukigime Ranko's Longest Day</td>\n",
       "      <td>PS3</td>\n",
       "      <td>2014.0</td>\n",
       "      <td>Action</td>\n",
       "      <td>0.00</td>\n",
       "      <td>0.01</td>\n",
       "      <td>0.00</td>\n",
       "      <td>0.00</td>\n",
       "      <td>NaN</td>\n",
       "      <td>NaN</td>\n",
       "      <td>NaN</td>\n",
       "      <td>0.01</td>\n",
       "    </tr>\n",
       "    <tr>\n",
       "      <th>16675</th>\n",
       "      <td>16677</td>\n",
       "      <td>Aikatsu Stars! My Special Appeal</td>\n",
       "      <td>3DS</td>\n",
       "      <td>2016.0</td>\n",
       "      <td>Action</td>\n",
       "      <td>0.00</td>\n",
       "      <td>0.00</td>\n",
       "      <td>0.01</td>\n",
       "      <td>0.00</td>\n",
       "      <td>NaN</td>\n",
       "      <td>NaN</td>\n",
       "      <td>NaN</td>\n",
       "      <td>0.01</td>\n",
       "    </tr>\n",
       "    <tr>\n",
       "      <th>16689</th>\n",
       "      <td>16691</td>\n",
       "      <td>Dynasty Warriors: Eiketsuden</td>\n",
       "      <td>PS3</td>\n",
       "      <td>2016.0</td>\n",
       "      <td>Action</td>\n",
       "      <td>0.00</td>\n",
       "      <td>0.00</td>\n",
       "      <td>0.01</td>\n",
       "      <td>0.00</td>\n",
       "      <td>NaN</td>\n",
       "      <td>NaN</td>\n",
       "      <td>NaN</td>\n",
       "      <td>0.01</td>\n",
       "    </tr>\n",
       "    <tr>\n",
       "      <th>16708</th>\n",
       "      <td>16710</td>\n",
       "      <td>Samurai Warriors: Sanada Maru</td>\n",
       "      <td>PS3</td>\n",
       "      <td>2016.0</td>\n",
       "      <td>Action</td>\n",
       "      <td>0.00</td>\n",
       "      <td>0.00</td>\n",
       "      <td>0.01</td>\n",
       "      <td>0.00</td>\n",
       "      <td>NaN</td>\n",
       "      <td>NaN</td>\n",
       "      <td>NaN</td>\n",
       "      <td>0.01</td>\n",
       "    </tr>\n",
       "  </tbody>\n",
       "</table>\n",
       "<p>1820 rows × 13 columns</p>\n",
       "</div>"
      ],
      "text/plain": [
       "       index                                           name platform  \\\n",
       "16        16                             Grand Theft Auto V      PS3   \n",
       "23        23                             Grand Theft Auto V     X360   \n",
       "31        31                      Call of Duty: Black Ops 3      PS4   \n",
       "33        33                            Pokemon X/Pokemon Y      3DS   \n",
       "34        34                     Call of Duty: Black Ops II      PS3   \n",
       "...      ...                                            ...      ...   \n",
       "16670  16672  Metal Gear Solid V: The Definitive Experience     XOne   \n",
       "16672  16674                  Tsukigime Ranko's Longest Day      PS3   \n",
       "16675  16677               Aikatsu Stars! My Special Appeal      3DS   \n",
       "16689  16691                   Dynasty Warriors: Eiketsuden      PS3   \n",
       "16708  16710                  Samurai Warriors: Sanada Maru      PS3   \n",
       "\n",
       "       year_of_release         genre  na_sales  eu_sales  jp_sales  \\\n",
       "16              2013.0        Action      7.02      9.09      0.98   \n",
       "23              2013.0        Action      9.66      5.14      0.06   \n",
       "31              2015.0       Shooter      6.03      5.86      0.36   \n",
       "33              2013.0  Role-Playing      5.28      4.19      4.35   \n",
       "34              2012.0       Shooter      4.99      5.73      0.65   \n",
       "...                ...           ...       ...       ...       ...   \n",
       "16670           2016.0        Action      0.01      0.00      0.00   \n",
       "16672           2014.0        Action      0.00      0.01      0.00   \n",
       "16675           2016.0        Action      0.00      0.00      0.01   \n",
       "16689           2016.0        Action      0.00      0.00      0.01   \n",
       "16708           2016.0        Action      0.00      0.00      0.01   \n",
       "\n",
       "       other_sales  critic_score  user_score rating  total_sales  \n",
       "16            3.96          97.0         8.2      M        21.05  \n",
       "23            1.41          97.0         8.1      M        16.27  \n",
       "31            2.38           NaN         NaN    NaN        14.63  \n",
       "33            0.78           NaN         NaN    NaN        14.60  \n",
       "34            2.42          83.0         5.3      M        13.79  \n",
       "...            ...           ...         ...    ...          ...  \n",
       "16670         0.00           NaN         NaN      M         0.01  \n",
       "16672         0.00           NaN         NaN    NaN         0.01  \n",
       "16675         0.00           NaN         NaN    NaN         0.01  \n",
       "16689         0.00           NaN         NaN    NaN         0.01  \n",
       "16708         0.00           NaN         NaN    NaN         0.01  \n",
       "\n",
       "[1820 rows x 13 columns]"
      ]
     },
     "execution_count": 35,
     "metadata": {},
     "output_type": "execute_result"
    }
   ],
   "source": [
    "# восстановим остальные данные по выбранным платформам\n",
    "\n",
    "top_5 = df.query('platform in @top_5.index and year_of_release > 2011 ')\n",
    "top_5"
   ]
  },
  {
   "cell_type": "code",
   "execution_count": 36,
   "metadata": {},
   "outputs": [
    {
     "data": {
      "image/png": "[encoded data removed]",
      "text/plain": [
       "<Figure size 432x288 with 1 Axes>"
      ]
     },
     "metadata": {
      "needs_background": "light"
     },
     "output_type": "display_data"
    }
   ],
   "source": [
    "# построим ящик с усами\n",
    "\n",
    "sns.boxplot(data=top_5, x='platform', y='total_sales')\n",
    "plt.title('Ящик с усами')\n",
    "plt.xlabel('Платформа')\n",
    "plt.ylabel('Глобальные продажи');"
   ]
  },
  {
   "cell_type": "markdown",
   "metadata": {},
   "source": [
    "Построим чуть ближе, чтобы были видны показатели медиан"
   ]
  },
  {
   "cell_type": "code",
   "execution_count": 37,
   "metadata": {},
   "outputs": [
    {
     "data": {
      "image/png": "[encoded data removed]",
      "text/plain": [
       "<Figure size 360x360 with 1 Axes>"
      ]
     },
     "metadata": {
      "needs_background": "light"
     },
     "output_type": "display_data"
    }
   ],
   "source": [
    "plt.figure(figsize=(5,5))\n",
    "plt.ylim(0,3)\n",
    "plt.title('Ящик с усами')\n",
    "sns.boxplot(x='platform',y='total_sales',data=top_5)\n",
    "plt.xlabel('Платформа')\n",
    "plt.ylabel('Глобальные продажи');"
   ]
  },
  {
   "cell_type": "markdown",
   "metadata": {},
   "source": [
    "Все распределения скошены вправо. Большую неоднородность продаж замечаем у X360 и PS3. Использование этих платформ более растянуто во времени. Возможно, это связано с тем, что платформы продолжали покупаться, несмотря на появление платформ следующего поколения (XOne и PS4), однако стоимость на них стала более доступной.\n",
    "Наибольшие медианные значения у X360, PS3 и PS4. Максимальных продаж достигли X360, PS3. \n",
    "Можно предположить, что в следующие годы платформы новго поколения PS4 и XOne будут продлжать быть популярными и увеличат свои суммарные продажи."
   ]
  },
  {
   "cell_type": "markdown",
   "metadata": {},
   "source": [
    "### 3.4 Влияние отзывов на продажи <a id=\"3.4id\"></a>"
   ]
  },
  {
   "cell_type": "markdown",
   "metadata": {},
   "source": [
    "Проверим, как влияют на продажи внутри одной популярной платформы отзывы пользователей и критиков."
   ]
  },
  {
   "cell_type": "code",
   "execution_count": 38,
   "metadata": {},
   "outputs": [
    {
     "data": {
      "text/html": [
       "<div>\n",
       "<style scoped>\n",
       "    .dataframe tbody tr th:only-of-type {\n",
       "        vertical-align: middle;\n",
       "    }\n",
       "\n",
       "    .dataframe tbody tr th {\n",
       "        vertical-align: top;\n",
       "    }\n",
       "\n",
       "    .dataframe thead th {\n",
       "        text-align: right;\n",
       "    }\n",
       "</style>\n",
       "<table border=\"1\" class=\"dataframe\">\n",
       "  <thead>\n",
       "    <tr style=\"text-align: right;\">\n",
       "      <th></th>\n",
       "      <th>index</th>\n",
       "      <th>name</th>\n",
       "      <th>platform</th>\n",
       "      <th>year_of_release</th>\n",
       "      <th>genre</th>\n",
       "      <th>na_sales</th>\n",
       "      <th>eu_sales</th>\n",
       "      <th>jp_sales</th>\n",
       "      <th>other_sales</th>\n",
       "      <th>critic_score</th>\n",
       "      <th>user_score</th>\n",
       "      <th>rating</th>\n",
       "      <th>total_sales</th>\n",
       "    </tr>\n",
       "  </thead>\n",
       "  <tbody>\n",
       "    <tr>\n",
       "      <th>31</th>\n",
       "      <td>31</td>\n",
       "      <td>Call of Duty: Black Ops 3</td>\n",
       "      <td>PS4</td>\n",
       "      <td>2015.0</td>\n",
       "      <td>Shooter</td>\n",
       "      <td>6.03</td>\n",
       "      <td>5.86</td>\n",
       "      <td>0.36</td>\n",
       "      <td>2.38</td>\n",
       "      <td>NaN</td>\n",
       "      <td>NaN</td>\n",
       "      <td>NaN</td>\n",
       "      <td>14.63</td>\n",
       "    </tr>\n",
       "    <tr>\n",
       "      <th>42</th>\n",
       "      <td>42</td>\n",
       "      <td>Grand Theft Auto V</td>\n",
       "      <td>PS4</td>\n",
       "      <td>2014.0</td>\n",
       "      <td>Action</td>\n",
       "      <td>3.96</td>\n",
       "      <td>6.31</td>\n",
       "      <td>0.38</td>\n",
       "      <td>1.97</td>\n",
       "      <td>97.0</td>\n",
       "      <td>8.3</td>\n",
       "      <td>M</td>\n",
       "      <td>12.62</td>\n",
       "    </tr>\n",
       "    <tr>\n",
       "      <th>77</th>\n",
       "      <td>77</td>\n",
       "      <td>FIFA 16</td>\n",
       "      <td>PS4</td>\n",
       "      <td>2015.0</td>\n",
       "      <td>Sports</td>\n",
       "      <td>1.12</td>\n",
       "      <td>6.12</td>\n",
       "      <td>0.06</td>\n",
       "      <td>1.28</td>\n",
       "      <td>82.0</td>\n",
       "      <td>4.3</td>\n",
       "      <td>E</td>\n",
       "      <td>8.58</td>\n",
       "    </tr>\n",
       "  </tbody>\n",
       "</table>\n",
       "</div>"
      ],
      "text/plain": [
       "    index                       name platform  year_of_release    genre  \\\n",
       "31     31  Call of Duty: Black Ops 3      PS4           2015.0  Shooter   \n",
       "42     42         Grand Theft Auto V      PS4           2014.0   Action   \n",
       "77     77                    FIFA 16      PS4           2015.0   Sports   \n",
       "\n",
       "    na_sales  eu_sales  jp_sales  other_sales  critic_score  user_score  \\\n",
       "31      6.03      5.86      0.36         2.38           NaN         NaN   \n",
       "42      3.96      6.31      0.38         1.97          97.0         8.3   \n",
       "77      1.12      6.12      0.06         1.28          82.0         4.3   \n",
       "\n",
       "   rating  total_sales  \n",
       "31    NaN        14.63  \n",
       "42      M        12.62  \n",
       "77      E         8.58  "
      ]
     },
     "execution_count": 38,
     "metadata": {},
     "output_type": "execute_result"
    }
   ],
   "source": [
    "# вынесем все данные платформы PS4 в отдельный датафрейм\n",
    "ps4_platform = top_5.query('platform == \"PS4\"')\n",
    "ps4_platform.head(3)"
   ]
  },
  {
   "cell_type": "markdown",
   "metadata": {},
   "source": [
    "Посчитаем коэффициент корреляции, дисперсию, среднее, медиану и отобразим зависимость на диаграмме рассеяния для платформы PS4."
   ]
  },
  {
   "cell_type": "code",
   "execution_count": 39,
   "metadata": {},
   "outputs": [
    {
     "name": "stdout",
     "output_type": "stream",
     "text": [
      "Коэффициент корреляции: 0.40656790206178095\n",
      "Дисперсия: 155.28135235575712\n",
      "Стандартное отклонение: 12.46119385756265\n"
     ]
    },
    {
     "data": {
      "image/png": "[encoded data removed]",
      "text/plain": [
       "<Figure size 432x288 with 1 Axes>"
      ]
     },
     "metadata": {
      "needs_background": "light"
     },
     "output_type": "display_data"
    }
   ],
   "source": [
    "print('Коэффициент корреляции:', ps4_platform['critic_score'].corr(ps4_platform['total_sales']))\n",
    "print('Дисперсия:', np.var(ps4_platform['critic_score']))\n",
    "print('Стандартное отклонение:', np.std(ps4_platform['critic_score']))\n",
    "\n",
    "ps4_platform.plot(x='critic_score', y='total_sales', kind='scatter', alpha = 0.5)\n",
    "plt.title('Зависимость продаж от оценки критиков')\n",
    "plt.xlabel('Оценка критиков')\n",
    "plt.ylabel('Общие продажи');"
   ]
  },
  {
   "cell_type": "markdown",
   "metadata": {},
   "source": [
    "Связь между оценками критиков и продажами игр прослеживается. Однако она недостаточно большая, чтобы утверждать, что существует прямая зависимость между показателями."
   ]
  },
  {
   "cell_type": "code",
   "execution_count": 40,
   "metadata": {},
   "outputs": [],
   "source": [
    "ps4_platform['user_score'] = ps4_platform['user_score'].astype('float')"
   ]
  },
  {
   "cell_type": "code",
   "execution_count": 41,
   "metadata": {},
   "outputs": [
    {
     "name": "stdout",
     "output_type": "stream",
     "text": [
      "Коэффициент корреляции: -0.031957110204556424\n",
      "Дисперсия: 2.121796544989326\n",
      "Стандартное отклонение: 1.4566387832916319\n"
     ]
    },
    {
     "data": {
      "image/png": "[encoded data removed]",
      "text/plain": [
       "<Figure size 432x288 with 1 Axes>"
      ]
     },
     "metadata": {
      "needs_background": "light"
     },
     "output_type": "display_data"
    }
   ],
   "source": [
    "print('Коэффициент корреляции:', ps4_platform['user_score'].corr(ps4_platform['total_sales']))\n",
    "print('Дисперсия:', np.var(ps4_platform['user_score']))\n",
    "print('Стандартное отклонение:', np.std(ps4_platform['user_score']))\n",
    "\n",
    "ps4_platform.plot(x='user_score', y='total_sales', kind='scatter', alpha = 0.5)\n",
    "plt.title('Зависимость продаж от оценки пользователей')\n",
    "plt.xlabel('Оценка пользователей')\n",
    "plt.ylabel('Общие продажи');"
   ]
  },
  {
   "cell_type": "markdown",
   "metadata": {},
   "source": [
    "Связь между оценками пользователей и уровнем продаж очень слабая. Невозможно утвержать, что оценки в данном случае могут как-то повлиять на продажи."
   ]
  },
  {
   "cell_type": "markdown",
   "metadata": {},
   "source": [
    "Сохраним топ-5 платформ в отдельный список"
   ]
  },
  {
   "cell_type": "code",
   "execution_count": 42,
   "metadata": {},
   "outputs": [],
   "source": [
    "top_5_list = ['X360','PS3','3DS','PS4','XOne']"
   ]
  },
  {
   "cell_type": "code",
   "execution_count": 43,
   "metadata": {},
   "outputs": [
    {
     "data": {
      "text/plain": [
       "['X360', 'PS3', '3DS', 'PS4', 'XOne']"
      ]
     },
     "execution_count": 43,
     "metadata": {},
     "output_type": "execute_result"
    }
   ],
   "source": [
    "top_5_list"
   ]
  },
  {
   "cell_type": "code",
   "execution_count": 44,
   "metadata": {},
   "outputs": [],
   "source": [
    "def scatter_table(name_of_platform):\n",
    "    platform = top_5[top_5['platform']==name_of_platform]\n",
    "    fig, ax = plt.subplots(1 ,2, figsize=(15,5))\n",
    "    sns.scatterplot(x='user_score', y='total_sales', data=platform, ax=ax[0])\n",
    "    sns.scatterplot(x='critic_score', y='total_sales', data=platform, ax=ax[1])\n",
    "    fig.suptitle(name_of_platform, fontsize=15)\n",
    "    ax[0].set(xlabel='Оценка пользователей')\n",
    "    ax[1].set(xlabel='Оценка критиков')\n",
    "    ax[0].set(ylabel='Количество продаж')\n",
    "    ax[1].set(ylabel='Количество продаж')\n",
    "    plt.show()\n",
    "    \n",
    "    correl = platform['user_score'].corr(platform['total_sales'])\n",
    "    critic_correl = platform['critic_score'].corr(platform['total_sales'])\n",
    "    \n",
    "    print('Зависимость продаж от оценок пользователей:', round(correl,4))\n",
    "    print('Зависимость продаж от оценок критиков:', round(critic_correl,4))\n",
    "    "
   ]
  },
  {
   "cell_type": "code",
   "execution_count": 45,
   "metadata": {
    "scrolled": false
   },
   "outputs": [
    {
     "data": {
      "image/png": "[encoded data removed]",
      "text/plain": [
       "<Figure size 1080x360 with 2 Axes>"
      ]
     },
     "metadata": {
      "needs_background": "light"
     },
     "output_type": "display_data"
    },
    {
     "name": "stdout",
     "output_type": "stream",
     "text": [
      "Зависимость продаж от оценок пользователей: 0.0062\n",
      "Зависимость продаж от оценок критиков: 0.3606\n"
     ]
    },
    {
     "data": {
      "image/png": "[encoded data removed]",
      "text/plain": [
       "<Figure size 1080x360 with 2 Axes>"
      ]
     },
     "metadata": {
      "needs_background": "light"
     },
     "output_type": "display_data"
    },
    {
     "name": "stdout",
     "output_type": "stream",
     "text": [
      "Зависимость продаж от оценок пользователей: -0.0051\n",
      "Зависимость продаж от оценок критиков: 0.3315\n"
     ]
    },
    {
     "data": {
      "image/png": "[encoded data removed]",
      "text/plain": [
       "<Figure size 1080x360 with 2 Axes>"
      ]
     },
     "metadata": {
      "needs_background": "light"
     },
     "output_type": "display_data"
    },
    {
     "name": "stdout",
     "output_type": "stream",
     "text": [
      "Зависимость продаж от оценок пользователей: 0.1976\n",
      "Зависимость продаж от оценок критиков: 0.3208\n"
     ]
    },
    {
     "data": {
      "image/png": "[encoded data removed]",
      "text/plain": [
       "<Figure size 1080x360 with 2 Axes>"
      ]
     },
     "metadata": {
      "needs_background": "light"
     },
     "output_type": "display_data"
    },
    {
     "name": "stdout",
     "output_type": "stream",
     "text": [
      "Зависимость продаж от оценок пользователей: -0.032\n",
      "Зависимость продаж от оценок критиков: 0.4066\n"
     ]
    },
    {
     "data": {
      "image/png": "[encoded data removed]",
      "text/plain": [
       "<Figure size 1080x360 with 2 Axes>"
      ]
     },
     "metadata": {
      "needs_background": "light"
     },
     "output_type": "display_data"
    },
    {
     "name": "stdout",
     "output_type": "stream",
     "text": [
      "Зависимость продаж от оценок пользователей: -0.0689\n",
      "Зависимость продаж от оценок критиков: 0.417\n"
     ]
    }
   ],
   "source": [
    "for platform in top_5_list:\n",
    "    scatter_table(platform)"
   ]
  },
  {
   "cell_type": "markdown",
   "metadata": {},
   "source": [
    "Зависимость продаж от оценок пользователей по всем платформам очень мала. В некоторых случая - даже отрицательна. А вот говорить о влиянии оцено критиков на продажи мы все-таки можем."
   ]
  },
  {
   "cell_type": "markdown",
   "metadata": {},
   "source": [
    "### 3.5 Распределение игр по жанрам <a id=\"3.5id\"></a>"
   ]
  },
  {
   "cell_type": "markdown",
   "metadata": {},
   "source": [
    "Чтобы оценить размеры самых продаваемых жанров, создадим сводную таблицу по жанрам игр и сумме их продаж. Для наглядности построим диаграмму"
   ]
  },
  {
   "cell_type": "code",
   "execution_count": 46,
   "metadata": {},
   "outputs": [
    {
     "data": {
      "text/html": [
       "<div>\n",
       "<style scoped>\n",
       "    .dataframe tbody tr th:only-of-type {\n",
       "        vertical-align: middle;\n",
       "    }\n",
       "\n",
       "    .dataframe tbody tr th {\n",
       "        vertical-align: top;\n",
       "    }\n",
       "\n",
       "    .dataframe thead th {\n",
       "        text-align: right;\n",
       "    }\n",
       "</style>\n",
       "<table border=\"1\" class=\"dataframe\">\n",
       "  <thead>\n",
       "    <tr style=\"text-align: right;\">\n",
       "      <th></th>\n",
       "      <th>total_sales</th>\n",
       "    </tr>\n",
       "    <tr>\n",
       "      <th>genre</th>\n",
       "      <th></th>\n",
       "    </tr>\n",
       "  </thead>\n",
       "  <tbody>\n",
       "    <tr>\n",
       "      <th>Action</th>\n",
       "      <td>376.25</td>\n",
       "    </tr>\n",
       "    <tr>\n",
       "      <th>Shooter</th>\n",
       "      <td>282.11</td>\n",
       "    </tr>\n",
       "    <tr>\n",
       "      <th>Sports</th>\n",
       "      <td>167.81</td>\n",
       "    </tr>\n",
       "    <tr>\n",
       "      <th>Role-Playing</th>\n",
       "      <td>151.26</td>\n",
       "    </tr>\n",
       "    <tr>\n",
       "      <th>Misc</th>\n",
       "      <td>48.78</td>\n",
       "    </tr>\n",
       "    <tr>\n",
       "      <th>Racing</th>\n",
       "      <td>42.18</td>\n",
       "    </tr>\n",
       "    <tr>\n",
       "      <th>Fighting</th>\n",
       "      <td>35.53</td>\n",
       "    </tr>\n",
       "    <tr>\n",
       "      <th>Platform</th>\n",
       "      <td>34.13</td>\n",
       "    </tr>\n",
       "    <tr>\n",
       "      <th>Simulation</th>\n",
       "      <td>25.16</td>\n",
       "    </tr>\n",
       "    <tr>\n",
       "      <th>Adventure</th>\n",
       "      <td>22.68</td>\n",
       "    </tr>\n",
       "    <tr>\n",
       "      <th>Strategy</th>\n",
       "      <td>4.79</td>\n",
       "    </tr>\n",
       "    <tr>\n",
       "      <th>Puzzle</th>\n",
       "      <td>2.72</td>\n",
       "    </tr>\n",
       "  </tbody>\n",
       "</table>\n",
       "</div>"
      ],
      "text/plain": [
       "              total_sales\n",
       "genre                    \n",
       "Action             376.25\n",
       "Shooter            282.11\n",
       "Sports             167.81\n",
       "Role-Playing       151.26\n",
       "Misc                48.78\n",
       "Racing              42.18\n",
       "Fighting            35.53\n",
       "Platform            34.13\n",
       "Simulation          25.16\n",
       "Adventure           22.68\n",
       "Strategy             4.79\n",
       "Puzzle               2.72"
      ]
     },
     "execution_count": 46,
     "metadata": {},
     "output_type": "execute_result"
    }
   ],
   "source": [
    "sales_by_genre = top_5.pivot_table(\n",
    "    index='genre', values='total_sales', aggfunc='sum').sort_values(by='total_sales', ascending=False)\n",
    "sales_by_genre"
   ]
  },
  {
   "cell_type": "code",
   "execution_count": 47,
   "metadata": {},
   "outputs": [
    {
     "data": {
      "image/png": "[encoded data removed]",
      "text/plain": [
       "<Figure size 432x432 with 1 Axes>"
      ]
     },
     "metadata": {},
     "output_type": "display_data"
    }
   ],
   "source": [
    "sales_by_genre.plot.pie(subplots=True, figsize=(6, 6))\n",
    "plt.legend(title='Продажи по жанрам', bbox_to_anchor=(1.3, 1), loc='upper left');"
   ]
  },
  {
   "cell_type": "markdown",
   "metadata": {},
   "source": [
    "Чтобы оценить какие жанры стабильно приносят высокий доход, рассчитаем по медианным значениям."
   ]
  },
  {
   "cell_type": "code",
   "execution_count": 48,
   "metadata": {},
   "outputs": [
    {
     "data": {
      "text/html": [
       "<div>\n",
       "<style scoped>\n",
       "    .dataframe tbody tr th:only-of-type {\n",
       "        vertical-align: middle;\n",
       "    }\n",
       "\n",
       "    .dataframe tbody tr th {\n",
       "        vertical-align: top;\n",
       "    }\n",
       "\n",
       "    .dataframe thead th {\n",
       "        text-align: right;\n",
       "    }\n",
       "</style>\n",
       "<table border=\"1\" class=\"dataframe\">\n",
       "  <thead>\n",
       "    <tr style=\"text-align: right;\">\n",
       "      <th></th>\n",
       "      <th>genre</th>\n",
       "      <th>total_sales</th>\n",
       "    </tr>\n",
       "  </thead>\n",
       "  <tbody>\n",
       "    <tr>\n",
       "      <th>0</th>\n",
       "      <td>Shooter</td>\n",
       "      <td>0.585</td>\n",
       "    </tr>\n",
       "    <tr>\n",
       "      <th>1</th>\n",
       "      <td>Sports</td>\n",
       "      <td>0.390</td>\n",
       "    </tr>\n",
       "    <tr>\n",
       "      <th>2</th>\n",
       "      <td>Racing</td>\n",
       "      <td>0.225</td>\n",
       "    </tr>\n",
       "    <tr>\n",
       "      <th>3</th>\n",
       "      <td>Platform</td>\n",
       "      <td>0.210</td>\n",
       "    </tr>\n",
       "    <tr>\n",
       "      <th>4</th>\n",
       "      <td>Role-Playing</td>\n",
       "      <td>0.200</td>\n",
       "    </tr>\n",
       "    <tr>\n",
       "      <th>5</th>\n",
       "      <td>Fighting</td>\n",
       "      <td>0.180</td>\n",
       "    </tr>\n",
       "    <tr>\n",
       "      <th>6</th>\n",
       "      <td>Action</td>\n",
       "      <td>0.170</td>\n",
       "    </tr>\n",
       "    <tr>\n",
       "      <th>7</th>\n",
       "      <td>Misc</td>\n",
       "      <td>0.150</td>\n",
       "    </tr>\n",
       "    <tr>\n",
       "      <th>8</th>\n",
       "      <td>Simulation</td>\n",
       "      <td>0.130</td>\n",
       "    </tr>\n",
       "    <tr>\n",
       "      <th>9</th>\n",
       "      <td>Strategy</td>\n",
       "      <td>0.085</td>\n",
       "    </tr>\n",
       "    <tr>\n",
       "      <th>10</th>\n",
       "      <td>Puzzle</td>\n",
       "      <td>0.070</td>\n",
       "    </tr>\n",
       "    <tr>\n",
       "      <th>11</th>\n",
       "      <td>Adventure</td>\n",
       "      <td>0.060</td>\n",
       "    </tr>\n",
       "  </tbody>\n",
       "</table>\n",
       "</div>"
      ],
      "text/plain": [
       "           genre  total_sales\n",
       "0        Shooter        0.585\n",
       "1         Sports        0.390\n",
       "2         Racing        0.225\n",
       "3       Platform        0.210\n",
       "4   Role-Playing        0.200\n",
       "5       Fighting        0.180\n",
       "6         Action        0.170\n",
       "7           Misc        0.150\n",
       "8     Simulation        0.130\n",
       "9       Strategy        0.085\n",
       "10        Puzzle        0.070\n",
       "11     Adventure        0.060"
      ]
     },
     "execution_count": 48,
     "metadata": {},
     "output_type": "execute_result"
    }
   ],
   "source": [
    "sales_by_genre_median = top_5.pivot_table(\n",
    "    index='genre', values='total_sales', aggfunc='median'\n",
    ").sort_values(by='total_sales', ascending=False).reset_index()\n",
    "sales_by_genre_median"
   ]
  },
  {
   "cell_type": "code",
   "execution_count": 49,
   "metadata": {},
   "outputs": [
    {
     "data": {
      "image/png": "[encoded data removed]",
      "text/plain": [
       "<Figure size 720x360 with 1 Axes>"
      ]
     },
     "metadata": {
      "needs_background": "light"
     },
     "output_type": "display_data"
    }
   ],
   "source": [
    "plt.figure(figsize=(10,5))\n",
    "plt.title('Распределение игр по жанрам ')\n",
    "sns.barplot(data=sales_by_genre_median, x='genre', y='total_sales')\n",
    "plt.xlabel('Жанры игр')\n",
    "plt.ylabel('Продажи');"
   ]
  },
  {
   "cell_type": "markdown",
   "metadata": {},
   "source": [
    "Самыми прибыльными жанрами по суммарным продажам за изучаемый период оказались: Action, Sports, Shooter, Role-Playing. \n",
    "Для медианных значений таковыми оказались Fighting, Sports, Misc, Shooter.\n",
    "Скорее всего, именно эти жанры больше всего вовлекают пользователя в процесс и помогают абстрагироваться от реальной жизни. Подобные игры \"затягивают\" пользователя в другой мир. При планировании рекламной компании на следующий год необходимо делать ставку именно на эти жанры.\n",
    "На последних местах в обоих случаях оказались Adventure, Strategy и Puzzle, которые, как правило требуют большей концентрации и обдумывания."
   ]
  },
  {
   "cell_type": "markdown",
   "metadata": {},
   "source": [
    "**Вывод**"
   ]
  },
  {
   "cell_type": "markdown",
   "metadata": {},
   "source": [
    "Изучив динамику игровых платформ в промежутке с 1985 по 2016 года, мы зафиксировали достаточной долгий подъем индустрии после кризиса 1983-1985 гг в течение последующих 10 лет. С 2000 гг. вплоть до 2008 рынок резко возрастал и развивался, после чего случился спад в связи с финансовой ситуацией в мире.\n",
    "\n",
    "Для того, чтобы при подготовке рекламных компаний возможно было опираться на актуальные данные, мы ограничили выборку данными за последние пять лет (с 2012 года).\n",
    "\n",
    "Определили, что в среднем продолжительность жизни платформы составляет 8,4 лет. Через 2-4 года платформа достигает пика своих показателей, после продажи идут на спад, а на место старой платформы на рынок выходит ее обновленная версия.\n",
    "\n",
    "Оценка зависимости объема продаж от оценок пользователей и критиков не сильно большая. Тем не менее, вероятно, критики могут в какой-то степени влиять на продажи.\n",
    "\n",
    "Самыми продаваемыми игровыми жанрами оказались Action, Sports, Shooter, Role-Playing.\n",
    "Медианные значения наибольшие у Fighting, Sports, Misc, Shooter."
   ]
  },
  {
   "cell_type": "markdown",
   "metadata": {},
   "source": [
    "## 4. Портреты пользователей по регионам <a id=\"4id\"></a>"
   ]
  },
  {
   "cell_type": "markdown",
   "metadata": {},
   "source": [
    "Создадим портреты пользователей за последние пять лет. Определим для пользователя каждого региона (NA, EU, JP) следующие параметры:\n",
    "\n",
    "- Самые популярные платформы (топ-5)\n",
    "- Самые популярные жанры (топ-5)\n",
    "- Влияет ли рейтинг ESRB на продажи в отдельном регионе?"
   ]
  },
  {
   "cell_type": "markdown",
   "metadata": {},
   "source": [
    "Создадим функию, которая будет принимать на вход три параметра:\n",
    "- index - платформа, жанр, рейтинг\n",
    "- region - рассматриваемый регион\n",
    "- title - название графика"
   ]
  },
  {
   "cell_type": "code",
   "execution_count": 50,
   "metadata": {},
   "outputs": [],
   "source": [
    "def user_portrait(index, region, title):\n",
    "    region_stat = top_5.pivot_table(\n",
    "        index=index, values=region, aggfunc='sum'\n",
    "    ).sort_values(by=region, ascending=False).reset_index().head(5)\n",
    "    display(region_stat)\n",
    "\n",
    "    plt.figure(figsize=(10,5))\n",
    "    plt.title(title)\n",
    "    sns.barplot(data=region_stat, x=index, y=region)\n",
    "    plt.xlabel(index)\n",
    "    plt.ylabel('Продажи');"
   ]
  },
  {
   "cell_type": "markdown",
   "metadata": {},
   "source": [
    "### 4.1 Портрет пользователя Северной Америки <a id=\"4.1id\"></a>"
   ]
  },
  {
   "cell_type": "code",
   "execution_count": 51,
   "metadata": {},
   "outputs": [
    {
     "data": {
      "text/html": [
       "<div>\n",
       "<style scoped>\n",
       "    .dataframe tbody tr th:only-of-type {\n",
       "        vertical-align: middle;\n",
       "    }\n",
       "\n",
       "    .dataframe tbody tr th {\n",
       "        vertical-align: top;\n",
       "    }\n",
       "\n",
       "    .dataframe thead th {\n",
       "        text-align: right;\n",
       "    }\n",
       "</style>\n",
       "<table border=\"1\" class=\"dataframe\">\n",
       "  <thead>\n",
       "    <tr style=\"text-align: right;\">\n",
       "      <th></th>\n",
       "      <th>platform</th>\n",
       "      <th>na_sales</th>\n",
       "    </tr>\n",
       "  </thead>\n",
       "  <tbody>\n",
       "    <tr>\n",
       "      <th>0</th>\n",
       "      <td>X360</td>\n",
       "      <td>140.05</td>\n",
       "    </tr>\n",
       "    <tr>\n",
       "      <th>1</th>\n",
       "      <td>PS4</td>\n",
       "      <td>108.74</td>\n",
       "    </tr>\n",
       "    <tr>\n",
       "      <th>2</th>\n",
       "      <td>PS3</td>\n",
       "      <td>103.38</td>\n",
       "    </tr>\n",
       "    <tr>\n",
       "      <th>3</th>\n",
       "      <td>XOne</td>\n",
       "      <td>93.12</td>\n",
       "    </tr>\n",
       "    <tr>\n",
       "      <th>4</th>\n",
       "      <td>3DS</td>\n",
       "      <td>55.31</td>\n",
       "    </tr>\n",
       "  </tbody>\n",
       "</table>\n",
       "</div>"
      ],
      "text/plain": [
       "  platform  na_sales\n",
       "0     X360    140.05\n",
       "1      PS4    108.74\n",
       "2      PS3    103.38\n",
       "3     XOne     93.12\n",
       "4      3DS     55.31"
      ]
     },
     "metadata": {},
     "output_type": "display_data"
    },
    {
     "data": {
      "image/png": "[encoded data removed]",
      "text/plain": [
       "<Figure size 720x360 with 1 Axes>"
      ]
     },
     "metadata": {
      "needs_background": "light"
     },
     "output_type": "display_data"
    }
   ],
   "source": [
    "# популярные платформы\n",
    "\n",
    "user_portrait('platform', 'na_sales', 'Популярные платформы в Северной Америке')"
   ]
  },
  {
   "cell_type": "code",
   "execution_count": 52,
   "metadata": {},
   "outputs": [
    {
     "data": {
      "text/html": [
       "<div>\n",
       "<style scoped>\n",
       "    .dataframe tbody tr th:only-of-type {\n",
       "        vertical-align: middle;\n",
       "    }\n",
       "\n",
       "    .dataframe tbody tr th {\n",
       "        vertical-align: top;\n",
       "    }\n",
       "\n",
       "    .dataframe thead th {\n",
       "        text-align: right;\n",
       "    }\n",
       "</style>\n",
       "<table border=\"1\" class=\"dataframe\">\n",
       "  <thead>\n",
       "    <tr style=\"text-align: right;\">\n",
       "      <th></th>\n",
       "      <th>genre</th>\n",
       "      <th>na_sales</th>\n",
       "    </tr>\n",
       "  </thead>\n",
       "  <tbody>\n",
       "    <tr>\n",
       "      <th>0</th>\n",
       "      <td>Action</td>\n",
       "      <td>153.47</td>\n",
       "    </tr>\n",
       "    <tr>\n",
       "      <th>1</th>\n",
       "      <td>Shooter</td>\n",
       "      <td>136.53</td>\n",
       "    </tr>\n",
       "    <tr>\n",
       "      <th>2</th>\n",
       "      <td>Sports</td>\n",
       "      <td>77.65</td>\n",
       "    </tr>\n",
       "    <tr>\n",
       "      <th>3</th>\n",
       "      <td>Role-Playing</td>\n",
       "      <td>51.81</td>\n",
       "    </tr>\n",
       "    <tr>\n",
       "      <th>4</th>\n",
       "      <td>Misc</td>\n",
       "      <td>22.86</td>\n",
       "    </tr>\n",
       "  </tbody>\n",
       "</table>\n",
       "</div>"
      ],
      "text/plain": [
       "          genre  na_sales\n",
       "0        Action    153.47\n",
       "1       Shooter    136.53\n",
       "2        Sports     77.65\n",
       "3  Role-Playing     51.81\n",
       "4          Misc     22.86"
      ]
     },
     "metadata": {},
     "output_type": "display_data"
    },
    {
     "data": {
      "image/png": "[encoded data removed]",
      "text/plain": [
       "<Figure size 720x360 with 1 Axes>"
      ]
     },
     "metadata": {
      "needs_background": "light"
     },
     "output_type": "display_data"
    }
   ],
   "source": [
    "# популярные жанры\n",
    "\n",
    "user_portrait('genre', 'na_sales', 'Популярные жанры в Северной Америке')"
   ]
  },
  {
   "cell_type": "code",
   "execution_count": 53,
   "metadata": {},
   "outputs": [
    {
     "data": {
      "text/html": [
       "<div>\n",
       "<style scoped>\n",
       "    .dataframe tbody tr th:only-of-type {\n",
       "        vertical-align: middle;\n",
       "    }\n",
       "\n",
       "    .dataframe tbody tr th {\n",
       "        vertical-align: top;\n",
       "    }\n",
       "\n",
       "    .dataframe thead th {\n",
       "        text-align: right;\n",
       "    }\n",
       "</style>\n",
       "<table border=\"1\" class=\"dataframe\">\n",
       "  <thead>\n",
       "    <tr style=\"text-align: right;\">\n",
       "      <th></th>\n",
       "      <th>rating</th>\n",
       "      <th>na_sales</th>\n",
       "    </tr>\n",
       "  </thead>\n",
       "  <tbody>\n",
       "    <tr>\n",
       "      <th>0</th>\n",
       "      <td>M</td>\n",
       "      <td>214.11</td>\n",
       "    </tr>\n",
       "    <tr>\n",
       "      <th>1</th>\n",
       "      <td>E</td>\n",
       "      <td>93.39</td>\n",
       "    </tr>\n",
       "    <tr>\n",
       "      <th>2</th>\n",
       "      <td>T</td>\n",
       "      <td>56.07</td>\n",
       "    </tr>\n",
       "    <tr>\n",
       "      <th>3</th>\n",
       "      <td>E10+</td>\n",
       "      <td>47.99</td>\n",
       "    </tr>\n",
       "  </tbody>\n",
       "</table>\n",
       "</div>"
      ],
      "text/plain": [
       "  rating  na_sales\n",
       "0      M    214.11\n",
       "1      E     93.39\n",
       "2      T     56.07\n",
       "3   E10+     47.99"
      ]
     },
     "metadata": {},
     "output_type": "display_data"
    },
    {
     "data": {
      "image/png": "[encoded data removed]",
      "text/plain": [
       "<Figure size 720x360 with 1 Axes>"
      ]
     },
     "metadata": {
      "needs_background": "light"
     },
     "output_type": "display_data"
    }
   ],
   "source": [
    "# влияние рейтинга на продажи\n",
    "\n",
    "user_portrait('rating', 'na_sales', 'Влияние рейтинга на продажи в Северной Америке')"
   ]
  },
  {
   "cell_type": "markdown",
   "metadata": {},
   "source": [
    "- **Популярные платформы:** X360, PS3, PS4, XOne, 3DS.\t\n",
    "- **Популярные жанры игр:** Shooter, Action, Sports, Role-Playing, Misc.\n",
    "- **Влияние рейтинга:** Больше всего продавались игры с рейтингами: \"От 17 лет\", «Подросткам 13—19 лет», \"Для всех\""
   ]
  },
  {
   "cell_type": "markdown",
   "metadata": {},
   "source": [
    "### 4.2 Портрет пользователя Европы <a id=\"4.2id\"></a>"
   ]
  },
  {
   "cell_type": "code",
   "execution_count": 54,
   "metadata": {},
   "outputs": [
    {
     "data": {
      "text/html": [
       "<div>\n",
       "<style scoped>\n",
       "    .dataframe tbody tr th:only-of-type {\n",
       "        vertical-align: middle;\n",
       "    }\n",
       "\n",
       "    .dataframe tbody tr th {\n",
       "        vertical-align: top;\n",
       "    }\n",
       "\n",
       "    .dataframe thead th {\n",
       "        text-align: right;\n",
       "    }\n",
       "</style>\n",
       "<table border=\"1\" class=\"dataframe\">\n",
       "  <thead>\n",
       "    <tr style=\"text-align: right;\">\n",
       "      <th></th>\n",
       "      <th>platform</th>\n",
       "      <th>eu_sales</th>\n",
       "    </tr>\n",
       "  </thead>\n",
       "  <tbody>\n",
       "    <tr>\n",
       "      <th>0</th>\n",
       "      <td>PS4</td>\n",
       "      <td>141.09</td>\n",
       "    </tr>\n",
       "    <tr>\n",
       "      <th>1</th>\n",
       "      <td>PS3</td>\n",
       "      <td>106.86</td>\n",
       "    </tr>\n",
       "    <tr>\n",
       "      <th>2</th>\n",
       "      <td>X360</td>\n",
       "      <td>74.52</td>\n",
       "    </tr>\n",
       "    <tr>\n",
       "      <th>3</th>\n",
       "      <td>XOne</td>\n",
       "      <td>51.59</td>\n",
       "    </tr>\n",
       "    <tr>\n",
       "      <th>4</th>\n",
       "      <td>3DS</td>\n",
       "      <td>42.64</td>\n",
       "    </tr>\n",
       "  </tbody>\n",
       "</table>\n",
       "</div>"
      ],
      "text/plain": [
       "  platform  eu_sales\n",
       "0      PS4    141.09\n",
       "1      PS3    106.86\n",
       "2     X360     74.52\n",
       "3     XOne     51.59\n",
       "4      3DS     42.64"
      ]
     },
     "metadata": {},
     "output_type": "display_data"
    },
    {
     "data": {
      "image/png": "[encoded data removed]",
      "text/plain": [
       "<Figure size 720x360 with 1 Axes>"
      ]
     },
     "metadata": {
      "needs_background": "light"
     },
     "output_type": "display_data"
    }
   ],
   "source": [
    "# популярные платформы в Европе\n",
    "\n",
    "user_portrait('platform', 'eu_sales', 'Популярные платформы в Европе')"
   ]
  },
  {
   "cell_type": "code",
   "execution_count": 55,
   "metadata": {},
   "outputs": [
    {
     "data": {
      "text/html": [
       "<div>\n",
       "<style scoped>\n",
       "    .dataframe tbody tr th:only-of-type {\n",
       "        vertical-align: middle;\n",
       "    }\n",
       "\n",
       "    .dataframe tbody tr th {\n",
       "        vertical-align: top;\n",
       "    }\n",
       "\n",
       "    .dataframe thead th {\n",
       "        text-align: right;\n",
       "    }\n",
       "</style>\n",
       "<table border=\"1\" class=\"dataframe\">\n",
       "  <thead>\n",
       "    <tr style=\"text-align: right;\">\n",
       "      <th></th>\n",
       "      <th>genre</th>\n",
       "      <th>eu_sales</th>\n",
       "    </tr>\n",
       "  </thead>\n",
       "  <tbody>\n",
       "    <tr>\n",
       "      <th>0</th>\n",
       "      <td>Action</td>\n",
       "      <td>136.51</td>\n",
       "    </tr>\n",
       "    <tr>\n",
       "      <th>1</th>\n",
       "      <td>Shooter</td>\n",
       "      <td>102.87</td>\n",
       "    </tr>\n",
       "    <tr>\n",
       "      <th>2</th>\n",
       "      <td>Sports</td>\n",
       "      <td>63.30</td>\n",
       "    </tr>\n",
       "    <tr>\n",
       "      <th>3</th>\n",
       "      <td>Role-Playing</td>\n",
       "      <td>38.04</td>\n",
       "    </tr>\n",
       "    <tr>\n",
       "      <th>4</th>\n",
       "      <td>Racing</td>\n",
       "      <td>22.70</td>\n",
       "    </tr>\n",
       "  </tbody>\n",
       "</table>\n",
       "</div>"
      ],
      "text/plain": [
       "          genre  eu_sales\n",
       "0        Action    136.51\n",
       "1       Shooter    102.87\n",
       "2        Sports     63.30\n",
       "3  Role-Playing     38.04\n",
       "4        Racing     22.70"
      ]
     },
     "metadata": {},
     "output_type": "display_data"
    },
    {
     "data": {
      "image/png": "[encoded data removed]",
      "text/plain": [
       "<Figure size 720x360 with 1 Axes>"
      ]
     },
     "metadata": {
      "needs_background": "light"
     },
     "output_type": "display_data"
    }
   ],
   "source": [
    "# популярные жанры\n",
    "\n",
    "user_portrait('genre', 'eu_sales', 'Популярные жанры в Европе')"
   ]
  },
  {
   "cell_type": "code",
   "execution_count": 56,
   "metadata": {},
   "outputs": [
    {
     "data": {
      "text/html": [
       "<div>\n",
       "<style scoped>\n",
       "    .dataframe tbody tr th:only-of-type {\n",
       "        vertical-align: middle;\n",
       "    }\n",
       "\n",
       "    .dataframe tbody tr th {\n",
       "        vertical-align: top;\n",
       "    }\n",
       "\n",
       "    .dataframe thead th {\n",
       "        text-align: right;\n",
       "    }\n",
       "</style>\n",
       "<table border=\"1\" class=\"dataframe\">\n",
       "  <thead>\n",
       "    <tr style=\"text-align: right;\">\n",
       "      <th></th>\n",
       "      <th>rating</th>\n",
       "      <th>eu_sales</th>\n",
       "    </tr>\n",
       "  </thead>\n",
       "  <tbody>\n",
       "    <tr>\n",
       "      <th>0</th>\n",
       "      <td>M</td>\n",
       "      <td>172.57</td>\n",
       "    </tr>\n",
       "    <tr>\n",
       "      <th>1</th>\n",
       "      <td>E</td>\n",
       "      <td>91.71</td>\n",
       "    </tr>\n",
       "    <tr>\n",
       "      <th>2</th>\n",
       "      <td>T</td>\n",
       "      <td>41.78</td>\n",
       "    </tr>\n",
       "    <tr>\n",
       "      <th>3</th>\n",
       "      <td>E10+</td>\n",
       "      <td>34.22</td>\n",
       "    </tr>\n",
       "  </tbody>\n",
       "</table>\n",
       "</div>"
      ],
      "text/plain": [
       "  rating  eu_sales\n",
       "0      M    172.57\n",
       "1      E     91.71\n",
       "2      T     41.78\n",
       "3   E10+     34.22"
      ]
     },
     "metadata": {},
     "output_type": "display_data"
    },
    {
     "data": {
      "image/png": "[encoded data removed]",
      "text/plain": [
       "<Figure size 720x360 with 1 Axes>"
      ]
     },
     "metadata": {
      "needs_background": "light"
     },
     "output_type": "display_data"
    }
   ],
   "source": [
    "# влияние рейтинга на продажи\n",
    "\n",
    "user_portrait('rating', 'eu_sales', 'Влияние рейтинга на продажи в Европе')"
   ]
  },
  {
   "cell_type": "markdown",
   "metadata": {},
   "source": [
    "- **Популярные платформы:** PS3, X360, PS4, XOne, 3DS\n",
    "- **Популярные жанры:** Action, Shooter, Sports, Racing, Role-Playing\n",
    "- **Влияние рейтинга:** Больше всего продавались игры с рейтингами: \"От 17 лет\", «Подросткам 13—19 лет», \"Для всех\""
   ]
  },
  {
   "cell_type": "markdown",
   "metadata": {},
   "source": [
    "### 4.3 Портрет пользователя Японии <a id=\"4.3id\"></a>"
   ]
  },
  {
   "cell_type": "code",
   "execution_count": 57,
   "metadata": {},
   "outputs": [
    {
     "data": {
      "text/html": [
       "<div>\n",
       "<style scoped>\n",
       "    .dataframe tbody tr th:only-of-type {\n",
       "        vertical-align: middle;\n",
       "    }\n",
       "\n",
       "    .dataframe tbody tr th {\n",
       "        vertical-align: top;\n",
       "    }\n",
       "\n",
       "    .dataframe thead th {\n",
       "        text-align: right;\n",
       "    }\n",
       "</style>\n",
       "<table border=\"1\" class=\"dataframe\">\n",
       "  <thead>\n",
       "    <tr style=\"text-align: right;\">\n",
       "      <th></th>\n",
       "      <th>platform</th>\n",
       "      <th>jp_sales</th>\n",
       "    </tr>\n",
       "  </thead>\n",
       "  <tbody>\n",
       "    <tr>\n",
       "      <th>0</th>\n",
       "      <td>3DS</td>\n",
       "      <td>87.79</td>\n",
       "    </tr>\n",
       "    <tr>\n",
       "      <th>1</th>\n",
       "      <td>PS3</td>\n",
       "      <td>35.29</td>\n",
       "    </tr>\n",
       "    <tr>\n",
       "      <th>2</th>\n",
       "      <td>PS4</td>\n",
       "      <td>15.96</td>\n",
       "    </tr>\n",
       "    <tr>\n",
       "      <th>3</th>\n",
       "      <td>X360</td>\n",
       "      <td>1.57</td>\n",
       "    </tr>\n",
       "    <tr>\n",
       "      <th>4</th>\n",
       "      <td>XOne</td>\n",
       "      <td>0.34</td>\n",
       "    </tr>\n",
       "  </tbody>\n",
       "</table>\n",
       "</div>"
      ],
      "text/plain": [
       "  platform  jp_sales\n",
       "0      3DS     87.79\n",
       "1      PS3     35.29\n",
       "2      PS4     15.96\n",
       "3     X360      1.57\n",
       "4     XOne      0.34"
      ]
     },
     "metadata": {},
     "output_type": "display_data"
    },
    {
     "data": {
      "image/png": "[encoded data removed]",
      "text/plain": [
       "<Figure size 720x360 with 1 Axes>"
      ]
     },
     "metadata": {
      "needs_background": "light"
     },
     "output_type": "display_data"
    }
   ],
   "source": [
    "# популярные платформы в Японии \n",
    "\n",
    "user_portrait('platform', 'jp_sales', 'Популярные платформы в Японии')"
   ]
  },
  {
   "cell_type": "code",
   "execution_count": 58,
   "metadata": {},
   "outputs": [
    {
     "data": {
      "text/html": [
       "<div>\n",
       "<style scoped>\n",
       "    .dataframe tbody tr th:only-of-type {\n",
       "        vertical-align: middle;\n",
       "    }\n",
       "\n",
       "    .dataframe tbody tr th {\n",
       "        vertical-align: top;\n",
       "    }\n",
       "\n",
       "    .dataframe thead th {\n",
       "        text-align: right;\n",
       "    }\n",
       "</style>\n",
       "<table border=\"1\" class=\"dataframe\">\n",
       "  <thead>\n",
       "    <tr style=\"text-align: right;\">\n",
       "      <th></th>\n",
       "      <th>genre</th>\n",
       "      <th>jp_sales</th>\n",
       "    </tr>\n",
       "  </thead>\n",
       "  <tbody>\n",
       "    <tr>\n",
       "      <th>0</th>\n",
       "      <td>Role-Playing</td>\n",
       "      <td>49.49</td>\n",
       "    </tr>\n",
       "    <tr>\n",
       "      <th>1</th>\n",
       "      <td>Action</td>\n",
       "      <td>40.95</td>\n",
       "    </tr>\n",
       "    <tr>\n",
       "      <th>2</th>\n",
       "      <td>Simulation</td>\n",
       "      <td>10.23</td>\n",
       "    </tr>\n",
       "    <tr>\n",
       "      <th>3</th>\n",
       "      <td>Shooter</td>\n",
       "      <td>7.58</td>\n",
       "    </tr>\n",
       "    <tr>\n",
       "      <th>4</th>\n",
       "      <td>Fighting</td>\n",
       "      <td>7.41</td>\n",
       "    </tr>\n",
       "  </tbody>\n",
       "</table>\n",
       "</div>"
      ],
      "text/plain": [
       "          genre  jp_sales\n",
       "0  Role-Playing     49.49\n",
       "1        Action     40.95\n",
       "2    Simulation     10.23\n",
       "3       Shooter      7.58\n",
       "4      Fighting      7.41"
      ]
     },
     "metadata": {},
     "output_type": "display_data"
    },
    {
     "data": {
      "image/png": "[encoded data removed]",
      "text/plain": [
       "<Figure size 720x360 with 1 Axes>"
      ]
     },
     "metadata": {
      "needs_background": "light"
     },
     "output_type": "display_data"
    }
   ],
   "source": [
    "# популярные жанры\n",
    "\n",
    "user_portrait('genre', 'jp_sales', 'Популярные жанры в Японии')"
   ]
  },
  {
   "cell_type": "code",
   "execution_count": 59,
   "metadata": {},
   "outputs": [
    {
     "data": {
      "text/html": [
       "<div>\n",
       "<style scoped>\n",
       "    .dataframe tbody tr th:only-of-type {\n",
       "        vertical-align: middle;\n",
       "    }\n",
       "\n",
       "    .dataframe tbody tr th {\n",
       "        vertical-align: top;\n",
       "    }\n",
       "\n",
       "    .dataframe thead th {\n",
       "        text-align: right;\n",
       "    }\n",
       "</style>\n",
       "<table border=\"1\" class=\"dataframe\">\n",
       "  <thead>\n",
       "    <tr style=\"text-align: right;\">\n",
       "      <th></th>\n",
       "      <th>rating</th>\n",
       "      <th>jp_sales</th>\n",
       "    </tr>\n",
       "  </thead>\n",
       "  <tbody>\n",
       "    <tr>\n",
       "      <th>0</th>\n",
       "      <td>E</td>\n",
       "      <td>19.98</td>\n",
       "    </tr>\n",
       "    <tr>\n",
       "      <th>1</th>\n",
       "      <td>T</td>\n",
       "      <td>19.51</td>\n",
       "    </tr>\n",
       "    <tr>\n",
       "      <th>2</th>\n",
       "      <td>M</td>\n",
       "      <td>18.96</td>\n",
       "    </tr>\n",
       "    <tr>\n",
       "      <th>3</th>\n",
       "      <td>E10+</td>\n",
       "      <td>4.82</td>\n",
       "    </tr>\n",
       "  </tbody>\n",
       "</table>\n",
       "</div>"
      ],
      "text/plain": [
       "  rating  jp_sales\n",
       "0      E     19.98\n",
       "1      T     19.51\n",
       "2      M     18.96\n",
       "3   E10+      4.82"
      ]
     },
     "metadata": {},
     "output_type": "display_data"
    },
    {
     "data": {
      "image/png": "[encoded data removed]",
      "text/plain": [
       "<Figure size 720x360 with 1 Axes>"
      ]
     },
     "metadata": {
      "needs_background": "light"
     },
     "output_type": "display_data"
    }
   ],
   "source": [
    "# влияние рейтинга на продажи\n",
    "\n",
    "user_portrait('rating', 'jp_sales', 'Влияние рейтинга на продажи в Японии')"
   ]
  },
  {
   "cell_type": "markdown",
   "metadata": {},
   "source": [
    "- **Популярные платформы:** PS3, 3DS, X360, PS4, XOne\n",
    "- **Популярные жанры:** Action, Role-Playing, Shooter, Simulation, Platform\n",
    "- **Влияние рейтинга:** Больше всего продавались игры с рейтингами: \"От 17 лет\", «Подросткам 13—19 лет», \"Для всех\""
   ]
  },
  {
   "cell_type": "markdown",
   "metadata": {},
   "source": [
    "Рассчивав прожажи по платформам во всех трех регионах, можно узнать, какую долю каждыя платформа занимает в общей сумме продаж. \n",
    "Соединим информацию по продажам игр на платформах всех регионов и посчитаем для каждой процент в своем регионе."
   ]
  },
  {
   "cell_type": "code",
   "execution_count": 60,
   "metadata": {},
   "outputs": [
    {
     "data": {
      "text/html": [
       "<div>\n",
       "<style scoped>\n",
       "    .dataframe tbody tr th:only-of-type {\n",
       "        vertical-align: middle;\n",
       "    }\n",
       "\n",
       "    .dataframe tbody tr th {\n",
       "        vertical-align: top;\n",
       "    }\n",
       "\n",
       "    .dataframe thead th {\n",
       "        text-align: right;\n",
       "    }\n",
       "</style>\n",
       "<table border=\"1\" class=\"dataframe\">\n",
       "  <thead>\n",
       "    <tr style=\"text-align: right;\">\n",
       "      <th></th>\n",
       "      <th>platform</th>\n",
       "      <th>eu_sales</th>\n",
       "      <th>jp_sales</th>\n",
       "      <th>na_sales</th>\n",
       "      <th>total_sales</th>\n",
       "    </tr>\n",
       "  </thead>\n",
       "  <tbody>\n",
       "    <tr>\n",
       "      <th>0</th>\n",
       "      <td>3DS</td>\n",
       "      <td>42.64</td>\n",
       "      <td>87.79</td>\n",
       "      <td>55.31</td>\n",
       "      <td>194.61</td>\n",
       "    </tr>\n",
       "    <tr>\n",
       "      <th>1</th>\n",
       "      <td>PS3</td>\n",
       "      <td>106.86</td>\n",
       "      <td>35.29</td>\n",
       "      <td>103.38</td>\n",
       "      <td>288.79</td>\n",
       "    </tr>\n",
       "    <tr>\n",
       "      <th>2</th>\n",
       "      <td>PS4</td>\n",
       "      <td>141.09</td>\n",
       "      <td>15.96</td>\n",
       "      <td>108.74</td>\n",
       "      <td>314.14</td>\n",
       "    </tr>\n",
       "    <tr>\n",
       "      <th>3</th>\n",
       "      <td>X360</td>\n",
       "      <td>74.52</td>\n",
       "      <td>1.57</td>\n",
       "      <td>140.05</td>\n",
       "      <td>236.54</td>\n",
       "    </tr>\n",
       "    <tr>\n",
       "      <th>4</th>\n",
       "      <td>XOne</td>\n",
       "      <td>51.59</td>\n",
       "      <td>0.34</td>\n",
       "      <td>93.12</td>\n",
       "      <td>159.32</td>\n",
       "    </tr>\n",
       "  </tbody>\n",
       "</table>\n",
       "</div>"
      ],
      "text/plain": [
       "  platform  eu_sales  jp_sales  na_sales  total_sales\n",
       "0      3DS     42.64     87.79     55.31       194.61\n",
       "1      PS3    106.86     35.29    103.38       288.79\n",
       "2      PS4    141.09     15.96    108.74       314.14\n",
       "3     X360     74.52      1.57    140.05       236.54\n",
       "4     XOne     51.59      0.34     93.12       159.32"
      ]
     },
     "execution_count": 60,
     "metadata": {},
     "output_type": "execute_result"
    }
   ],
   "source": [
    "pv = pd.pivot_table(\n",
    "    top_5, index='platform', \n",
    "    values=['jp_sales', 'eu_sales', 'na_sales', 'total_sales'], \n",
    "    aggfunc='sum'\n",
    ").reset_index()\n",
    "pv"
   ]
  },
  {
   "cell_type": "markdown",
   "metadata": {},
   "source": [
    "Добавим колонки с процентным отношением продаж каждой платформы по региону от мирового объема."
   ]
  },
  {
   "cell_type": "code",
   "execution_count": 61,
   "metadata": {},
   "outputs": [
    {
     "data": {
      "text/html": [
       "<div>\n",
       "<style scoped>\n",
       "    .dataframe tbody tr th:only-of-type {\n",
       "        vertical-align: middle;\n",
       "    }\n",
       "\n",
       "    .dataframe tbody tr th {\n",
       "        vertical-align: top;\n",
       "    }\n",
       "\n",
       "    .dataframe thead th {\n",
       "        text-align: right;\n",
       "    }\n",
       "</style>\n",
       "<table border=\"1\" class=\"dataframe\">\n",
       "  <thead>\n",
       "    <tr style=\"text-align: right;\">\n",
       "      <th></th>\n",
       "      <th>platform</th>\n",
       "      <th>eu_sales</th>\n",
       "      <th>jp_sales</th>\n",
       "      <th>na_sales</th>\n",
       "      <th>total_sales</th>\n",
       "      <th>na%</th>\n",
       "      <th>eu%</th>\n",
       "      <th>jp%</th>\n",
       "    </tr>\n",
       "  </thead>\n",
       "  <tbody>\n",
       "    <tr>\n",
       "      <th>0</th>\n",
       "      <td>3DS</td>\n",
       "      <td>42.64</td>\n",
       "      <td>87.79</td>\n",
       "      <td>55.31</td>\n",
       "      <td>194.61</td>\n",
       "      <td>28.42</td>\n",
       "      <td>21.91</td>\n",
       "      <td>45.11</td>\n",
       "    </tr>\n",
       "    <tr>\n",
       "      <th>1</th>\n",
       "      <td>PS3</td>\n",
       "      <td>106.86</td>\n",
       "      <td>35.29</td>\n",
       "      <td>103.38</td>\n",
       "      <td>288.79</td>\n",
       "      <td>35.80</td>\n",
       "      <td>37.00</td>\n",
       "      <td>12.22</td>\n",
       "    </tr>\n",
       "    <tr>\n",
       "      <th>2</th>\n",
       "      <td>PS4</td>\n",
       "      <td>141.09</td>\n",
       "      <td>15.96</td>\n",
       "      <td>108.74</td>\n",
       "      <td>314.14</td>\n",
       "      <td>34.62</td>\n",
       "      <td>44.91</td>\n",
       "      <td>5.08</td>\n",
       "    </tr>\n",
       "    <tr>\n",
       "      <th>3</th>\n",
       "      <td>X360</td>\n",
       "      <td>74.52</td>\n",
       "      <td>1.57</td>\n",
       "      <td>140.05</td>\n",
       "      <td>236.54</td>\n",
       "      <td>59.21</td>\n",
       "      <td>31.50</td>\n",
       "      <td>0.66</td>\n",
       "    </tr>\n",
       "    <tr>\n",
       "      <th>4</th>\n",
       "      <td>XOne</td>\n",
       "      <td>51.59</td>\n",
       "      <td>0.34</td>\n",
       "      <td>93.12</td>\n",
       "      <td>159.32</td>\n",
       "      <td>58.45</td>\n",
       "      <td>32.38</td>\n",
       "      <td>0.21</td>\n",
       "    </tr>\n",
       "  </tbody>\n",
       "</table>\n",
       "</div>"
      ],
      "text/plain": [
       "  platform  eu_sales  jp_sales  na_sales  total_sales    na%    eu%    jp%\n",
       "0      3DS     42.64     87.79     55.31       194.61  28.42  21.91  45.11\n",
       "1      PS3    106.86     35.29    103.38       288.79  35.80  37.00  12.22\n",
       "2      PS4    141.09     15.96    108.74       314.14  34.62  44.91   5.08\n",
       "3     X360     74.52      1.57    140.05       236.54  59.21  31.50   0.66\n",
       "4     XOne     51.59      0.34     93.12       159.32  58.45  32.38   0.21"
      ]
     },
     "execution_count": 61,
     "metadata": {},
     "output_type": "execute_result"
    }
   ],
   "source": [
    "pv['na%'] = round(pv['na_sales'] / pv['total_sales'] * 100, 2)\n",
    "pv['eu%'] = round(pv['eu_sales'] / pv['total_sales'] * 100, 2)\n",
    "pv['jp%'] = round(pv['jp_sales'] / pv['total_sales'] * 100, 2)\n",
    "pv"
   ]
  },
  {
   "cell_type": "markdown",
   "metadata": {},
   "source": [
    "Для платформ X360, XOne в значительной степени важен рынок Северной Америки, так как доля продаж от общемировых составляет больше половины (почти 60%). В европейском регионе значительную часть рынка занимают платформы PS4 и PS3. Большую долю от общемировых продаж в Японии занимает японская платформа 3DS."
   ]
  },
  {
   "cell_type": "markdown",
   "metadata": {},
   "source": [
    "Построим сводную таблицу, в которой будут приведены суммарные общемировые продажи для каждой платформы за каждый год актуального периода. "
   ]
  },
  {
   "cell_type": "code",
   "execution_count": 62,
   "metadata": {},
   "outputs": [
    {
     "data": {
      "image/png": "[encoded data removed]",
      "text/plain": [
       "<Figure size 432x288 with 1 Axes>"
      ]
     },
     "metadata": {
      "needs_background": "light"
     },
     "output_type": "display_data"
    }
   ],
   "source": [
    "top_5.pivot_table(\n",
    "    index='year_of_release', \n",
    "    columns='platform', \n",
    "    values='total_sales', \n",
    "    aggfunc='sum'\n",
    ").plot()\n",
    "\n",
    "plt.xlabel('Год выпуска', fontsize=16)\n",
    "plt.ylabel('Продажи', fontsize=16)\n",
    "plt.title('Суммарные продажи по платформам');"
   ]
  },
  {
   "cell_type": "markdown",
   "metadata": {},
   "source": [
    "Видим, что несмотря на то, что все платформы на момент 2015 года идут на убыль прибыли, пока еще можно делать ставку на PS4 и XOne, которые в ближайшие пару лет смогут приносить достаточно высокую прибыль."
   ]
  },
  {
   "cell_type": "markdown",
   "metadata": {},
   "source": [
    "### Игры без рейтинга"
   ]
  },
  {
   "cell_type": "markdown",
   "metadata": {},
   "source": [
    "В нашем датасете присутствует 693 игры без рейтинга ESRB. \n",
    "Отсутствие рейтинга скорее связано с тем, что данная рейтинговая система обязательна только для США и Канады.\n",
    "https://ru.wikipedia.org/wiki/Entertainment_Software_Rating_Board\n",
    "\n",
    "Проанализируем продажи игр без рейтинга"
   ]
  },
  {
   "cell_type": "code",
   "execution_count": 63,
   "metadata": {},
   "outputs": [
    {
     "data": {
      "text/plain": [
       "693"
      ]
     },
     "execution_count": 63,
     "metadata": {},
     "output_type": "execute_result"
    }
   ],
   "source": [
    "top_5['rating'].isna().sum()"
   ]
  },
  {
   "cell_type": "code",
   "execution_count": 64,
   "metadata": {},
   "outputs": [],
   "source": [
    "# заполним пустые значения на \"None\"\n",
    "\n",
    "top_5['rating'] = top_5['rating'].fillna(value='None')"
   ]
  },
  {
   "cell_type": "code",
   "execution_count": 65,
   "metadata": {},
   "outputs": [],
   "source": [
    "# создадим датафрейм только с пропущенными значениями рейтинга\n",
    "\n",
    "without_rating = top_5.query('rating == \"None\"')"
   ]
  },
  {
   "cell_type": "code",
   "execution_count": 66,
   "metadata": {},
   "outputs": [
    {
     "data": {
      "text/html": [
       "<div>\n",
       "<style scoped>\n",
       "    .dataframe tbody tr th:only-of-type {\n",
       "        vertical-align: middle;\n",
       "    }\n",
       "\n",
       "    .dataframe tbody tr th {\n",
       "        vertical-align: top;\n",
       "    }\n",
       "\n",
       "    .dataframe thead th {\n",
       "        text-align: right;\n",
       "    }\n",
       "</style>\n",
       "<table border=\"1\" class=\"dataframe\">\n",
       "  <thead>\n",
       "    <tr style=\"text-align: right;\">\n",
       "      <th></th>\n",
       "      <th>platform</th>\n",
       "      <th>eu_sales</th>\n",
       "      <th>jp_sales</th>\n",
       "      <th>na_sales</th>\n",
       "      <th>total_sales</th>\n",
       "    </tr>\n",
       "  </thead>\n",
       "  <tbody>\n",
       "    <tr>\n",
       "      <th>0</th>\n",
       "      <td>3DS</td>\n",
       "      <td>20.21</td>\n",
       "      <td>60.00</td>\n",
       "      <td>24.75</td>\n",
       "      <td>109.05</td>\n",
       "    </tr>\n",
       "    <tr>\n",
       "      <th>1</th>\n",
       "      <td>PS3</td>\n",
       "      <td>12.44</td>\n",
       "      <td>11.23</td>\n",
       "      <td>12.15</td>\n",
       "      <td>40.89</td>\n",
       "    </tr>\n",
       "    <tr>\n",
       "      <th>2</th>\n",
       "      <td>PS4</td>\n",
       "      <td>27.99</td>\n",
       "      <td>6.25</td>\n",
       "      <td>23.77</td>\n",
       "      <td>68.20</td>\n",
       "    </tr>\n",
       "    <tr>\n",
       "      <th>3</th>\n",
       "      <td>X360</td>\n",
       "      <td>7.48</td>\n",
       "      <td>0.15</td>\n",
       "      <td>13.74</td>\n",
       "      <td>23.42</td>\n",
       "    </tr>\n",
       "    <tr>\n",
       "      <th>4</th>\n",
       "      <td>XOne</td>\n",
       "      <td>8.30</td>\n",
       "      <td>0.05</td>\n",
       "      <td>14.63</td>\n",
       "      <td>25.26</td>\n",
       "    </tr>\n",
       "  </tbody>\n",
       "</table>\n",
       "</div>"
      ],
      "text/plain": [
       "  platform  eu_sales  jp_sales  na_sales  total_sales\n",
       "0      3DS     20.21     60.00     24.75       109.05\n",
       "1      PS3     12.44     11.23     12.15        40.89\n",
       "2      PS4     27.99      6.25     23.77        68.20\n",
       "3     X360      7.48      0.15     13.74        23.42\n",
       "4     XOne      8.30      0.05     14.63        25.26"
      ]
     },
     "execution_count": 66,
     "metadata": {},
     "output_type": "execute_result"
    }
   ],
   "source": [
    "# создадим сводную по суммарным продажам игр в разных регионах с неизвестным рейтингом\n",
    "\n",
    "without_rating = pd.pivot_table(\n",
    "    without_rating, index='platform', \n",
    "    values=['jp_sales', 'eu_sales', 'na_sales', 'total_sales'], \n",
    "    aggfunc='sum'\n",
    ").reset_index()\n",
    "without_rating"
   ]
  },
  {
   "cell_type": "code",
   "execution_count": 67,
   "metadata": {},
   "outputs": [
    {
     "data": {
      "text/html": [
       "<div>\n",
       "<style scoped>\n",
       "    .dataframe tbody tr th:only-of-type {\n",
       "        vertical-align: middle;\n",
       "    }\n",
       "\n",
       "    .dataframe tbody tr th {\n",
       "        vertical-align: top;\n",
       "    }\n",
       "\n",
       "    .dataframe thead th {\n",
       "        text-align: right;\n",
       "    }\n",
       "</style>\n",
       "<table border=\"1\" class=\"dataframe\">\n",
       "  <thead>\n",
       "    <tr style=\"text-align: right;\">\n",
       "      <th></th>\n",
       "      <th>platform</th>\n",
       "      <th>eu_sales</th>\n",
       "      <th>jp_sales</th>\n",
       "      <th>na_sales</th>\n",
       "      <th>total_sales</th>\n",
       "      <th>na%</th>\n",
       "      <th>eu%</th>\n",
       "      <th>jp%</th>\n",
       "    </tr>\n",
       "  </thead>\n",
       "  <tbody>\n",
       "    <tr>\n",
       "      <th>0</th>\n",
       "      <td>3DS</td>\n",
       "      <td>20.21</td>\n",
       "      <td>60.00</td>\n",
       "      <td>24.75</td>\n",
       "      <td>109.05</td>\n",
       "      <td>22.70</td>\n",
       "      <td>18.53</td>\n",
       "      <td>55.02</td>\n",
       "    </tr>\n",
       "    <tr>\n",
       "      <th>1</th>\n",
       "      <td>PS3</td>\n",
       "      <td>12.44</td>\n",
       "      <td>11.23</td>\n",
       "      <td>12.15</td>\n",
       "      <td>40.89</td>\n",
       "      <td>29.71</td>\n",
       "      <td>30.42</td>\n",
       "      <td>27.46</td>\n",
       "    </tr>\n",
       "    <tr>\n",
       "      <th>2</th>\n",
       "      <td>PS4</td>\n",
       "      <td>27.99</td>\n",
       "      <td>6.25</td>\n",
       "      <td>23.77</td>\n",
       "      <td>68.20</td>\n",
       "      <td>34.85</td>\n",
       "      <td>41.04</td>\n",
       "      <td>9.16</td>\n",
       "    </tr>\n",
       "    <tr>\n",
       "      <th>3</th>\n",
       "      <td>X360</td>\n",
       "      <td>7.48</td>\n",
       "      <td>0.15</td>\n",
       "      <td>13.74</td>\n",
       "      <td>23.42</td>\n",
       "      <td>58.67</td>\n",
       "      <td>31.94</td>\n",
       "      <td>0.64</td>\n",
       "    </tr>\n",
       "    <tr>\n",
       "      <th>4</th>\n",
       "      <td>XOne</td>\n",
       "      <td>8.30</td>\n",
       "      <td>0.05</td>\n",
       "      <td>14.63</td>\n",
       "      <td>25.26</td>\n",
       "      <td>57.92</td>\n",
       "      <td>32.86</td>\n",
       "      <td>0.20</td>\n",
       "    </tr>\n",
       "  </tbody>\n",
       "</table>\n",
       "</div>"
      ],
      "text/plain": [
       "  platform  eu_sales  jp_sales  na_sales  total_sales    na%    eu%    jp%\n",
       "0      3DS     20.21     60.00     24.75       109.05  22.70  18.53  55.02\n",
       "1      PS3     12.44     11.23     12.15        40.89  29.71  30.42  27.46\n",
       "2      PS4     27.99      6.25     23.77        68.20  34.85  41.04   9.16\n",
       "3     X360      7.48      0.15     13.74        23.42  58.67  31.94   0.64\n",
       "4     XOne      8.30      0.05     14.63        25.26  57.92  32.86   0.20"
      ]
     },
     "execution_count": 67,
     "metadata": {},
     "output_type": "execute_result"
    }
   ],
   "source": [
    "# узнаем долю продаж игр, которые не получили рейтинг, в разных регионах\n",
    "\n",
    "without_rating['na%'] = round(without_rating['na_sales'] / without_rating['total_sales'] * 100, 2)\n",
    "without_rating['eu%'] = round(without_rating['eu_sales'] / without_rating['total_sales'] * 100, 2)\n",
    "without_rating['jp%'] = round(without_rating['jp_sales'] / without_rating['total_sales'] * 100, 2)\n",
    "without_rating"
   ]
  },
  {
   "cell_type": "markdown",
   "metadata": {},
   "source": [
    "Как показывает сводная таблица, в Японии оказалось внушительная доля рынка для платформ 3DS и PS3. Так как в Японии действует собственная рейтинговая система CERO, то при анализе влияния рейтинга на продади стоит это учитывать.\n",
    "https://ru.wikipedia.org/wiki/Computer_Entertainment_Rating_Organization"
   ]
  },
  {
   "cell_type": "markdown",
   "metadata": {},
   "source": [
    "**Вывод**"
   ]
  },
  {
   "cell_type": "markdown",
   "metadata": {},
   "source": [
    "Проанализировав популярные платформы, жанры и рейтинг по каджому региону за последние пять лет, мы смогли составить примерный портрет пользователя, который поможет в составлении рекламной компании.\n",
    "\n",
    "Пользователи Северной Америки и Европы достаточно схожи: по медианным показателям продажам лидируют платформы Xbox One и PlayStation 4. Продажи игр на платформе Nintendo 3DS замыкают пятерку. \n",
    "\n",
    "Противоположная ситуация в Японии. Nintendo 3DS располагается на втором месте сразу после PlayStation 3. PlayStation 3 является лидером продаж во всех терх регионах.\n",
    "\n",
    "Жанр игры \"Action\" подтверждает свою популярность. Во всех регионах он входит в двойку самых восстребованных. Здесь предпочтения пользователей Северной Америки и Европы также схожи. А в Японии мы наюлюдаем выход в пятерку лучших таких жанров, как Simulation и Platform.\n",
    "\n",
    "Самыми продаваемыми играми в Северной Америке и Евроме являются игры с рейтингом M («от 17 лет»). В Японии почти на равне с играми рейтинга M хорошо продаются и игры рейтинга T (\"«Teen»\"). Однако стоит учитывать, что в Японии своя рейтинговая система, поэтому необходимо сопоставить рейтинги в двух системах (сделать перевод с японской в американскую, например) для меньшего появления пустых значений. В таком случае мы сможем точнее определеить влияние рейтинга на продажи в различных регионах."
   ]
  },
  {
   "cell_type": "markdown",
   "metadata": {},
   "source": [
    "## 5. Проверка гипотез <a id=\"5id\"></a>"
   ]
  },
  {
   "cell_type": "markdown",
   "metadata": {},
   "source": [
    "### 5.1 Гипотеза 1 <a id=\"5.1id\"></a>"
   ]
  },
  {
   "cell_type": "markdown",
   "metadata": {},
   "source": [
    "Для проверки гипотезы сформулируем нулевую и альтернативную гипотезы:\n",
    "\n",
    "    H0: средние пользовательские рейтинги платформ Xbox One и PC одинаковые\n",
    "    H1: cредние пользовательские рейтинги платформ Xbox One и PC различаются\n",
    "\n",
    "Наша альтернативная гипотеза двусторонняя. Для проверки гипотез используем t-test_ind, так как выборки не зависят друг от друга. Уровень статистической значимости зададим в 5%\n"
   ]
  },
  {
   "cell_type": "markdown",
   "metadata": {},
   "source": [
    "В столбцах 'user_score' и 'critic_score' у нас было много пропусков. Чтобы p-значение не показало 'nan', заменим все пропуски на значение, которое будет легко отбросить срезом данных (например, число 999). Не забудем отсортировать данные за актуальный период (с 2012 года)."
   ]
  },
  {
   "cell_type": "code",
   "execution_count": 68,
   "metadata": {},
   "outputs": [],
   "source": [
    "# заменяем пустые значения\n",
    "df['user_score'] = df['user_score'].fillna(999)"
   ]
  },
  {
   "cell_type": "code",
   "execution_count": 69,
   "metadata": {},
   "outputs": [],
   "source": [
    "# делаем срезы для каждой платформы по оценке пользователя\n",
    "# и создаем две выборки данных для проверки гипотезы\n",
    "\n",
    "xbox_avg = df.query('user_score != 999 and year_of_release > 2011')\n",
    "xbox_avg = xbox_avg.loc[xbox_avg['platform'] == 'XOne']['user_score'].astype('float')\n",
    "\n",
    "pc_avg = df.query('user_score != 999 and year_of_release > 2011')\n",
    "pc_avg = pc_avg.loc[pc_avg['platform'] == 'PC']['user_score'].astype('float')"
   ]
  },
  {
   "cell_type": "markdown",
   "metadata": {},
   "source": [
    "Ниже сопоставили дисперсии двух выборок. Дисперсии неравные, поэтому при применении t-теста используем парамет equal_var = False, означающий неравенство дисперсий."
   ]
  },
  {
   "cell_type": "code",
   "execution_count": 70,
   "metadata": {},
   "outputs": [
    {
     "name": "stdout",
     "output_type": "stream",
     "text": [
      "Дисперсия выборки платформы Xbox One: 1.9069968429360695\n",
      "Дисперсия выборки платформы PC: 2.770443997158418\n"
     ]
    }
   ],
   "source": [
    "print('Дисперсия выборки платформы Xbox One:', np.var(xbox_avg, ddof=1))\n",
    "print('Дисперсия выборки платформы PC:', np.var(pc_avg, ddof=1))"
   ]
  },
  {
   "cell_type": "code",
   "execution_count": 71,
   "metadata": {},
   "outputs": [
    {
     "name": "stdout",
     "output_type": "stream",
     "text": [
      "p-значение: 0.5489537965134912\n",
      "Не получилось отвергнуть нулевую гипотезу\n"
     ]
    }
   ],
   "source": [
    "alpha = .05\n",
    "\n",
    "results = st.ttest_ind(xbox_avg, pc_avg, equal_var=False)\n",
    "\n",
    "print('p-значение:', results.pvalue)\n",
    "\n",
    "if results.pvalue < alpha:\n",
    "    print('Отвергаем нулевую гипотезу')\n",
    "else:\n",
    "    print('Не получилось отвергнуть нулевую гипотезу')"
   ]
  },
  {
   "cell_type": "markdown",
   "metadata": {},
   "source": [
    "**Вывод:** в данном случае уровень статистической значимости слишком большой, чтобы делать вывод о значимом различии между пользовательскими рейтингами платформ Xbox One и PC(42%). "
   ]
  },
  {
   "cell_type": "markdown",
   "metadata": {},
   "source": [
    "### 5.2 Гипотеза 2 <a id=\"5.2id\"></a>"
   ]
  },
  {
   "cell_type": "markdown",
   "metadata": {},
   "source": [
    "    H0: средние пользовательские рейтинги жанров Action (англ. «действие», экшен-игры) и Sports (англ. «спортивные соревнования») одинаковые\n",
    "    H1: средние пользовательские рейтинги жанров Action (англ. «действие», экшен-игры) и Sports (англ. «спортивные соревнования») разные\n",
    "\n",
    "Уровень статистической значимости зададим в 5%"
   ]
  },
  {
   "cell_type": "code",
   "execution_count": 72,
   "metadata": {},
   "outputs": [],
   "source": [
    "# заменяем пустые значения\n",
    "df['critic_score'] = df['critic_score'].fillna(999)"
   ]
  },
  {
   "cell_type": "code",
   "execution_count": 73,
   "metadata": {},
   "outputs": [],
   "source": [
    "# делаем срезы для каждого жанра по оценке пользователя\n",
    "# и создаем две выборки данных для проверки гипотезы\n",
    "\n",
    "action_avg = df.query('user_score != 999 and year_of_release > 2011')\n",
    "action_avg = action_avg.loc[action_avg['genre'] == 'Action']['user_score'].astype('float')\n",
    "\n",
    "sports_avg = df.query('user_score != 999 and year_of_release > 2011')\n",
    "sports_avg = sports_avg.loc[sports_avg['genre'] == 'Sports']['user_score'].astype('float')"
   ]
  },
  {
   "cell_type": "markdown",
   "metadata": {},
   "source": [
    "Ниже сопоставили дисперсии двух выборок. Дисперсии неравные, поэтому при применении t-теста используем парамет equal_var = False, означающий неравенство дисперсий."
   ]
  },
  {
   "cell_type": "code",
   "execution_count": 74,
   "metadata": {},
   "outputs": [
    {
     "name": "stdout",
     "output_type": "stream",
     "text": [
      "Дисперсия выборки по жанру Action: 1.8890840494348111\n",
      "Дисперсия выборки по жанру Sports: 3.022890298704732\n"
     ]
    }
   ],
   "source": [
    "print('Дисперсия выборки по жанру Action:', np.var(action_avg, ddof=1))\n",
    "print('Дисперсия выборки по жанру Sports:', np.var(sports_avg, ddof=1))"
   ]
  },
  {
   "cell_type": "code",
   "execution_count": 75,
   "metadata": {},
   "outputs": [
    {
     "name": "stdout",
     "output_type": "stream",
     "text": [
      "p-значение: 4.24307776572644e-20\n",
      "Отвергаем нулевую гипотезу\n"
     ]
    }
   ],
   "source": [
    "alpha = .05\n",
    "\n",
    "results = st.ttest_ind(action_avg, sports_avg, equal_var=False)\n",
    "\n",
    "print('p-значение:', results.pvalue)\n",
    "\n",
    "if results.pvalue < alpha:\n",
    "    print('Отвергаем нулевую гипотезу')\n",
    "else:\n",
    "    print('Не получилось отвергнуть нулевую гипотезу')"
   ]
  },
  {
   "cell_type": "markdown",
   "metadata": {},
   "source": [
    "**Вывод:** в данном случае разница между выборками слишком велика, чтобы считать это случайностью. Отвергаем гипотезу о равенстве пользовательских рейтингов жанров Action и Sports."
   ]
  },
  {
   "cell_type": "markdown",
   "metadata": {},
   "source": [
    "## 6. Вывод <a id=\"6id\"></a>"
   ]
  },
  {
   "cell_type": "markdown",
   "metadata": {},
   "source": [
    "Для исследования мы получили данные о продажах игр интернет-маназина \"Стримчик\", оценки пользователей и экспертов, жанры и платформы. Главной целью являлось проведение анализа, на основе которого необходимо выделить потенциально популярный продукт и спланировать рекламную кампанию на будущий год.\n",
    "\n",
    "Перед анализом мы произвели подготовку данных:\n",
    "- привели данные к нужным типам\n",
    "- обработали пропущенные значения\n",
    "- рассчитали дополнительные данные для анализа (сумма продаж по всем изучаемым регионам)\n",
    "\n",
    "Провели исследовательский анализ данных:\n",
    "- оценили количество выпускаемых игр в разные годы\n",
    "- отследили динамику продаж по платформам и годам\n",
    "- провели анализ актуального периода 2012 - 2016 гг\n",
    "- дали оценку влиянию отзывов на продажи\n",
    "- составили распределение игр по жанрам\n",
    "\n",
    "Для того, чтобы при составлении рекламной кампании можно было лучше учеть потребности местного рынка, мы создали пользовательские портреты для Северной Америки, Японии и Европы за последние пять лет.\n",
    "\n",
    "Были выдвинуты две гипотезы о пупулярных платформах и жанрах.\n",
    "\n",
    "**Что необходимо учесть при составлении рекламной кампании на 2016 год:**\n",
    "\n",
    "- После 2008 года рынок сильно просел, однако, есть все предпосылки, что в последующие годы индустрия будет постепенно восстанавливаться;\n",
    "- Учитывая, что продолжительность жизни платформ ограничивается 8-10 годами, а своего  пика достигает на 2-4 годы существования, то важно отследить платформы нового поколения, которые будут набирать обороты в ближайшие несколько лет;\n",
    "- Основными популярными платформами все еще являются PS3 и x360, но продажи уже сильно снижены. Платформы PS4 и XOne в следующие несколько лет все еще будут приносить достаточно высокую прибыль. Стоит сделать акцент на них;\n",
    "- В Японии самой популярной платформой является Nintendo 3DS. Однако при построении стратегии важно понимать, что доля японского рынка относительного американского и европейского очень мала. Возможно, стоит выстраивать отдельную линию по продвижению в азиатском регионе;\n",
    "- Оценка зависимости объема продаж от оценок пользователей и критиков не сильно большая. Тем не менее, цифры сообщают, что критики могут в определенной степени влиять на продажи;\n",
    "- Самыми продаваемыми игровыми жанрами за последние 5 лет оказались Action, Sports, Shooter, Role-Playing. В Японии к лидерам присоединились жанры Simulation, Platform."
   ]
  },
  {
   "cell_type": "code",
   "execution_count": null,
   "metadata": {},
   "outputs": [],
   "source": []
  }
 ],
 "metadata": {
  "ExecuteTimeLog": [
   {
    "duration": 1574,
    "start_time": "2022-04-25T17:17:11.988Z"
   },
   {
    "duration": 90,
    "start_time": "2022-04-25T17:17:13.564Z"
   },
   {
    "duration": 22,
    "start_time": "2022-04-25T17:17:13.656Z"
   },
   {
    "duration": 27,
    "start_time": "2022-04-25T17:17:13.680Z"
   },
   {
    "duration": 22,
    "start_time": "2022-04-25T17:17:13.709Z"
   },
   {
    "duration": 7,
    "start_time": "2022-04-25T17:17:13.733Z"
   },
   {
    "duration": 10,
    "start_time": "2022-04-25T17:17:13.742Z"
   },
   {
    "duration": 15,
    "start_time": "2022-04-25T17:17:13.794Z"
   },
   {
    "duration": 7,
    "start_time": "2022-04-25T17:17:13.811Z"
   },
   {
    "duration": 8,
    "start_time": "2022-04-25T17:17:13.822Z"
   },
   {
    "duration": 13,
    "start_time": "2022-04-25T17:17:13.831Z"
   },
   {
    "duration": 7,
    "start_time": "2022-04-25T17:17:13.846Z"
   },
   {
    "duration": 11,
    "start_time": "2022-04-25T17:17:13.895Z"
   },
   {
    "duration": 14,
    "start_time": "2022-04-25T17:17:13.908Z"
   },
   {
    "duration": 15,
    "start_time": "2022-04-25T17:17:13.924Z"
   },
   {
    "duration": 10,
    "start_time": "2022-04-25T17:17:13.941Z"
   },
   {
    "duration": 43,
    "start_time": "2022-04-25T17:17:13.953Z"
   },
   {
    "duration": 15,
    "start_time": "2022-04-25T17:17:13.998Z"
   },
   {
    "duration": 8,
    "start_time": "2022-04-25T17:17:14.016Z"
   },
   {
    "duration": 8,
    "start_time": "2022-04-25T17:17:14.026Z"
   },
   {
    "duration": 8,
    "start_time": "2022-04-25T17:17:14.037Z"
   },
   {
    "duration": 47,
    "start_time": "2022-04-25T17:17:14.047Z"
   },
   {
    "duration": 7,
    "start_time": "2022-04-25T17:17:14.097Z"
   },
   {
    "duration": 11,
    "start_time": "2022-04-25T17:17:14.106Z"
   },
   {
    "duration": 34,
    "start_time": "2022-04-25T17:17:14.120Z"
   },
   {
    "duration": 38,
    "start_time": "2022-04-25T17:17:14.157Z"
   },
   {
    "duration": 282,
    "start_time": "2022-04-25T17:17:14.198Z"
   },
   {
    "duration": 14,
    "start_time": "2022-04-25T17:17:14.488Z"
   },
   {
    "duration": 359,
    "start_time": "2022-04-25T17:17:14.504Z"
   },
   {
    "duration": 30,
    "start_time": "2022-04-25T17:17:14.865Z"
   },
   {
    "duration": 28,
    "start_time": "2022-04-25T17:17:14.897Z"
   },
   {
    "duration": 380,
    "start_time": "2022-04-25T17:17:14.928Z"
   },
   {
    "duration": 10,
    "start_time": "2022-04-25T17:17:15.311Z"
   },
   {
    "duration": 33,
    "start_time": "2022-04-25T17:17:15.324Z"
   },
   {
    "duration": 52,
    "start_time": "2022-04-25T17:17:15.360Z"
   },
   {
    "duration": 16,
    "start_time": "2022-04-25T17:17:15.414Z"
   },
   {
    "duration": 62,
    "start_time": "2022-04-25T17:17:15.432Z"
   },
   {
    "duration": 234,
    "start_time": "2022-04-25T17:17:15.496Z"
   },
   {
    "duration": 263,
    "start_time": "2022-04-25T17:17:15.732Z"
   },
   {
    "duration": 26,
    "start_time": "2022-04-25T17:17:15.997Z"
   },
   {
    "duration": 212,
    "start_time": "2022-04-25T17:17:16.025Z"
   },
   {
    "duration": 5,
    "start_time": "2022-04-25T17:17:16.239Z"
   },
   {
    "duration": 216,
    "start_time": "2022-04-25T17:17:16.247Z"
   },
   {
    "duration": 7,
    "start_time": "2022-04-25T17:17:16.465Z"
   },
   {
    "duration": 21,
    "start_time": "2022-04-25T17:17:16.493Z"
   },
   {
    "duration": 455,
    "start_time": "2022-04-25T17:17:16.516Z"
   },
   {
    "duration": 35,
    "start_time": "2022-04-25T17:17:16.974Z"
   },
   {
    "duration": 24,
    "start_time": "2022-04-25T17:17:17.011Z"
   },
   {
    "duration": 23,
    "start_time": "2022-04-25T17:17:17.037Z"
   },
   {
    "duration": 50,
    "start_time": "2022-04-25T17:17:17.062Z"
   },
   {
    "duration": 21,
    "start_time": "2022-04-25T17:17:17.114Z"
   },
   {
    "duration": 24,
    "start_time": "2022-04-25T17:17:17.137Z"
   },
   {
    "duration": 52,
    "start_time": "2022-04-25T17:17:17.163Z"
   },
   {
    "duration": 23,
    "start_time": "2022-04-25T17:17:17.217Z"
   },
   {
    "duration": 53,
    "start_time": "2022-04-25T17:17:17.242Z"
   },
   {
    "duration": 21,
    "start_time": "2022-04-25T17:17:17.297Z"
   },
   {
    "duration": 21,
    "start_time": "2022-04-25T17:17:17.320Z"
   },
   {
    "duration": 50,
    "start_time": "2022-04-25T17:17:17.343Z"
   },
   {
    "duration": 19,
    "start_time": "2022-04-25T17:17:17.395Z"
   },
   {
    "duration": 27,
    "start_time": "2022-04-25T17:17:17.416Z"
   },
   {
    "duration": 20,
    "start_time": "2022-04-25T17:17:17.445Z"
   },
   {
    "duration": 15,
    "start_time": "2022-04-25T17:17:17.493Z"
   },
   {
    "duration": 17,
    "start_time": "2022-04-25T17:17:17.511Z"
   },
   {
    "duration": 11,
    "start_time": "2022-04-25T17:17:17.530Z"
   },
   {
    "duration": 18,
    "start_time": "2022-04-25T17:17:17.543Z"
   },
   {
    "duration": 6,
    "start_time": "2022-04-25T17:17:17.593Z"
   },
   {
    "duration": 9,
    "start_time": "2022-04-25T17:17:17.602Z"
   },
   {
    "duration": 18,
    "start_time": "2022-04-25T17:17:17.613Z"
   },
   {
    "duration": 11,
    "start_time": "2022-04-25T17:17:17.633Z"
   },
   {
    "duration": 35,
    "start_time": "2022-04-25T18:36:28.311Z"
   },
   {
    "duration": 150,
    "start_time": "2022-04-25T18:38:17.806Z"
   },
   {
    "duration": 31,
    "start_time": "2022-04-25T18:38:28.486Z"
   },
   {
    "duration": 293,
    "start_time": "2022-04-25T18:38:48.527Z"
   },
   {
    "duration": 334,
    "start_time": "2022-04-25T18:39:08.680Z"
   },
   {
    "duration": 181,
    "start_time": "2022-04-25T18:39:21.952Z"
   },
   {
    "duration": 206,
    "start_time": "2022-04-25T18:39:28.015Z"
   },
   {
    "duration": 195,
    "start_time": "2022-04-25T18:39:39.639Z"
   },
   {
    "duration": 203,
    "start_time": "2022-04-25T18:39:51.946Z"
   },
   {
    "duration": 205,
    "start_time": "2022-04-25T18:41:12.150Z"
   },
   {
    "duration": 28,
    "start_time": "2022-04-25T18:42:35.025Z"
   },
   {
    "duration": 230,
    "start_time": "2022-04-25T18:42:55.738Z"
   },
   {
    "duration": 29,
    "start_time": "2022-04-25T18:43:06.855Z"
   },
   {
    "duration": 47,
    "start_time": "2022-04-28T19:21:16.971Z"
   },
   {
    "duration": 1691,
    "start_time": "2022-04-28T19:21:22.135Z"
   },
   {
    "duration": 75,
    "start_time": "2022-04-28T19:21:23.828Z"
   },
   {
    "duration": 20,
    "start_time": "2022-04-28T19:21:23.905Z"
   },
   {
    "duration": 39,
    "start_time": "2022-04-28T19:21:23.927Z"
   },
   {
    "duration": 46,
    "start_time": "2022-04-28T19:21:23.968Z"
   },
   {
    "duration": 6,
    "start_time": "2022-04-28T19:21:24.016Z"
   },
   {
    "duration": 26,
    "start_time": "2022-04-28T19:21:24.023Z"
   },
   {
    "duration": 37,
    "start_time": "2022-04-28T19:21:24.050Z"
   },
   {
    "duration": 23,
    "start_time": "2022-04-28T19:21:24.089Z"
   },
   {
    "duration": 24,
    "start_time": "2022-04-28T19:21:24.113Z"
   },
   {
    "duration": 40,
    "start_time": "2022-04-28T19:21:24.138Z"
   },
   {
    "duration": 34,
    "start_time": "2022-04-28T19:21:24.180Z"
   },
   {
    "duration": 37,
    "start_time": "2022-04-28T19:21:24.216Z"
   },
   {
    "duration": 26,
    "start_time": "2022-04-28T19:21:24.256Z"
   },
   {
    "duration": 19,
    "start_time": "2022-04-28T19:21:24.284Z"
   },
   {
    "duration": 18,
    "start_time": "2022-04-28T19:21:24.305Z"
   },
   {
    "duration": 25,
    "start_time": "2022-04-28T19:21:24.325Z"
   },
   {
    "duration": 34,
    "start_time": "2022-04-28T19:21:24.352Z"
   },
   {
    "duration": 24,
    "start_time": "2022-04-28T19:21:24.388Z"
   },
   {
    "duration": 37,
    "start_time": "2022-04-28T19:21:24.413Z"
   },
   {
    "duration": 6,
    "start_time": "2022-04-28T19:21:24.452Z"
   },
   {
    "duration": 7,
    "start_time": "2022-04-28T19:21:24.459Z"
   },
   {
    "duration": 22,
    "start_time": "2022-04-28T19:21:24.468Z"
   },
   {
    "duration": 8,
    "start_time": "2022-04-28T19:21:24.492Z"
   },
   {
    "duration": 167,
    "start_time": "2022-04-28T19:21:24.502Z"
   },
   {
    "duration": 8,
    "start_time": "2022-04-28T19:21:24.671Z"
   },
   {
    "duration": 305,
    "start_time": "2022-04-28T19:21:24.680Z"
   },
   {
    "duration": 19,
    "start_time": "2022-04-28T19:21:24.986Z"
   },
   {
    "duration": 18,
    "start_time": "2022-04-28T19:21:25.006Z"
   },
   {
    "duration": 203,
    "start_time": "2022-04-28T19:21:25.026Z"
   },
   {
    "duration": 7,
    "start_time": "2022-04-28T19:21:25.231Z"
   },
   {
    "duration": 23,
    "start_time": "2022-04-28T19:21:25.239Z"
   },
   {
    "duration": 41,
    "start_time": "2022-04-28T19:21:25.264Z"
   },
   {
    "duration": 7,
    "start_time": "2022-04-28T19:21:25.307Z"
   },
   {
    "duration": 25,
    "start_time": "2022-04-28T19:21:25.317Z"
   },
   {
    "duration": 155,
    "start_time": "2022-04-28T19:21:25.344Z"
   },
   {
    "duration": 154,
    "start_time": "2022-04-28T19:21:25.501Z"
   },
   {
    "duration": 16,
    "start_time": "2022-04-28T19:21:25.657Z"
   },
   {
    "duration": 153,
    "start_time": "2022-04-28T19:21:25.674Z"
   },
   {
    "duration": 4,
    "start_time": "2022-04-28T19:21:25.829Z"
   },
   {
    "duration": 231,
    "start_time": "2022-04-28T19:21:25.840Z"
   },
   {
    "duration": 4,
    "start_time": "2022-04-28T19:21:26.073Z"
   },
   {
    "duration": 13,
    "start_time": "2022-04-28T19:21:26.079Z"
   },
   {
    "duration": 1290,
    "start_time": "2022-04-28T19:21:26.094Z"
   },
   {
    "duration": 16,
    "start_time": "2022-04-28T19:21:27.393Z"
   },
   {
    "duration": 227,
    "start_time": "2022-04-28T19:21:27.411Z"
   },
   {
    "duration": 5,
    "start_time": "2022-04-28T19:21:27.640Z"
   },
   {
    "duration": 19,
    "start_time": "2022-04-28T19:21:27.646Z"
   },
   {
    "duration": 197,
    "start_time": "2022-04-28T19:21:27.666Z"
   },
   {
    "duration": 5,
    "start_time": "2022-04-28T19:21:27.864Z"
   },
   {
    "duration": 149,
    "start_time": "2022-04-28T19:21:27.870Z"
   },
   {
    "duration": 152,
    "start_time": "2022-04-28T19:21:28.021Z"
   },
   {
    "duration": 149,
    "start_time": "2022-04-28T19:21:28.174Z"
   },
   {
    "duration": 154,
    "start_time": "2022-04-28T19:21:28.324Z"
   },
   {
    "duration": 242,
    "start_time": "2022-04-28T19:21:28.479Z"
   },
   {
    "duration": 143,
    "start_time": "2022-04-28T19:21:28.722Z"
   },
   {
    "duration": 131,
    "start_time": "2022-04-28T19:21:28.867Z"
   },
   {
    "duration": 137,
    "start_time": "2022-04-28T19:21:29.000Z"
   },
   {
    "duration": 145,
    "start_time": "2022-04-28T19:21:29.139Z"
   },
   {
    "duration": 21,
    "start_time": "2022-04-28T19:21:29.286Z"
   },
   {
    "duration": 14,
    "start_time": "2022-04-28T19:21:29.309Z"
   },
   {
    "duration": 219,
    "start_time": "2022-04-28T19:21:29.324Z"
   },
   {
    "duration": 4,
    "start_time": "2022-04-28T19:21:29.545Z"
   },
   {
    "duration": 7,
    "start_time": "2022-04-28T19:21:29.551Z"
   },
   {
    "duration": 8,
    "start_time": "2022-04-28T19:21:29.560Z"
   },
   {
    "duration": 36,
    "start_time": "2022-04-28T19:21:29.570Z"
   },
   {
    "duration": 22,
    "start_time": "2022-04-28T19:21:29.608Z"
   },
   {
    "duration": 4,
    "start_time": "2022-04-28T19:21:29.632Z"
   },
   {
    "duration": 15,
    "start_time": "2022-04-28T19:21:29.638Z"
   },
   {
    "duration": 5,
    "start_time": "2022-04-28T19:21:29.655Z"
   },
   {
    "duration": 5,
    "start_time": "2022-04-28T19:21:29.693Z"
   },
   {
    "duration": 5,
    "start_time": "2022-04-28T19:21:29.700Z"
   },
   {
    "duration": 15,
    "start_time": "2022-04-28T19:21:29.707Z"
   },
   {
    "duration": 5,
    "start_time": "2022-04-28T19:21:29.724Z"
   },
   {
    "duration": 8,
    "start_time": "2022-04-28T19:21:29.731Z"
   },
   {
    "duration": 74,
    "start_time": "2022-04-28T19:46:30.418Z"
   },
   {
    "duration": 9,
    "start_time": "2022-04-28T23:01:12.105Z"
   },
   {
    "duration": 7,
    "start_time": "2022-04-28T23:06:28.324Z"
   },
   {
    "duration": 9,
    "start_time": "2022-04-28T23:09:22.127Z"
   },
   {
    "duration": 1796,
    "start_time": "2022-04-28T23:10:09.815Z"
   },
   {
    "duration": 84,
    "start_time": "2022-04-28T23:10:11.614Z"
   },
   {
    "duration": 21,
    "start_time": "2022-04-28T23:10:11.702Z"
   },
   {
    "duration": 20,
    "start_time": "2022-04-28T23:10:11.726Z"
   },
   {
    "duration": 57,
    "start_time": "2022-04-28T23:10:11.749Z"
   },
   {
    "duration": 7,
    "start_time": "2022-04-28T23:10:11.808Z"
   },
   {
    "duration": 7,
    "start_time": "2022-04-28T23:10:11.817Z"
   },
   {
    "duration": 14,
    "start_time": "2022-04-28T23:10:11.826Z"
   },
   {
    "duration": 7,
    "start_time": "2022-04-28T23:10:11.842Z"
   },
   {
    "duration": 9,
    "start_time": "2022-04-28T23:10:11.894Z"
   },
   {
    "duration": 17,
    "start_time": "2022-04-28T23:10:11.905Z"
   },
   {
    "duration": 7,
    "start_time": "2022-04-28T23:10:11.924Z"
   },
   {
    "duration": 12,
    "start_time": "2022-04-28T23:10:11.933Z"
   },
   {
    "duration": 8,
    "start_time": "2022-04-28T23:10:11.994Z"
   },
   {
    "duration": 7,
    "start_time": "2022-04-28T23:10:12.004Z"
   },
   {
    "duration": 16,
    "start_time": "2022-04-28T23:10:12.013Z"
   },
   {
    "duration": 8,
    "start_time": "2022-04-28T23:10:12.031Z"
   },
   {
    "duration": 52,
    "start_time": "2022-04-28T23:10:12.042Z"
   },
   {
    "duration": 8,
    "start_time": "2022-04-28T23:10:12.097Z"
   },
   {
    "duration": 10,
    "start_time": "2022-04-28T23:10:12.107Z"
   },
   {
    "duration": 10,
    "start_time": "2022-04-28T23:10:12.119Z"
   },
   {
    "duration": 10,
    "start_time": "2022-04-28T23:10:12.132Z"
   },
   {
    "duration": 66,
    "start_time": "2022-04-28T23:10:12.145Z"
   },
   {
    "duration": 16,
    "start_time": "2022-04-28T23:10:12.214Z"
   },
   {
    "duration": 291,
    "start_time": "2022-04-28T23:10:12.233Z"
   },
   {
    "duration": 11,
    "start_time": "2022-04-28T23:10:12.526Z"
   },
   {
    "duration": 501,
    "start_time": "2022-04-28T23:10:12.539Z"
   },
   {
    "duration": 21,
    "start_time": "2022-04-28T23:10:13.047Z"
   },
   {
    "duration": 47,
    "start_time": "2022-04-28T23:10:13.070Z"
   },
   {
    "duration": 340,
    "start_time": "2022-04-28T23:10:13.119Z"
   },
   {
    "duration": 8,
    "start_time": "2022-04-28T23:10:13.461Z"
   },
   {
    "duration": 49,
    "start_time": "2022-04-28T23:10:13.471Z"
   },
   {
    "duration": 22,
    "start_time": "2022-04-28T23:10:13.522Z"
   },
   {
    "duration": 10,
    "start_time": "2022-04-28T23:10:13.547Z"
   },
   {
    "duration": 41,
    "start_time": "2022-04-28T23:10:13.593Z"
   },
   {
    "duration": 255,
    "start_time": "2022-04-28T23:10:13.637Z"
   },
   {
    "duration": 259,
    "start_time": "2022-04-28T23:10:13.894Z"
   },
   {
    "duration": 26,
    "start_time": "2022-04-28T23:10:14.154Z"
   },
   {
    "duration": 361,
    "start_time": "2022-04-28T23:10:14.194Z"
   },
   {
    "duration": 7,
    "start_time": "2022-04-28T23:10:14.558Z"
   },
   {
    "duration": 315,
    "start_time": "2022-04-28T23:10:14.567Z"
   },
   {
    "duration": 10,
    "start_time": "2022-04-28T23:10:14.884Z"
   },
   {
    "duration": 9,
    "start_time": "2022-04-28T23:10:14.896Z"
   },
   {
    "duration": 11,
    "start_time": "2022-04-28T23:10:14.907Z"
   },
   {
    "duration": 2155,
    "start_time": "2022-04-28T23:10:14.920Z"
   },
   {
    "duration": 32,
    "start_time": "2022-04-28T23:10:17.078Z"
   },
   {
    "duration": 366,
    "start_time": "2022-04-28T23:10:17.112Z"
   },
   {
    "duration": 29,
    "start_time": "2022-04-28T23:10:17.481Z"
   },
   {
    "duration": 307,
    "start_time": "2022-04-28T23:10:17.512Z"
   },
   {
    "duration": 6,
    "start_time": "2022-04-28T23:10:17.821Z"
   },
   {
    "duration": 253,
    "start_time": "2022-04-28T23:10:17.829Z"
   },
   {
    "duration": 266,
    "start_time": "2022-04-28T23:10:18.085Z"
   },
   {
    "duration": 255,
    "start_time": "2022-04-28T23:10:18.354Z"
   },
   {
    "duration": 342,
    "start_time": "2022-04-28T23:10:18.611Z"
   },
   {
    "duration": 247,
    "start_time": "2022-04-28T23:10:18.955Z"
   },
   {
    "duration": 231,
    "start_time": "2022-04-28T23:10:19.204Z"
   },
   {
    "duration": 229,
    "start_time": "2022-04-28T23:10:19.438Z"
   },
   {
    "duration": 241,
    "start_time": "2022-04-28T23:10:19.669Z"
   },
   {
    "duration": 248,
    "start_time": "2022-04-28T23:10:19.913Z"
   },
   {
    "duration": 41,
    "start_time": "2022-04-28T23:10:20.164Z"
   },
   {
    "duration": 26,
    "start_time": "2022-04-28T23:10:20.208Z"
   },
   {
    "duration": 327,
    "start_time": "2022-04-28T23:10:20.237Z"
   },
   {
    "duration": 6,
    "start_time": "2022-04-28T23:10:20.567Z"
   },
   {
    "duration": 21,
    "start_time": "2022-04-28T23:10:20.575Z"
   },
   {
    "duration": 11,
    "start_time": "2022-04-28T23:10:20.598Z"
   },
   {
    "duration": 27,
    "start_time": "2022-04-28T23:10:20.611Z"
   },
   {
    "duration": 61,
    "start_time": "2022-04-28T23:10:20.641Z"
   },
   {
    "duration": 21,
    "start_time": "2022-04-28T23:10:20.705Z"
   },
   {
    "duration": 26,
    "start_time": "2022-04-28T23:10:20.728Z"
   },
   {
    "duration": 13,
    "start_time": "2022-04-28T23:10:20.757Z"
   },
   {
    "duration": 22,
    "start_time": "2022-04-28T23:10:20.773Z"
   },
   {
    "duration": 11,
    "start_time": "2022-04-28T23:10:20.797Z"
   },
   {
    "duration": 19,
    "start_time": "2022-04-28T23:10:20.811Z"
   },
   {
    "duration": 7,
    "start_time": "2022-04-28T23:10:20.832Z"
   },
   {
    "duration": 8,
    "start_time": "2022-04-28T23:10:20.841Z"
   }
  ],
  "kernelspec": {
   "display_name": "Python 3 (ipykernel)",
   "language": "python",
   "name": "python3"
  },
  "language_info": {
   "codemirror_mode": {
    "name": "ipython",
    "version": 3
   },
   "file_extension": ".py",
   "mimetype": "text/x-python",
   "name": "python",
   "nbconvert_exporter": "python",
   "pygments_lexer": "ipython3",
   "version": "3.10.4"
  },
  "toc": {
   "base_numbering": 1,
   "nav_menu": {},
   "number_sections": true,
   "sideBar": true,
   "skip_h1_title": true,
   "title_cell": "Table of Contents",
   "title_sidebar": "Contents",
   "toc_cell": false,
   "toc_position": {},
   "toc_section_display": true,
   "toc_window_display": false
  }
 },
 "nbformat": 4,
 "nbformat_minor": 4
}
