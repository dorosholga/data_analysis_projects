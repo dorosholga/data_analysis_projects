{
 "cells": [
  {
   "cell_type": "markdown",
   "metadata": {},
   "source": [
    "## Определение перспективного тарифа для телеком-компании"
   ]
  },
  {
   "cell_type": "markdown",
   "metadata": {},
   "source": [
    "Клиентам федерального оператора сотовой связи «Мегалайн» предлагают два тарифных плана: «Смарт» и «Ультра». Коммерческий департамент поставил задачу: понять, какой тариф приносит больше денег"
   ]
  },
  {
   "cell_type": "markdown",
   "metadata": {},
   "source": [
    "**Цель:** \n",
    "определить, какой из двух тарифов оператора сотовой связи более прибыльный\n",
    "\n",
    "**Задачи:** \n",
    "- сделать предварительный анализ тарифов на выборке клиентов\n",
    "- проанализировать поведение клиентов\n",
    "- сделать вывод, какой тариф более выгодный"
   ]
  },
  {
   "cell_type": "markdown",
   "metadata": {},
   "source": [
    "**Содержание**\n",
    "\n",
    "1. [Изучение данных](#1id)\n",
    "    * [Проверка таблицы \"calls\"](#1.1id)\n",
    "    * [Проверка таблицы \"internet\"](#1.2id)\n",
    "    * [Проверка таблицы \"messages\"](#1.3id)\n",
    "    * [Проверка таблицы \"tariffs\"](#1.4id)\n",
    "    * [Проверка таблицы \"users\"](#1.5id)\n",
    "2. [Подготовка данных](#2id)\n",
    "    * [Перевод типов данных](#2.1id)\n",
    "    * [Поиск ошибок](#2.2id)\n",
    "    * [Рассчет количества сделанных звонков и израсходованных минут разговора по месяцам](#2.3id)\n",
    "    * [Рассчет количества отправленных сообщений по месяцам](#2.4id)\n",
    "    * [Рассчет объема израсходованного интернет-трафика по месяцам](#2.5id)\n",
    "    * [Рассчет помесячной выручки с каждого пользователя](#2.6id)\n",
    "3. [Анализ данных](#3id)\n",
    "    * [Удаляем выбросы](#3.1id)\n",
    "    * [Количество минут разговора по каждому тарифу в месяц ](#3.2id)\n",
    "    * [Количество сообщений, которые используют клиенты  каждого тарифа в месяц ](#3.3id)\n",
    "    * [Объём интернет-трафика](#3.4id)\n",
    "4. [Проверка гипотез](#4id)\n",
    "    * [Cредняя выручка пользователей тарифов «Ультра» и «Смарт» различаются ](#4.1id)\n",
    "    * [Cредняя выручка пользователей из Москвы отличается от выручки пользователей из других регионов](#4.2id)\n",
    "5. [Общий вывод](#5id)"
   ]
  },
  {
   "cell_type": "markdown",
   "metadata": {},
   "source": [
    "## 1. Изучение данных <a id=\"1id\"></a>"
   ]
  },
  {
   "cell_type": "code",
   "execution_count": 1,
   "metadata": {},
   "outputs": [],
   "source": [
    "import pandas as pd\n",
    "import numpy as np\n",
    "import matplotlib.pyplot as plt\n",
    "import scipy.stats as st\n",
    "\n",
    "import warnings\n",
    "warnings.filterwarnings('ignore')"
   ]
  },
  {
   "cell_type": "markdown",
   "metadata": {},
   "source": [
    "### 1.1 Проверка таблицы \"calls\" <a id=\"1.1id\"></a>"
   ]
  },
  {
   "cell_type": "markdown",
   "metadata": {},
   "source": [
    "**Информация о звонках**\n",
    "- id — уникальный номер звонка\n",
    "- call_date — дата звонка\n",
    "- duration — длительность звонка в минутах\n",
    "- user_id — идентификатор пользователя, сделавшего звонок"
   ]
  },
  {
   "cell_type": "code",
   "execution_count": 2,
   "metadata": {},
   "outputs": [
    {
     "data": {
      "text/html": [
       "<div>\n",
       "<style scoped>\n",
       "    .dataframe tbody tr th:only-of-type {\n",
       "        vertical-align: middle;\n",
       "    }\n",
       "\n",
       "    .dataframe tbody tr th {\n",
       "        vertical-align: top;\n",
       "    }\n",
       "\n",
       "    .dataframe thead th {\n",
       "        text-align: right;\n",
       "    }\n",
       "</style>\n",
       "<table border=\"1\" class=\"dataframe\">\n",
       "  <thead>\n",
       "    <tr style=\"text-align: right;\">\n",
       "      <th></th>\n",
       "      <th>id</th>\n",
       "      <th>call_date</th>\n",
       "      <th>duration</th>\n",
       "      <th>user_id</th>\n",
       "    </tr>\n",
       "  </thead>\n",
       "  <tbody>\n",
       "    <tr>\n",
       "      <th>0</th>\n",
       "      <td>1000_0</td>\n",
       "      <td>2018-07-25</td>\n",
       "      <td>0.00</td>\n",
       "      <td>1000</td>\n",
       "    </tr>\n",
       "    <tr>\n",
       "      <th>1</th>\n",
       "      <td>1000_1</td>\n",
       "      <td>2018-08-17</td>\n",
       "      <td>0.00</td>\n",
       "      <td>1000</td>\n",
       "    </tr>\n",
       "    <tr>\n",
       "      <th>2</th>\n",
       "      <td>1000_2</td>\n",
       "      <td>2018-06-11</td>\n",
       "      <td>2.85</td>\n",
       "      <td>1000</td>\n",
       "    </tr>\n",
       "    <tr>\n",
       "      <th>3</th>\n",
       "      <td>1000_3</td>\n",
       "      <td>2018-09-21</td>\n",
       "      <td>13.80</td>\n",
       "      <td>1000</td>\n",
       "    </tr>\n",
       "    <tr>\n",
       "      <th>4</th>\n",
       "      <td>1000_4</td>\n",
       "      <td>2018-12-15</td>\n",
       "      <td>5.18</td>\n",
       "      <td>1000</td>\n",
       "    </tr>\n",
       "    <tr>\n",
       "      <th>5</th>\n",
       "      <td>1000_5</td>\n",
       "      <td>2018-11-02</td>\n",
       "      <td>0.00</td>\n",
       "      <td>1000</td>\n",
       "    </tr>\n",
       "    <tr>\n",
       "      <th>6</th>\n",
       "      <td>1000_6</td>\n",
       "      <td>2018-10-18</td>\n",
       "      <td>0.00</td>\n",
       "      <td>1000</td>\n",
       "    </tr>\n",
       "    <tr>\n",
       "      <th>7</th>\n",
       "      <td>1000_7</td>\n",
       "      <td>2018-08-22</td>\n",
       "      <td>18.31</td>\n",
       "      <td>1000</td>\n",
       "    </tr>\n",
       "    <tr>\n",
       "      <th>8</th>\n",
       "      <td>1000_8</td>\n",
       "      <td>2018-09-15</td>\n",
       "      <td>18.44</td>\n",
       "      <td>1000</td>\n",
       "    </tr>\n",
       "    <tr>\n",
       "      <th>9</th>\n",
       "      <td>1000_9</td>\n",
       "      <td>2018-08-15</td>\n",
       "      <td>0.00</td>\n",
       "      <td>1000</td>\n",
       "    </tr>\n",
       "  </tbody>\n",
       "</table>\n",
       "</div>"
      ],
      "text/plain": [
       "       id   call_date  duration  user_id\n",
       "0  1000_0  2018-07-25      0.00     1000\n",
       "1  1000_1  2018-08-17      0.00     1000\n",
       "2  1000_2  2018-06-11      2.85     1000\n",
       "3  1000_3  2018-09-21     13.80     1000\n",
       "4  1000_4  2018-12-15      5.18     1000\n",
       "5  1000_5  2018-11-02      0.00     1000\n",
       "6  1000_6  2018-10-18      0.00     1000\n",
       "7  1000_7  2018-08-22     18.31     1000\n",
       "8  1000_8  2018-09-15     18.44     1000\n",
       "9  1000_9  2018-08-15      0.00     1000"
      ]
     },
     "execution_count": 2,
     "metadata": {},
     "output_type": "execute_result"
    }
   ],
   "source": [
    "try: \n",
    "    calls = pd.read_csv('/home/olga/Downloads/calls.csv')\n",
    "except:\n",
    "    calls = pd.read_csv('/datasets/calls.csv')\n",
    "calls.head(10)"
   ]
  },
  {
   "cell_type": "code",
   "execution_count": 3,
   "metadata": {},
   "outputs": [
    {
     "name": "stdout",
     "output_type": "stream",
     "text": [
      "<class 'pandas.core.frame.DataFrame'>\n",
      "RangeIndex: 202607 entries, 0 to 202606\n",
      "Data columns (total 4 columns):\n",
      " #   Column     Non-Null Count   Dtype  \n",
      "---  ------     --------------   -----  \n",
      " 0   id         202607 non-null  object \n",
      " 1   call_date  202607 non-null  object \n",
      " 2   duration   202607 non-null  float64\n",
      " 3   user_id    202607 non-null  int64  \n",
      "dtypes: float64(1), int64(1), object(2)\n",
      "memory usage: 6.2+ MB\n"
     ]
    }
   ],
   "source": [
    "calls.info()"
   ]
  },
  {
   "cell_type": "code",
   "execution_count": 4,
   "metadata": {},
   "outputs": [
    {
     "data": {
      "text/html": [
       "<div>\n",
       "<style scoped>\n",
       "    .dataframe tbody tr th:only-of-type {\n",
       "        vertical-align: middle;\n",
       "    }\n",
       "\n",
       "    .dataframe tbody tr th {\n",
       "        vertical-align: top;\n",
       "    }\n",
       "\n",
       "    .dataframe thead th {\n",
       "        text-align: right;\n",
       "    }\n",
       "</style>\n",
       "<table border=\"1\" class=\"dataframe\">\n",
       "  <thead>\n",
       "    <tr style=\"text-align: right;\">\n",
       "      <th></th>\n",
       "      <th>duration</th>\n",
       "      <th>user_id</th>\n",
       "    </tr>\n",
       "  </thead>\n",
       "  <tbody>\n",
       "    <tr>\n",
       "      <th>count</th>\n",
       "      <td>202607.000000</td>\n",
       "      <td>202607.000000</td>\n",
       "    </tr>\n",
       "    <tr>\n",
       "      <th>mean</th>\n",
       "      <td>6.755887</td>\n",
       "      <td>1253.940619</td>\n",
       "    </tr>\n",
       "    <tr>\n",
       "      <th>std</th>\n",
       "      <td>5.843365</td>\n",
       "      <td>144.722751</td>\n",
       "    </tr>\n",
       "    <tr>\n",
       "      <th>min</th>\n",
       "      <td>0.000000</td>\n",
       "      <td>1000.000000</td>\n",
       "    </tr>\n",
       "    <tr>\n",
       "      <th>25%</th>\n",
       "      <td>1.300000</td>\n",
       "      <td>1126.000000</td>\n",
       "    </tr>\n",
       "    <tr>\n",
       "      <th>50%</th>\n",
       "      <td>6.000000</td>\n",
       "      <td>1260.000000</td>\n",
       "    </tr>\n",
       "    <tr>\n",
       "      <th>75%</th>\n",
       "      <td>10.700000</td>\n",
       "      <td>1379.000000</td>\n",
       "    </tr>\n",
       "    <tr>\n",
       "      <th>max</th>\n",
       "      <td>38.000000</td>\n",
       "      <td>1499.000000</td>\n",
       "    </tr>\n",
       "  </tbody>\n",
       "</table>\n",
       "</div>"
      ],
      "text/plain": [
       "            duration        user_id\n",
       "count  202607.000000  202607.000000\n",
       "mean        6.755887    1253.940619\n",
       "std         5.843365     144.722751\n",
       "min         0.000000    1000.000000\n",
       "25%         1.300000    1126.000000\n",
       "50%         6.000000    1260.000000\n",
       "75%        10.700000    1379.000000\n",
       "max        38.000000    1499.000000"
      ]
     },
     "execution_count": 4,
     "metadata": {},
     "output_type": "execute_result"
    }
   ],
   "source": [
    "calls.describe()"
   ]
  },
  {
   "cell_type": "markdown",
   "metadata": {},
   "source": [
    "Пропущенных значений нет. Чуть позже заменим тип данных в столбце call_date на datetime, а длительность звонка округлим до целых минут"
   ]
  },
  {
   "cell_type": "markdown",
   "metadata": {},
   "source": [
    "### 1.2 Проверка таблицы \"internet\" <a id=\"1.2id\"></a>"
   ]
  },
  {
   "cell_type": "markdown",
   "metadata": {},
   "source": [
    "**Информация об интернет-сессиях**\n",
    "\n",
    "- id — уникальный номер сессии\n",
    "- mb_used — объём потраченного за сессию интернет-трафика (в мегабайтах)\n",
    "- session_date — дата интернет-сессии\n",
    "- user_id — идентификатор пользователя"
   ]
  },
  {
   "cell_type": "code",
   "execution_count": 5,
   "metadata": {},
   "outputs": [
    {
     "data": {
      "text/html": [
       "<div>\n",
       "<style scoped>\n",
       "    .dataframe tbody tr th:only-of-type {\n",
       "        vertical-align: middle;\n",
       "    }\n",
       "\n",
       "    .dataframe tbody tr th {\n",
       "        vertical-align: top;\n",
       "    }\n",
       "\n",
       "    .dataframe thead th {\n",
       "        text-align: right;\n",
       "    }\n",
       "</style>\n",
       "<table border=\"1\" class=\"dataframe\">\n",
       "  <thead>\n",
       "    <tr style=\"text-align: right;\">\n",
       "      <th></th>\n",
       "      <th>id</th>\n",
       "      <th>mb_used</th>\n",
       "      <th>session_date</th>\n",
       "      <th>user_id</th>\n",
       "    </tr>\n",
       "  </thead>\n",
       "  <tbody>\n",
       "    <tr>\n",
       "      <th>0</th>\n",
       "      <td>1000_0</td>\n",
       "      <td>112.95</td>\n",
       "      <td>2018-11-25</td>\n",
       "      <td>1000</td>\n",
       "    </tr>\n",
       "    <tr>\n",
       "      <th>1</th>\n",
       "      <td>1000_1</td>\n",
       "      <td>1052.81</td>\n",
       "      <td>2018-09-07</td>\n",
       "      <td>1000</td>\n",
       "    </tr>\n",
       "    <tr>\n",
       "      <th>2</th>\n",
       "      <td>1000_2</td>\n",
       "      <td>1197.26</td>\n",
       "      <td>2018-06-25</td>\n",
       "      <td>1000</td>\n",
       "    </tr>\n",
       "    <tr>\n",
       "      <th>3</th>\n",
       "      <td>1000_3</td>\n",
       "      <td>550.27</td>\n",
       "      <td>2018-08-22</td>\n",
       "      <td>1000</td>\n",
       "    </tr>\n",
       "    <tr>\n",
       "      <th>4</th>\n",
       "      <td>1000_4</td>\n",
       "      <td>302.56</td>\n",
       "      <td>2018-09-24</td>\n",
       "      <td>1000</td>\n",
       "    </tr>\n",
       "    <tr>\n",
       "      <th>5</th>\n",
       "      <td>1000_5</td>\n",
       "      <td>399.97</td>\n",
       "      <td>2018-10-02</td>\n",
       "      <td>1000</td>\n",
       "    </tr>\n",
       "    <tr>\n",
       "      <th>6</th>\n",
       "      <td>1000_6</td>\n",
       "      <td>540.08</td>\n",
       "      <td>2018-09-07</td>\n",
       "      <td>1000</td>\n",
       "    </tr>\n",
       "    <tr>\n",
       "      <th>7</th>\n",
       "      <td>1000_7</td>\n",
       "      <td>415.70</td>\n",
       "      <td>2018-07-11</td>\n",
       "      <td>1000</td>\n",
       "    </tr>\n",
       "    <tr>\n",
       "      <th>8</th>\n",
       "      <td>1000_8</td>\n",
       "      <td>505.40</td>\n",
       "      <td>2018-10-08</td>\n",
       "      <td>1000</td>\n",
       "    </tr>\n",
       "    <tr>\n",
       "      <th>9</th>\n",
       "      <td>1000_9</td>\n",
       "      <td>345.54</td>\n",
       "      <td>2018-09-03</td>\n",
       "      <td>1000</td>\n",
       "    </tr>\n",
       "  </tbody>\n",
       "</table>\n",
       "</div>"
      ],
      "text/plain": [
       "       id  mb_used session_date  user_id\n",
       "0  1000_0   112.95   2018-11-25     1000\n",
       "1  1000_1  1052.81   2018-09-07     1000\n",
       "2  1000_2  1197.26   2018-06-25     1000\n",
       "3  1000_3   550.27   2018-08-22     1000\n",
       "4  1000_4   302.56   2018-09-24     1000\n",
       "5  1000_5   399.97   2018-10-02     1000\n",
       "6  1000_6   540.08   2018-09-07     1000\n",
       "7  1000_7   415.70   2018-07-11     1000\n",
       "8  1000_8   505.40   2018-10-08     1000\n",
       "9  1000_9   345.54   2018-09-03     1000"
      ]
     },
     "execution_count": 5,
     "metadata": {},
     "output_type": "execute_result"
    }
   ],
   "source": [
    "try:\n",
    "    internet = pd.read_csv('/home/olga/Downloads/internet.csv', index_col=0)\n",
    "except:\n",
    "    internet = pd.read_csv('/datasets/internet.csv', index_col=0)\n",
    "internet.head(10)"
   ]
  },
  {
   "cell_type": "code",
   "execution_count": 6,
   "metadata": {},
   "outputs": [
    {
     "name": "stdout",
     "output_type": "stream",
     "text": [
      "<class 'pandas.core.frame.DataFrame'>\n",
      "Int64Index: 149396 entries, 0 to 149395\n",
      "Data columns (total 4 columns):\n",
      " #   Column        Non-Null Count   Dtype  \n",
      "---  ------        --------------   -----  \n",
      " 0   id            149396 non-null  object \n",
      " 1   mb_used       149396 non-null  float64\n",
      " 2   session_date  149396 non-null  object \n",
      " 3   user_id       149396 non-null  int64  \n",
      "dtypes: float64(1), int64(1), object(2)\n",
      "memory usage: 5.7+ MB\n"
     ]
    }
   ],
   "source": [
    "internet.info()"
   ]
  },
  {
   "cell_type": "code",
   "execution_count": 7,
   "metadata": {},
   "outputs": [
    {
     "data": {
      "text/html": [
       "<div>\n",
       "<style scoped>\n",
       "    .dataframe tbody tr th:only-of-type {\n",
       "        vertical-align: middle;\n",
       "    }\n",
       "\n",
       "    .dataframe tbody tr th {\n",
       "        vertical-align: top;\n",
       "    }\n",
       "\n",
       "    .dataframe thead th {\n",
       "        text-align: right;\n",
       "    }\n",
       "</style>\n",
       "<table border=\"1\" class=\"dataframe\">\n",
       "  <thead>\n",
       "    <tr style=\"text-align: right;\">\n",
       "      <th></th>\n",
       "      <th>mb_used</th>\n",
       "      <th>user_id</th>\n",
       "    </tr>\n",
       "  </thead>\n",
       "  <tbody>\n",
       "    <tr>\n",
       "      <th>count</th>\n",
       "      <td>149396.000000</td>\n",
       "      <td>149396.000000</td>\n",
       "    </tr>\n",
       "    <tr>\n",
       "      <th>mean</th>\n",
       "      <td>370.192426</td>\n",
       "      <td>1252.099842</td>\n",
       "    </tr>\n",
       "    <tr>\n",
       "      <th>std</th>\n",
       "      <td>278.300951</td>\n",
       "      <td>144.050823</td>\n",
       "    </tr>\n",
       "    <tr>\n",
       "      <th>min</th>\n",
       "      <td>0.000000</td>\n",
       "      <td>1000.000000</td>\n",
       "    </tr>\n",
       "    <tr>\n",
       "      <th>25%</th>\n",
       "      <td>138.187500</td>\n",
       "      <td>1130.000000</td>\n",
       "    </tr>\n",
       "    <tr>\n",
       "      <th>50%</th>\n",
       "      <td>348.015000</td>\n",
       "      <td>1251.000000</td>\n",
       "    </tr>\n",
       "    <tr>\n",
       "      <th>75%</th>\n",
       "      <td>559.552500</td>\n",
       "      <td>1380.000000</td>\n",
       "    </tr>\n",
       "    <tr>\n",
       "      <th>max</th>\n",
       "      <td>1724.830000</td>\n",
       "      <td>1499.000000</td>\n",
       "    </tr>\n",
       "  </tbody>\n",
       "</table>\n",
       "</div>"
      ],
      "text/plain": [
       "             mb_used        user_id\n",
       "count  149396.000000  149396.000000\n",
       "mean      370.192426    1252.099842\n",
       "std       278.300951     144.050823\n",
       "min         0.000000    1000.000000\n",
       "25%       138.187500    1130.000000\n",
       "50%       348.015000    1251.000000\n",
       "75%       559.552500    1380.000000\n",
       "max      1724.830000    1499.000000"
      ]
     },
     "execution_count": 7,
     "metadata": {},
     "output_type": "execute_result"
    }
   ],
   "source": [
    "internet.describe()"
   ]
  },
  {
   "cell_type": "markdown",
   "metadata": {},
   "source": [
    "Пропущенных значений нет. Объем трафика указан в мегабайтах. Удобно будет добавить дополнительный столбец с переводом в гигабайты и округлением до целого в большую сторону.\n",
    "Тип данных столбца session_date поменяем на datetime"
   ]
  },
  {
   "cell_type": "markdown",
   "metadata": {},
   "source": [
    "### 1.3 Проверка таблицы \"messages\" <a id=\"1.3id\"></a>"
   ]
  },
  {
   "cell_type": "markdown",
   "metadata": {},
   "source": [
    "**Информация о сообщениях:**\n",
    "\n",
    "- id — уникальный номер сообщения\n",
    "- message_date — дата сообщения\n",
    "- user_id — идентификатор пользователя, отправившего сообщение"
   ]
  },
  {
   "cell_type": "code",
   "execution_count": 8,
   "metadata": {},
   "outputs": [
    {
     "data": {
      "text/html": [
       "<div>\n",
       "<style scoped>\n",
       "    .dataframe tbody tr th:only-of-type {\n",
       "        vertical-align: middle;\n",
       "    }\n",
       "\n",
       "    .dataframe tbody tr th {\n",
       "        vertical-align: top;\n",
       "    }\n",
       "\n",
       "    .dataframe thead th {\n",
       "        text-align: right;\n",
       "    }\n",
       "</style>\n",
       "<table border=\"1\" class=\"dataframe\">\n",
       "  <thead>\n",
       "    <tr style=\"text-align: right;\">\n",
       "      <th></th>\n",
       "      <th>id</th>\n",
       "      <th>message_date</th>\n",
       "      <th>user_id</th>\n",
       "    </tr>\n",
       "  </thead>\n",
       "  <tbody>\n",
       "    <tr>\n",
       "      <th>0</th>\n",
       "      <td>1000_0</td>\n",
       "      <td>2018-06-27</td>\n",
       "      <td>1000</td>\n",
       "    </tr>\n",
       "    <tr>\n",
       "      <th>1</th>\n",
       "      <td>1000_1</td>\n",
       "      <td>2018-10-08</td>\n",
       "      <td>1000</td>\n",
       "    </tr>\n",
       "    <tr>\n",
       "      <th>2</th>\n",
       "      <td>1000_2</td>\n",
       "      <td>2018-08-04</td>\n",
       "      <td>1000</td>\n",
       "    </tr>\n",
       "    <tr>\n",
       "      <th>3</th>\n",
       "      <td>1000_3</td>\n",
       "      <td>2018-06-16</td>\n",
       "      <td>1000</td>\n",
       "    </tr>\n",
       "    <tr>\n",
       "      <th>4</th>\n",
       "      <td>1000_4</td>\n",
       "      <td>2018-12-05</td>\n",
       "      <td>1000</td>\n",
       "    </tr>\n",
       "    <tr>\n",
       "      <th>5</th>\n",
       "      <td>1000_5</td>\n",
       "      <td>2018-06-20</td>\n",
       "      <td>1000</td>\n",
       "    </tr>\n",
       "    <tr>\n",
       "      <th>6</th>\n",
       "      <td>1000_6</td>\n",
       "      <td>2018-11-19</td>\n",
       "      <td>1000</td>\n",
       "    </tr>\n",
       "    <tr>\n",
       "      <th>7</th>\n",
       "      <td>1000_7</td>\n",
       "      <td>2018-10-29</td>\n",
       "      <td>1000</td>\n",
       "    </tr>\n",
       "    <tr>\n",
       "      <th>8</th>\n",
       "      <td>1000_8</td>\n",
       "      <td>2018-06-25</td>\n",
       "      <td>1000</td>\n",
       "    </tr>\n",
       "    <tr>\n",
       "      <th>9</th>\n",
       "      <td>1000_9</td>\n",
       "      <td>2018-12-18</td>\n",
       "      <td>1000</td>\n",
       "    </tr>\n",
       "  </tbody>\n",
       "</table>\n",
       "</div>"
      ],
      "text/plain": [
       "       id message_date  user_id\n",
       "0  1000_0   2018-06-27     1000\n",
       "1  1000_1   2018-10-08     1000\n",
       "2  1000_2   2018-08-04     1000\n",
       "3  1000_3   2018-06-16     1000\n",
       "4  1000_4   2018-12-05     1000\n",
       "5  1000_5   2018-06-20     1000\n",
       "6  1000_6   2018-11-19     1000\n",
       "7  1000_7   2018-10-29     1000\n",
       "8  1000_8   2018-06-25     1000\n",
       "9  1000_9   2018-12-18     1000"
      ]
     },
     "execution_count": 8,
     "metadata": {},
     "output_type": "execute_result"
    }
   ],
   "source": [
    "try:\n",
    "    messages = pd.read_csv('/home/olga/Downloads/messages.csv')\n",
    "except:\n",
    "    messages = pd.read_csv('/datasets/messages.csv')\n",
    "messages.head(10)"
   ]
  },
  {
   "cell_type": "code",
   "execution_count": 9,
   "metadata": {},
   "outputs": [
    {
     "name": "stdout",
     "output_type": "stream",
     "text": [
      "<class 'pandas.core.frame.DataFrame'>\n",
      "RangeIndex: 123036 entries, 0 to 123035\n",
      "Data columns (total 3 columns):\n",
      " #   Column        Non-Null Count   Dtype \n",
      "---  ------        --------------   ----- \n",
      " 0   id            123036 non-null  object\n",
      " 1   message_date  123036 non-null  object\n",
      " 2   user_id       123036 non-null  int64 \n",
      "dtypes: int64(1), object(2)\n",
      "memory usage: 2.8+ MB\n"
     ]
    }
   ],
   "source": [
    "messages.info()"
   ]
  },
  {
   "cell_type": "markdown",
   "metadata": {},
   "source": [
    "Пропущенных значений нет. Колонку message_date приведем к типу datetime"
   ]
  },
  {
   "cell_type": "markdown",
   "metadata": {},
   "source": [
    "### 1.4 Проверка таблицы \"tariffs\" <a id=\"1.4id\"></a>"
   ]
  },
  {
   "cell_type": "markdown",
   "metadata": {},
   "source": [
    "Информация о тарифах:\n",
    "\n",
    "- tariff_name — название тарифа\n",
    "- rub_monthly_fee — ежемесячная абонентская плата в рублях\n",
    "- minutes_included — количество минут разговора в месяц, включённых в абонентскую плату\n",
    "- messages_included — количество сообщений в месяц, включённых в абонентскую плату\n",
    "- mb_per_month_included — объём интернет-трафика, включённого в абонентскую плату (в мегабайтах)\n",
    "- rub_per_minute — стоимость минуты разговора сверх тарифного пакета (например, если в тарифе 100 минут разговора в месяц, то со 101 минуты будет взиматься плата)\n",
    "- rub_per_message — стоимость отправки сообщения сверх тарифного пакета\n",
    "- rub_per_gb — стоимость дополнительного гигабайта интернет-трафика сверх тарифного пакета (1 гигабайт = 1024 мегабайта)"
   ]
  },
  {
   "cell_type": "code",
   "execution_count": 10,
   "metadata": {},
   "outputs": [
    {
     "data": {
      "text/html": [
       "<div>\n",
       "<style scoped>\n",
       "    .dataframe tbody tr th:only-of-type {\n",
       "        vertical-align: middle;\n",
       "    }\n",
       "\n",
       "    .dataframe tbody tr th {\n",
       "        vertical-align: top;\n",
       "    }\n",
       "\n",
       "    .dataframe thead th {\n",
       "        text-align: right;\n",
       "    }\n",
       "</style>\n",
       "<table border=\"1\" class=\"dataframe\">\n",
       "  <thead>\n",
       "    <tr style=\"text-align: right;\">\n",
       "      <th></th>\n",
       "      <th>messages_included</th>\n",
       "      <th>mb_per_month_included</th>\n",
       "      <th>minutes_included</th>\n",
       "      <th>rub_monthly_fee</th>\n",
       "      <th>rub_per_gb</th>\n",
       "      <th>rub_per_message</th>\n",
       "      <th>rub_per_minute</th>\n",
       "      <th>tariff_name</th>\n",
       "    </tr>\n",
       "  </thead>\n",
       "  <tbody>\n",
       "    <tr>\n",
       "      <th>0</th>\n",
       "      <td>50</td>\n",
       "      <td>15360</td>\n",
       "      <td>500</td>\n",
       "      <td>550</td>\n",
       "      <td>200</td>\n",
       "      <td>3</td>\n",
       "      <td>3</td>\n",
       "      <td>smart</td>\n",
       "    </tr>\n",
       "    <tr>\n",
       "      <th>1</th>\n",
       "      <td>1000</td>\n",
       "      <td>30720</td>\n",
       "      <td>3000</td>\n",
       "      <td>1950</td>\n",
       "      <td>150</td>\n",
       "      <td>1</td>\n",
       "      <td>1</td>\n",
       "      <td>ultra</td>\n",
       "    </tr>\n",
       "  </tbody>\n",
       "</table>\n",
       "</div>"
      ],
      "text/plain": [
       "   messages_included  mb_per_month_included  minutes_included  \\\n",
       "0                 50                  15360               500   \n",
       "1               1000                  30720              3000   \n",
       "\n",
       "   rub_monthly_fee  rub_per_gb  rub_per_message  rub_per_minute tariff_name  \n",
       "0              550         200                3               3       smart  \n",
       "1             1950         150                1               1       ultra  "
      ]
     },
     "execution_count": 10,
     "metadata": {},
     "output_type": "execute_result"
    }
   ],
   "source": [
    "try:\n",
    "    tariffs = pd.read_csv('/home/olga/Downloads/tariffs.csv')\n",
    "except:\n",
    "    tariffs = pd.read_csv('/datasets/tariffs.csv')\n",
    "tariffs"
   ]
  },
  {
   "cell_type": "code",
   "execution_count": 11,
   "metadata": {},
   "outputs": [
    {
     "name": "stdout",
     "output_type": "stream",
     "text": [
      "<class 'pandas.core.frame.DataFrame'>\n",
      "RangeIndex: 2 entries, 0 to 1\n",
      "Data columns (total 8 columns):\n",
      " #   Column                 Non-Null Count  Dtype \n",
      "---  ------                 --------------  ----- \n",
      " 0   messages_included      2 non-null      int64 \n",
      " 1   mb_per_month_included  2 non-null      int64 \n",
      " 2   minutes_included       2 non-null      int64 \n",
      " 3   rub_monthly_fee        2 non-null      int64 \n",
      " 4   rub_per_gb             2 non-null      int64 \n",
      " 5   rub_per_message        2 non-null      int64 \n",
      " 6   rub_per_minute         2 non-null      int64 \n",
      " 7   tariff_name            2 non-null      object\n",
      "dtypes: int64(7), object(1)\n",
      "memory usage: 256.0+ bytes\n"
     ]
    }
   ],
   "source": [
    "tariffs.info()"
   ]
  },
  {
   "cell_type": "markdown",
   "metadata": {},
   "source": [
    "Тут тоже все в порядке"
   ]
  },
  {
   "cell_type": "markdown",
   "metadata": {},
   "source": [
    "### 1.5 Проверка таблицы \"users\" <a id=\"1.5id\"></a>"
   ]
  },
  {
   "cell_type": "markdown",
   "metadata": {},
   "source": [
    "**Информация о пользователях:**\n",
    "\n",
    "- user_id — уникальный идентификатор пользователя\n",
    "- first_name — имя пользователя\n",
    "- last_name — фамилия пользователя\n",
    "- age — возраст пользователя (годы)\n",
    "- reg_date — дата подключения тарифа (день, месяц, год)\n",
    "- churn_date — дата прекращения пользования тарифом (если значение пропущено, то тариф ещё действовал на момент выгрузки данных)\n",
    "- city — город проживания пользователя\n",
    "- tarif — название тарифного плана"
   ]
  },
  {
   "cell_type": "code",
   "execution_count": 12,
   "metadata": {},
   "outputs": [
    {
     "data": {
      "text/html": [
       "<div>\n",
       "<style scoped>\n",
       "    .dataframe tbody tr th:only-of-type {\n",
       "        vertical-align: middle;\n",
       "    }\n",
       "\n",
       "    .dataframe tbody tr th {\n",
       "        vertical-align: top;\n",
       "    }\n",
       "\n",
       "    .dataframe thead th {\n",
       "        text-align: right;\n",
       "    }\n",
       "</style>\n",
       "<table border=\"1\" class=\"dataframe\">\n",
       "  <thead>\n",
       "    <tr style=\"text-align: right;\">\n",
       "      <th></th>\n",
       "      <th>user_id</th>\n",
       "      <th>age</th>\n",
       "      <th>churn_date</th>\n",
       "      <th>city</th>\n",
       "      <th>first_name</th>\n",
       "      <th>last_name</th>\n",
       "      <th>reg_date</th>\n",
       "      <th>tariff</th>\n",
       "    </tr>\n",
       "  </thead>\n",
       "  <tbody>\n",
       "    <tr>\n",
       "      <th>0</th>\n",
       "      <td>1000</td>\n",
       "      <td>52</td>\n",
       "      <td>NaN</td>\n",
       "      <td>Краснодар</td>\n",
       "      <td>Рафаил</td>\n",
       "      <td>Верещагин</td>\n",
       "      <td>2018-05-25</td>\n",
       "      <td>ultra</td>\n",
       "    </tr>\n",
       "    <tr>\n",
       "      <th>1</th>\n",
       "      <td>1001</td>\n",
       "      <td>41</td>\n",
       "      <td>NaN</td>\n",
       "      <td>Москва</td>\n",
       "      <td>Иван</td>\n",
       "      <td>Ежов</td>\n",
       "      <td>2018-11-01</td>\n",
       "      <td>smart</td>\n",
       "    </tr>\n",
       "    <tr>\n",
       "      <th>2</th>\n",
       "      <td>1002</td>\n",
       "      <td>59</td>\n",
       "      <td>NaN</td>\n",
       "      <td>Стерлитамак</td>\n",
       "      <td>Евгений</td>\n",
       "      <td>Абрамович</td>\n",
       "      <td>2018-06-17</td>\n",
       "      <td>smart</td>\n",
       "    </tr>\n",
       "    <tr>\n",
       "      <th>3</th>\n",
       "      <td>1003</td>\n",
       "      <td>23</td>\n",
       "      <td>NaN</td>\n",
       "      <td>Москва</td>\n",
       "      <td>Белла</td>\n",
       "      <td>Белякова</td>\n",
       "      <td>2018-08-17</td>\n",
       "      <td>ultra</td>\n",
       "    </tr>\n",
       "    <tr>\n",
       "      <th>4</th>\n",
       "      <td>1004</td>\n",
       "      <td>68</td>\n",
       "      <td>NaN</td>\n",
       "      <td>Новокузнецк</td>\n",
       "      <td>Татьяна</td>\n",
       "      <td>Авдеенко</td>\n",
       "      <td>2018-05-14</td>\n",
       "      <td>ultra</td>\n",
       "    </tr>\n",
       "    <tr>\n",
       "      <th>5</th>\n",
       "      <td>1005</td>\n",
       "      <td>67</td>\n",
       "      <td>NaN</td>\n",
       "      <td>Набережные Челны</td>\n",
       "      <td>Афанасий</td>\n",
       "      <td>Горлов</td>\n",
       "      <td>2018-01-25</td>\n",
       "      <td>smart</td>\n",
       "    </tr>\n",
       "    <tr>\n",
       "      <th>6</th>\n",
       "      <td>1006</td>\n",
       "      <td>21</td>\n",
       "      <td>NaN</td>\n",
       "      <td>Ульяновск</td>\n",
       "      <td>Леонид</td>\n",
       "      <td>Ермолаев</td>\n",
       "      <td>2018-02-26</td>\n",
       "      <td>smart</td>\n",
       "    </tr>\n",
       "    <tr>\n",
       "      <th>7</th>\n",
       "      <td>1007</td>\n",
       "      <td>65</td>\n",
       "      <td>NaN</td>\n",
       "      <td>Москва</td>\n",
       "      <td>Юна</td>\n",
       "      <td>Березина</td>\n",
       "      <td>2018-04-19</td>\n",
       "      <td>smart</td>\n",
       "    </tr>\n",
       "    <tr>\n",
       "      <th>8</th>\n",
       "      <td>1008</td>\n",
       "      <td>63</td>\n",
       "      <td>NaN</td>\n",
       "      <td>Челябинск</td>\n",
       "      <td>Рустэм</td>\n",
       "      <td>Пономарёв</td>\n",
       "      <td>2018-12-19</td>\n",
       "      <td>smart</td>\n",
       "    </tr>\n",
       "    <tr>\n",
       "      <th>9</th>\n",
       "      <td>1009</td>\n",
       "      <td>24</td>\n",
       "      <td>NaN</td>\n",
       "      <td>Пермь</td>\n",
       "      <td>Василиса</td>\n",
       "      <td>Блинова</td>\n",
       "      <td>2018-03-22</td>\n",
       "      <td>smart</td>\n",
       "    </tr>\n",
       "  </tbody>\n",
       "</table>\n",
       "</div>"
      ],
      "text/plain": [
       "   user_id  age churn_date              city first_name  last_name  \\\n",
       "0     1000   52        NaN         Краснодар     Рафаил  Верещагин   \n",
       "1     1001   41        NaN            Москва       Иван       Ежов   \n",
       "2     1002   59        NaN       Стерлитамак    Евгений  Абрамович   \n",
       "3     1003   23        NaN            Москва      Белла   Белякова   \n",
       "4     1004   68        NaN       Новокузнецк    Татьяна   Авдеенко   \n",
       "5     1005   67        NaN  Набережные Челны   Афанасий     Горлов   \n",
       "6     1006   21        NaN         Ульяновск     Леонид   Ермолаев   \n",
       "7     1007   65        NaN            Москва        Юна   Березина   \n",
       "8     1008   63        NaN         Челябинск     Рустэм  Пономарёв   \n",
       "9     1009   24        NaN             Пермь   Василиса    Блинова   \n",
       "\n",
       "     reg_date tariff  \n",
       "0  2018-05-25  ultra  \n",
       "1  2018-11-01  smart  \n",
       "2  2018-06-17  smart  \n",
       "3  2018-08-17  ultra  \n",
       "4  2018-05-14  ultra  \n",
       "5  2018-01-25  smart  \n",
       "6  2018-02-26  smart  \n",
       "7  2018-04-19  smart  \n",
       "8  2018-12-19  smart  \n",
       "9  2018-03-22  smart  "
      ]
     },
     "execution_count": 12,
     "metadata": {},
     "output_type": "execute_result"
    }
   ],
   "source": [
    "try:\n",
    "    users = pd.read_csv('/home/olga/Downloads/users.csv')\n",
    "except:\n",
    "    users = pd.read_csv('/datasets/users.csv')\n",
    "users.head(10)"
   ]
  },
  {
   "cell_type": "code",
   "execution_count": 13,
   "metadata": {},
   "outputs": [
    {
     "name": "stdout",
     "output_type": "stream",
     "text": [
      "<class 'pandas.core.frame.DataFrame'>\n",
      "RangeIndex: 500 entries, 0 to 499\n",
      "Data columns (total 8 columns):\n",
      " #   Column      Non-Null Count  Dtype \n",
      "---  ------      --------------  ----- \n",
      " 0   user_id     500 non-null    int64 \n",
      " 1   age         500 non-null    int64 \n",
      " 2   churn_date  38 non-null     object\n",
      " 3   city        500 non-null    object\n",
      " 4   first_name  500 non-null    object\n",
      " 5   last_name   500 non-null    object\n",
      " 6   reg_date    500 non-null    object\n",
      " 7   tariff      500 non-null    object\n",
      "dtypes: int64(2), object(6)\n",
      "memory usage: 31.4+ KB\n"
     ]
    }
   ],
   "source": [
    "users.info()"
   ]
  },
  {
   "cell_type": "markdown",
   "metadata": {},
   "source": [
    "В колонке \"churn_date\" много пропущенных данных. Оставим их без изменений"
   ]
  },
  {
   "cell_type": "markdown",
   "metadata": {},
   "source": [
    "## 2. Подготовка данных <a id=\"2id\"></a>"
   ]
  },
  {
   "cell_type": "markdown",
   "metadata": {},
   "source": [
    "### 2.1 Перевод типов данных <a id=\"2.1id\"></a>"
   ]
  },
  {
   "cell_type": "markdown",
   "metadata": {},
   "source": [
    "Заменим занчения необходимых столбцов на тип datetime.\n",
    "Округлим секунды до минут, а мегабайты — до гигабайт в большую сторону. "
   ]
  },
  {
   "cell_type": "code",
   "execution_count": 14,
   "metadata": {},
   "outputs": [],
   "source": [
    "calls['call_date'] = pd.to_datetime(calls['call_date'], format='%Y-%m-%d')\n",
    "internet['session_date'] = pd.to_datetime(internet['session_date'], format='%Y-%m-%d')\n",
    "messages['message_date'] = pd.to_datetime(messages['message_date'], format='%Y-%m-%d')"
   ]
  },
  {
   "cell_type": "code",
   "execution_count": 15,
   "metadata": {},
   "outputs": [],
   "source": [
    "calls['duration'] = np.ceil(calls['duration']).astype('int')\n",
    "internet['mb_used'] = np.ceil(internet['mb_used']).astype('int')\n",
    "tariffs['mb_per_month_included'] = np.ceil(tariffs['mb_per_month_included']).astype('int')"
   ]
  },
  {
   "cell_type": "markdown",
   "metadata": {},
   "source": [
    "Для удобства объединения таблиц переменуем в таблице \"tariffs\" столбец \"tariff_name\" на \"tariff\""
   ]
  },
  {
   "cell_type": "code",
   "execution_count": 16,
   "metadata": {},
   "outputs": [
    {
     "data": {
      "text/html": [
       "<div>\n",
       "<style scoped>\n",
       "    .dataframe tbody tr th:only-of-type {\n",
       "        vertical-align: middle;\n",
       "    }\n",
       "\n",
       "    .dataframe tbody tr th {\n",
       "        vertical-align: top;\n",
       "    }\n",
       "\n",
       "    .dataframe thead th {\n",
       "        text-align: right;\n",
       "    }\n",
       "</style>\n",
       "<table border=\"1\" class=\"dataframe\">\n",
       "  <thead>\n",
       "    <tr style=\"text-align: right;\">\n",
       "      <th></th>\n",
       "      <th>messages_included</th>\n",
       "      <th>mb_per_month_included</th>\n",
       "      <th>minutes_included</th>\n",
       "      <th>rub_monthly_fee</th>\n",
       "      <th>rub_per_gb</th>\n",
       "      <th>rub_per_message</th>\n",
       "      <th>rub_per_minute</th>\n",
       "      <th>tariff</th>\n",
       "    </tr>\n",
       "  </thead>\n",
       "  <tbody>\n",
       "    <tr>\n",
       "      <th>0</th>\n",
       "      <td>50</td>\n",
       "      <td>15360</td>\n",
       "      <td>500</td>\n",
       "      <td>550</td>\n",
       "      <td>200</td>\n",
       "      <td>3</td>\n",
       "      <td>3</td>\n",
       "      <td>smart</td>\n",
       "    </tr>\n",
       "    <tr>\n",
       "      <th>1</th>\n",
       "      <td>1000</td>\n",
       "      <td>30720</td>\n",
       "      <td>3000</td>\n",
       "      <td>1950</td>\n",
       "      <td>150</td>\n",
       "      <td>1</td>\n",
       "      <td>1</td>\n",
       "      <td>ultra</td>\n",
       "    </tr>\n",
       "  </tbody>\n",
       "</table>\n",
       "</div>"
      ],
      "text/plain": [
       "   messages_included  mb_per_month_included  minutes_included  \\\n",
       "0                 50                  15360               500   \n",
       "1               1000                  30720              3000   \n",
       "\n",
       "   rub_monthly_fee  rub_per_gb  rub_per_message  rub_per_minute tariff  \n",
       "0              550         200                3               3  smart  \n",
       "1             1950         150                1               1  ultra  "
      ]
     },
     "execution_count": 16,
     "metadata": {},
     "output_type": "execute_result"
    }
   ],
   "source": [
    "tariffs.rename(columns={'tariff_name':'tariff'}, inplace=True)\n",
    "tariffs"
   ]
  },
  {
   "cell_type": "markdown",
   "metadata": {},
   "source": [
    "### 2.3 Рассчет количества сделанных звонков и израсходованных минут разговора по месяцам <a id=\"2.3id\"></a>"
   ]
  },
  {
   "cell_type": "code",
   "execution_count": 17,
   "metadata": {},
   "outputs": [],
   "source": [
    "calls['month'] = calls['call_date'].dt.month # выделим месяцы в отдельную колонку"
   ]
  },
  {
   "cell_type": "code",
   "execution_count": 18,
   "metadata": {},
   "outputs": [
    {
     "data": {
      "text/html": [
       "<div>\n",
       "<style scoped>\n",
       "    .dataframe tbody tr th:only-of-type {\n",
       "        vertical-align: middle;\n",
       "    }\n",
       "\n",
       "    .dataframe tbody tr th {\n",
       "        vertical-align: top;\n",
       "    }\n",
       "\n",
       "    .dataframe thead th {\n",
       "        text-align: right;\n",
       "    }\n",
       "</style>\n",
       "<table border=\"1\" class=\"dataframe\">\n",
       "  <thead>\n",
       "    <tr style=\"text-align: right;\">\n",
       "      <th></th>\n",
       "      <th>user_id</th>\n",
       "      <th>month</th>\n",
       "      <th>count_calls</th>\n",
       "      <th>total_duration</th>\n",
       "    </tr>\n",
       "  </thead>\n",
       "  <tbody>\n",
       "    <tr>\n",
       "      <th>0</th>\n",
       "      <td>1000</td>\n",
       "      <td>5</td>\n",
       "      <td>22</td>\n",
       "      <td>159</td>\n",
       "    </tr>\n",
       "    <tr>\n",
       "      <th>1</th>\n",
       "      <td>1000</td>\n",
       "      <td>6</td>\n",
       "      <td>43</td>\n",
       "      <td>172</td>\n",
       "    </tr>\n",
       "    <tr>\n",
       "      <th>2</th>\n",
       "      <td>1000</td>\n",
       "      <td>7</td>\n",
       "      <td>47</td>\n",
       "      <td>340</td>\n",
       "    </tr>\n",
       "    <tr>\n",
       "      <th>3</th>\n",
       "      <td>1000</td>\n",
       "      <td>8</td>\n",
       "      <td>52</td>\n",
       "      <td>408</td>\n",
       "    </tr>\n",
       "    <tr>\n",
       "      <th>4</th>\n",
       "      <td>1000</td>\n",
       "      <td>9</td>\n",
       "      <td>58</td>\n",
       "      <td>466</td>\n",
       "    </tr>\n",
       "    <tr>\n",
       "      <th>5</th>\n",
       "      <td>1000</td>\n",
       "      <td>10</td>\n",
       "      <td>57</td>\n",
       "      <td>350</td>\n",
       "    </tr>\n",
       "    <tr>\n",
       "      <th>6</th>\n",
       "      <td>1000</td>\n",
       "      <td>11</td>\n",
       "      <td>43</td>\n",
       "      <td>338</td>\n",
       "    </tr>\n",
       "    <tr>\n",
       "      <th>7</th>\n",
       "      <td>1000</td>\n",
       "      <td>12</td>\n",
       "      <td>46</td>\n",
       "      <td>333</td>\n",
       "    </tr>\n",
       "    <tr>\n",
       "      <th>8</th>\n",
       "      <td>1001</td>\n",
       "      <td>11</td>\n",
       "      <td>59</td>\n",
       "      <td>430</td>\n",
       "    </tr>\n",
       "    <tr>\n",
       "      <th>9</th>\n",
       "      <td>1001</td>\n",
       "      <td>12</td>\n",
       "      <td>63</td>\n",
       "      <td>414</td>\n",
       "    </tr>\n",
       "  </tbody>\n",
       "</table>\n",
       "</div>"
      ],
      "text/plain": [
       "   user_id  month  count_calls  total_duration\n",
       "0     1000      5           22             159\n",
       "1     1000      6           43             172\n",
       "2     1000      7           47             340\n",
       "3     1000      8           52             408\n",
       "4     1000      9           58             466\n",
       "5     1000     10           57             350\n",
       "6     1000     11           43             338\n",
       "7     1000     12           46             333\n",
       "8     1001     11           59             430\n",
       "9     1001     12           63             414"
      ]
     },
     "execution_count": 18,
     "metadata": {},
     "output_type": "execute_result"
    }
   ],
   "source": [
    "calls_pivot = calls.pivot_table(index=['user_id', 'month'], values='duration', aggfunc=['count','sum']).reset_index(drop=False)\n",
    "calls_pivot.columns = ['user_id', 'month', 'count_calls', 'total_duration']\n",
    "calls_pivot.head(10)\n",
    "\n",
    "# count_calls - количество звонков\n",
    "# total_duration - израсходованные минуты"
   ]
  },
  {
   "cell_type": "markdown",
   "metadata": {},
   "source": [
    "### 2.4 Рассчет количества отправленных сообщений по месяцам <a id=\"2.4id\"></a>"
   ]
  },
  {
   "cell_type": "code",
   "execution_count": 19,
   "metadata": {},
   "outputs": [],
   "source": [
    "messages['month'] = messages['message_date'].dt.month"
   ]
  },
  {
   "cell_type": "code",
   "execution_count": 20,
   "metadata": {},
   "outputs": [
    {
     "data": {
      "text/html": [
       "<div>\n",
       "<style scoped>\n",
       "    .dataframe tbody tr th:only-of-type {\n",
       "        vertical-align: middle;\n",
       "    }\n",
       "\n",
       "    .dataframe tbody tr th {\n",
       "        vertical-align: top;\n",
       "    }\n",
       "\n",
       "    .dataframe thead th {\n",
       "        text-align: right;\n",
       "    }\n",
       "</style>\n",
       "<table border=\"1\" class=\"dataframe\">\n",
       "  <thead>\n",
       "    <tr style=\"text-align: right;\">\n",
       "      <th></th>\n",
       "      <th>user_id</th>\n",
       "      <th>month</th>\n",
       "      <th>count_message</th>\n",
       "    </tr>\n",
       "  </thead>\n",
       "  <tbody>\n",
       "    <tr>\n",
       "      <th>0</th>\n",
       "      <td>1000</td>\n",
       "      <td>5</td>\n",
       "      <td>22</td>\n",
       "    </tr>\n",
       "    <tr>\n",
       "      <th>1</th>\n",
       "      <td>1000</td>\n",
       "      <td>6</td>\n",
       "      <td>60</td>\n",
       "    </tr>\n",
       "    <tr>\n",
       "      <th>2</th>\n",
       "      <td>1000</td>\n",
       "      <td>7</td>\n",
       "      <td>75</td>\n",
       "    </tr>\n",
       "    <tr>\n",
       "      <th>3</th>\n",
       "      <td>1000</td>\n",
       "      <td>8</td>\n",
       "      <td>81</td>\n",
       "    </tr>\n",
       "    <tr>\n",
       "      <th>4</th>\n",
       "      <td>1000</td>\n",
       "      <td>9</td>\n",
       "      <td>57</td>\n",
       "    </tr>\n",
       "  </tbody>\n",
       "</table>\n",
       "</div>"
      ],
      "text/plain": [
       "   user_id  month  count_message\n",
       "0     1000      5             22\n",
       "1     1000      6             60\n",
       "2     1000      7             75\n",
       "3     1000      8             81\n",
       "4     1000      9             57"
      ]
     },
     "execution_count": 20,
     "metadata": {},
     "output_type": "execute_result"
    }
   ],
   "source": [
    "messages_pivot = messages.pivot_table(index=['user_id', 'month'], values='id', aggfunc='count').reset_index(drop=False)\n",
    "messages_pivot.columns = ['user_id', 'month', 'count_message']\n",
    "messages_pivot.head()\n",
    "\n",
    "# count_message - количество сообщений"
   ]
  },
  {
   "cell_type": "markdown",
   "metadata": {},
   "source": [
    "### 2.5 Рассчет объема израсходованного интернет-трафика по месяцам <a id=\"2.5id\"></a>"
   ]
  },
  {
   "cell_type": "code",
   "execution_count": 21,
   "metadata": {},
   "outputs": [],
   "source": [
    "internet['month'] = internet['session_date'].dt.month"
   ]
  },
  {
   "cell_type": "code",
   "execution_count": 22,
   "metadata": {},
   "outputs": [
    {
     "data": {
      "text/html": [
       "<div>\n",
       "<style scoped>\n",
       "    .dataframe tbody tr th:only-of-type {\n",
       "        vertical-align: middle;\n",
       "    }\n",
       "\n",
       "    .dataframe tbody tr th {\n",
       "        vertical-align: top;\n",
       "    }\n",
       "\n",
       "    .dataframe thead th {\n",
       "        text-align: right;\n",
       "    }\n",
       "</style>\n",
       "<table border=\"1\" class=\"dataframe\">\n",
       "  <thead>\n",
       "    <tr style=\"text-align: right;\">\n",
       "      <th></th>\n",
       "      <th>user_id</th>\n",
       "      <th>month</th>\n",
       "      <th>mb_used_total</th>\n",
       "    </tr>\n",
       "  </thead>\n",
       "  <tbody>\n",
       "    <tr>\n",
       "      <th>0</th>\n",
       "      <td>1000</td>\n",
       "      <td>5</td>\n",
       "      <td>2256</td>\n",
       "    </tr>\n",
       "    <tr>\n",
       "      <th>1</th>\n",
       "      <td>1000</td>\n",
       "      <td>6</td>\n",
       "      <td>23257</td>\n",
       "    </tr>\n",
       "    <tr>\n",
       "      <th>2</th>\n",
       "      <td>1000</td>\n",
       "      <td>7</td>\n",
       "      <td>14016</td>\n",
       "    </tr>\n",
       "    <tr>\n",
       "      <th>3</th>\n",
       "      <td>1000</td>\n",
       "      <td>8</td>\n",
       "      <td>14070</td>\n",
       "    </tr>\n",
       "    <tr>\n",
       "      <th>4</th>\n",
       "      <td>1000</td>\n",
       "      <td>9</td>\n",
       "      <td>14581</td>\n",
       "    </tr>\n",
       "  </tbody>\n",
       "</table>\n",
       "</div>"
      ],
      "text/plain": [
       "   user_id  month  mb_used_total\n",
       "0     1000      5           2256\n",
       "1     1000      6          23257\n",
       "2     1000      7          14016\n",
       "3     1000      8          14070\n",
       "4     1000      9          14581"
      ]
     },
     "execution_count": 22,
     "metadata": {},
     "output_type": "execute_result"
    }
   ],
   "source": [
    "internet_pivot = internet.pivot_table(index=['user_id', 'month'], values='mb_used', aggfunc='sum').reset_index(drop=False)\n",
    "internet_pivot.columns = ['user_id', 'month', 'mb_used_total']\n",
    "internet_pivot.head()\n",
    "\n",
    "# mb_used_total - объем израсходованного трафика"
   ]
  },
  {
   "cell_type": "markdown",
   "metadata": {},
   "source": [
    "### 2.6 Рассчет помесячной выручки с каждого пользователя <a id=\"2.6id\"></a>"
   ]
  },
  {
   "cell_type": "markdown",
   "metadata": {},
   "source": [
    "Соединим все три сводные таблицы в одну"
   ]
  },
  {
   "cell_type": "code",
   "execution_count": 23,
   "metadata": {},
   "outputs": [
    {
     "data": {
      "text/html": [
       "<div>\n",
       "<style scoped>\n",
       "    .dataframe tbody tr th:only-of-type {\n",
       "        vertical-align: middle;\n",
       "    }\n",
       "\n",
       "    .dataframe tbody tr th {\n",
       "        vertical-align: top;\n",
       "    }\n",
       "\n",
       "    .dataframe thead th {\n",
       "        text-align: right;\n",
       "    }\n",
       "</style>\n",
       "<table border=\"1\" class=\"dataframe\">\n",
       "  <thead>\n",
       "    <tr style=\"text-align: right;\">\n",
       "      <th></th>\n",
       "      <th>user_id</th>\n",
       "      <th>month</th>\n",
       "      <th>count_calls</th>\n",
       "      <th>total_duration</th>\n",
       "      <th>count_message</th>\n",
       "    </tr>\n",
       "  </thead>\n",
       "  <tbody>\n",
       "    <tr>\n",
       "      <th>0</th>\n",
       "      <td>1000</td>\n",
       "      <td>5</td>\n",
       "      <td>22.0</td>\n",
       "      <td>159.0</td>\n",
       "      <td>22.0</td>\n",
       "    </tr>\n",
       "    <tr>\n",
       "      <th>1</th>\n",
       "      <td>1000</td>\n",
       "      <td>6</td>\n",
       "      <td>43.0</td>\n",
       "      <td>172.0</td>\n",
       "      <td>60.0</td>\n",
       "    </tr>\n",
       "    <tr>\n",
       "      <th>2</th>\n",
       "      <td>1000</td>\n",
       "      <td>7</td>\n",
       "      <td>47.0</td>\n",
       "      <td>340.0</td>\n",
       "      <td>75.0</td>\n",
       "    </tr>\n",
       "    <tr>\n",
       "      <th>3</th>\n",
       "      <td>1000</td>\n",
       "      <td>8</td>\n",
       "      <td>52.0</td>\n",
       "      <td>408.0</td>\n",
       "      <td>81.0</td>\n",
       "    </tr>\n",
       "    <tr>\n",
       "      <th>4</th>\n",
       "      <td>1000</td>\n",
       "      <td>9</td>\n",
       "      <td>58.0</td>\n",
       "      <td>466.0</td>\n",
       "      <td>57.0</td>\n",
       "    </tr>\n",
       "  </tbody>\n",
       "</table>\n",
       "</div>"
      ],
      "text/plain": [
       "   user_id  month  count_calls  total_duration  count_message\n",
       "0     1000      5         22.0           159.0           22.0\n",
       "1     1000      6         43.0           172.0           60.0\n",
       "2     1000      7         47.0           340.0           75.0\n",
       "3     1000      8         52.0           408.0           81.0\n",
       "4     1000      9         58.0           466.0           57.0"
      ]
     },
     "execution_count": 23,
     "metadata": {},
     "output_type": "execute_result"
    }
   ],
   "source": [
    "df_merged = calls_pivot.merge(messages_pivot, on=['user_id', 'month'], how='outer').reset_index(drop=True)\n",
    "df_merged.head()"
   ]
  },
  {
   "cell_type": "code",
   "execution_count": 24,
   "metadata": {},
   "outputs": [
    {
     "data": {
      "text/html": [
       "<div>\n",
       "<style scoped>\n",
       "    .dataframe tbody tr th:only-of-type {\n",
       "        vertical-align: middle;\n",
       "    }\n",
       "\n",
       "    .dataframe tbody tr th {\n",
       "        vertical-align: top;\n",
       "    }\n",
       "\n",
       "    .dataframe thead th {\n",
       "        text-align: right;\n",
       "    }\n",
       "</style>\n",
       "<table border=\"1\" class=\"dataframe\">\n",
       "  <thead>\n",
       "    <tr style=\"text-align: right;\">\n",
       "      <th></th>\n",
       "      <th>user_id</th>\n",
       "      <th>month</th>\n",
       "      <th>count_calls</th>\n",
       "      <th>total_duration</th>\n",
       "      <th>count_message</th>\n",
       "      <th>mb_used_total</th>\n",
       "    </tr>\n",
       "  </thead>\n",
       "  <tbody>\n",
       "    <tr>\n",
       "      <th>0</th>\n",
       "      <td>1000</td>\n",
       "      <td>5</td>\n",
       "      <td>22.0</td>\n",
       "      <td>159.0</td>\n",
       "      <td>22.0</td>\n",
       "      <td>2256.0</td>\n",
       "    </tr>\n",
       "    <tr>\n",
       "      <th>1</th>\n",
       "      <td>1000</td>\n",
       "      <td>6</td>\n",
       "      <td>43.0</td>\n",
       "      <td>172.0</td>\n",
       "      <td>60.0</td>\n",
       "      <td>23257.0</td>\n",
       "    </tr>\n",
       "    <tr>\n",
       "      <th>2</th>\n",
       "      <td>1000</td>\n",
       "      <td>7</td>\n",
       "      <td>47.0</td>\n",
       "      <td>340.0</td>\n",
       "      <td>75.0</td>\n",
       "      <td>14016.0</td>\n",
       "    </tr>\n",
       "    <tr>\n",
       "      <th>3</th>\n",
       "      <td>1000</td>\n",
       "      <td>8</td>\n",
       "      <td>52.0</td>\n",
       "      <td>408.0</td>\n",
       "      <td>81.0</td>\n",
       "      <td>14070.0</td>\n",
       "    </tr>\n",
       "    <tr>\n",
       "      <th>4</th>\n",
       "      <td>1000</td>\n",
       "      <td>9</td>\n",
       "      <td>58.0</td>\n",
       "      <td>466.0</td>\n",
       "      <td>57.0</td>\n",
       "      <td>14581.0</td>\n",
       "    </tr>\n",
       "  </tbody>\n",
       "</table>\n",
       "</div>"
      ],
      "text/plain": [
       "   user_id  month  count_calls  total_duration  count_message  mb_used_total\n",
       "0     1000      5         22.0           159.0           22.0         2256.0\n",
       "1     1000      6         43.0           172.0           60.0        23257.0\n",
       "2     1000      7         47.0           340.0           75.0        14016.0\n",
       "3     1000      8         52.0           408.0           81.0        14070.0\n",
       "4     1000      9         58.0           466.0           57.0        14581.0"
      ]
     },
     "execution_count": 24,
     "metadata": {},
     "output_type": "execute_result"
    }
   ],
   "source": [
    "df_merged = df_merged.merge(internet_pivot, on=['user_id', 'month'], how='outer').reset_index(drop=True) \n",
    "df_merged.head()"
   ]
  },
  {
   "cell_type": "code",
   "execution_count": 25,
   "metadata": {},
   "outputs": [
    {
     "data": {
      "text/html": [
       "<div>\n",
       "<style scoped>\n",
       "    .dataframe tbody tr th:only-of-type {\n",
       "        vertical-align: middle;\n",
       "    }\n",
       "\n",
       "    .dataframe tbody tr th {\n",
       "        vertical-align: top;\n",
       "    }\n",
       "\n",
       "    .dataframe thead th {\n",
       "        text-align: right;\n",
       "    }\n",
       "</style>\n",
       "<table border=\"1\" class=\"dataframe\">\n",
       "  <thead>\n",
       "    <tr style=\"text-align: right;\">\n",
       "      <th></th>\n",
       "      <th>user_id</th>\n",
       "      <th>month</th>\n",
       "      <th>count_calls</th>\n",
       "      <th>total_duration</th>\n",
       "      <th>count_message</th>\n",
       "      <th>mb_used_total</th>\n",
       "      <th>age</th>\n",
       "      <th>churn_date</th>\n",
       "      <th>city</th>\n",
       "      <th>first_name</th>\n",
       "      <th>last_name</th>\n",
       "      <th>reg_date</th>\n",
       "      <th>tariff</th>\n",
       "    </tr>\n",
       "  </thead>\n",
       "  <tbody>\n",
       "    <tr>\n",
       "      <th>0</th>\n",
       "      <td>1000</td>\n",
       "      <td>5</td>\n",
       "      <td>22.0</td>\n",
       "      <td>159.0</td>\n",
       "      <td>22.0</td>\n",
       "      <td>2256.0</td>\n",
       "      <td>52</td>\n",
       "      <td>NaN</td>\n",
       "      <td>Краснодар</td>\n",
       "      <td>Рафаил</td>\n",
       "      <td>Верещагин</td>\n",
       "      <td>2018-05-25</td>\n",
       "      <td>ultra</td>\n",
       "    </tr>\n",
       "    <tr>\n",
       "      <th>1</th>\n",
       "      <td>1000</td>\n",
       "      <td>6</td>\n",
       "      <td>43.0</td>\n",
       "      <td>172.0</td>\n",
       "      <td>60.0</td>\n",
       "      <td>23257.0</td>\n",
       "      <td>52</td>\n",
       "      <td>NaN</td>\n",
       "      <td>Краснодар</td>\n",
       "      <td>Рафаил</td>\n",
       "      <td>Верещагин</td>\n",
       "      <td>2018-05-25</td>\n",
       "      <td>ultra</td>\n",
       "    </tr>\n",
       "    <tr>\n",
       "      <th>2</th>\n",
       "      <td>1000</td>\n",
       "      <td>7</td>\n",
       "      <td>47.0</td>\n",
       "      <td>340.0</td>\n",
       "      <td>75.0</td>\n",
       "      <td>14016.0</td>\n",
       "      <td>52</td>\n",
       "      <td>NaN</td>\n",
       "      <td>Краснодар</td>\n",
       "      <td>Рафаил</td>\n",
       "      <td>Верещагин</td>\n",
       "      <td>2018-05-25</td>\n",
       "      <td>ultra</td>\n",
       "    </tr>\n",
       "    <tr>\n",
       "      <th>3</th>\n",
       "      <td>1000</td>\n",
       "      <td>8</td>\n",
       "      <td>52.0</td>\n",
       "      <td>408.0</td>\n",
       "      <td>81.0</td>\n",
       "      <td>14070.0</td>\n",
       "      <td>52</td>\n",
       "      <td>NaN</td>\n",
       "      <td>Краснодар</td>\n",
       "      <td>Рафаил</td>\n",
       "      <td>Верещагин</td>\n",
       "      <td>2018-05-25</td>\n",
       "      <td>ultra</td>\n",
       "    </tr>\n",
       "    <tr>\n",
       "      <th>4</th>\n",
       "      <td>1000</td>\n",
       "      <td>9</td>\n",
       "      <td>58.0</td>\n",
       "      <td>466.0</td>\n",
       "      <td>57.0</td>\n",
       "      <td>14581.0</td>\n",
       "      <td>52</td>\n",
       "      <td>NaN</td>\n",
       "      <td>Краснодар</td>\n",
       "      <td>Рафаил</td>\n",
       "      <td>Верещагин</td>\n",
       "      <td>2018-05-25</td>\n",
       "      <td>ultra</td>\n",
       "    </tr>\n",
       "  </tbody>\n",
       "</table>\n",
       "</div>"
      ],
      "text/plain": [
       "   user_id  month  count_calls  total_duration  count_message  mb_used_total  \\\n",
       "0     1000      5         22.0           159.0           22.0         2256.0   \n",
       "1     1000      6         43.0           172.0           60.0        23257.0   \n",
       "2     1000      7         47.0           340.0           75.0        14016.0   \n",
       "3     1000      8         52.0           408.0           81.0        14070.0   \n",
       "4     1000      9         58.0           466.0           57.0        14581.0   \n",
       "\n",
       "   age churn_date       city first_name  last_name    reg_date tariff  \n",
       "0   52        NaN  Краснодар     Рафаил  Верещагин  2018-05-25  ultra  \n",
       "1   52        NaN  Краснодар     Рафаил  Верещагин  2018-05-25  ultra  \n",
       "2   52        NaN  Краснодар     Рафаил  Верещагин  2018-05-25  ultra  \n",
       "3   52        NaN  Краснодар     Рафаил  Верещагин  2018-05-25  ultra  \n",
       "4   52        NaN  Краснодар     Рафаил  Верещагин  2018-05-25  ultra  "
      ]
     },
     "execution_count": 25,
     "metadata": {},
     "output_type": "execute_result"
    }
   ],
   "source": [
    "df_merged = df_merged.merge(users, on='user_id', how='left').reset_index(drop=True) \n",
    "df_merged.head()"
   ]
  },
  {
   "cell_type": "code",
   "execution_count": 26,
   "metadata": {},
   "outputs": [
    {
     "data": {
      "text/plain": [
       "Index(['user_id', 'month', 'count_calls', 'total_duration', 'count_message',\n",
       "       'mb_used_total', 'age', 'churn_date', 'city', 'first_name', 'last_name',\n",
       "       'reg_date', 'tariff', 'messages_included', 'mb_per_month_included',\n",
       "       'minutes_included', 'rub_monthly_fee', 'rub_per_gb', 'rub_per_message',\n",
       "       'rub_per_minute'],\n",
       "      dtype='object')"
      ]
     },
     "execution_count": 26,
     "metadata": {},
     "output_type": "execute_result"
    }
   ],
   "source": [
    "df_merged = df_merged.merge(tariffs, on='tariff', how='left').reset_index(drop=True)\n",
    "df_merged.columns"
   ]
  },
  {
   "cell_type": "code",
   "execution_count": 27,
   "metadata": {},
   "outputs": [
    {
     "data": {
      "text/plain": [
       "3214"
      ]
     },
     "execution_count": 27,
     "metadata": {},
     "output_type": "execute_result"
    }
   ],
   "source": [
    "# количество строк в таблице\n",
    "df_merged['user_id'].count()"
   ]
  },
  {
   "cell_type": "code",
   "execution_count": 28,
   "metadata": {},
   "outputs": [
    {
     "data": {
      "text/plain": [
       "user_id                     0\n",
       "month                       0\n",
       "count_calls                40\n",
       "total_duration             40\n",
       "count_message             497\n",
       "mb_used_total              11\n",
       "age                         0\n",
       "churn_date               3027\n",
       "city                        0\n",
       "first_name                  0\n",
       "last_name                   0\n",
       "reg_date                    0\n",
       "tariff                      0\n",
       "messages_included           0\n",
       "mb_per_month_included       0\n",
       "minutes_included            0\n",
       "rub_monthly_fee             0\n",
       "rub_per_gb                  0\n",
       "rub_per_message             0\n",
       "rub_per_minute              0\n",
       "dtype: int64"
      ]
     },
     "execution_count": 28,
     "metadata": {},
     "output_type": "execute_result"
    }
   ],
   "source": [
    "# посмотрим на пустые значения общей таблицы\n",
    "df_merged.isna().sum()"
   ]
  },
  {
   "cell_type": "markdown",
   "metadata": {},
   "source": [
    "Пропуски есть в звонках, смс и потраченном интернет-трафике. Предположим, что клиенты просто не пользовались теми услугами в определенном месяце, в которых значения пропущены. Заменим нулями"
   ]
  },
  {
   "cell_type": "code",
   "execution_count": 29,
   "metadata": {},
   "outputs": [],
   "source": [
    "df_merged['count_calls'] = df_merged['count_calls'].fillna(0)\n",
    "df_merged['total_duration'] = df_merged['total_duration'].fillna(0)\n",
    "df_merged['count_message'] = df_merged['count_message'].fillna(0)\n",
    "df_merged['mb_used_total'] = df_merged['mb_used_total'].fillna(0)"
   ]
  },
  {
   "cell_type": "markdown",
   "metadata": {},
   "source": [
    "Создадим функцию, которая вычислит по каждому из трех показателей (звонки, сообщения, интернет) перерасход лимита согласно тарифу"
   ]
  },
  {
   "cell_type": "code",
   "execution_count": 30,
   "metadata": {},
   "outputs": [],
   "source": [
    "def count_revenue(row):\n",
    "    calls = (row['total_duration'] - row['minutes_included']) * row['rub_per_minute']\n",
    "    message = (row['count_message'] - row['messages_included']) * row['rub_per_message']\n",
    "    internet = np.floor(row['mb_used_total'] - row['mb_per_month_included']) * row['rub_per_gb'] / 1024\n",
    "        \n",
    "    total = 0\n",
    "    for i in [calls, message, internet]:\n",
    "        if i > 0:\n",
    "            total += i\n",
    "    return total"
   ]
  },
  {
   "cell_type": "markdown",
   "metadata": {},
   "source": [
    "Создадим столбец с перерасходом тарифа и добавим после абонентскую плату - это будет столбец выручки"
   ]
  },
  {
   "cell_type": "code",
   "execution_count": 31,
   "metadata": {},
   "outputs": [],
   "source": [
    "df_merged['extra'] = df_merged.apply(count_revenue, axis=1)\n",
    "df_merged['revenue'] = df_merged['extra'] + df_merged['rub_monthly_fee']"
   ]
  },
  {
   "cell_type": "code",
   "execution_count": 32,
   "metadata": {},
   "outputs": [
    {
     "data": {
      "text/plain": [
       "3021     550.000000\n",
       "555      784.960938\n",
       "814     1228.351562\n",
       "1258    1135.000000\n",
       "2267    1950.000000\n",
       "2513    1116.351562\n",
       "3110     550.000000\n",
       "Name: revenue, dtype: float64"
      ]
     },
     "execution_count": 32,
     "metadata": {},
     "output_type": "execute_result"
    }
   ],
   "source": [
    "df_merged['revenue'].sample(7)"
   ]
  },
  {
   "cell_type": "code",
   "execution_count": 33,
   "metadata": {},
   "outputs": [
    {
     "data": {
      "text/html": [
       "<div>\n",
       "<style scoped>\n",
       "    .dataframe tbody tr th:only-of-type {\n",
       "        vertical-align: middle;\n",
       "    }\n",
       "\n",
       "    .dataframe tbody tr th {\n",
       "        vertical-align: top;\n",
       "    }\n",
       "\n",
       "    .dataframe thead th {\n",
       "        text-align: right;\n",
       "    }\n",
       "</style>\n",
       "<table border=\"1\" class=\"dataframe\">\n",
       "  <thead>\n",
       "    <tr style=\"text-align: right;\">\n",
       "      <th></th>\n",
       "      <th>user_id</th>\n",
       "      <th>month</th>\n",
       "      <th>count_calls</th>\n",
       "      <th>total_duration</th>\n",
       "      <th>count_message</th>\n",
       "      <th>mb_used_total</th>\n",
       "      <th>age</th>\n",
       "      <th>churn_date</th>\n",
       "      <th>city</th>\n",
       "      <th>first_name</th>\n",
       "      <th>...</th>\n",
       "      <th>reg_date</th>\n",
       "      <th>tariff</th>\n",
       "      <th>messages_included</th>\n",
       "      <th>mb_per_month_included</th>\n",
       "      <th>minutes_included</th>\n",
       "      <th>rub_monthly_fee</th>\n",
       "      <th>rub_per_gb</th>\n",
       "      <th>rub_per_message</th>\n",
       "      <th>rub_per_minute</th>\n",
       "      <th>revenue</th>\n",
       "    </tr>\n",
       "  </thead>\n",
       "  <tbody>\n",
       "    <tr>\n",
       "      <th>0</th>\n",
       "      <td>1000</td>\n",
       "      <td>5</td>\n",
       "      <td>22.0</td>\n",
       "      <td>159.0</td>\n",
       "      <td>22.0</td>\n",
       "      <td>2256.0</td>\n",
       "      <td>52</td>\n",
       "      <td>NaN</td>\n",
       "      <td>Краснодар</td>\n",
       "      <td>Рафаил</td>\n",
       "      <td>...</td>\n",
       "      <td>2018-05-25</td>\n",
       "      <td>ultra</td>\n",
       "      <td>1000</td>\n",
       "      <td>30720</td>\n",
       "      <td>3000</td>\n",
       "      <td>1950</td>\n",
       "      <td>150</td>\n",
       "      <td>1</td>\n",
       "      <td>1</td>\n",
       "      <td>1950.0</td>\n",
       "    </tr>\n",
       "    <tr>\n",
       "      <th>1</th>\n",
       "      <td>1000</td>\n",
       "      <td>6</td>\n",
       "      <td>43.0</td>\n",
       "      <td>172.0</td>\n",
       "      <td>60.0</td>\n",
       "      <td>23257.0</td>\n",
       "      <td>52</td>\n",
       "      <td>NaN</td>\n",
       "      <td>Краснодар</td>\n",
       "      <td>Рафаил</td>\n",
       "      <td>...</td>\n",
       "      <td>2018-05-25</td>\n",
       "      <td>ultra</td>\n",
       "      <td>1000</td>\n",
       "      <td>30720</td>\n",
       "      <td>3000</td>\n",
       "      <td>1950</td>\n",
       "      <td>150</td>\n",
       "      <td>1</td>\n",
       "      <td>1</td>\n",
       "      <td>1950.0</td>\n",
       "    </tr>\n",
       "    <tr>\n",
       "      <th>2</th>\n",
       "      <td>1000</td>\n",
       "      <td>7</td>\n",
       "      <td>47.0</td>\n",
       "      <td>340.0</td>\n",
       "      <td>75.0</td>\n",
       "      <td>14016.0</td>\n",
       "      <td>52</td>\n",
       "      <td>NaN</td>\n",
       "      <td>Краснодар</td>\n",
       "      <td>Рафаил</td>\n",
       "      <td>...</td>\n",
       "      <td>2018-05-25</td>\n",
       "      <td>ultra</td>\n",
       "      <td>1000</td>\n",
       "      <td>30720</td>\n",
       "      <td>3000</td>\n",
       "      <td>1950</td>\n",
       "      <td>150</td>\n",
       "      <td>1</td>\n",
       "      <td>1</td>\n",
       "      <td>1950.0</td>\n",
       "    </tr>\n",
       "    <tr>\n",
       "      <th>3</th>\n",
       "      <td>1000</td>\n",
       "      <td>8</td>\n",
       "      <td>52.0</td>\n",
       "      <td>408.0</td>\n",
       "      <td>81.0</td>\n",
       "      <td>14070.0</td>\n",
       "      <td>52</td>\n",
       "      <td>NaN</td>\n",
       "      <td>Краснодар</td>\n",
       "      <td>Рафаил</td>\n",
       "      <td>...</td>\n",
       "      <td>2018-05-25</td>\n",
       "      <td>ultra</td>\n",
       "      <td>1000</td>\n",
       "      <td>30720</td>\n",
       "      <td>3000</td>\n",
       "      <td>1950</td>\n",
       "      <td>150</td>\n",
       "      <td>1</td>\n",
       "      <td>1</td>\n",
       "      <td>1950.0</td>\n",
       "    </tr>\n",
       "    <tr>\n",
       "      <th>4</th>\n",
       "      <td>1000</td>\n",
       "      <td>9</td>\n",
       "      <td>58.0</td>\n",
       "      <td>466.0</td>\n",
       "      <td>57.0</td>\n",
       "      <td>14581.0</td>\n",
       "      <td>52</td>\n",
       "      <td>NaN</td>\n",
       "      <td>Краснодар</td>\n",
       "      <td>Рафаил</td>\n",
       "      <td>...</td>\n",
       "      <td>2018-05-25</td>\n",
       "      <td>ultra</td>\n",
       "      <td>1000</td>\n",
       "      <td>30720</td>\n",
       "      <td>3000</td>\n",
       "      <td>1950</td>\n",
       "      <td>150</td>\n",
       "      <td>1</td>\n",
       "      <td>1</td>\n",
       "      <td>1950.0</td>\n",
       "    </tr>\n",
       "  </tbody>\n",
       "</table>\n",
       "<p>5 rows × 21 columns</p>\n",
       "</div>"
      ],
      "text/plain": [
       "   user_id  month  count_calls  total_duration  count_message  mb_used_total  \\\n",
       "0     1000      5         22.0           159.0           22.0         2256.0   \n",
       "1     1000      6         43.0           172.0           60.0        23257.0   \n",
       "2     1000      7         47.0           340.0           75.0        14016.0   \n",
       "3     1000      8         52.0           408.0           81.0        14070.0   \n",
       "4     1000      9         58.0           466.0           57.0        14581.0   \n",
       "\n",
       "   age churn_date       city first_name  ...    reg_date tariff  \\\n",
       "0   52        NaN  Краснодар     Рафаил  ...  2018-05-25  ultra   \n",
       "1   52        NaN  Краснодар     Рафаил  ...  2018-05-25  ultra   \n",
       "2   52        NaN  Краснодар     Рафаил  ...  2018-05-25  ultra   \n",
       "3   52        NaN  Краснодар     Рафаил  ...  2018-05-25  ultra   \n",
       "4   52        NaN  Краснодар     Рафаил  ...  2018-05-25  ultra   \n",
       "\n",
       "  messages_included  mb_per_month_included  minutes_included  rub_monthly_fee  \\\n",
       "0              1000                  30720              3000             1950   \n",
       "1              1000                  30720              3000             1950   \n",
       "2              1000                  30720              3000             1950   \n",
       "3              1000                  30720              3000             1950   \n",
       "4              1000                  30720              3000             1950   \n",
       "\n",
       "   rub_per_gb  rub_per_message  rub_per_minute  revenue  \n",
       "0         150                1               1   1950.0  \n",
       "1         150                1               1   1950.0  \n",
       "2         150                1               1   1950.0  \n",
       "3         150                1               1   1950.0  \n",
       "4         150                1               1   1950.0  \n",
       "\n",
       "[5 rows x 21 columns]"
      ]
     },
     "execution_count": 33,
     "metadata": {},
     "output_type": "execute_result"
    }
   ],
   "source": [
    "df_merged.drop('extra', axis=1).head()"
   ]
  },
  {
   "cell_type": "markdown",
   "metadata": {},
   "source": [
    "## 3. Анализ данных <a id=\"3id\"></a>"
   ]
  },
  {
   "cell_type": "markdown",
   "metadata": {},
   "source": [
    "### 3.1 Удаляем выбросы <a id=\"3.1id\"></a>"
   ]
  },
  {
   "cell_type": "markdown",
   "metadata": {},
   "source": [
    "Проверим датасет на сильно выбивающиеся значения и удалим их. Посчитаем среднее, дисперсию и стандартное отклонение"
   ]
  },
  {
   "cell_type": "code",
   "execution_count": 34,
   "metadata": {},
   "outputs": [],
   "source": [
    "# разделим датафрейм на два по тарифу\n",
    "smart_revenue = df_merged[df_merged['tariff'] == 'smart']\n",
    "ultra_revenue = df_merged[df_merged['tariff'] == 'ultra']"
   ]
  },
  {
   "cell_type": "code",
   "execution_count": 35,
   "metadata": {},
   "outputs": [],
   "source": [
    "def func_stat(df, column):\n",
    "    \n",
    "    mean = np.mean(df[column]) # среднее\n",
    "    variance = np.var(df[column]) # дисперсия\n",
    "    standart = np.sqrt(variance) # стандартное отклонение\n",
    "    upp_limit = mean + 3*standart # верхняя граница, которая покажет, где искать выбросы\n",
    "    \n",
    "    df.boxplot(column, vert=False)\n",
    "    df[column].hist(bins=100)\n",
    "    print('Среднее значение:', float(mean))\n",
    "    print('Дисперсия:', float(variance))\n",
    "    print('Стандартное отклонение:', float(standart))\n",
    "    print('Верхняя граница:', float(upp_limit))"
   ]
  },
  {
   "cell_type": "code",
   "execution_count": 36,
   "metadata": {},
   "outputs": [
    {
     "name": "stdout",
     "output_type": "stream",
     "text": [
      "Среднее значение: 1233.3494665489009\n",
      "Дисперсия: 620174.2528422166\n",
      "Стандартное отклонение: 787.5114302930572\n",
      "Верхняя граница: 3595.8837574280724\n"
     ]
    },
    {
     "data": {
      "image/png": "[encoded data removed]",
      "text/plain": [
       "<Figure size 432x288 with 1 Axes>"
      ]
     },
     "metadata": {
      "needs_background": "light"
     },
     "output_type": "display_data"
    },
    {
     "data": {
      "image/png": "[encoded data removed]",
      "text/plain": [
       "<Figure size 432x288 with 1 Axes>"
      ]
     },
     "metadata": {
      "needs_background": "light"
     },
     "output_type": "display_data"
    }
   ],
   "source": [
    "func_stat(smart_revenue, ['revenue'])"
   ]
  },
  {
   "cell_type": "code",
   "execution_count": 37,
   "metadata": {},
   "outputs": [
    {
     "name": "stdout",
     "output_type": "stream",
     "text": [
      "Среднее значение: 2060.5299710501267\n",
      "Дисперсия: 126824.39887571629\n",
      "Стандартное отклонение: 356.12413408208704\n",
      "Верхняя граница: 3128.902373296388\n"
     ]
    },
    {
     "data": {
      "image/png": "[encoded data removed]",
      "text/plain": [
       "<Figure size 432x288 with 1 Axes>"
      ]
     },
     "metadata": {
      "needs_background": "light"
     },
     "output_type": "display_data"
    },
    {
     "data": {
      "image/png": "[encoded data removed]",
      "text/plain": [
       "<Figure size 432x288 with 1 Axes>"
      ]
     },
     "metadata": {
      "needs_background": "light"
     },
     "output_type": "display_data"
    }
   ],
   "source": [
    "func_stat(ultra_revenue, ['revenue'])"
   ]
  },
  {
   "cell_type": "markdown",
   "metadata": {},
   "source": [
    "Стандартное отклонение у тарифа smart достаточно большое - 788 руб, в противоположность тарифу ultra - всего 356 руб. То есть клиенты smart переплачивают больше и чаще. Средние знечения также указывают на то, что клиентам smart приходится платить поверх своего тарифа больше, чем это делают клиенты ultra"
   ]
  },
  {
   "cell_type": "markdown",
   "metadata": {},
   "source": [
    "Чтобы последние два графика были более информативны, построим гистограммы по двум тарифам на одном графике - так будет заметна разница:"
   ]
  },
  {
   "cell_type": "code",
   "execution_count": 38,
   "metadata": {},
   "outputs": [
    {
     "data": {
      "image/png": "[encoded data removed]",
      "text/plain": [
       "<Figure size 432x288 with 1 Axes>"
      ]
     },
     "metadata": {
      "needs_background": "light"
     },
     "output_type": "display_data"
    }
   ],
   "source": [
    "x = df_merged[df_merged['tariff'] == 'smart']['revenue']\n",
    "y = df_merged[df_merged['tariff'] == 'ultra']['revenue']\n",
    "\n",
    "x.plot(\n",
    "    kind='hist',\n",
    "    bins=25,\n",
    "    linewidth=5,\n",
    "    alpha=0.5,\n",
    "    label='raw',\n",
    ")\n",
    "\n",
    "y.plot(\n",
    "    kind='hist',\n",
    "    bins=25,\n",
    "    linewidth=5,\n",
    "    alpha=0.5,\n",
    "    grid=True,\n",
    "    legend=True,\n",
    ")\n",
    "\n",
    "plt.title('График распределения выруски по двум тарифам');"
   ]
  },
  {
   "cell_type": "code",
   "execution_count": 39,
   "metadata": {},
   "outputs": [],
   "source": [
    "# удаляем выбросы в тарифе smart\n",
    "smart_revenue = df_merged.query('(tariff == \"smart\") & (revenue < 3700)')"
   ]
  },
  {
   "cell_type": "code",
   "execution_count": 40,
   "metadata": {},
   "outputs": [],
   "source": [
    "# удаляем выбросы в тарифе ultra\n",
    "ultra_revenue = df_merged.loc[(df_merged['tariff'] =='ultra')&(df_merged['revenue'] < 3200)]"
   ]
  },
  {
   "cell_type": "markdown",
   "metadata": {},
   "source": [
    "Посчитаем, сколько минут разговора, сколько сообщений и какой объём интернет-трафика требуется пользователям каждого тарифа в месяц"
   ]
  },
  {
   "cell_type": "markdown",
   "metadata": {},
   "source": [
    "### 3.2 Количество минут разговора по каждому тарифу в месяц <a id=\"3.2id\"></a>"
   ]
  },
  {
   "cell_type": "code",
   "execution_count": 41,
   "metadata": {},
   "outputs": [
    {
     "data": {
      "image/png": "[encoded data removed]",
      "text/plain": [
       "<Figure size 432x288 with 1 Axes>"
      ]
     },
     "metadata": {
      "needs_background": "light"
     },
     "output_type": "display_data"
    }
   ],
   "source": [
    "df_merged[df_merged['tariff'] == 'smart']['total_duration'].plot(kind='hist', bins=30)\n",
    "plt.title('Smart — звонки в минутах в месяц');"
   ]
  },
  {
   "cell_type": "code",
   "execution_count": 42,
   "metadata": {},
   "outputs": [
    {
     "data": {
      "image/png": "[encoded data removed]",
      "text/plain": [
       "<Figure size 432x288 with 1 Axes>"
      ]
     },
     "metadata": {
      "needs_background": "light"
     },
     "output_type": "display_data"
    }
   ],
   "source": [
    "df_merged[df_merged['tariff'] == 'ultra']['total_duration'].plot(kind='hist', bins=30)\n",
    "plt.title('Ultra — звонки в минутах в месяц');"
   ]
  },
  {
   "cell_type": "markdown",
   "metadata": {},
   "source": [
    "Клиенты тарифа 'smart' в большинстве случаев разговаривают по телефону в пределах своего тарифа: 500-550 минут. У клиентов тарифа 'ultra' два пика: есть те, кто вообще не использует звонки (возможно, для них актуальны звонки через мессенджеры, так как интернет-трафика у них больше). Второй пик - около 600 минут, то есть клиенты зачастую не успевают дойти до ограничения своего тарифа по звонкам. "
   ]
  },
  {
   "cell_type": "markdown",
   "metadata": {},
   "source": [
    "### 3.3 Количество сообщений, которые используют клиенты  каждого тарифа в месяц <a id=\"3.3id\"></a>"
   ]
  },
  {
   "cell_type": "code",
   "execution_count": 43,
   "metadata": {},
   "outputs": [
    {
     "data": {
      "image/png": "[encoded data removed]",
      "text/plain": [
       "<Figure size 432x288 with 1 Axes>"
      ]
     },
     "metadata": {
      "needs_background": "light"
     },
     "output_type": "display_data"
    }
   ],
   "source": [
    "df_merged[df_merged['tariff'] == 'smart']['count_message'].plot(kind='hist', bins=30)\n",
    "plt.title('Smart — сообщений в месяц');"
   ]
  },
  {
   "cell_type": "code",
   "execution_count": 44,
   "metadata": {},
   "outputs": [
    {
     "data": {
      "image/png": "[encoded data removed]",
      "text/plain": [
       "<Figure size 432x288 with 1 Axes>"
      ]
     },
     "metadata": {
      "needs_background": "light"
     },
     "output_type": "display_data"
    }
   ],
   "source": [
    "df_merged[df_merged['tariff'] == 'ultra']['count_message'].plot(kind='hist', bins=30)\n",
    "plt.title('Ultra — сообщений в месяц');"
   ]
  },
  {
   "cell_type": "markdown",
   "metadata": {},
   "source": [
    "Распределения частоты по использованию смс обоих тарифов схожи. Большинство клиентов вообще не используют смс в качестве коммуникации. Чуть чаще всё же отправляют смс клиенты smart-тарифа"
   ]
  },
  {
   "cell_type": "markdown",
   "metadata": {},
   "source": [
    "### 3.4 Объём интернет-трафика  <a id=\"3.4id\"></a>"
   ]
  },
  {
   "cell_type": "code",
   "execution_count": 45,
   "metadata": {},
   "outputs": [],
   "source": [
    "# создалим отдельный столбец для перевода в гигабайты\n",
    "df_merged['gb_used_total'] = df_merged['mb_used_total'] / 1024"
   ]
  },
  {
   "cell_type": "code",
   "execution_count": 46,
   "metadata": {},
   "outputs": [
    {
     "data": {
      "image/png": "[encoded data removed]",
      "text/plain": [
       "<Figure size 432x288 with 1 Axes>"
      ]
     },
     "metadata": {
      "needs_background": "light"
     },
     "output_type": "display_data"
    }
   ],
   "source": [
    "df_merged[df_merged['tariff'] == 'smart']['gb_used_total'].plot(kind='hist', bins=30)\n",
    "plt.title('Smart — интернет в месяц в мб');"
   ]
  },
  {
   "cell_type": "code",
   "execution_count": 47,
   "metadata": {},
   "outputs": [
    {
     "data": {
      "image/png": "[encoded data removed]",
      "text/plain": [
       "<Figure size 432x288 with 1 Axes>"
      ]
     },
     "metadata": {
      "needs_background": "light"
     },
     "output_type": "display_data"
    }
   ],
   "source": [
    "df_merged[df_merged['tariff'] == 'ultra']['gb_used_total'].plot(kind='hist', bins=30)\n",
    "plt.title('Ultra — интернет в месяц в мб');"
   ]
  },
  {
   "cell_type": "markdown",
   "metadata": {},
   "source": [
    "Для наглядности построим общий график:"
   ]
  },
  {
   "cell_type": "code",
   "execution_count": 48,
   "metadata": {},
   "outputs": [
    {
     "data": {
      "image/png": "[encoded data removed]",
      "text/plain": [
       "<Figure size 432x288 with 1 Axes>"
      ]
     },
     "metadata": {
      "needs_background": "light"
     },
     "output_type": "display_data"
    }
   ],
   "source": [
    "x = df_merged[df_merged['tariff'] == 'smart']['gb_used_total'].plot(kind='hist', bins=30)\n",
    "y = df_merged[df_merged['tariff'] == 'ultra']['gb_used_total'].plot(kind='hist', bins=30)\n",
    "\n",
    "x.plot(\n",
    "    kind='hist',\n",
    "    histtype='step',\n",
    "    range=(0, 500),\n",
    "    bins=25,\n",
    "    linewidth=5,\n",
    "    alpha=0.3,\n",
    "    label='raw',\n",
    ")\n",
    "\n",
    "y.plot(\n",
    "    kind='hist',\n",
    "    histtype='step',\n",
    "    range=(0, 500),\n",
    "    bins=25,\n",
    "    linewidth=5,\n",
    "    alpha=0.3,\n",
    "    label='filtered',\n",
    "    grid=True,\n",
    "    legend=True,\n",
    ")\n",
    "\n",
    "plt.title('Объем интернет-трафика двух тарифов');"
   ]
  },
  {
   "cell_type": "markdown",
   "metadata": {},
   "source": [
    "Клиенты тарифа smart, как правило, немного превышают объем интернет-трафика, установленный тарифом (в месяц тратят 16-17 ГБ), то есть докупают дополнительные ГБ. Клиенты тарифа ultra в большинстве случаев не превышают лимит своего тарифа (два пика: примерно 20 и 28 ГБ)."
   ]
  },
  {
   "cell_type": "markdown",
   "metadata": {},
   "source": [
    "**Общий вывод**"
   ]
  },
  {
   "cell_type": "markdown",
   "metadata": {},
   "source": [
    "Клиенты обоих тарифов редко используют смс. Количество потраченных минут на звонки немного больше у клиентов ultra. Объем потраченного интернет-трафика примерно одинаковый. Однако клиенты тарифа smart зачастую выходят за лимит своего тарифа и оплачивают дополнительные мегабайты"
   ]
  },
  {
   "cell_type": "markdown",
   "metadata": {},
   "source": [
    "## 4. Проверка гипотез <a id=\"4id\"></a>"
   ]
  },
  {
   "cell_type": "markdown",
   "metadata": {},
   "source": [
    "### 4.1 Cредняя выручка пользователей тарифов «Ультра» и «Смарт» различаются <a id=\"4.1id\"></a>"
   ]
  },
  {
   "cell_type": "markdown",
   "metadata": {},
   "source": [
    "Для проверки гипотезы сформулируем нулевую и альтернативную гипотезы:\n",
    "- H0: средняя выручка пользователей тарифов «Ультра» и «Смарт» равны\n",
    "- H1: средняя выручка пользователей тарифов «Ультра» и «Смарт» различаются"
   ]
  },
  {
   "cell_type": "markdown",
   "metadata": {},
   "source": [
    "Наша альтернативная гипотеза двусторонняя. Для проверки гипотез используем t-test_ind, так как выборки не зависят друг от друга. Уровень статистической значимости зададим в 5%"
   ]
  },
  {
   "cell_type": "code",
   "execution_count": 49,
   "metadata": {},
   "outputs": [
    {
     "name": "stdout",
     "output_type": "stream",
     "text": [
      "p-значение: 8.931402711368788e-296\n",
      "Отвергаем нулевую гипотезу\n"
     ]
    }
   ],
   "source": [
    "smart_revenue = df_merged[df_merged['tariff'] == 'smart']['revenue']\n",
    "ultra_revenue = df_merged[df_merged['tariff'] == 'ultra']['revenue']\n",
    "\n",
    "alpha = .05\n",
    "\n",
    "results = st.ttest_ind(smart_revenue, ultra_revenue, equal_var=False)\n",
    "\n",
    "print('p-значение:', results.pvalue)\n",
    "\n",
    "if results.pvalue < alpha:\n",
    "    print('Отвергаем нулевую гипотезу')\n",
    "else:\n",
    "    print('Не получилось отвергнуть нулевую гипотезу')"
   ]
  },
  {
   "cell_type": "markdown",
   "metadata": {},
   "source": [
    "**Вывод**"
   ]
  },
  {
   "cell_type": "markdown",
   "metadata": {},
   "source": [
    "Разница между выборками слишком велика, чтобы считать это случайностью. Отвергаем гипотезу о равенстве выручек двух тарифов."
   ]
  },
  {
   "cell_type": "markdown",
   "metadata": {},
   "source": [
    "### 4.2 Cредняя выручка пользователей из Москвы отличается от выручки пользователей из других регионов <a id=\"4.2id\"></a>"
   ]
  },
  {
   "cell_type": "markdown",
   "metadata": {},
   "source": [
    "Для проверки гипотезы сформулируем нулевую и альтернативную гипотезы:\n",
    "- H0: средняя выручка пользователей из Москвы равна средней выручке пользователей из других регионов\n",
    "- H1: средняя выручка пользователей из Москвы отличается от выручки пользователей из других регионов"
   ]
  },
  {
   "cell_type": "code",
   "execution_count": 50,
   "metadata": {},
   "outputs": [
    {
     "name": "stdout",
     "output_type": "stream",
     "text": [
      "p-значение: 0.4549775646471024\n",
      "Не получилось отвергнуть нулевую гипотезу\n"
     ]
    }
   ],
   "source": [
    "from_moscow = df_merged[df_merged['city'] == 'Москва']['revenue']\n",
    "not_from_moscow = df_merged[df_merged['city'] != 'Москва']['revenue']\n",
    "\n",
    "alpha = .05\n",
    "\n",
    "results = st.ttest_ind(from_moscow, not_from_moscow, equal_var=False)\n",
    "\n",
    "print('p-значение:', results.pvalue)\n",
    "\n",
    "if results.pvalue < alpha:\n",
    "    print('Отвергаем нулевую гипотезу')\n",
    "else:\n",
    "    print('Не получилось отвергнуть нулевую гипотезу')"
   ]
  },
  {
   "cell_type": "markdown",
   "metadata": {},
   "source": [
    "**Вывод**"
   ]
  },
  {
   "cell_type": "markdown",
   "metadata": {},
   "source": [
    "В данном случае уровень статистической значимости слишком большой, чтобы делать вывод о значимом различии между двумя тарифами(46%). "
   ]
  },
  {
   "cell_type": "markdown",
   "metadata": {},
   "source": [
    "## 5. Общий вывод <a id=\"5id\"></a>"
   ]
  },
  {
   "cell_type": "markdown",
   "metadata": {},
   "source": [
    "В исследовании мы сравнили поведение клиентов оператора «Мегалайн» по двум тарифам: \"Smart\" и \"Ultra\". \n",
    "\n",
    "Перед анализом мы произвели подготовку данных: \n",
    "- привели данные к нужным типам\n",
    "- исправили ошибки\n",
    "- удалили выбросы\n",
    "- рассчитали дополнительные данные для анализа (количество сделанных звонков, отправленных сообщений, объем использованного интернет-трафика, помесячную выручку с каждого пользователя)\n",
    "\n",
    "С помощью дополнительных данных мы проанализировали поведение клиентов: какой объем трафика, количество минут и смс используют клиенты одного и другого тарифа. Для этого мы рассчитали среднее, дисперсию и стандартное отклонение. Согласно получившимся распределениям, можем сделать следующие выводы:\n",
    "- клиенты тарифа smart в среднем переплачивают больше на 788 руб, в противоположность тарифу ultra - всего 356 руб.\n",
    "- средние знечения также указывают на то, что клиентам smart приходится платить поверх своего тарифа больше, чем это делают клиенты ultra\n",
    "\n",
    "Более детально:\n",
    "- смс-сообщения непопулярны у клиентов обоих тарифов. Большая часть клиентов не использует даже половины включенных в тариф сообщений\n",
    "- количество телефонных звонков, как правило, у клиентов обоих тарифов не выходит за лимит. Значительная часть клиентов тарифа ultra вообще не использует звонки\n",
    "- объем потраченного интернет-трафика примерно одинаковый. Однако клиенты тарифа smart зачастую выходят за лимит своего тарифа и оплачивают дополнительные мегабайты\n",
    "\n",
    "Также мы проверили две гипотезы и получили следующие результаты:\n",
    "- удалось опровергнуть гипотезу о том, что средние выручки обоих тарифов одинаковые. Есть существенные различия\n",
    "- не можем подтвердить гипотезу о том, что средняя выручка в Москве отличается от выручки в регионах\n",
    "\n",
    "\n",
    "**Итог:** Пользователи обоих тарифов почти не используют сообщения, чаще совершают звонки и тратят интернет-трафик выше своего лимита.\n",
    "Не смотря на то, что стоимость тарифа \"Ultra\" выше, клиенты \"Smart\" чаще выходят за лимиты своего тарифа и доплачивают за дополнительные гигабайты трафика. Можно предположить, что клиенты, выбирая тариф \"Smart\", пытаются сэкономить. Однако, как видно из анализа, зачастую им приходится переплачивать за интернет-трафик.\n",
    "На данный момент более перспективным тарифом является \"Smart\" за счет больших переплат. Компании следует оптимизировать условия обоих тарифов, чтобы более точно отвечать запросам клиентов. Как вариант, снизить в каждом тарифе количество бесплатных смс и минут на звонки в пользу интернет-трафика."
   ]
  }
 ],
 "metadata": {
  "ExecuteTimeLog": [
   {
    "duration": 933,
    "start_time": "2022-03-01T12:40:48.189Z"
   },
   {
    "duration": 154,
    "start_time": "2022-03-01T12:40:49.124Z"
   },
   {
    "duration": 19,
    "start_time": "2022-03-01T12:40:49.280Z"
   },
   {
    "duration": 44,
    "start_time": "2022-03-01T12:40:49.301Z"
   },
   {
    "duration": 127,
    "start_time": "2022-03-01T12:40:49.346Z"
   },
   {
    "duration": 17,
    "start_time": "2022-03-01T12:40:49.474Z"
   },
   {
    "duration": 42,
    "start_time": "2022-03-01T12:40:49.492Z"
   },
   {
    "duration": 82,
    "start_time": "2022-03-01T12:40:49.536Z"
   },
   {
    "duration": 18,
    "start_time": "2022-03-01T12:40:49.620Z"
   },
   {
    "duration": 17,
    "start_time": "2022-03-01T12:40:49.640Z"
   },
   {
    "duration": 9,
    "start_time": "2022-03-01T12:40:49.659Z"
   },
   {
    "duration": 34,
    "start_time": "2022-03-01T12:40:49.670Z"
   },
   {
    "duration": 5,
    "start_time": "2022-03-01T12:40:49.706Z"
   },
   {
    "duration": 82,
    "start_time": "2022-03-01T12:40:49.713Z"
   },
   {
    "duration": 8,
    "start_time": "2022-03-01T12:40:49.796Z"
   },
   {
    "duration": 30,
    "start_time": "2022-03-01T12:40:49.806Z"
   },
   {
    "duration": 8,
    "start_time": "2022-03-01T12:40:49.838Z"
   },
   {
    "duration": 25,
    "start_time": "2022-03-01T12:40:49.848Z"
   },
   {
    "duration": 78,
    "start_time": "2022-03-01T12:40:49.875Z"
   },
   {
    "duration": 16,
    "start_time": "2022-03-01T12:40:49.955Z"
   },
   {
    "duration": 34,
    "start_time": "2022-03-01T12:40:49.972Z"
   },
   {
    "duration": 42,
    "start_time": "2022-03-01T12:40:50.008Z"
   },
   {
    "duration": 26,
    "start_time": "2022-03-01T12:40:50.054Z"
   },
   {
    "duration": 14,
    "start_time": "2022-03-01T12:40:50.083Z"
   },
   {
    "duration": 39,
    "start_time": "2022-03-01T12:40:50.099Z"
   },
   {
    "duration": 16,
    "start_time": "2022-03-01T12:40:50.140Z"
   },
   {
    "duration": 9,
    "start_time": "2022-03-01T12:40:50.157Z"
   },
   {
    "duration": 7,
    "start_time": "2022-03-01T12:40:50.167Z"
   },
   {
    "duration": 6,
    "start_time": "2022-03-01T12:40:50.175Z"
   },
   {
    "duration": 7,
    "start_time": "2022-03-01T12:40:50.183Z"
   },
   {
    "duration": 221,
    "start_time": "2022-03-01T12:40:50.191Z"
   },
   {
    "duration": 5,
    "start_time": "2022-03-01T12:40:50.413Z"
   },
   {
    "duration": 18,
    "start_time": "2022-03-01T12:40:50.420Z"
   },
   {
    "duration": 10,
    "start_time": "2022-03-01T12:40:50.440Z"
   },
   {
    "duration": 453,
    "start_time": "2022-03-01T12:40:50.452Z"
   },
   {
    "duration": 450,
    "start_time": "2022-03-01T12:40:50.907Z"
   },
   {
    "duration": 7,
    "start_time": "2022-03-01T12:40:51.358Z"
   },
   {
    "duration": 6,
    "start_time": "2022-03-01T12:40:51.367Z"
   },
   {
    "duration": 211,
    "start_time": "2022-03-01T12:40:51.375Z"
   },
   {
    "duration": 214,
    "start_time": "2022-03-01T12:40:51.588Z"
   },
   {
    "duration": 222,
    "start_time": "2022-03-01T12:40:51.804Z"
   },
   {
    "duration": 198,
    "start_time": "2022-03-01T12:40:52.032Z"
   },
   {
    "duration": 4,
    "start_time": "2022-03-01T12:40:52.231Z"
   },
   {
    "duration": 204,
    "start_time": "2022-03-01T12:40:52.236Z"
   },
   {
    "duration": 288,
    "start_time": "2022-03-01T12:40:52.442Z"
   },
   {
    "duration": 10,
    "start_time": "2022-03-01T12:40:52.732Z"
   },
   {
    "duration": 9,
    "start_time": "2022-03-01T12:40:52.744Z"
   },
   {
    "duration": 3,
    "start_time": "2022-03-01T12:58:28.308Z"
   },
   {
    "duration": 61,
    "start_time": "2022-03-01T13:00:04.887Z"
   },
   {
    "duration": 11,
    "start_time": "2022-03-01T13:01:39.305Z"
   },
   {
    "duration": 991,
    "start_time": "2022-03-01T13:04:09.185Z"
   },
   {
    "duration": 148,
    "start_time": "2022-03-01T13:04:10.178Z"
   },
   {
    "duration": 20,
    "start_time": "2022-03-01T13:04:10.332Z"
   },
   {
    "duration": 25,
    "start_time": "2022-03-01T13:04:10.355Z"
   },
   {
    "duration": 133,
    "start_time": "2022-03-01T13:04:10.382Z"
   },
   {
    "duration": 20,
    "start_time": "2022-03-01T13:04:10.517Z"
   },
   {
    "duration": 27,
    "start_time": "2022-03-01T13:04:10.539Z"
   },
   {
    "duration": 94,
    "start_time": "2022-03-01T13:04:10.568Z"
   },
   {
    "duration": 13,
    "start_time": "2022-03-01T13:04:10.665Z"
   },
   {
    "duration": 16,
    "start_time": "2022-03-01T13:04:10.679Z"
   },
   {
    "duration": 7,
    "start_time": "2022-03-01T13:04:10.696Z"
   },
   {
    "duration": 30,
    "start_time": "2022-03-01T13:04:10.705Z"
   },
   {
    "duration": 6,
    "start_time": "2022-03-01T13:04:10.736Z"
   },
   {
    "duration": 63,
    "start_time": "2022-03-01T13:04:10.744Z"
   },
   {
    "duration": 28,
    "start_time": "2022-03-01T13:04:10.808Z"
   },
   {
    "duration": 17,
    "start_time": "2022-03-01T13:04:10.838Z"
   },
   {
    "duration": 8,
    "start_time": "2022-03-01T13:04:10.856Z"
   },
   {
    "duration": 28,
    "start_time": "2022-03-01T13:04:10.865Z"
   },
   {
    "duration": 80,
    "start_time": "2022-03-01T13:04:10.894Z"
   },
   {
    "duration": 15,
    "start_time": "2022-03-01T13:04:10.975Z"
   },
   {
    "duration": 43,
    "start_time": "2022-03-01T13:04:10.992Z"
   },
   {
    "duration": 16,
    "start_time": "2022-03-01T13:04:11.037Z"
   },
   {
    "duration": 25,
    "start_time": "2022-03-01T13:04:11.057Z"
   },
   {
    "duration": 13,
    "start_time": "2022-03-01T13:04:11.084Z"
   },
   {
    "duration": 41,
    "start_time": "2022-03-01T13:04:11.099Z"
   },
   {
    "duration": 17,
    "start_time": "2022-03-01T13:04:11.142Z"
   },
   {
    "duration": 8,
    "start_time": "2022-03-01T13:04:11.160Z"
   },
   {
    "duration": 7,
    "start_time": "2022-03-01T13:04:11.170Z"
   },
   {
    "duration": 5,
    "start_time": "2022-03-01T13:04:11.179Z"
   },
   {
    "duration": 8,
    "start_time": "2022-03-01T13:04:11.185Z"
   },
   {
    "duration": 220,
    "start_time": "2022-03-01T13:04:11.195Z"
   },
   {
    "duration": 5,
    "start_time": "2022-03-01T13:04:11.417Z"
   },
   {
    "duration": 19,
    "start_time": "2022-03-01T13:04:11.423Z"
   },
   {
    "duration": 6,
    "start_time": "2022-03-01T13:04:11.443Z"
   },
   {
    "duration": 5,
    "start_time": "2022-03-01T13:04:11.450Z"
   },
   {
    "duration": 458,
    "start_time": "2022-03-01T13:04:11.457Z"
   },
   {
    "duration": 446,
    "start_time": "2022-03-01T13:04:11.917Z"
   },
   {
    "duration": 6,
    "start_time": "2022-03-01T13:04:12.365Z"
   },
   {
    "duration": 9,
    "start_time": "2022-03-01T13:04:12.373Z"
   },
   {
    "duration": 209,
    "start_time": "2022-03-01T13:04:12.384Z"
   },
   {
    "duration": 219,
    "start_time": "2022-03-01T13:04:12.595Z"
   },
   {
    "duration": 223,
    "start_time": "2022-03-01T13:04:12.816Z"
   },
   {
    "duration": 207,
    "start_time": "2022-03-01T13:04:13.041Z"
   },
   {
    "duration": 4,
    "start_time": "2022-03-01T13:04:13.250Z"
   },
   {
    "duration": 200,
    "start_time": "2022-03-01T13:04:13.255Z"
   },
   {
    "duration": 286,
    "start_time": "2022-03-01T13:04:13.457Z"
   },
   {
    "duration": 8,
    "start_time": "2022-03-01T13:04:13.745Z"
   },
   {
    "duration": 8,
    "start_time": "2022-03-01T13:04:13.754Z"
   },
   {
    "duration": 17,
    "start_time": "2022-03-01T13:05:13.283Z"
   },
   {
    "duration": 160,
    "start_time": "2022-03-01T22:42:56.344Z"
   },
   {
    "duration": 965,
    "start_time": "2022-03-01T22:43:09.650Z"
   },
   {
    "duration": 154,
    "start_time": "2022-03-01T22:43:10.617Z"
   },
   {
    "duration": 19,
    "start_time": "2022-03-01T22:43:10.773Z"
   },
   {
    "duration": 40,
    "start_time": "2022-03-01T22:43:10.794Z"
   },
   {
    "duration": 119,
    "start_time": "2022-03-01T22:43:10.835Z"
   },
   {
    "duration": 15,
    "start_time": "2022-03-01T22:43:10.956Z"
   },
   {
    "duration": 26,
    "start_time": "2022-03-01T22:43:10.973Z"
   },
   {
    "duration": 100,
    "start_time": "2022-03-01T22:43:11.002Z"
   },
   {
    "duration": 13,
    "start_time": "2022-03-01T22:43:11.104Z"
   },
   {
    "duration": 19,
    "start_time": "2022-03-01T22:43:11.119Z"
   },
   {
    "duration": 7,
    "start_time": "2022-03-01T22:43:11.140Z"
   },
   {
    "duration": 30,
    "start_time": "2022-03-01T22:43:11.148Z"
   },
   {
    "duration": 6,
    "start_time": "2022-03-01T22:43:11.179Z"
   },
   {
    "duration": 72,
    "start_time": "2022-03-01T22:43:11.186Z"
   },
   {
    "duration": 8,
    "start_time": "2022-03-01T22:43:11.259Z"
   },
   {
    "duration": 18,
    "start_time": "2022-03-01T22:43:11.269Z"
   },
   {
    "duration": 8,
    "start_time": "2022-03-01T22:43:11.289Z"
   },
   {
    "duration": 45,
    "start_time": "2022-03-01T22:43:11.298Z"
   },
   {
    "duration": 62,
    "start_time": "2022-03-01T22:43:11.344Z"
   },
   {
    "duration": 26,
    "start_time": "2022-03-01T22:43:11.407Z"
   },
   {
    "duration": 32,
    "start_time": "2022-03-01T22:43:11.435Z"
   },
   {
    "duration": 17,
    "start_time": "2022-03-01T22:43:11.468Z"
   },
   {
    "duration": 46,
    "start_time": "2022-03-01T22:43:11.488Z"
   },
   {
    "duration": 14,
    "start_time": "2022-03-01T22:43:11.535Z"
   },
   {
    "duration": 14,
    "start_time": "2022-03-01T22:43:11.550Z"
   },
   {
    "duration": 15,
    "start_time": "2022-03-01T22:43:11.565Z"
   },
   {
    "duration": 8,
    "start_time": "2022-03-01T22:43:11.581Z"
   },
   {
    "duration": 5,
    "start_time": "2022-03-01T22:43:11.590Z"
   },
   {
    "duration": 40,
    "start_time": "2022-03-01T22:43:11.596Z"
   },
   {
    "duration": 5,
    "start_time": "2022-03-01T22:43:11.638Z"
   },
   {
    "duration": 4,
    "start_time": "2022-03-01T22:43:11.644Z"
   },
   {
    "duration": 201,
    "start_time": "2022-03-01T22:43:11.649Z"
   },
   {
    "duration": 5,
    "start_time": "2022-03-01T22:43:11.851Z"
   },
   {
    "duration": 7,
    "start_time": "2022-03-01T22:43:11.857Z"
   },
   {
    "duration": 5,
    "start_time": "2022-03-01T22:43:11.865Z"
   },
   {
    "duration": 432,
    "start_time": "2022-03-01T22:43:11.872Z"
   },
   {
    "duration": 431,
    "start_time": "2022-03-01T22:43:12.306Z"
   },
   {
    "duration": 8,
    "start_time": "2022-03-01T22:43:12.739Z"
   },
   {
    "duration": 9,
    "start_time": "2022-03-01T22:43:12.748Z"
   },
   {
    "duration": 204,
    "start_time": "2022-03-01T22:43:12.759Z"
   },
   {
    "duration": 212,
    "start_time": "2022-03-01T22:43:12.965Z"
   },
   {
    "duration": 212,
    "start_time": "2022-03-01T22:43:13.179Z"
   },
   {
    "duration": 192,
    "start_time": "2022-03-01T22:43:13.393Z"
   },
   {
    "duration": 4,
    "start_time": "2022-03-01T22:43:13.588Z"
   },
   {
    "duration": 206,
    "start_time": "2022-03-01T22:43:13.593Z"
   },
   {
    "duration": 270,
    "start_time": "2022-03-01T22:43:13.801Z"
   },
   {
    "duration": 9,
    "start_time": "2022-03-01T22:43:14.073Z"
   },
   {
    "duration": 8,
    "start_time": "2022-03-01T22:43:14.084Z"
   },
   {
    "duration": 4,
    "start_time": "2022-03-01T22:44:06.824Z"
   },
   {
    "duration": 26,
    "start_time": "2022-03-02T11:07:19.414Z"
   },
   {
    "duration": 17,
    "start_time": "2022-03-02T11:07:28.873Z"
   },
   {
    "duration": 178,
    "start_time": "2022-03-04T12:51:49.254Z"
   },
   {
    "duration": 1036,
    "start_time": "2022-03-04T12:51:57.701Z"
   },
   {
    "duration": 164,
    "start_time": "2022-03-04T12:51:58.739Z"
   },
   {
    "duration": 21,
    "start_time": "2022-03-04T12:51:58.905Z"
   },
   {
    "duration": 36,
    "start_time": "2022-03-04T12:51:58.927Z"
   },
   {
    "duration": 144,
    "start_time": "2022-03-04T12:51:58.964Z"
   },
   {
    "duration": 28,
    "start_time": "2022-03-04T12:51:59.110Z"
   },
   {
    "duration": 31,
    "start_time": "2022-03-04T12:51:59.140Z"
   },
   {
    "duration": 96,
    "start_time": "2022-03-04T12:51:59.173Z"
   },
   {
    "duration": 15,
    "start_time": "2022-03-04T12:51:59.271Z"
   },
   {
    "duration": 15,
    "start_time": "2022-03-04T12:51:59.288Z"
   },
   {
    "duration": 5,
    "start_time": "2022-03-04T12:51:59.305Z"
   },
   {
    "duration": 36,
    "start_time": "2022-03-04T12:51:59.312Z"
   },
   {
    "duration": 6,
    "start_time": "2022-03-04T12:51:59.349Z"
   },
   {
    "duration": 81,
    "start_time": "2022-03-04T12:51:59.357Z"
   },
   {
    "duration": 11,
    "start_time": "2022-03-04T12:51:59.439Z"
   },
   {
    "duration": 22,
    "start_time": "2022-03-04T12:51:59.452Z"
   },
   {
    "duration": 9,
    "start_time": "2022-03-04T12:51:59.475Z"
   },
   {
    "duration": 52,
    "start_time": "2022-03-04T12:51:59.486Z"
   },
   {
    "duration": 69,
    "start_time": "2022-03-04T12:51:59.540Z"
   },
   {
    "duration": 27,
    "start_time": "2022-03-04T12:51:59.611Z"
   },
   {
    "duration": 36,
    "start_time": "2022-03-04T12:51:59.640Z"
   },
   {
    "duration": 17,
    "start_time": "2022-03-04T12:51:59.678Z"
   },
   {
    "duration": 47,
    "start_time": "2022-03-04T12:51:59.698Z"
   },
   {
    "duration": 14,
    "start_time": "2022-03-04T12:51:59.747Z"
   },
   {
    "duration": 15,
    "start_time": "2022-03-04T12:51:59.763Z"
   },
   {
    "duration": 18,
    "start_time": "2022-03-04T12:51:59.780Z"
   },
   {
    "duration": 42,
    "start_time": "2022-03-04T12:51:59.800Z"
   },
   {
    "duration": 4,
    "start_time": "2022-03-04T12:51:59.843Z"
   },
   {
    "duration": 10,
    "start_time": "2022-03-04T12:51:59.849Z"
   },
   {
    "duration": 5,
    "start_time": "2022-03-04T12:51:59.861Z"
   },
   {
    "duration": 9,
    "start_time": "2022-03-04T12:51:59.867Z"
   },
   {
    "duration": 243,
    "start_time": "2022-03-04T12:51:59.877Z"
   },
   {
    "duration": 18,
    "start_time": "2022-03-04T12:52:00.121Z"
   },
   {
    "duration": 21,
    "start_time": "2022-03-04T12:52:00.141Z"
   },
   {
    "duration": 6,
    "start_time": "2022-03-04T12:52:00.163Z"
   },
   {
    "duration": 20,
    "start_time": "2022-03-04T12:52:00.170Z"
   },
   {
    "duration": 525,
    "start_time": "2022-03-04T12:52:00.192Z"
   },
   {
    "duration": 520,
    "start_time": "2022-03-04T12:52:00.719Z"
   },
   {
    "duration": 8,
    "start_time": "2022-03-04T12:52:01.240Z"
   },
   {
    "duration": 8,
    "start_time": "2022-03-04T12:52:01.250Z"
   },
   {
    "duration": 242,
    "start_time": "2022-03-04T12:52:01.260Z"
   },
   {
    "duration": 291,
    "start_time": "2022-03-04T12:52:01.504Z"
   },
   {
    "duration": 270,
    "start_time": "2022-03-04T12:52:01.797Z"
   },
   {
    "duration": 232,
    "start_time": "2022-03-04T12:52:02.069Z"
   },
   {
    "duration": 4,
    "start_time": "2022-03-04T12:52:02.303Z"
   },
   {
    "duration": 254,
    "start_time": "2022-03-04T12:52:02.308Z"
   },
   {
    "duration": 336,
    "start_time": "2022-03-04T12:52:02.563Z"
   },
   {
    "duration": 2335,
    "start_time": "2022-03-04T12:52:02.901Z"
   },
   {
    "duration": -75,
    "start_time": "2022-03-04T12:52:05.313Z"
   },
   {
    "duration": -89,
    "start_time": "2022-03-04T12:52:05.328Z"
   },
   {
    "duration": 280,
    "start_time": "2022-03-04T12:52:22.808Z"
   },
   {
    "duration": 278,
    "start_time": "2022-03-04T12:53:22.598Z"
   },
   {
    "duration": 944,
    "start_time": "2022-03-04T12:58:46.406Z"
   },
   {
    "duration": 405,
    "start_time": "2022-03-04T13:08:02.267Z"
   },
   {
    "duration": 607,
    "start_time": "2022-03-04T13:10:11.510Z"
   },
   {
    "duration": 620,
    "start_time": "2022-03-04T13:10:39.813Z"
   },
   {
    "duration": 626,
    "start_time": "2022-03-04T13:10:46.795Z"
   },
   {
    "duration": 627,
    "start_time": "2022-03-04T13:10:56.211Z"
   },
   {
    "duration": 2546,
    "start_time": "2022-03-04T13:11:16.138Z"
   },
   {
    "duration": 2567,
    "start_time": "2022-03-04T13:12:40.249Z"
   },
   {
    "duration": 316,
    "start_time": "2022-03-04T13:12:53.012Z"
   },
   {
    "duration": 326,
    "start_time": "2022-03-04T13:13:32.028Z"
   },
   {
    "duration": 417,
    "start_time": "2022-03-04T13:15:49.319Z"
   },
   {
    "duration": 42,
    "start_time": "2022-03-04T13:16:23.533Z"
   },
   {
    "duration": 932,
    "start_time": "2022-03-05T15:17:48.528Z"
   },
   {
    "duration": 140,
    "start_time": "2022-03-05T15:17:49.462Z"
   },
   {
    "duration": 17,
    "start_time": "2022-03-05T15:17:49.605Z"
   },
   {
    "duration": 36,
    "start_time": "2022-03-05T15:17:49.624Z"
   },
   {
    "duration": 113,
    "start_time": "2022-03-05T15:17:49.661Z"
   },
   {
    "duration": 16,
    "start_time": "2022-03-05T15:17:49.776Z"
   },
   {
    "duration": 31,
    "start_time": "2022-03-05T15:17:49.793Z"
   },
   {
    "duration": 81,
    "start_time": "2022-03-05T15:17:49.826Z"
   },
   {
    "duration": 13,
    "start_time": "2022-03-05T15:17:49.909Z"
   },
   {
    "duration": 47,
    "start_time": "2022-03-05T15:17:49.923Z"
   },
   {
    "duration": 19,
    "start_time": "2022-03-05T15:17:49.972Z"
   },
   {
    "duration": 59,
    "start_time": "2022-03-05T15:17:49.992Z"
   },
   {
    "duration": 13,
    "start_time": "2022-03-05T15:17:50.052Z"
   },
   {
    "duration": 78,
    "start_time": "2022-03-05T15:17:50.066Z"
   },
   {
    "duration": 7,
    "start_time": "2022-03-05T15:17:50.145Z"
   },
   {
    "duration": 28,
    "start_time": "2022-03-05T15:17:50.153Z"
   },
   {
    "duration": 16,
    "start_time": "2022-03-05T15:17:50.183Z"
   },
   {
    "duration": 40,
    "start_time": "2022-03-05T15:17:50.201Z"
   },
   {
    "duration": 53,
    "start_time": "2022-03-05T15:17:50.242Z"
   },
   {
    "duration": 12,
    "start_time": "2022-03-05T15:17:50.297Z"
   },
   {
    "duration": 29,
    "start_time": "2022-03-05T15:17:50.311Z"
   },
   {
    "duration": 15,
    "start_time": "2022-03-05T15:17:50.342Z"
   },
   {
    "duration": 25,
    "start_time": "2022-03-05T15:17:50.360Z"
   },
   {
    "duration": 24,
    "start_time": "2022-03-05T15:17:50.387Z"
   },
   {
    "duration": 15,
    "start_time": "2022-03-05T15:17:50.412Z"
   },
   {
    "duration": 28,
    "start_time": "2022-03-05T15:17:50.429Z"
   },
   {
    "duration": 8,
    "start_time": "2022-03-05T15:17:50.458Z"
   },
   {
    "duration": 21,
    "start_time": "2022-03-05T15:17:50.467Z"
   },
   {
    "duration": 26,
    "start_time": "2022-03-05T15:17:50.489Z"
   },
   {
    "duration": 15,
    "start_time": "2022-03-05T15:17:50.516Z"
   },
   {
    "duration": 21,
    "start_time": "2022-03-05T15:17:50.533Z"
   },
   {
    "duration": 200,
    "start_time": "2022-03-05T15:17:50.555Z"
   },
   {
    "duration": 4,
    "start_time": "2022-03-05T15:17:50.756Z"
   },
   {
    "duration": 48,
    "start_time": "2022-03-05T15:17:50.762Z"
   },
   {
    "duration": 7,
    "start_time": "2022-03-05T15:17:50.811Z"
   },
   {
    "duration": 21,
    "start_time": "2022-03-05T15:17:50.819Z"
   },
   {
    "duration": 436,
    "start_time": "2022-03-05T15:17:50.842Z"
   },
   {
    "duration": 420,
    "start_time": "2022-03-05T15:17:51.280Z"
   },
   {
    "duration": 267,
    "start_time": "2022-03-05T15:17:51.701Z"
   },
   {
    "duration": 6,
    "start_time": "2022-03-05T15:17:51.969Z"
   },
   {
    "duration": 42,
    "start_time": "2022-03-05T15:17:51.977Z"
   },
   {
    "duration": 214,
    "start_time": "2022-03-05T15:17:52.021Z"
   },
   {
    "duration": 201,
    "start_time": "2022-03-05T15:17:52.236Z"
   },
   {
    "duration": 281,
    "start_time": "2022-03-05T15:17:52.439Z"
   },
   {
    "duration": 194,
    "start_time": "2022-03-05T15:17:52.722Z"
   },
   {
    "duration": 3,
    "start_time": "2022-03-05T15:17:52.917Z"
   },
   {
    "duration": 194,
    "start_time": "2022-03-05T15:17:52.921Z"
   },
   {
    "duration": 199,
    "start_time": "2022-03-05T15:17:53.117Z"
   },
   {
    "duration": 247,
    "start_time": "2022-03-05T15:17:53.318Z"
   },
   {
    "duration": 8,
    "start_time": "2022-03-05T15:17:53.566Z"
   },
   {
    "duration": 26,
    "start_time": "2022-03-05T15:17:53.576Z"
   },
   {
    "duration": 1039,
    "start_time": "2022-03-05T15:19:59.802Z"
   },
   {
    "duration": 152,
    "start_time": "2022-03-05T15:20:00.843Z"
   },
   {
    "duration": 18,
    "start_time": "2022-03-05T15:20:00.997Z"
   },
   {
    "duration": 29,
    "start_time": "2022-03-05T15:20:01.017Z"
   },
   {
    "duration": 123,
    "start_time": "2022-03-05T15:20:01.048Z"
   },
   {
    "duration": 17,
    "start_time": "2022-03-05T15:20:01.173Z"
   },
   {
    "duration": 29,
    "start_time": "2022-03-05T15:20:01.201Z"
   },
   {
    "duration": 90,
    "start_time": "2022-03-05T15:20:01.233Z"
   },
   {
    "duration": 14,
    "start_time": "2022-03-05T15:20:01.325Z"
   },
   {
    "duration": 26,
    "start_time": "2022-03-05T15:20:01.341Z"
   },
   {
    "duration": 9,
    "start_time": "2022-03-05T15:20:01.369Z"
   },
   {
    "duration": 39,
    "start_time": "2022-03-05T15:20:01.379Z"
   },
   {
    "duration": 6,
    "start_time": "2022-03-05T15:20:01.420Z"
   },
   {
    "duration": 60,
    "start_time": "2022-03-05T15:20:01.427Z"
   },
   {
    "duration": 12,
    "start_time": "2022-03-05T15:20:01.489Z"
   },
   {
    "duration": 27,
    "start_time": "2022-03-05T15:20:01.503Z"
   },
   {
    "duration": 8,
    "start_time": "2022-03-05T15:20:01.532Z"
   },
   {
    "duration": 26,
    "start_time": "2022-03-05T15:20:01.541Z"
   },
   {
    "duration": 68,
    "start_time": "2022-03-05T15:20:01.569Z"
   },
   {
    "duration": 14,
    "start_time": "2022-03-05T15:20:01.639Z"
   },
   {
    "duration": 30,
    "start_time": "2022-03-05T15:20:01.654Z"
   },
   {
    "duration": 16,
    "start_time": "2022-03-05T15:20:01.701Z"
   },
   {
    "duration": 25,
    "start_time": "2022-03-05T15:20:01.721Z"
   },
   {
    "duration": 12,
    "start_time": "2022-03-05T15:20:01.748Z"
   },
   {
    "duration": 12,
    "start_time": "2022-03-05T15:20:01.761Z"
   },
   {
    "duration": 40,
    "start_time": "2022-03-05T15:20:01.775Z"
   },
   {
    "duration": 10,
    "start_time": "2022-03-05T15:20:01.817Z"
   },
   {
    "duration": 4,
    "start_time": "2022-03-05T15:20:01.828Z"
   },
   {
    "duration": 7,
    "start_time": "2022-03-05T15:20:01.833Z"
   },
   {
    "duration": 6,
    "start_time": "2022-03-05T15:20:01.841Z"
   },
   {
    "duration": 5,
    "start_time": "2022-03-05T15:20:01.849Z"
   },
   {
    "duration": 206,
    "start_time": "2022-03-05T15:20:01.856Z"
   },
   {
    "duration": 5,
    "start_time": "2022-03-05T15:20:02.064Z"
   },
   {
    "duration": 21,
    "start_time": "2022-03-05T15:20:02.070Z"
   },
   {
    "duration": 12,
    "start_time": "2022-03-05T15:20:02.092Z"
   },
   {
    "duration": 6,
    "start_time": "2022-03-05T15:20:02.105Z"
   },
   {
    "duration": 408,
    "start_time": "2022-03-05T15:20:02.112Z"
   },
   {
    "duration": 412,
    "start_time": "2022-03-05T15:20:02.522Z"
   },
   {
    "duration": 247,
    "start_time": "2022-03-05T15:20:02.935Z"
   },
   {
    "duration": 7,
    "start_time": "2022-03-05T15:20:03.183Z"
   },
   {
    "duration": 5,
    "start_time": "2022-03-05T15:20:03.200Z"
   },
   {
    "duration": 192,
    "start_time": "2022-03-05T15:20:03.207Z"
   },
   {
    "duration": 207,
    "start_time": "2022-03-05T15:20:03.400Z"
   },
   {
    "duration": 267,
    "start_time": "2022-03-05T15:20:03.609Z"
   },
   {
    "duration": 191,
    "start_time": "2022-03-05T15:20:03.878Z"
   },
   {
    "duration": 3,
    "start_time": "2022-03-05T15:20:04.071Z"
   },
   {
    "duration": 200,
    "start_time": "2022-03-05T15:20:04.075Z"
   },
   {
    "duration": 205,
    "start_time": "2022-03-05T15:20:04.276Z"
   },
   {
    "duration": 230,
    "start_time": "2022-03-05T15:20:04.483Z"
   },
   {
    "duration": 7,
    "start_time": "2022-03-05T15:20:04.714Z"
   },
   {
    "duration": 7,
    "start_time": "2022-03-05T15:20:04.723Z"
   }
  ],
  "kernelspec": {
   "display_name": "Python 3 (ipykernel)",
   "language": "python",
   "name": "python3"
  },
  "language_info": {
   "codemirror_mode": {
    "name": "ipython",
    "version": 3
   },
   "file_extension": ".py",
   "mimetype": "text/x-python",
   "name": "python",
   "nbconvert_exporter": "python",
   "pygments_lexer": "ipython3",
   "version": "3.10.4"
  },
  "toc": {
   "base_numbering": 1,
   "nav_menu": {},
   "number_sections": true,
   "sideBar": true,
   "skip_h1_title": true,
   "title_cell": "Table of Contents",
   "title_sidebar": "Contents",
   "toc_cell": false,
   "toc_position": {},
   "toc_section_display": true,
   "toc_window_display": true
  }
 },
 "nbformat": 4,
 "nbformat_minor": 4
}
