{
 "cells": [
  {
   "cell_type": "markdown",
   "metadata": {},
   "source": [
    "# Исследование объявлений о продаже квартир\n",
    "\n",
    "В вашем распоряжении данные сервиса Яндекс.Недвижимость — архив объявлений о продаже квартир в Санкт-Петербурге и соседних населённых пунктах за несколько лет. Нужно научиться определять рыночную стоимость объектов недвижимости. Ваша задача — установить параметры. Это позволит построить автоматизированную систему: она отследит аномалии и мошенническую деятельность. \n",
    "\n",
    "По каждой квартире на продажу доступны два вида данных. Первые вписаны пользователем, вторые получены автоматически на основе картографических данных. Например, расстояние до центра, аэропорта, ближайшего парка и водоёма. "
   ]
  },
  {
   "cell_type": "markdown",
   "metadata": {},
   "source": [
    "Содержание\n",
    "\n",
    "1. [Изучение данных из файла](#1id)\n",
    "\n",
    "2. [Предобработка данных](#2id)\n",
    "3. [Расчёты и добавление результатов в таблицу](#3id)\n",
    "    * [Цена за квадратный метр ](#3.1id)\n",
    "    * [День недели, месяц и год публикации объявления](#3.2id)\n",
    "    * [Определяем этаж квартиры](#3.3id)\n",
    "    * [Cоотношение жилой и общей площади](#3.4id)\n",
    "    * [Соотношение площади кухни к общей площади](#3.5id)\n",
    "4. [Исследовательский анализ данных](#4id)\n",
    "    * [Построение гистограм](#4.1id)\n",
    "    * [Время продажи квартиры](#4.2id)\n",
    "    * [Избавление от выбросов](#4.3id)\n",
    "5. [Факторы влияющие на стоимость квартиры](#5id)\n",
    "    * [Цена/площадь](#5.1id)\n",
    "    * [Цена/число комнат](#5.2id)\n",
    "    * [Цена/удаленность от центра города](#5.3id)\n",
    "    * [Цена/этаж](#5.4id)\n",
    "    * [Цена/дата размещения](#5.5id)\n",
    "6. [Анализ среза с наибольшим количеством объявлений](#6id)\n",
    "7. [Анализ квартир в Санкт-Петербурге](#7id)\n",
    "8. [Анализ центральной части города](#8id)\n",
    "9. [Факторы влиящие на стоимость квартир в центре ](#9id)"
   ]
  },
  {
   "cell_type": "markdown",
   "metadata": {},
   "source": [
    "## 1. Изучение данных из файла <a id=\"1id\"></a>"
   ]
  },
  {
   "cell_type": "code",
   "execution_count": 1,
   "metadata": {},
   "outputs": [],
   "source": [
    "import pandas as pd\n",
    "import matplotlib.pyplot as plt \n",
    "from pymystem3 import Mystem\n",
    "import numpy as np"
   ]
  },
  {
   "cell_type": "code",
   "execution_count": 2,
   "metadata": {},
   "outputs": [
    {
     "data": {
      "text/html": [
       "<div>\n",
       "<style scoped>\n",
       "    .dataframe tbody tr th:only-of-type {\n",
       "        vertical-align: middle;\n",
       "    }\n",
       "\n",
       "    .dataframe tbody tr th {\n",
       "        vertical-align: top;\n",
       "    }\n",
       "\n",
       "    .dataframe thead th {\n",
       "        text-align: right;\n",
       "    }\n",
       "</style>\n",
       "<table border=\"1\" class=\"dataframe\">\n",
       "  <thead>\n",
       "    <tr style=\"text-align: right;\">\n",
       "      <th></th>\n",
       "      <th>total_images\\tlast_price\\ttotal_area\\tfirst_day_exposition\\trooms\\tceiling_height\\tfloors_total\\tliving_area\\tfloor\\tis_apartment\\tstudio\\topen_plan\\tkitchen_area\\tbalcony\\tlocality_name\\tairports_nearest\\tcityCenters_nearest\\tparks_around3000\\tparks_nearest\\tponds_around3000\\tponds_nearest\\tdays_exposition</th>\n",
       "    </tr>\n",
       "  </thead>\n",
       "  <tbody>\n",
       "    <tr>\n",
       "      <th>0</th>\n",
       "      <td>20\\t13000000.0\\t108.0\\t2019-03-07T00:00:00\\t3\\...</td>\n",
       "    </tr>\n",
       "    <tr>\n",
       "      <th>1</th>\n",
       "      <td>7\\t3350000.0\\t40.4\\t2018-12-04T00:00:00\\t1\\t\\t...</td>\n",
       "    </tr>\n",
       "    <tr>\n",
       "      <th>2</th>\n",
       "      <td>10\\t5196000.0\\t56.0\\t2015-08-20T00:00:00\\t2\\t\\...</td>\n",
       "    </tr>\n",
       "    <tr>\n",
       "      <th>3</th>\n",
       "      <td>0\\t64900000.0\\t159.0\\t2015-07-24T00:00:00\\t3\\t...</td>\n",
       "    </tr>\n",
       "    <tr>\n",
       "      <th>4</th>\n",
       "      <td>2\\t10000000.0\\t100.0\\t2018-06-19T00:00:00\\t2\\t...</td>\n",
       "    </tr>\n",
       "  </tbody>\n",
       "</table>\n",
       "</div>"
      ],
      "text/plain": [
       "  total_images\\tlast_price\\ttotal_area\\tfirst_day_exposition\\trooms\\tceiling_height\\tfloors_total\\tliving_area\\tfloor\\tis_apartment\\tstudio\\topen_plan\\tkitchen_area\\tbalcony\\tlocality_name\\tairports_nearest\\tcityCenters_nearest\\tparks_around3000\\tparks_nearest\\tponds_around3000\\tponds_nearest\\tdays_exposition\n",
       "0  20\\t13000000.0\\t108.0\\t2019-03-07T00:00:00\\t3\\...                                                                                                                                                                                                                                                                  \n",
       "1  7\\t3350000.0\\t40.4\\t2018-12-04T00:00:00\\t1\\t\\t...                                                                                                                                                                                                                                                                  \n",
       "2  10\\t5196000.0\\t56.0\\t2015-08-20T00:00:00\\t2\\t\\...                                                                                                                                                                                                                                                                  \n",
       "3  0\\t64900000.0\\t159.0\\t2015-07-24T00:00:00\\t3\\t...                                                                                                                                                                                                                                                                  \n",
       "4  2\\t10000000.0\\t100.0\\t2018-06-19T00:00:00\\t2\\t...                                                                                                                                                                                                                                                                  "
      ]
     },
     "execution_count": 2,
     "metadata": {},
     "output_type": "execute_result"
    }
   ],
   "source": [
    "try:\n",
    "    df = pd.read_csv('/home/olga/Downloads/real_estate_data.csv')\n",
    "except:\n",
    "    df = pd.read_csv('/datasets/real_estate_data.csv')\n",
    "df.head()"
   ]
  },
  {
   "cell_type": "code",
   "execution_count": 3,
   "metadata": {},
   "outputs": [
    {
     "data": {
      "text/html": [
       "<div>\n",
       "<style scoped>\n",
       "    .dataframe tbody tr th:only-of-type {\n",
       "        vertical-align: middle;\n",
       "    }\n",
       "\n",
       "    .dataframe tbody tr th {\n",
       "        vertical-align: top;\n",
       "    }\n",
       "\n",
       "    .dataframe thead th {\n",
       "        text-align: right;\n",
       "    }\n",
       "</style>\n",
       "<table border=\"1\" class=\"dataframe\">\n",
       "  <thead>\n",
       "    <tr style=\"text-align: right;\">\n",
       "      <th></th>\n",
       "      <th>total_images</th>\n",
       "      <th>last_price</th>\n",
       "      <th>total_area</th>\n",
       "      <th>first_day_exposition</th>\n",
       "      <th>rooms</th>\n",
       "      <th>ceiling_height</th>\n",
       "      <th>floors_total</th>\n",
       "      <th>living_area</th>\n",
       "      <th>floor</th>\n",
       "      <th>is_apartment</th>\n",
       "      <th>...</th>\n",
       "      <th>kitchen_area</th>\n",
       "      <th>balcony</th>\n",
       "      <th>locality_name</th>\n",
       "      <th>airports_nearest</th>\n",
       "      <th>cityCenters_nearest</th>\n",
       "      <th>parks_around3000</th>\n",
       "      <th>parks_nearest</th>\n",
       "      <th>ponds_around3000</th>\n",
       "      <th>ponds_nearest</th>\n",
       "      <th>days_exposition</th>\n",
       "    </tr>\n",
       "  </thead>\n",
       "  <tbody>\n",
       "    <tr>\n",
       "      <th>0</th>\n",
       "      <td>20</td>\n",
       "      <td>13000000.0</td>\n",
       "      <td>108.0</td>\n",
       "      <td>2019-03-07T00:00:00</td>\n",
       "      <td>3</td>\n",
       "      <td>2.70</td>\n",
       "      <td>16.0</td>\n",
       "      <td>51.0</td>\n",
       "      <td>8</td>\n",
       "      <td>NaN</td>\n",
       "      <td>...</td>\n",
       "      <td>25.0</td>\n",
       "      <td>NaN</td>\n",
       "      <td>Санкт-Петербург</td>\n",
       "      <td>18863.0</td>\n",
       "      <td>16028.0</td>\n",
       "      <td>1.0</td>\n",
       "      <td>482.0</td>\n",
       "      <td>2.0</td>\n",
       "      <td>755.0</td>\n",
       "      <td>NaN</td>\n",
       "    </tr>\n",
       "    <tr>\n",
       "      <th>1</th>\n",
       "      <td>7</td>\n",
       "      <td>3350000.0</td>\n",
       "      <td>40.4</td>\n",
       "      <td>2018-12-04T00:00:00</td>\n",
       "      <td>1</td>\n",
       "      <td>NaN</td>\n",
       "      <td>11.0</td>\n",
       "      <td>18.6</td>\n",
       "      <td>1</td>\n",
       "      <td>NaN</td>\n",
       "      <td>...</td>\n",
       "      <td>11.0</td>\n",
       "      <td>2.0</td>\n",
       "      <td>посёлок Шушары</td>\n",
       "      <td>12817.0</td>\n",
       "      <td>18603.0</td>\n",
       "      <td>0.0</td>\n",
       "      <td>NaN</td>\n",
       "      <td>0.0</td>\n",
       "      <td>NaN</td>\n",
       "      <td>81.0</td>\n",
       "    </tr>\n",
       "    <tr>\n",
       "      <th>2</th>\n",
       "      <td>10</td>\n",
       "      <td>5196000.0</td>\n",
       "      <td>56.0</td>\n",
       "      <td>2015-08-20T00:00:00</td>\n",
       "      <td>2</td>\n",
       "      <td>NaN</td>\n",
       "      <td>5.0</td>\n",
       "      <td>34.3</td>\n",
       "      <td>4</td>\n",
       "      <td>NaN</td>\n",
       "      <td>...</td>\n",
       "      <td>8.3</td>\n",
       "      <td>0.0</td>\n",
       "      <td>Санкт-Петербург</td>\n",
       "      <td>21741.0</td>\n",
       "      <td>13933.0</td>\n",
       "      <td>1.0</td>\n",
       "      <td>90.0</td>\n",
       "      <td>2.0</td>\n",
       "      <td>574.0</td>\n",
       "      <td>558.0</td>\n",
       "    </tr>\n",
       "    <tr>\n",
       "      <th>3</th>\n",
       "      <td>0</td>\n",
       "      <td>64900000.0</td>\n",
       "      <td>159.0</td>\n",
       "      <td>2015-07-24T00:00:00</td>\n",
       "      <td>3</td>\n",
       "      <td>NaN</td>\n",
       "      <td>14.0</td>\n",
       "      <td>NaN</td>\n",
       "      <td>9</td>\n",
       "      <td>NaN</td>\n",
       "      <td>...</td>\n",
       "      <td>NaN</td>\n",
       "      <td>0.0</td>\n",
       "      <td>Санкт-Петербург</td>\n",
       "      <td>28098.0</td>\n",
       "      <td>6800.0</td>\n",
       "      <td>2.0</td>\n",
       "      <td>84.0</td>\n",
       "      <td>3.0</td>\n",
       "      <td>234.0</td>\n",
       "      <td>424.0</td>\n",
       "    </tr>\n",
       "    <tr>\n",
       "      <th>4</th>\n",
       "      <td>2</td>\n",
       "      <td>10000000.0</td>\n",
       "      <td>100.0</td>\n",
       "      <td>2018-06-19T00:00:00</td>\n",
       "      <td>2</td>\n",
       "      <td>3.03</td>\n",
       "      <td>14.0</td>\n",
       "      <td>32.0</td>\n",
       "      <td>13</td>\n",
       "      <td>NaN</td>\n",
       "      <td>...</td>\n",
       "      <td>41.0</td>\n",
       "      <td>NaN</td>\n",
       "      <td>Санкт-Петербург</td>\n",
       "      <td>31856.0</td>\n",
       "      <td>8098.0</td>\n",
       "      <td>2.0</td>\n",
       "      <td>112.0</td>\n",
       "      <td>1.0</td>\n",
       "      <td>48.0</td>\n",
       "      <td>121.0</td>\n",
       "    </tr>\n",
       "  </tbody>\n",
       "</table>\n",
       "<p>5 rows × 22 columns</p>\n",
       "</div>"
      ],
      "text/plain": [
       "   total_images  last_price  total_area first_day_exposition  rooms  \\\n",
       "0            20  13000000.0       108.0  2019-03-07T00:00:00      3   \n",
       "1             7   3350000.0        40.4  2018-12-04T00:00:00      1   \n",
       "2            10   5196000.0        56.0  2015-08-20T00:00:00      2   \n",
       "3             0  64900000.0       159.0  2015-07-24T00:00:00      3   \n",
       "4             2  10000000.0       100.0  2018-06-19T00:00:00      2   \n",
       "\n",
       "   ceiling_height  floors_total  living_area  floor is_apartment  ...  \\\n",
       "0            2.70          16.0         51.0      8          NaN  ...   \n",
       "1             NaN          11.0         18.6      1          NaN  ...   \n",
       "2             NaN           5.0         34.3      4          NaN  ...   \n",
       "3             NaN          14.0          NaN      9          NaN  ...   \n",
       "4            3.03          14.0         32.0     13          NaN  ...   \n",
       "\n",
       "   kitchen_area  balcony    locality_name  airports_nearest  \\\n",
       "0          25.0      NaN  Санкт-Петербург           18863.0   \n",
       "1          11.0      2.0   посёлок Шушары           12817.0   \n",
       "2           8.3      0.0  Санкт-Петербург           21741.0   \n",
       "3           NaN      0.0  Санкт-Петербург           28098.0   \n",
       "4          41.0      NaN  Санкт-Петербург           31856.0   \n",
       "\n",
       "  cityCenters_nearest  parks_around3000  parks_nearest  ponds_around3000  \\\n",
       "0             16028.0               1.0          482.0               2.0   \n",
       "1             18603.0               0.0            NaN               0.0   \n",
       "2             13933.0               1.0           90.0               2.0   \n",
       "3              6800.0               2.0           84.0               3.0   \n",
       "4              8098.0               2.0          112.0               1.0   \n",
       "\n",
       "   ponds_nearest  days_exposition  \n",
       "0          755.0              NaN  \n",
       "1            NaN             81.0  \n",
       "2          574.0            558.0  \n",
       "3          234.0            424.0  \n",
       "4           48.0            121.0  \n",
       "\n",
       "[5 rows x 22 columns]"
      ]
     },
     "execution_count": 3,
     "metadata": {},
     "output_type": "execute_result"
    }
   ],
   "source": [
    "try:\n",
    "    df = pd.read_csv('/home/olga/Downloads/real_estate_data.csv', sep='\\t')\n",
    "except:\n",
    "    df = pd.read_csv('/datasets/real_estate_data.csv', sep='\\t') \n",
    "df.head()"
   ]
  },
  {
   "cell_type": "code",
   "execution_count": 4,
   "metadata": {},
   "outputs": [
    {
     "name": "stdout",
     "output_type": "stream",
     "text": [
      "<class 'pandas.core.frame.DataFrame'>\n",
      "RangeIndex: 23699 entries, 0 to 23698\n",
      "Data columns (total 22 columns):\n",
      " #   Column                Non-Null Count  Dtype  \n",
      "---  ------                --------------  -----  \n",
      " 0   total_images          23699 non-null  int64  \n",
      " 1   last_price            23699 non-null  float64\n",
      " 2   total_area            23699 non-null  float64\n",
      " 3   first_day_exposition  23699 non-null  object \n",
      " 4   rooms                 23699 non-null  int64  \n",
      " 5   ceiling_height        14504 non-null  float64\n",
      " 6   floors_total          23613 non-null  float64\n",
      " 7   living_area           21796 non-null  float64\n",
      " 8   floor                 23699 non-null  int64  \n",
      " 9   is_apartment          2775 non-null   object \n",
      " 10  studio                23699 non-null  bool   \n",
      " 11  open_plan             23699 non-null  bool   \n",
      " 12  kitchen_area          21421 non-null  float64\n",
      " 13  balcony               12180 non-null  float64\n",
      " 14  locality_name         23650 non-null  object \n",
      " 15  airports_nearest      18157 non-null  float64\n",
      " 16  cityCenters_nearest   18180 non-null  float64\n",
      " 17  parks_around3000      18181 non-null  float64\n",
      " 18  parks_nearest         8079 non-null   float64\n",
      " 19  ponds_around3000      18181 non-null  float64\n",
      " 20  ponds_nearest         9110 non-null   float64\n",
      " 21  days_exposition       20518 non-null  float64\n",
      "dtypes: bool(2), float64(14), int64(3), object(3)\n",
      "memory usage: 3.7+ MB\n"
     ]
    }
   ],
   "source": [
    "df.info()"
   ]
  },
  {
   "cell_type": "markdown",
   "metadata": {},
   "source": [
    "### Вывод"
   ]
  },
  {
   "cell_type": "markdown",
   "metadata": {},
   "source": [
    "В таблице 22 столбца и 23699 строк. Здесь мы встречаемся с вещественным, целочисленным, булевым и строковым типом данных. Во многих столбцах есть пропущенные значения. \n",
    "Изучим детально, есть ли в таблице некорректные значения, типы данных, а также возможно ли заменить пропущенные значения. Рассмотрим каждый столбец"
   ]
  },
  {
   "cell_type": "markdown",
   "metadata": {},
   "source": [
    "## 2. Предобработка данных <a id=\"2id\"></a>"
   ]
  },
  {
   "cell_type": "code",
   "execution_count": 5,
   "metadata": {},
   "outputs": [
    {
     "data": {
      "text/plain": [
       "total_images                0\n",
       "last_price                  0\n",
       "total_area                  0\n",
       "first_day_exposition        0\n",
       "rooms                       0\n",
       "ceiling_height           9195\n",
       "floors_total               86\n",
       "living_area              1903\n",
       "floor                       0\n",
       "is_apartment            20924\n",
       "studio                      0\n",
       "open_plan                   0\n",
       "kitchen_area             2278\n",
       "balcony                 11519\n",
       "locality_name              49\n",
       "airports_nearest         5542\n",
       "cityCenters_nearest      5519\n",
       "parks_around3000         5518\n",
       "parks_nearest           15620\n",
       "ponds_around3000         5518\n",
       "ponds_nearest           14589\n",
       "days_exposition          3181\n",
       "dtype: int64"
      ]
     },
     "execution_count": 5,
     "metadata": {},
     "output_type": "execute_result"
    }
   ],
   "source": [
    "df.isna().sum()  # сумма пропусков в каждом столбце"
   ]
  },
  {
   "cell_type": "markdown",
   "metadata": {},
   "source": [
    "В датасете большое количество пропущенных значений. Посмотрим на каждый столбец"
   ]
  },
  {
   "cell_type": "markdown",
   "metadata": {},
   "source": [
    "### Проверка \"total_images\" - число фотографий квартиры в объявлении"
   ]
  },
  {
   "cell_type": "markdown",
   "metadata": {},
   "source": [
    "В столбце \"total_images\" нет пропущенных значений. Тип данных для количества фотографий выбран корректно - целочисленный. Искать дубликаты здесь не имеет смысла"
   ]
  },
  {
   "cell_type": "markdown",
   "metadata": {},
   "source": [
    "### Проверка \"last_price\" - цена на момент снятия с публикации"
   ]
  },
  {
   "cell_type": "code",
   "execution_count": 6,
   "metadata": {},
   "outputs": [
    {
     "data": {
      "text/plain": [
       "count        23699.0\n",
       "mean       6541549.0\n",
       "std       10887013.0\n",
       "min          12190.0\n",
       "25%        3400000.0\n",
       "50%        4650000.0\n",
       "75%        6800000.0\n",
       "max      763000000.0\n",
       "Name: last_price, dtype: float64"
      ]
     },
     "execution_count": 6,
     "metadata": {},
     "output_type": "execute_result"
    }
   ],
   "source": [
    "df['last_price'].describe().round()"
   ]
  },
  {
   "cell_type": "markdown",
   "metadata": {},
   "source": [
    "Пропусков нет. Заменим тип данных на целочисленный"
   ]
  },
  {
   "cell_type": "markdown",
   "metadata": {},
   "source": [
    "Кажется, здесь есть выбросы. Минимальная стоимость жилья в Ленинградской области начинается от 300 000 рублей: https://realty.yandex.ru/leningradskaya_oblast/kupit/kvartira/?utm_source=yandex_direct&utm_medium=direct_brand&utm_campaign=460_69067812_poisk_msk_brand&utm_content=11527276185&utm_term=%D1%8F%D0%BD%D0%B4%D0%B5%D0%BA%D1%81%20%D0%BD%D0%B5%D0%B4%D0%B2%D0%B8%D0%B6%D0%B8%D0%BC%D0%BE%D1%81%D1%82%D1%8C_35515956151&yclid=16428472797709205503&sort=PRICE\n",
    "\n",
    "Проверим сколько квартир в датасете стоят меньше 300 тыс рублей"
   ]
  },
  {
   "cell_type": "code",
   "execution_count": 7,
   "metadata": {},
   "outputs": [],
   "source": [
    "df['last_price'] = df['last_price'].astype('int')"
   ]
  },
  {
   "cell_type": "code",
   "execution_count": 8,
   "metadata": {},
   "outputs": [
    {
     "data": {
      "text/html": [
       "<div>\n",
       "<style scoped>\n",
       "    .dataframe tbody tr th:only-of-type {\n",
       "        vertical-align: middle;\n",
       "    }\n",
       "\n",
       "    .dataframe tbody tr th {\n",
       "        vertical-align: top;\n",
       "    }\n",
       "\n",
       "    .dataframe thead th {\n",
       "        text-align: right;\n",
       "    }\n",
       "</style>\n",
       "<table border=\"1\" class=\"dataframe\">\n",
       "  <thead>\n",
       "    <tr style=\"text-align: right;\">\n",
       "      <th></th>\n",
       "      <th>total_images</th>\n",
       "      <th>last_price</th>\n",
       "      <th>total_area</th>\n",
       "      <th>first_day_exposition</th>\n",
       "      <th>rooms</th>\n",
       "      <th>ceiling_height</th>\n",
       "      <th>floors_total</th>\n",
       "      <th>living_area</th>\n",
       "      <th>floor</th>\n",
       "      <th>is_apartment</th>\n",
       "      <th>...</th>\n",
       "      <th>kitchen_area</th>\n",
       "      <th>balcony</th>\n",
       "      <th>locality_name</th>\n",
       "      <th>airports_nearest</th>\n",
       "      <th>cityCenters_nearest</th>\n",
       "      <th>parks_around3000</th>\n",
       "      <th>parks_nearest</th>\n",
       "      <th>ponds_around3000</th>\n",
       "      <th>ponds_nearest</th>\n",
       "      <th>days_exposition</th>\n",
       "    </tr>\n",
       "  </thead>\n",
       "  <tbody>\n",
       "    <tr>\n",
       "      <th>8793</th>\n",
       "      <td>7</td>\n",
       "      <td>12190</td>\n",
       "      <td>109.0</td>\n",
       "      <td>2019-03-20T00:00:00</td>\n",
       "      <td>2</td>\n",
       "      <td>2.75</td>\n",
       "      <td>25.0</td>\n",
       "      <td>32.0</td>\n",
       "      <td>25</td>\n",
       "      <td>NaN</td>\n",
       "      <td>...</td>\n",
       "      <td>40.5</td>\n",
       "      <td>NaN</td>\n",
       "      <td>Санкт-Петербург</td>\n",
       "      <td>36421.0</td>\n",
       "      <td>9176.0</td>\n",
       "      <td>1.0</td>\n",
       "      <td>805.0</td>\n",
       "      <td>0.0</td>\n",
       "      <td>NaN</td>\n",
       "      <td>8.0</td>\n",
       "    </tr>\n",
       "  </tbody>\n",
       "</table>\n",
       "<p>1 rows × 22 columns</p>\n",
       "</div>"
      ],
      "text/plain": [
       "      total_images  last_price  total_area first_day_exposition  rooms  \\\n",
       "8793             7       12190       109.0  2019-03-20T00:00:00      2   \n",
       "\n",
       "      ceiling_height  floors_total  living_area  floor is_apartment  ...  \\\n",
       "8793            2.75          25.0         32.0     25          NaN  ...   \n",
       "\n",
       "      kitchen_area  balcony    locality_name  airports_nearest  \\\n",
       "8793          40.5      NaN  Санкт-Петербург           36421.0   \n",
       "\n",
       "     cityCenters_nearest  parks_around3000  parks_nearest  ponds_around3000  \\\n",
       "8793              9176.0               1.0          805.0               0.0   \n",
       "\n",
       "      ponds_nearest  days_exposition  \n",
       "8793            NaN              8.0  \n",
       "\n",
       "[1 rows x 22 columns]"
      ]
     },
     "execution_count": 8,
     "metadata": {},
     "output_type": "execute_result"
    }
   ],
   "source": [
    "df.query('last_price < 300000')"
   ]
  },
  {
   "cell_type": "markdown",
   "metadata": {},
   "source": [
    "Есть одно аномальное значение. Сложно представить  стоимость квартиры в 12 тыс рублей даже в регионе. Чуть позже удалим"
   ]
  },
  {
   "cell_type": "markdown",
   "metadata": {},
   "source": [
    "### Проверка \"total_area\" - площадь квартиры в квадратных метрах (м²) "
   ]
  },
  {
   "cell_type": "code",
   "execution_count": 9,
   "metadata": {},
   "outputs": [
    {
     "data": {
      "text/plain": [
       "count    23699.000000\n",
       "mean        60.348651\n",
       "std         35.654083\n",
       "min         12.000000\n",
       "25%         40.000000\n",
       "50%         52.000000\n",
       "75%         69.900000\n",
       "max        900.000000\n",
       "Name: total_area, dtype: float64"
      ]
     },
     "execution_count": 9,
     "metadata": {},
     "output_type": "execute_result"
    }
   ],
   "source": [
    "df['total_area'].describe()"
   ]
  },
  {
   "cell_type": "markdown",
   "metadata": {},
   "source": [
    "Минимальный и максимальный показатели кажутся реалистичными. Пропусков нет. Для удобства заменим данные на целочисленный тип"
   ]
  },
  {
   "cell_type": "code",
   "execution_count": 10,
   "metadata": {},
   "outputs": [],
   "source": [
    "df['total_area'] = df['total_area'].astype('int')"
   ]
  },
  {
   "cell_type": "markdown",
   "metadata": {},
   "source": [
    "### Проверка \"first_day_exposition\" - дата публикации"
   ]
  },
  {
   "cell_type": "code",
   "execution_count": 11,
   "metadata": {},
   "outputs": [
    {
     "data": {
      "text/plain": [
       "count                   23699\n",
       "unique                   1491\n",
       "top       2018-02-01T00:00:00\n",
       "freq                      368\n",
       "Name: first_day_exposition, dtype: object"
      ]
     },
     "execution_count": 11,
     "metadata": {},
     "output_type": "execute_result"
    }
   ],
   "source": [
    "df['first_day_exposition'].describe()"
   ]
  },
  {
   "cell_type": "markdown",
   "metadata": {},
   "source": [
    "Есть смысл заменить строковый тип данных на datetime, чтобы иметь возможность вычислять дату, день недели или месяц публикации"
   ]
  },
  {
   "cell_type": "code",
   "execution_count": 12,
   "metadata": {},
   "outputs": [
    {
     "data": {
      "text/plain": [
       "0   2019-03-07\n",
       "1   2018-12-04\n",
       "2   2015-08-20\n",
       "3   2015-07-24\n",
       "4   2018-06-19\n",
       "Name: first_day_exposition, dtype: datetime64[ns]"
      ]
     },
     "execution_count": 12,
     "metadata": {},
     "output_type": "execute_result"
    }
   ],
   "source": [
    "df['first_day_exposition'] = pd.to_datetime(df['first_day_exposition'], format='%Y-%m-%dT%H:%M:%S')\n",
    "df['first_day_exposition'].head()"
   ]
  },
  {
   "cell_type": "markdown",
   "metadata": {},
   "source": [
    "### Проверка \"rooms\" - число комнат"
   ]
  },
  {
   "cell_type": "code",
   "execution_count": 13,
   "metadata": {},
   "outputs": [
    {
     "data": {
      "text/plain": [
       "count    23699.000000\n",
       "mean         2.070636\n",
       "std          1.078405\n",
       "min          0.000000\n",
       "25%          1.000000\n",
       "50%          2.000000\n",
       "75%          3.000000\n",
       "max         19.000000\n",
       "Name: rooms, dtype: float64"
      ]
     },
     "execution_count": 13,
     "metadata": {},
     "output_type": "execute_result"
    }
   ],
   "source": [
    "df['rooms'].describe()"
   ]
  },
  {
   "cell_type": "markdown",
   "metadata": {},
   "source": [
    "Есть нулевые значения. Возможно, эти строки попадают в тип \"студия\""
   ]
  },
  {
   "cell_type": "code",
   "execution_count": 14,
   "metadata": {},
   "outputs": [
    {
     "data": {
      "text/html": [
       "<div>\n",
       "<style scoped>\n",
       "    .dataframe tbody tr th:only-of-type {\n",
       "        vertical-align: middle;\n",
       "    }\n",
       "\n",
       "    .dataframe tbody tr th {\n",
       "        vertical-align: top;\n",
       "    }\n",
       "\n",
       "    .dataframe thead th {\n",
       "        text-align: right;\n",
       "    }\n",
       "</style>\n",
       "<table border=\"1\" class=\"dataframe\">\n",
       "  <thead>\n",
       "    <tr style=\"text-align: right;\">\n",
       "      <th></th>\n",
       "      <th>total_images</th>\n",
       "      <th>last_price</th>\n",
       "      <th>total_area</th>\n",
       "      <th>first_day_exposition</th>\n",
       "      <th>rooms</th>\n",
       "      <th>ceiling_height</th>\n",
       "      <th>floors_total</th>\n",
       "      <th>living_area</th>\n",
       "      <th>floor</th>\n",
       "      <th>is_apartment</th>\n",
       "      <th>...</th>\n",
       "      <th>kitchen_area</th>\n",
       "      <th>balcony</th>\n",
       "      <th>locality_name</th>\n",
       "      <th>airports_nearest</th>\n",
       "      <th>cityCenters_nearest</th>\n",
       "      <th>parks_around3000</th>\n",
       "      <th>parks_nearest</th>\n",
       "      <th>ponds_around3000</th>\n",
       "      <th>ponds_nearest</th>\n",
       "      <th>days_exposition</th>\n",
       "    </tr>\n",
       "  </thead>\n",
       "  <tbody>\n",
       "    <tr>\n",
       "      <th>14498</th>\n",
       "      <td>6</td>\n",
       "      <td>32250000</td>\n",
       "      <td>374</td>\n",
       "      <td>2018-06-09</td>\n",
       "      <td>19</td>\n",
       "      <td>NaN</td>\n",
       "      <td>5.0</td>\n",
       "      <td>264.5</td>\n",
       "      <td>2</td>\n",
       "      <td>NaN</td>\n",
       "      <td>...</td>\n",
       "      <td>27.6</td>\n",
       "      <td>NaN</td>\n",
       "      <td>Санкт-Петербург</td>\n",
       "      <td>19497.0</td>\n",
       "      <td>3574.0</td>\n",
       "      <td>0.0</td>\n",
       "      <td>NaN</td>\n",
       "      <td>2.0</td>\n",
       "      <td>548.0</td>\n",
       "      <td>114.0</td>\n",
       "    </tr>\n",
       "    <tr>\n",
       "      <th>18848</th>\n",
       "      <td>6</td>\n",
       "      <td>28500000</td>\n",
       "      <td>270</td>\n",
       "      <td>2015-03-02</td>\n",
       "      <td>16</td>\n",
       "      <td>3.0</td>\n",
       "      <td>4.0</td>\n",
       "      <td>180.0</td>\n",
       "      <td>4</td>\n",
       "      <td>NaN</td>\n",
       "      <td>...</td>\n",
       "      <td>13.0</td>\n",
       "      <td>1.0</td>\n",
       "      <td>Санкт-Петербург</td>\n",
       "      <td>23575.0</td>\n",
       "      <td>4142.0</td>\n",
       "      <td>1.0</td>\n",
       "      <td>516.0</td>\n",
       "      <td>0.0</td>\n",
       "      <td>NaN</td>\n",
       "      <td>1365.0</td>\n",
       "    </tr>\n",
       "  </tbody>\n",
       "</table>\n",
       "<p>2 rows × 22 columns</p>\n",
       "</div>"
      ],
      "text/plain": [
       "       total_images  last_price  total_area first_day_exposition  rooms  \\\n",
       "14498             6    32250000         374           2018-06-09     19   \n",
       "18848             6    28500000         270           2015-03-02     16   \n",
       "\n",
       "       ceiling_height  floors_total  living_area  floor is_apartment  ...  \\\n",
       "14498             NaN           5.0        264.5      2          NaN  ...   \n",
       "18848             3.0           4.0        180.0      4          NaN  ...   \n",
       "\n",
       "       kitchen_area  balcony    locality_name  airports_nearest  \\\n",
       "14498          27.6      NaN  Санкт-Петербург           19497.0   \n",
       "18848          13.0      1.0  Санкт-Петербург           23575.0   \n",
       "\n",
       "      cityCenters_nearest  parks_around3000  parks_nearest  ponds_around3000  \\\n",
       "14498              3574.0               0.0            NaN               2.0   \n",
       "18848              4142.0               1.0          516.0               0.0   \n",
       "\n",
       "       ponds_nearest  days_exposition  \n",
       "14498          548.0            114.0  \n",
       "18848            NaN           1365.0  \n",
       "\n",
       "[2 rows x 22 columns]"
      ]
     },
     "execution_count": 14,
     "metadata": {},
     "output_type": "execute_result"
    }
   ],
   "source": [
    "df.query('rooms > 15')"
   ]
  },
  {
   "cell_type": "markdown",
   "metadata": {},
   "source": [
    "В столбце есть несколько значений с большим количеством комнат. В Яндекс.Невижимости можно найти квартиры с 15 комнатами. Поэтому оставим эти значения"
   ]
  },
  {
   "cell_type": "markdown",
   "metadata": {},
   "source": [
    "### Проверка \"ceiling_height\" - высота потолков (м)"
   ]
  },
  {
   "cell_type": "code",
   "execution_count": 15,
   "metadata": {},
   "outputs": [
    {
     "data": {
      "text/plain": [
       "count    14504.000000\n",
       "mean         2.771499\n",
       "std          1.261056\n",
       "min          1.000000\n",
       "25%          2.520000\n",
       "50%          2.650000\n",
       "75%          2.800000\n",
       "max        100.000000\n",
       "Name: ceiling_height, dtype: float64"
      ]
     },
     "execution_count": 15,
     "metadata": {},
     "output_type": "execute_result"
    }
   ],
   "source": [
    "df['ceiling_height'].describe()"
   ]
  },
  {
   "cell_type": "markdown",
   "metadata": {},
   "source": [
    "Пропущенных значений нет. В колонке есть выбросы: 1 метр и 100 метров - далекие от стандартов и реальности данные. Возможно, не всегда продавцы считают важным указывать высоту потолка в отличие от других характеристик, так как в большинстве случаев она стандартная. Оставим пропуски, как есть"
   ]
  },
  {
   "cell_type": "markdown",
   "metadata": {},
   "source": [
    "### Проверка \"floors_total\" - всего этажей в доме"
   ]
  },
  {
   "cell_type": "code",
   "execution_count": 16,
   "metadata": {},
   "outputs": [
    {
     "data": {
      "text/plain": [
       "count    23613.000000\n",
       "mean        10.673824\n",
       "std          6.597173\n",
       "min          1.000000\n",
       "25%          5.000000\n",
       "50%          9.000000\n",
       "75%         16.000000\n",
       "max         60.000000\n",
       "Name: floors_total, dtype: float64"
      ]
     },
     "execution_count": 16,
     "metadata": {},
     "output_type": "execute_result"
    }
   ],
   "source": [
    "df['floors_total'].describe()"
   ]
  },
  {
   "cell_type": "code",
   "execution_count": 17,
   "metadata": {},
   "outputs": [
    {
     "data": {
      "text/plain": [
       "23699"
      ]
     },
     "execution_count": 17,
     "metadata": {},
     "output_type": "execute_result"
    }
   ],
   "source": [
    "df['floors_total'].isna().count()"
   ]
  },
  {
   "cell_type": "markdown",
   "metadata": {},
   "source": [
    "Количество этажей по имеющимся данным определить сложно. Оставим пропуски"
   ]
  },
  {
   "cell_type": "markdown",
   "metadata": {},
   "source": [
    "### Проверка living_area - жилая площадь в квадратных метрах (м²)"
   ]
  },
  {
   "cell_type": "code",
   "execution_count": 18,
   "metadata": {},
   "outputs": [
    {
     "data": {
      "text/plain": [
       "count    21796.000000\n",
       "mean        34.457852\n",
       "std         22.030445\n",
       "min          2.000000\n",
       "25%         18.600000\n",
       "50%         30.000000\n",
       "75%         42.300000\n",
       "max        409.700000\n",
       "Name: living_area, dtype: float64"
      ]
     },
     "execution_count": 18,
     "metadata": {},
     "output_type": "execute_result"
    }
   ],
   "source": [
    "df['living_area'].describe()"
   ]
  },
  {
   "cell_type": "code",
   "execution_count": 19,
   "metadata": {},
   "outputs": [
    {
     "data": {
      "text/plain": [
       "1903"
      ]
     },
     "execution_count": 19,
     "metadata": {},
     "output_type": "execute_result"
    }
   ],
   "source": [
    "df['living_area'].isna().sum()"
   ]
  },
  {
   "cell_type": "markdown",
   "metadata": {},
   "source": [
    "Чтобы заполнить пропуски в жилой площади, найдем отношение среднего значения по жилой площади к среднему по общей. Этот коэффициент умножим на общую площадь квартиры каждой строки и приведем к целочисленным значениям"
   ]
  },
  {
   "cell_type": "code",
   "execution_count": 20,
   "metadata": {},
   "outputs": [],
   "source": [
    "aver_living_area = df['living_area'].mean()\n",
    "aver_total_area = df['total_area'].mean()"
   ]
  },
  {
   "cell_type": "code",
   "execution_count": 21,
   "metadata": {},
   "outputs": [],
   "source": [
    "df['living_area'] = df['living_area'].fillna((aver_living_area/aver_total_area)*df['total_area'])"
   ]
  },
  {
   "cell_type": "code",
   "execution_count": 22,
   "metadata": {},
   "outputs": [
    {
     "data": {
      "text/plain": [
       "0"
      ]
     },
     "execution_count": 22,
     "metadata": {},
     "output_type": "execute_result"
    }
   ],
   "source": [
    "df['living_area'].isna().sum()"
   ]
  },
  {
   "cell_type": "code",
   "execution_count": 23,
   "metadata": {},
   "outputs": [],
   "source": [
    "df['living_area'] = df['living_area'].astype('int')"
   ]
  },
  {
   "cell_type": "markdown",
   "metadata": {},
   "source": [
    "### Проверка \"floor\" - этаж"
   ]
  },
  {
   "cell_type": "code",
   "execution_count": 24,
   "metadata": {},
   "outputs": [
    {
     "data": {
      "text/plain": [
       "count    23699.000000\n",
       "mean         5.892358\n",
       "std          4.885249\n",
       "min          1.000000\n",
       "25%          2.000000\n",
       "50%          4.000000\n",
       "75%          8.000000\n",
       "max         33.000000\n",
       "Name: floor, dtype: float64"
      ]
     },
     "execution_count": 24,
     "metadata": {},
     "output_type": "execute_result"
    }
   ],
   "source": [
    "df['floor'].describe()"
   ]
  },
  {
   "cell_type": "code",
   "execution_count": 25,
   "metadata": {},
   "outputs": [
    {
     "data": {
      "text/plain": [
       "0"
      ]
     },
     "execution_count": 25,
     "metadata": {},
     "output_type": "execute_result"
    }
   ],
   "source": [
    "df['floor'].isna().sum()"
   ]
  },
  {
   "cell_type": "code",
   "execution_count": 26,
   "metadata": {},
   "outputs": [
    {
     "data": {
      "text/plain": [
       "2     3368\n",
       "3     3073\n",
       "1     2917\n",
       "4     2804\n",
       "5     2621\n",
       "6     1305\n",
       "7     1218\n",
       "8     1083\n",
       "9     1051\n",
       "10     687\n",
       "Name: floor, dtype: int64"
      ]
     },
     "execution_count": 26,
     "metadata": {},
     "output_type": "execute_result"
    }
   ],
   "source": [
    "df['floor'].value_counts().head(10)"
   ]
  },
  {
   "cell_type": "markdown",
   "metadata": {},
   "source": [
    "В Санкт-Петербурге больше всего домоd с этажами от 9 и меньше. \n",
    "Пропусков в столбце нет. Заменим показатели на целочисленные"
   ]
  },
  {
   "cell_type": "code",
   "execution_count": 27,
   "metadata": {},
   "outputs": [],
   "source": [
    "df['floor'] = df['floor'].astype('int')"
   ]
  },
  {
   "cell_type": "markdown",
   "metadata": {},
   "source": [
    "### Проверка \"is_apartment\" - апартаменты"
   ]
  },
  {
   "cell_type": "code",
   "execution_count": 28,
   "metadata": {},
   "outputs": [
    {
     "data": {
      "text/plain": [
       "False    2725\n",
       "True       50\n",
       "Name: is_apartment, dtype: int64"
      ]
     },
     "execution_count": 28,
     "metadata": {},
     "output_type": "execute_result"
    }
   ],
   "source": [
    "df['is_apartment'].value_counts()"
   ]
  },
  {
   "cell_type": "code",
   "execution_count": 29,
   "metadata": {},
   "outputs": [
    {
     "data": {
      "text/plain": [
       "20924"
      ]
     },
     "execution_count": 29,
     "metadata": {},
     "output_type": "execute_result"
    }
   ],
   "source": [
    "df['is_apartment'].isna().sum()"
   ]
  },
  {
   "cell_type": "markdown",
   "metadata": {},
   "source": [
    "Сложно будет заполнить по имеющимся данным пустые значения. Оставим их, как есть."
   ]
  },
  {
   "cell_type": "markdown",
   "metadata": {},
   "source": [
    "В наборе данные всего 149 квартиры-студии. Остальные - обычные квартиры с планировкой, разделяющей разные зоны"
   ]
  },
  {
   "cell_type": "markdown",
   "metadata": {},
   "source": [
    "### Проверка \"open_plan\" - свободная планировка "
   ]
  },
  {
   "cell_type": "code",
   "execution_count": 30,
   "metadata": {},
   "outputs": [
    {
     "data": {
      "text/plain": [
       "0"
      ]
     },
     "execution_count": 30,
     "metadata": {},
     "output_type": "execute_result"
    }
   ],
   "source": [
    "df['open_plan'].isna().sum()"
   ]
  },
  {
   "cell_type": "code",
   "execution_count": 31,
   "metadata": {},
   "outputs": [
    {
     "data": {
      "text/plain": [
       "False    23632\n",
       "True        67\n",
       "Name: open_plan, dtype: int64"
      ]
     },
     "execution_count": 31,
     "metadata": {},
     "output_type": "execute_result"
    }
   ],
   "source": [
    "df['open_plan'].value_counts()"
   ]
  },
  {
   "cell_type": "markdown",
   "metadata": {},
   "source": [
    "Всего 67 квартир со свободной планировкой. Пропусков нет. Тип данных корректный"
   ]
  },
  {
   "cell_type": "markdown",
   "metadata": {},
   "source": [
    "### Проверка  \"kitchen_area\" - площадь кухни в квадратных метрах"
   ]
  },
  {
   "cell_type": "code",
   "execution_count": 32,
   "metadata": {},
   "outputs": [
    {
     "data": {
      "text/plain": [
       "count    21421.000000\n",
       "mean        10.569807\n",
       "std          5.905438\n",
       "min          1.300000\n",
       "25%          7.000000\n",
       "50%          9.100000\n",
       "75%         12.000000\n",
       "max        112.000000\n",
       "Name: kitchen_area, dtype: float64"
      ]
     },
     "execution_count": 32,
     "metadata": {},
     "output_type": "execute_result"
    }
   ],
   "source": [
    "df['kitchen_area'].describe()"
   ]
  },
  {
   "cell_type": "code",
   "execution_count": 33,
   "metadata": {},
   "outputs": [
    {
     "data": {
      "text/plain": [
       "2278"
      ]
     },
     "execution_count": 33,
     "metadata": {},
     "output_type": "execute_result"
    }
   ],
   "source": [
    "df['kitchen_area'].isna().sum()"
   ]
  },
  {
   "cell_type": "markdown",
   "metadata": {},
   "source": [
    "Как и в living_area найдем коэффициент отношения средней площади кухни к средней общей площади. Заполним пропуски произведением коэффициента и общей площади"
   ]
  },
  {
   "cell_type": "code",
   "execution_count": 34,
   "metadata": {},
   "outputs": [],
   "source": [
    "aver_kitchen_area = df['kitchen_area'].mean()\n",
    "aver_total_area = df['total_area'].mean()"
   ]
  },
  {
   "cell_type": "code",
   "execution_count": 35,
   "metadata": {},
   "outputs": [],
   "source": [
    "df['kitchen_area'] = df['kitchen_area'].fillna((aver_kitchen_area/aver_total_area)*df['kitchen_area'])"
   ]
  },
  {
   "cell_type": "markdown",
   "metadata": {},
   "source": [
    "### Проверка \"balcony\" - число балконов"
   ]
  },
  {
   "cell_type": "code",
   "execution_count": 36,
   "metadata": {},
   "outputs": [
    {
     "data": {
      "text/plain": [
       "11519"
      ]
     },
     "execution_count": 36,
     "metadata": {},
     "output_type": "execute_result"
    }
   ],
   "source": [
    "df['balcony'].isna().sum()"
   ]
  },
  {
   "cell_type": "markdown",
   "metadata": {},
   "source": [
    "Предположим, что если информации о налиии балкона не указана, то его просто нет в квартире. Заменим все пропуски на нули. Преобразуем показатели в целочисленный тип данных"
   ]
  },
  {
   "cell_type": "code",
   "execution_count": 37,
   "metadata": {},
   "outputs": [],
   "source": [
    "df['balcony'] = df['balcony'].fillna(0)"
   ]
  },
  {
   "cell_type": "code",
   "execution_count": 38,
   "metadata": {},
   "outputs": [],
   "source": [
    "df['balcony'] = df['balcony'].astype('int')"
   ]
  },
  {
   "cell_type": "markdown",
   "metadata": {},
   "source": [
    "### Проверка  \"locality_name\" - название населённого пункта"
   ]
  },
  {
   "cell_type": "markdown",
   "metadata": {},
   "source": [
    "В столбце немного пропущенных данных. Удалим их. Заменим буквы \"ё\" на \"е\""
   ]
  },
  {
   "cell_type": "code",
   "execution_count": 39,
   "metadata": {},
   "outputs": [
    {
     "data": {
      "text/plain": [
       "49"
      ]
     },
     "execution_count": 39,
     "metadata": {},
     "output_type": "execute_result"
    }
   ],
   "source": [
    "df['locality_name'].isna().sum()"
   ]
  },
  {
   "cell_type": "code",
   "execution_count": 40,
   "metadata": {},
   "outputs": [
    {
     "data": {
      "text/plain": [
       "0            Санкт-Петербург\n",
       "1             посёлок Шушары\n",
       "2            Санкт-Петербург\n",
       "3            Санкт-Петербург\n",
       "4            Санкт-Петербург\n",
       "                ...         \n",
       "23694        Санкт-Петербург\n",
       "23695                  Тосно\n",
       "23696       село Рождествено\n",
       "23697        Санкт-Петербург\n",
       "23698    поселок Новый Учхоз\n",
       "Name: locality_name, Length: 23650, dtype: object"
      ]
     },
     "execution_count": 40,
     "metadata": {},
     "output_type": "execute_result"
    }
   ],
   "source": [
    "df['locality_name'].dropna()"
   ]
  },
  {
   "cell_type": "code",
   "execution_count": 41,
   "metadata": {},
   "outputs": [],
   "source": [
    "df['locality_name'] = df['locality_name'].str.replace(\"ё\", \"е\") "
   ]
  },
  {
   "cell_type": "markdown",
   "metadata": {},
   "source": [
    "### Проверка  столбцов \"airports_nearest\", \"parks_around3000\", \"parks_nearest\", \"ponds_around3000\", \"ponds_nearest\""
   ]
  },
  {
   "cell_type": "markdown",
   "metadata": {},
   "source": [
    "В указанных столбцах много пропусков. Возможно, в заданном интервале, действительно, нет ни парков, ни прудов, ни аэропортов. Пропуски заменять не будем. Эти данные не будут использованы в нашем исследовании. Есть смысл заменить типы данных в некоторых столбцах и округлить до удобных для восприятия цифр"
   ]
  },
  {
   "cell_type": "code",
   "execution_count": 42,
   "metadata": {},
   "outputs": [],
   "source": [
    "# округляем вещественные числа до двух знаков после запятой, переводим вещественные значения в целочисленные \n",
    "df['airports_nearest'] = df['airports_nearest'].round(2)\n",
    "df['parks_nearest'] = df['parks_nearest'].round(2)\n",
    "df['parks_around3000'] = df['parks_around3000'].astype('Int32')\n",
    "df['ponds_around3000'] = df['ponds_around3000'].astype('Int32')"
   ]
  },
  {
   "cell_type": "markdown",
   "metadata": {},
   "source": [
    "### Проверка \"cityCenters_nearest\" - расстояние до центра города (м)"
   ]
  },
  {
   "cell_type": "code",
   "execution_count": 43,
   "metadata": {},
   "outputs": [
    {
     "data": {
      "text/plain": [
       "5519"
      ]
     },
     "execution_count": 43,
     "metadata": {},
     "output_type": "execute_result"
    }
   ],
   "source": [
    "df['cityCenters_nearest'].isna().sum()"
   ]
  },
  {
   "cell_type": "markdown",
   "metadata": {},
   "source": [
    "Пропущенных значений много. На данном этапе не будем заполнять пропуски"
   ]
  },
  {
   "cell_type": "markdown",
   "metadata": {},
   "source": [
    "### Проверка \"days_exposition\" - сколько дней было размещено объявление (от публикации до снятия)"
   ]
  },
  {
   "cell_type": "code",
   "execution_count": 44,
   "metadata": {},
   "outputs": [
    {
     "data": {
      "text/plain": [
       "count    20518.000000\n",
       "mean       180.888634\n",
       "std        219.727988\n",
       "min          1.000000\n",
       "25%         45.000000\n",
       "50%         95.000000\n",
       "75%        232.000000\n",
       "max       1580.000000\n",
       "Name: days_exposition, dtype: float64"
      ]
     },
     "execution_count": 44,
     "metadata": {},
     "output_type": "execute_result"
    }
   ],
   "source": [
    "df['days_exposition'].describe()"
   ]
  },
  {
   "cell_type": "code",
   "execution_count": 45,
   "metadata": {},
   "outputs": [
    {
     "data": {
      "text/plain": [
       "3181"
      ]
     },
     "execution_count": 45,
     "metadata": {},
     "output_type": "execute_result"
    }
   ],
   "source": [
    "df['days_exposition'].isna().sum()"
   ]
  },
  {
   "cell_type": "code",
   "execution_count": 46,
   "metadata": {},
   "outputs": [],
   "source": [
    "df['days_exposition'] = df['days_exposition'].round(0).astype('Int32')"
   ]
  },
  {
   "cell_type": "markdown",
   "metadata": {},
   "source": [
    "Важный показатель, который пригодится нам для подсчета времени продажи квартир. Пропуски заполнять не будем. Переведем дни в целочисленные значения"
   ]
  },
  {
   "cell_type": "markdown",
   "metadata": {},
   "source": [
    "### Вывод"
   ]
  },
  {
   "cell_type": "markdown",
   "metadata": {},
   "source": [
    "Мы более детально рассмотрели показатели каждого столбца. Некоторые пропущенные значения удалось заменить. Также мы скорректировали типы значений в некоторый столбцах для проведения корректных рассчетов"
   ]
  },
  {
   "cell_type": "markdown",
   "metadata": {},
   "source": [
    "## 3. Расчёты и добавление результатов в таблицу <a id=\"3id\"></a>"
   ]
  },
  {
   "cell_type": "markdown",
   "metadata": {},
   "source": [
    "Посчитаем и добавим несколько столбцов в таблицу"
   ]
  },
  {
   "cell_type": "markdown",
   "metadata": {},
   "source": [
    "### 3.1 Цена за квадратный метр <a id=\"3.1id\"></a>"
   ]
  },
  {
   "cell_type": "code",
   "execution_count": 47,
   "metadata": {},
   "outputs": [
    {
     "data": {
      "text/plain": [
       "0    120370\n",
       "1     83750\n",
       "2     92785\n",
       "3    408176\n",
       "4    100000\n",
       "Name: price_per_meter, dtype: int64"
      ]
     },
     "execution_count": 47,
     "metadata": {},
     "output_type": "execute_result"
    }
   ],
   "source": [
    "df['price_per_meter'] = (df['last_price'] / df['total_area']).astype('int')\n",
    "df['price_per_meter'].head()"
   ]
  },
  {
   "cell_type": "markdown",
   "metadata": {},
   "source": [
    "### 3.2 День недели, месяц и год публикации объявления<a id=\"3.2id\"></a>"
   ]
  },
  {
   "cell_type": "code",
   "execution_count": 48,
   "metadata": {},
   "outputs": [],
   "source": [
    "df['weekday'] = pd.DatetimeIndex(df['first_day_exposition']).dayofweek # день недели"
   ]
  },
  {
   "cell_type": "code",
   "execution_count": 49,
   "metadata": {
    "scrolled": true
   },
   "outputs": [
    {
     "data": {
      "text/plain": [
       "0    3\n",
       "1    1\n",
       "2    3\n",
       "3    4\n",
       "4    1\n",
       "Name: weekday, dtype: int64"
      ]
     },
     "execution_count": 49,
     "metadata": {},
     "output_type": "execute_result"
    }
   ],
   "source": [
    "df['weekday'].head() # понедельник=0, воскресенье=6"
   ]
  },
  {
   "cell_type": "markdown",
   "metadata": {},
   "source": [
    "Создадим функцию, которая переберет получившиеся цифры-значения и перезапишет дни недели словами"
   ]
  },
  {
   "cell_type": "code",
   "execution_count": 50,
   "metadata": {},
   "outputs": [],
   "source": [
    "def weekday_def(weekday):\n",
    "    if weekday == 0:\n",
    "        return 'понедельник'\n",
    "    if weekday == 1:\n",
    "        return 'вторник'\n",
    "    if weekday == 2:\n",
    "        return 'среда'\n",
    "    if weekday == 3:\n",
    "        return 'четверг'\n",
    "    if weekday == 4:\n",
    "        return 'пятница'\n",
    "    if weekday == 5:\n",
    "        return 'суббота'\n",
    "    else:\n",
    "        return 'воскресенье'"
   ]
  },
  {
   "cell_type": "code",
   "execution_count": 51,
   "metadata": {},
   "outputs": [],
   "source": [
    "df['weekday'] = df['weekday'].apply(weekday_def)"
   ]
  },
  {
   "cell_type": "code",
   "execution_count": 52,
   "metadata": {},
   "outputs": [
    {
     "data": {
      "text/plain": [
       "0    четверг\n",
       "1    вторник\n",
       "2    четверг\n",
       "3    пятница\n",
       "4    вторник\n",
       "Name: weekday, dtype: object"
      ]
     },
     "execution_count": 52,
     "metadata": {},
     "output_type": "execute_result"
    }
   ],
   "source": [
    "df['weekday'].head()"
   ]
  },
  {
   "cell_type": "markdown",
   "metadata": {},
   "source": [
    "Столбец \"месяц\" заполним строковыми значениями с помощью словаря"
   ]
  },
  {
   "cell_type": "code",
   "execution_count": 53,
   "metadata": {},
   "outputs": [
    {
     "data": {
      "text/plain": [
       "0     3\n",
       "1    12\n",
       "2     8\n",
       "3     7\n",
       "4     6\n",
       "Name: month, dtype: int64"
      ]
     },
     "execution_count": 53,
     "metadata": {},
     "output_type": "execute_result"
    }
   ],
   "source": [
    "df['month'] = pd.DatetimeIndex(df['first_day_exposition']).month # месяц от 1 до 12\n",
    "df['month'].head()"
   ]
  },
  {
   "cell_type": "markdown",
   "metadata": {},
   "source": [
    "Создадим словать, ключи которого будут указывать на значения - названия месяцев и применим его к столбцу"
   ]
  },
  {
   "cell_type": "code",
   "execution_count": 54,
   "metadata": {},
   "outputs": [],
   "source": [
    "month_dict = {\n",
    "    1:'январь', 2:'февраль', 3:'март', 4:'апрель', 5:'май', 6:'июнь', 7:'июль', 8:'август', 9:'сентябрь', 10:'октябрь', 11:'ноябрь', 12:'декабрь'\n",
    "             }"
   ]
  },
  {
   "cell_type": "code",
   "execution_count": 55,
   "metadata": {},
   "outputs": [
    {
     "data": {
      "text/plain": [
       "0       март\n",
       "1    декабрь\n",
       "2     август\n",
       "3       июль\n",
       "4       июнь\n",
       "Name: month, dtype: object"
      ]
     },
     "execution_count": 55,
     "metadata": {},
     "output_type": "execute_result"
    }
   ],
   "source": [
    "df['month'] = df['month'].map(month_dict)\n",
    "df['month'].head()"
   ]
  },
  {
   "cell_type": "code",
   "execution_count": 56,
   "metadata": {},
   "outputs": [
    {
     "data": {
      "text/plain": [
       "0    2019\n",
       "1    2018\n",
       "2    2015\n",
       "3    2015\n",
       "4    2018\n",
       "Name: year, dtype: int64"
      ]
     },
     "execution_count": 56,
     "metadata": {},
     "output_type": "execute_result"
    }
   ],
   "source": [
    "df['year'] = pd.DatetimeIndex(df['first_day_exposition']).year # год\n",
    "df['year'].head()"
   ]
  },
  {
   "cell_type": "code",
   "execution_count": 57,
   "metadata": {},
   "outputs": [
    {
     "data": {
      "text/html": [
       "<div>\n",
       "<style scoped>\n",
       "    .dataframe tbody tr th:only-of-type {\n",
       "        vertical-align: middle;\n",
       "    }\n",
       "\n",
       "    .dataframe tbody tr th {\n",
       "        vertical-align: top;\n",
       "    }\n",
       "\n",
       "    .dataframe thead th {\n",
       "        text-align: right;\n",
       "    }\n",
       "</style>\n",
       "<table border=\"1\" class=\"dataframe\">\n",
       "  <thead>\n",
       "    <tr style=\"text-align: right;\">\n",
       "      <th></th>\n",
       "      <th>weekday</th>\n",
       "      <th>month</th>\n",
       "      <th>year</th>\n",
       "    </tr>\n",
       "  </thead>\n",
       "  <tbody>\n",
       "    <tr>\n",
       "      <th>0</th>\n",
       "      <td>четверг</td>\n",
       "      <td>март</td>\n",
       "      <td>2019</td>\n",
       "    </tr>\n",
       "    <tr>\n",
       "      <th>1</th>\n",
       "      <td>вторник</td>\n",
       "      <td>декабрь</td>\n",
       "      <td>2018</td>\n",
       "    </tr>\n",
       "    <tr>\n",
       "      <th>2</th>\n",
       "      <td>четверг</td>\n",
       "      <td>август</td>\n",
       "      <td>2015</td>\n",
       "    </tr>\n",
       "    <tr>\n",
       "      <th>3</th>\n",
       "      <td>пятница</td>\n",
       "      <td>июль</td>\n",
       "      <td>2015</td>\n",
       "    </tr>\n",
       "    <tr>\n",
       "      <th>4</th>\n",
       "      <td>вторник</td>\n",
       "      <td>июнь</td>\n",
       "      <td>2018</td>\n",
       "    </tr>\n",
       "  </tbody>\n",
       "</table>\n",
       "</div>"
      ],
      "text/plain": [
       "   weekday    month  year\n",
       "0  четверг     март  2019\n",
       "1  вторник  декабрь  2018\n",
       "2  четверг   август  2015\n",
       "3  пятница     июль  2015\n",
       "4  вторник     июнь  2018"
      ]
     },
     "execution_count": 57,
     "metadata": {},
     "output_type": "execute_result"
    }
   ],
   "source": [
    "df.loc[:, 'weekday':'year'].head()"
   ]
  },
  {
   "cell_type": "markdown",
   "metadata": {},
   "source": [
    "Создали и заполнили дополнительные столбцы: день недели и месяц строковыми значениями, год  - целочисленными"
   ]
  },
  {
   "cell_type": "markdown",
   "metadata": {},
   "source": [
    "### 3.3 Определяем этаж квартиры<a id=\"3.3id\"></a>"
   ]
  },
  {
   "cell_type": "markdown",
   "metadata": {},
   "source": [
    "Создадим словарь с тремя категориями и функцию, которая будет определять номер этажа к определенной категории"
   ]
  },
  {
   "cell_type": "code",
   "execution_count": 58,
   "metadata": {},
   "outputs": [],
   "source": [
    "floor_category=['первый', 'последний', 'другой']"
   ]
  },
  {
   "cell_type": "code",
   "execution_count": 59,
   "metadata": {},
   "outputs": [],
   "source": [
    "def what_floor(df):\n",
    "    if df['floor'] == 1:\n",
    "        return 'первый'\n",
    "    if df['floor'] == df['floors_total']:\n",
    "        return 'последний'\n",
    "    return 'другой'"
   ]
  },
  {
   "cell_type": "code",
   "execution_count": 60,
   "metadata": {},
   "outputs": [],
   "source": [
    "df['floor_category'] = df.apply(what_floor, axis=1) # применим функцию к столбцу"
   ]
  },
  {
   "cell_type": "code",
   "execution_count": 61,
   "metadata": {},
   "outputs": [
    {
     "data": {
      "text/plain": [
       "0    другой\n",
       "1    первый\n",
       "2    другой\n",
       "3    другой\n",
       "4    другой\n",
       "Name: floor_category, dtype: object"
      ]
     },
     "execution_count": 61,
     "metadata": {},
     "output_type": "execute_result"
    }
   ],
   "source": [
    "df['floor_category'].head()"
   ]
  },
  {
   "cell_type": "markdown",
   "metadata": {},
   "source": [
    "### 3.4 Cоотношение жилой и общей площади<a id=\"3.4id\"></a>"
   ]
  },
  {
   "cell_type": "markdown",
   "metadata": {},
   "source": [
    "Выведем процентное отношение жилоай площади к общей"
   ]
  },
  {
   "cell_type": "code",
   "execution_count": 62,
   "metadata": {},
   "outputs": [
    {
     "data": {
      "text/plain": [
       "0.6    9424\n",
       "0.5    6311\n",
       "0.7    3927\n",
       "0.4    2902\n",
       "0.8     538\n",
       "0.3     443\n",
       "0.9      82\n",
       "0.2      52\n",
       "1.0      13\n",
       "0.1       5\n",
       "0.0       2\n",
       "Name: living_area_ratio, dtype: int64"
      ]
     },
     "execution_count": 62,
     "metadata": {},
     "output_type": "execute_result"
    }
   ],
   "source": [
    "df['living_area_ratio'] = (df['living_area'] / df['total_area']).round(1) # находим соотношение\n",
    "df['living_area_ratio'].value_counts().sort_values(ascending=False) # выводим сортировку соотношения"
   ]
  },
  {
   "cell_type": "markdown",
   "metadata": {},
   "source": [
    "Как видим, у большей части жилищного фонда Санкт-Петербурга жилая часть занимает как минимум половину от всей площади квартиры"
   ]
  },
  {
   "cell_type": "markdown",
   "metadata": {},
   "source": [
    "### 3.5 Соотношение площади кухни к общей площади<a id=\"3.5id\"></a>"
   ]
  },
  {
   "cell_type": "code",
   "execution_count": 63,
   "metadata": {},
   "outputs": [
    {
     "data": {
      "text/plain": [
       "0.200000    312\n",
       "0.250000    246\n",
       "0.166667    224\n",
       "0.142857    175\n",
       "0.133333    169\n",
       "0.187500    168\n",
       "0.125000    145\n",
       "0.136364    142\n",
       "0.193548    130\n",
       "0.155556    124\n",
       "Name: kitchen_area_ratio, dtype: int64"
      ]
     },
     "execution_count": 63,
     "metadata": {},
     "output_type": "execute_result"
    }
   ],
   "source": [
    "df['kitchen_area_ratio'] = df['kitchen_area'] / df['total_area']\n",
    "df['kitchen_area_ratio'].value_counts().sort_values(ascending=False).head(10)"
   ]
  },
  {
   "cell_type": "markdown",
   "metadata": {},
   "source": [
    "Кухня занимает до 20% от общей площади квартир"
   ]
  },
  {
   "cell_type": "markdown",
   "metadata": {},
   "source": [
    "### Вывод"
   ]
  },
  {
   "cell_type": "markdown",
   "metadata": {},
   "source": [
    "Мы посчитали и добавили в таблицу несколько показателей: цену квадратного метра; день недели, месяц и год публикации объявления. Категоризовали этажи в квартирах, а также посчитали соотношение кухни и жилой площади к общей площади квартир"
   ]
  },
  {
   "cell_type": "markdown",
   "metadata": {},
   "source": [
    "## 4. Исследовательский анализ данных<a id=\"4id\"></a>"
   ]
  },
  {
   "cell_type": "markdown",
   "metadata": {},
   "source": [
    "### 4.1 Построение гистограм<a id=\"4.1id\"></a>"
   ]
  },
  {
   "cell_type": "markdown",
   "metadata": {},
   "source": [
    "Изучим следущие столбцы: площадь, цена, число комнат, высота потолков. Построим для каждого гистограммы"
   ]
  },
  {
   "cell_type": "code",
   "execution_count": 64,
   "metadata": {},
   "outputs": [
    {
     "data": {
      "text/html": [
       "<div>\n",
       "<style scoped>\n",
       "    .dataframe tbody tr th:only-of-type {\n",
       "        vertical-align: middle;\n",
       "    }\n",
       "\n",
       "    .dataframe tbody tr th {\n",
       "        vertical-align: top;\n",
       "    }\n",
       "\n",
       "    .dataframe thead th {\n",
       "        text-align: right;\n",
       "    }\n",
       "</style>\n",
       "<table border=\"1\" class=\"dataframe\">\n",
       "  <thead>\n",
       "    <tr style=\"text-align: right;\">\n",
       "      <th></th>\n",
       "      <th>total_area</th>\n",
       "      <th>last_price</th>\n",
       "      <th>rooms</th>\n",
       "      <th>ceiling_height</th>\n",
       "    </tr>\n",
       "  </thead>\n",
       "  <tbody>\n",
       "    <tr>\n",
       "      <th>count</th>\n",
       "      <td>23699.000000</td>\n",
       "      <td>2.369900e+04</td>\n",
       "      <td>23699.000000</td>\n",
       "      <td>14504.000000</td>\n",
       "    </tr>\n",
       "    <tr>\n",
       "      <th>mean</th>\n",
       "      <td>60.120511</td>\n",
       "      <td>6.541549e+06</td>\n",
       "      <td>2.070636</td>\n",
       "      <td>2.826048</td>\n",
       "    </tr>\n",
       "    <tr>\n",
       "      <th>std</th>\n",
       "      <td>35.665822</td>\n",
       "      <td>1.088701e+07</td>\n",
       "      <td>1.078405</td>\n",
       "      <td>1.319741</td>\n",
       "    </tr>\n",
       "    <tr>\n",
       "      <th>min</th>\n",
       "      <td>12.000000</td>\n",
       "      <td>1.219000e+04</td>\n",
       "      <td>0.000000</td>\n",
       "      <td>1.000000</td>\n",
       "    </tr>\n",
       "    <tr>\n",
       "      <th>25%</th>\n",
       "      <td>40.000000</td>\n",
       "      <td>3.400000e+06</td>\n",
       "      <td>1.000000</td>\n",
       "      <td>3.000000</td>\n",
       "    </tr>\n",
       "    <tr>\n",
       "      <th>50%</th>\n",
       "      <td>52.000000</td>\n",
       "      <td>4.650000e+06</td>\n",
       "      <td>2.000000</td>\n",
       "      <td>3.000000</td>\n",
       "    </tr>\n",
       "    <tr>\n",
       "      <th>75%</th>\n",
       "      <td>69.000000</td>\n",
       "      <td>6.800000e+06</td>\n",
       "      <td>3.000000</td>\n",
       "      <td>3.000000</td>\n",
       "    </tr>\n",
       "    <tr>\n",
       "      <th>max</th>\n",
       "      <td>900.000000</td>\n",
       "      <td>7.630000e+08</td>\n",
       "      <td>19.000000</td>\n",
       "      <td>100.000000</td>\n",
       "    </tr>\n",
       "  </tbody>\n",
       "</table>\n",
       "</div>"
      ],
      "text/plain": [
       "         total_area    last_price         rooms  ceiling_height\n",
       "count  23699.000000  2.369900e+04  23699.000000    14504.000000\n",
       "mean      60.120511  6.541549e+06      2.070636        2.826048\n",
       "std       35.665822  1.088701e+07      1.078405        1.319741\n",
       "min       12.000000  1.219000e+04      0.000000        1.000000\n",
       "25%       40.000000  3.400000e+06      1.000000        3.000000\n",
       "50%       52.000000  4.650000e+06      2.000000        3.000000\n",
       "75%       69.000000  6.800000e+06      3.000000        3.000000\n",
       "max      900.000000  7.630000e+08     19.000000      100.000000"
      ]
     },
     "execution_count": 64,
     "metadata": {},
     "output_type": "execute_result"
    }
   ],
   "source": [
    "df[['total_area', 'last_price', 'rooms', 'ceiling_height']].round().describe()"
   ]
  },
  {
   "cell_type": "markdown",
   "metadata": {},
   "source": [
    "### Площадь"
   ]
  },
  {
   "cell_type": "code",
   "execution_count": 65,
   "metadata": {},
   "outputs": [
    {
     "data": {
      "text/plain": [
       "count    23699.000000\n",
       "mean        60.120511\n",
       "std         35.665822\n",
       "min         12.000000\n",
       "25%         40.000000\n",
       "50%         52.000000\n",
       "75%         69.000000\n",
       "max        900.000000\n",
       "Name: total_area, dtype: float64"
      ]
     },
     "execution_count": 65,
     "metadata": {},
     "output_type": "execute_result"
    }
   ],
   "source": [
    "df['total_area'].describe()"
   ]
  },
  {
   "cell_type": "code",
   "execution_count": 66,
   "metadata": {},
   "outputs": [
    {
     "data": {
      "image/png": "[encoded data removed]",
      "text/plain": [
       "<Figure size 504x504 with 1 Axes>"
      ]
     },
     "metadata": {
      "needs_background": "light"
     },
     "output_type": "display_data"
    }
   ],
   "source": [
    "df['total_area'].hist(bins=100, figsize=(7,7), range=(0,400)).set_title('Гистограмма общей площади');"
   ]
  },
  {
   "cell_type": "code",
   "execution_count": 67,
   "metadata": {},
   "outputs": [
    {
     "data": {
      "image/png": "[encoded data removed]",
      "text/plain": [
       "<Figure size 504x504 with 1 Axes>"
      ]
     },
     "metadata": {
      "needs_background": "light"
     },
     "output_type": "display_data"
    }
   ],
   "source": [
    "df.boxplot(column='total_area', figsize=(7,7)).set_title('Диаграмма размаха общей площади');"
   ]
  },
  {
   "cell_type": "markdown",
   "metadata": {},
   "source": [
    "Большой пик приходится на площадь от 25 до 50 квадратных метров. Наблюдается тенденция: чем больше площадь, тем меньше реже такие квартиры встречаются, что кажется вполне логичным. Похоже на нормальное распределение. На диаграмме размаха можно наблюдать выбросы"
   ]
  },
  {
   "cell_type": "markdown",
   "metadata": {},
   "source": [
    "### Цена"
   ]
  },
  {
   "cell_type": "code",
   "execution_count": 68,
   "metadata": {},
   "outputs": [
    {
     "data": {
      "text/plain": [
       "count        23699.0\n",
       "mean       6541549.0\n",
       "std       10887013.0\n",
       "min          12190.0\n",
       "25%        3400000.0\n",
       "50%        4650000.0\n",
       "75%        6800000.0\n",
       "max      763000000.0\n",
       "Name: last_price, dtype: float64"
      ]
     },
     "execution_count": 68,
     "metadata": {},
     "output_type": "execute_result"
    }
   ],
   "source": [
    "df['last_price'].describe().round()"
   ]
  },
  {
   "cell_type": "code",
   "execution_count": 69,
   "metadata": {},
   "outputs": [
    {
     "data": {
      "image/png": "[encoded data removed]",
      "text/plain": [
       "<Figure size 432x288 with 1 Axes>"
      ]
     },
     "metadata": {
      "needs_background": "light"
     },
     "output_type": "display_data"
    }
   ],
   "source": [
    "df['last_price'].hist(bins=100,range=(0,30000000)).set_title('Гистограмма цены');"
   ]
  },
  {
   "cell_type": "code",
   "execution_count": 70,
   "metadata": {},
   "outputs": [
    {
     "data": {
      "image/png": "[encoded data removed]",
      "text/plain": [
       "<Figure size 432x288 with 1 Axes>"
      ]
     },
     "metadata": {
      "needs_background": "light"
     },
     "output_type": "display_data"
    }
   ],
   "source": [
    "df.boxplot(column='last_price').set_title('Диаграмма размаха цены');"
   ]
  },
  {
   "cell_type": "markdown",
   "metadata": {},
   "source": [
    "Чаще всего продаются квартиры за 3-4 млн рублей"
   ]
  },
  {
   "cell_type": "markdown",
   "metadata": {},
   "source": [
    "### Число комнат"
   ]
  },
  {
   "cell_type": "code",
   "execution_count": 71,
   "metadata": {},
   "outputs": [
    {
     "data": {
      "text/plain": [
       "count    23699.000000\n",
       "mean         2.070636\n",
       "std          1.078405\n",
       "min          0.000000\n",
       "25%          1.000000\n",
       "50%          2.000000\n",
       "75%          3.000000\n",
       "max         19.000000\n",
       "Name: rooms, dtype: float64"
      ]
     },
     "execution_count": 71,
     "metadata": {},
     "output_type": "execute_result"
    }
   ],
   "source": [
    "df['rooms'].describe()"
   ]
  },
  {
   "cell_type": "code",
   "execution_count": 72,
   "metadata": {},
   "outputs": [
    {
     "data": {
      "image/png": "[encoded data removed]",
      "text/plain": [
       "<Figure size 504x504 with 1 Axes>"
      ]
     },
     "metadata": {
      "needs_background": "light"
     },
     "output_type": "display_data"
    }
   ],
   "source": [
    "df['rooms'].hist(bins=30, figsize=(7,7), range=(0, 10)).set_title('Гистограмма количества комнат');"
   ]
  },
  {
   "cell_type": "code",
   "execution_count": 73,
   "metadata": {},
   "outputs": [
    {
     "data": {
      "image/png": "[encoded data removed]",
      "text/plain": [
       "<Figure size 504x504 with 1 Axes>"
      ]
     },
     "metadata": {
      "needs_background": "light"
     },
     "output_type": "display_data"
    }
   ],
   "source": [
    "df.boxplot(column='rooms', figsize=(7,7)).set_title('Диаграмма количества комнат');"
   ]
  },
  {
   "cell_type": "markdown",
   "metadata": {},
   "source": [
    "Чаще всего встречаются квартиры с 1, 2 и 3 комнатами. Видим также нулевые показатели (студии)."
   ]
  },
  {
   "cell_type": "markdown",
   "metadata": {},
   "source": [
    "### Высота потолков"
   ]
  },
  {
   "cell_type": "code",
   "execution_count": 74,
   "metadata": {},
   "outputs": [
    {
     "data": {
      "image/png": "[encoded data removed]",
      "text/plain": [
       "<Figure size 504x504 with 1 Axes>"
      ]
     },
     "metadata": {
      "needs_background": "light"
     },
     "output_type": "display_data"
    }
   ],
   "source": [
    "df['ceiling_height'].hist(bins=100, figsize=(7,7), range=(0, 10)).set_title('Гистограмма высоты потолков');"
   ]
  },
  {
   "cell_type": "code",
   "execution_count": 75,
   "metadata": {},
   "outputs": [
    {
     "data": {
      "image/png": "[encoded data removed]",
      "text/plain": [
       "<Figure size 504x504 with 1 Axes>"
      ]
     },
     "metadata": {
      "needs_background": "light"
     },
     "output_type": "display_data"
    }
   ],
   "source": [
    "df.boxplot(column='ceiling_height', figsize=(7,7)).set_title('Диаграмма высоты потолков');"
   ]
  },
  {
   "cell_type": "markdown",
   "metadata": {},
   "source": [
    "Большинство квартир имеет высоту полотка чуть больше 2,5 метров. Есть один выброс в 100 метров"
   ]
  },
  {
   "cell_type": "markdown",
   "metadata": {},
   "source": [
    "### 4.2 Время продажи квартиры<a id=\"4.2id\"></a>"
   ]
  },
  {
   "cell_type": "code",
   "execution_count": 76,
   "metadata": {},
   "outputs": [
    {
     "data": {
      "text/plain": [
       "count    20518.000000\n",
       "mean       180.888634\n",
       "std        219.727988\n",
       "min          1.000000\n",
       "25%         45.000000\n",
       "50%         95.000000\n",
       "75%        232.000000\n",
       "max       1580.000000\n",
       "Name: days_exposition, dtype: float64"
      ]
     },
     "execution_count": 76,
     "metadata": {},
     "output_type": "execute_result"
    }
   ],
   "source": [
    "df['days_exposition'].describe()"
   ]
  },
  {
   "cell_type": "code",
   "execution_count": 77,
   "metadata": {},
   "outputs": [
    {
     "data": {
      "image/png": "[encoded data removed]",
      "text/plain": [
       "<Figure size 504x504 with 1 Axes>"
      ]
     },
     "metadata": {
      "needs_background": "light"
     },
     "output_type": "display_data"
    }
   ],
   "source": [
    "df['days_exposition'].hist(bins=100, figsize=(7,7)).set_title('Гистограмма времени продажи квартир');"
   ]
  },
  {
   "cell_type": "markdown",
   "metadata": {},
   "source": [
    "Среднее количество дней, которое объявление висит на сайте - 180. Медианное значение - примерно 3 месяца (95 дней), что явялется вполне нормальным для крупной покупки. Несколько выбросов справа сильно сдвигают среднее значение (почти в два раза больше).\n",
    "Самая быстрая продажа произошла за один день после публикации объявления, а самая долгая заняла больше 4 лет. Возможно, соотношение цены и других характеристик этой квартиры не соответствовало среднему рыночному показателю или объявление висело уже будучи неактуальным"
   ]
  },
  {
   "cell_type": "markdown",
   "metadata": {},
   "source": [
    "На гистограмме мы также видим несколько пиков. Расмотрим поближе"
   ]
  },
  {
   "cell_type": "code",
   "execution_count": 78,
   "metadata": {},
   "outputs": [
    {
     "data": {
      "image/png": "[encoded data removed]",
      "text/plain": [
       "<Figure size 504x504 with 1 Axes>"
      ]
     },
     "metadata": {
      "needs_background": "light"
     },
     "output_type": "display_data"
    }
   ],
   "source": [
    "df['days_exposition'].hist(bins=100, figsize=(7,7), range=(0,150));"
   ]
  },
  {
   "cell_type": "markdown",
   "metadata": {},
   "source": [
    "Эти пики приходятся на примерно 45, 60 и 90 дни. Согласно правилам, у Яндекс.Недвижимости есть определенные сроки публикации объявления согласно типу размещения: https://yandex.ru/support/realty/agency/home/add-ads-housing.html#publication-time\n",
    "Сроки, в течение которых объявление о продаже считается актуальным: квартира - от 45 дней, комната - 30 и 45 дней (по мск и другим регионам), дом/участок - 60 и 90 дней (по мск и др регионам).\n",
    "Вероятно, что те объявления, которые не были обновлены собственниками, как актуальные, автоматически удаляются по истечении определенного количества времени."
   ]
  },
  {
   "cell_type": "markdown",
   "metadata": {},
   "source": [
    "### Вывод "
   ]
  },
  {
   "cell_type": "markdown",
   "metadata": {},
   "source": [
    "Средняя квартира Санкт-Петербурга - это 2-x или 3-х комнатная квартира в диапазоне от 25 до 50 кв.метров с высотой потолков около 2,6 метров. В среднем квартиры продаются за 95 дней.\n"
   ]
  },
  {
   "cell_type": "markdown",
   "metadata": {},
   "source": [
    "### 4.3 Избавление от выбросов <a id=\"4.3id\"></a>"
   ]
  },
  {
   "cell_type": "markdown",
   "metadata": {},
   "source": [
    "Уберем нереальные значения потолков (в старом фонде Санкт-Петербурга есть 4-4.5 метров), количество комнат ограничим максимальным числом 15, а общий объем квартиры  - 700 кв метров. Также сильно выбивающееся значение в цене (773 млн) тоже кажется выбросом. Ограничим от 300 тыс до 500 млн (на данный момент на Яндекс.Недвижимость нет квартир дешевле 300 тыс даже в регионе)"
   ]
  },
  {
   "cell_type": "code",
   "execution_count": 79,
   "metadata": {},
   "outputs": [
    {
     "data": {
      "text/plain": [
       "count    14468.000000\n",
       "mean         2.725147\n",
       "std          0.272571\n",
       "min          1.000000\n",
       "25%          2.510000\n",
       "50%          2.650000\n",
       "75%          2.800000\n",
       "max          5.000000\n",
       "Name: ceiling_height, dtype: float64"
      ]
     },
     "execution_count": 79,
     "metadata": {},
     "output_type": "execute_result"
    }
   ],
   "source": [
    "new_df = df.query('ceiling_height <= 5') # убираем нереальные значения высоты потолков\n",
    "new_df['ceiling_height'].describe()"
   ]
  },
  {
   "cell_type": "code",
   "execution_count": 80,
   "metadata": {},
   "outputs": [
    {
     "data": {
      "text/plain": [
       "count    14466.000000\n",
       "mean         2.135421\n",
       "std          1.087074\n",
       "min          0.000000\n",
       "25%          1.000000\n",
       "50%          2.000000\n",
       "75%          3.000000\n",
       "max         14.000000\n",
       "Name: rooms, dtype: float64"
      ]
     },
     "execution_count": 80,
     "metadata": {},
     "output_type": "execute_result"
    }
   ],
   "source": [
    "new_df = new_df.query('rooms < 15')\n",
    "new_df['rooms'].describe()"
   ]
  },
  {
   "cell_type": "code",
   "execution_count": 81,
   "metadata": {},
   "outputs": [
    {
     "data": {
      "text/plain": [
       "count    14465.000000\n",
       "mean        61.491462\n",
       "std         35.835407\n",
       "min         12.000000\n",
       "25%         41.000000\n",
       "50%         53.000000\n",
       "75%         71.000000\n",
       "max        631.000000\n",
       "Name: total_area, dtype: float64"
      ]
     },
     "execution_count": 81,
     "metadata": {},
     "output_type": "execute_result"
    }
   ],
   "source": [
    "new_df = new_df.query('total_area < 700')\n",
    "new_df['total_area'].describe()"
   ]
  },
  {
   "cell_type": "code",
   "execution_count": 82,
   "metadata": {},
   "outputs": [],
   "source": [
    "# тут не получилось через query. Сделала через loc\n",
    "new_df = new_df.loc[(new_df['last_price'] <= 500000000) & (new_df['last_price'] >= 300000)]"
   ]
  },
  {
   "cell_type": "code",
   "execution_count": 83,
   "metadata": {},
   "outputs": [
    {
     "data": {
      "text/plain": [
       "13749    240000000\n",
       "16461    245000000\n",
       "22831    289238400\n",
       "15651    300000000\n",
       "1436     330000000\n",
       "Name: last_price, dtype: int64"
      ]
     },
     "execution_count": 83,
     "metadata": {},
     "output_type": "execute_result"
    }
   ],
   "source": [
    "new_df['last_price'].sort_values(ascending=True).tail()"
   ]
  },
  {
   "cell_type": "code",
   "execution_count": 84,
   "metadata": {},
   "outputs": [
    {
     "data": {
      "text/plain": [
       "count    11096.000000\n",
       "mean       201.861482\n",
       "std        234.141204\n",
       "min          1.000000\n",
       "25%         44.000000\n",
       "50%        116.000000\n",
       "75%        269.000000\n",
       "max       1580.000000\n",
       "Name: days_exposition, dtype: float64"
      ]
     },
     "execution_count": 84,
     "metadata": {},
     "output_type": "execute_result"
    }
   ],
   "source": [
    "new_df = new_df.loc[(new_df['days_exposition'] != 45) & (new_df['days_exposition'] != 30) \\\n",
    " & (new_df['days_exposition'] != 60) & (new_df['days_exposition'] != 90) \\\n",
    " & (new_df['days_exposition'] != 0)]\n",
    "new_df['days_exposition'].describe()"
   ]
  },
  {
   "cell_type": "code",
   "execution_count": 85,
   "metadata": {},
   "outputs": [
    {
     "data": {
      "text/plain": [
       "count    10901.000000\n",
       "mean       184.565636\n",
       "std        196.106854\n",
       "min          1.000000\n",
       "25%         43.000000\n",
       "50%        114.000000\n",
       "75%        255.000000\n",
       "max        988.000000\n",
       "Name: days_exposition, dtype: float64"
      ]
     },
     "execution_count": 85,
     "metadata": {},
     "output_type": "execute_result"
    }
   ],
   "source": [
    "new_df = new_df.loc[(new_df['days_exposition'] < 990)]\n",
    "new_df['days_exposition'].describe()"
   ]
  },
  {
   "cell_type": "markdown",
   "metadata": {},
   "source": [
    "## 5. Факторы влияющие на стоимость квартиры<a id=\"5id\"></a>"
   ]
  },
  {
   "cell_type": "markdown",
   "metadata": {},
   "source": [
    "Рассмотрим несколько показателей, чтобы проверить, какие из них влияют на цену квратиры: площадь, число комнат, удаленность от центра, этаж, дата размещения"
   ]
  },
  {
   "cell_type": "code",
   "execution_count": 86,
   "metadata": {},
   "outputs": [
    {
     "data": {
      "text/html": [
       "<div>\n",
       "<style scoped>\n",
       "    .dataframe tbody tr th:only-of-type {\n",
       "        vertical-align: middle;\n",
       "    }\n",
       "\n",
       "    .dataframe tbody tr th {\n",
       "        vertical-align: top;\n",
       "    }\n",
       "\n",
       "    .dataframe thead th {\n",
       "        text-align: right;\n",
       "    }\n",
       "</style>\n",
       "<table border=\"1\" class=\"dataframe\">\n",
       "  <thead>\n",
       "    <tr style=\"text-align: right;\">\n",
       "      <th></th>\n",
       "      <th>total_images</th>\n",
       "      <th>last_price</th>\n",
       "      <th>total_area</th>\n",
       "      <th>rooms</th>\n",
       "      <th>ceiling_height</th>\n",
       "      <th>floors_total</th>\n",
       "      <th>living_area</th>\n",
       "      <th>floor</th>\n",
       "      <th>kitchen_area</th>\n",
       "      <th>balcony</th>\n",
       "      <th>...</th>\n",
       "      <th>cityCenters_nearest</th>\n",
       "      <th>parks_around3000</th>\n",
       "      <th>parks_nearest</th>\n",
       "      <th>ponds_around3000</th>\n",
       "      <th>ponds_nearest</th>\n",
       "      <th>days_exposition</th>\n",
       "      <th>price_per_meter</th>\n",
       "      <th>year</th>\n",
       "      <th>living_area_ratio</th>\n",
       "      <th>kitchen_area_ratio</th>\n",
       "    </tr>\n",
       "  </thead>\n",
       "  <tbody>\n",
       "    <tr>\n",
       "      <th>count</th>\n",
       "      <td>10901.000000</td>\n",
       "      <td>1.090100e+04</td>\n",
       "      <td>10901.000000</td>\n",
       "      <td>10901.000000</td>\n",
       "      <td>10901.000000</td>\n",
       "      <td>10896.000000</td>\n",
       "      <td>10901.000000</td>\n",
       "      <td>10901.000000</td>\n",
       "      <td>10326.000000</td>\n",
       "      <td>10901.000000</td>\n",
       "      <td>...</td>\n",
       "      <td>8800.000000</td>\n",
       "      <td>8800.000000</td>\n",
       "      <td>3978.000000</td>\n",
       "      <td>8800.000000</td>\n",
       "      <td>4299.000000</td>\n",
       "      <td>10901.000000</td>\n",
       "      <td>1.090100e+04</td>\n",
       "      <td>10901.000000</td>\n",
       "      <td>10901.000000</td>\n",
       "      <td>10326.000000</td>\n",
       "    </tr>\n",
       "    <tr>\n",
       "      <th>mean</th>\n",
       "      <td>10.165581</td>\n",
       "      <td>6.466738e+06</td>\n",
       "      <td>59.781304</td>\n",
       "      <td>2.075314</td>\n",
       "      <td>2.717935</td>\n",
       "      <td>10.343153</td>\n",
       "      <td>34.353912</td>\n",
       "      <td>5.701128</td>\n",
       "      <td>10.383850</td>\n",
       "      <td>0.679571</td>\n",
       "      <td>...</td>\n",
       "      <td>14180.121136</td>\n",
       "      <td>0.628409</td>\n",
       "      <td>473.849170</td>\n",
       "      <td>0.761250</td>\n",
       "      <td>522.510351</td>\n",
       "      <td>184.565636</td>\n",
       "      <td>1.002849e+05</td>\n",
       "      <td>2017.348408</td>\n",
       "      <td>0.565902</td>\n",
       "      <td>0.186329</td>\n",
       "    </tr>\n",
       "    <tr>\n",
       "      <th>std</th>\n",
       "      <td>5.583759</td>\n",
       "      <td>9.345081e+06</td>\n",
       "      <td>34.408739</td>\n",
       "      <td>1.052789</td>\n",
       "      <td>0.265643</td>\n",
       "      <td>6.232588</td>\n",
       "      <td>21.936185</td>\n",
       "      <td>4.662541</td>\n",
       "      <td>5.713751</td>\n",
       "      <td>0.999805</td>\n",
       "      <td>...</td>\n",
       "      <td>8676.888973</td>\n",
       "      <td>0.815166</td>\n",
       "      <td>311.741339</td>\n",
       "      <td>0.944137</td>\n",
       "      <td>280.533581</td>\n",
       "      <td>196.106854</td>\n",
       "      <td>4.581578e+04</td>\n",
       "      <td>0.926706</td>\n",
       "      <td>0.105446</td>\n",
       "      <td>0.072138</td>\n",
       "    </tr>\n",
       "    <tr>\n",
       "      <th>min</th>\n",
       "      <td>0.000000</td>\n",
       "      <td>4.900000e+05</td>\n",
       "      <td>12.000000</td>\n",
       "      <td>0.000000</td>\n",
       "      <td>1.000000</td>\n",
       "      <td>1.000000</td>\n",
       "      <td>2.000000</td>\n",
       "      <td>1.000000</td>\n",
       "      <td>2.000000</td>\n",
       "      <td>0.000000</td>\n",
       "      <td>...</td>\n",
       "      <td>208.000000</td>\n",
       "      <td>0.000000</td>\n",
       "      <td>3.000000</td>\n",
       "      <td>0.000000</td>\n",
       "      <td>16.000000</td>\n",
       "      <td>1.000000</td>\n",
       "      <td>9.615000e+03</td>\n",
       "      <td>2014.000000</td>\n",
       "      <td>0.000000</td>\n",
       "      <td>0.025381</td>\n",
       "    </tr>\n",
       "    <tr>\n",
       "      <th>25%</th>\n",
       "      <td>6.000000</td>\n",
       "      <td>3.500000e+06</td>\n",
       "      <td>40.000000</td>\n",
       "      <td>1.000000</td>\n",
       "      <td>2.520000</td>\n",
       "      <td>5.000000</td>\n",
       "      <td>19.000000</td>\n",
       "      <td>2.000000</td>\n",
       "      <td>7.000000</td>\n",
       "      <td>0.000000</td>\n",
       "      <td>...</td>\n",
       "      <td>9456.500000</td>\n",
       "      <td>0.000000</td>\n",
       "      <td>285.000000</td>\n",
       "      <td>0.000000</td>\n",
       "      <td>294.500000</td>\n",
       "      <td>43.000000</td>\n",
       "      <td>7.847200e+04</td>\n",
       "      <td>2017.000000</td>\n",
       "      <td>0.500000</td>\n",
       "      <td>0.133333</td>\n",
       "    </tr>\n",
       "    <tr>\n",
       "      <th>50%</th>\n",
       "      <td>10.000000</td>\n",
       "      <td>4.700000e+06</td>\n",
       "      <td>52.000000</td>\n",
       "      <td>2.000000</td>\n",
       "      <td>2.650000</td>\n",
       "      <td>9.000000</td>\n",
       "      <td>30.000000</td>\n",
       "      <td>4.000000</td>\n",
       "      <td>9.000000</td>\n",
       "      <td>0.000000</td>\n",
       "      <td>...</td>\n",
       "      <td>13035.000000</td>\n",
       "      <td>0.000000</td>\n",
       "      <td>448.000000</td>\n",
       "      <td>0.000000</td>\n",
       "      <td>509.000000</td>\n",
       "      <td>114.000000</td>\n",
       "      <td>9.610300e+04</td>\n",
       "      <td>2017.000000</td>\n",
       "      <td>0.600000</td>\n",
       "      <td>0.172198</td>\n",
       "    </tr>\n",
       "    <tr>\n",
       "      <th>75%</th>\n",
       "      <td>14.000000</td>\n",
       "      <td>6.700000e+06</td>\n",
       "      <td>69.000000</td>\n",
       "      <td>3.000000</td>\n",
       "      <td>2.800000</td>\n",
       "      <td>14.000000</td>\n",
       "      <td>42.000000</td>\n",
       "      <td>8.000000</td>\n",
       "      <td>11.800000</td>\n",
       "      <td>1.000000</td>\n",
       "      <td>...</td>\n",
       "      <td>16072.250000</td>\n",
       "      <td>1.000000</td>\n",
       "      <td>603.000000</td>\n",
       "      <td>1.000000</td>\n",
       "      <td>734.000000</td>\n",
       "      <td>255.000000</td>\n",
       "      <td>1.149120e+05</td>\n",
       "      <td>2018.000000</td>\n",
       "      <td>0.600000</td>\n",
       "      <td>0.228571</td>\n",
       "    </tr>\n",
       "    <tr>\n",
       "      <th>max</th>\n",
       "      <td>50.000000</td>\n",
       "      <td>3.300000e+08</td>\n",
       "      <td>618.000000</td>\n",
       "      <td>14.000000</td>\n",
       "      <td>5.000000</td>\n",
       "      <td>60.000000</td>\n",
       "      <td>347.000000</td>\n",
       "      <td>27.000000</td>\n",
       "      <td>93.200000</td>\n",
       "      <td>5.000000</td>\n",
       "      <td>...</td>\n",
       "      <td>64857.000000</td>\n",
       "      <td>3.000000</td>\n",
       "      <td>3190.000000</td>\n",
       "      <td>3.000000</td>\n",
       "      <td>1344.000000</td>\n",
       "      <td>988.000000</td>\n",
       "      <td>1.736842e+06</td>\n",
       "      <td>2019.000000</td>\n",
       "      <td>1.000000</td>\n",
       "      <td>0.747500</td>\n",
       "    </tr>\n",
       "  </tbody>\n",
       "</table>\n",
       "<p>8 rows × 21 columns</p>\n",
       "</div>"
      ],
      "text/plain": [
       "       total_images    last_price    total_area         rooms  ceiling_height  \\\n",
       "count  10901.000000  1.090100e+04  10901.000000  10901.000000    10901.000000   \n",
       "mean      10.165581  6.466738e+06     59.781304      2.075314        2.717935   \n",
       "std        5.583759  9.345081e+06     34.408739      1.052789        0.265643   \n",
       "min        0.000000  4.900000e+05     12.000000      0.000000        1.000000   \n",
       "25%        6.000000  3.500000e+06     40.000000      1.000000        2.520000   \n",
       "50%       10.000000  4.700000e+06     52.000000      2.000000        2.650000   \n",
       "75%       14.000000  6.700000e+06     69.000000      3.000000        2.800000   \n",
       "max       50.000000  3.300000e+08    618.000000     14.000000        5.000000   \n",
       "\n",
       "       floors_total   living_area         floor  kitchen_area       balcony  \\\n",
       "count  10896.000000  10901.000000  10901.000000  10326.000000  10901.000000   \n",
       "mean      10.343153     34.353912      5.701128     10.383850      0.679571   \n",
       "std        6.232588     21.936185      4.662541      5.713751      0.999805   \n",
       "min        1.000000      2.000000      1.000000      2.000000      0.000000   \n",
       "25%        5.000000     19.000000      2.000000      7.000000      0.000000   \n",
       "50%        9.000000     30.000000      4.000000      9.000000      0.000000   \n",
       "75%       14.000000     42.000000      8.000000     11.800000      1.000000   \n",
       "max       60.000000    347.000000     27.000000     93.200000      5.000000   \n",
       "\n",
       "       ...  cityCenters_nearest  parks_around3000  parks_nearest  \\\n",
       "count  ...          8800.000000       8800.000000    3978.000000   \n",
       "mean   ...         14180.121136          0.628409     473.849170   \n",
       "std    ...          8676.888973          0.815166     311.741339   \n",
       "min    ...           208.000000          0.000000       3.000000   \n",
       "25%    ...          9456.500000          0.000000     285.000000   \n",
       "50%    ...         13035.000000          0.000000     448.000000   \n",
       "75%    ...         16072.250000          1.000000     603.000000   \n",
       "max    ...         64857.000000          3.000000    3190.000000   \n",
       "\n",
       "       ponds_around3000  ponds_nearest  days_exposition  price_per_meter  \\\n",
       "count       8800.000000    4299.000000     10901.000000     1.090100e+04   \n",
       "mean           0.761250     522.510351       184.565636     1.002849e+05   \n",
       "std            0.944137     280.533581       196.106854     4.581578e+04   \n",
       "min            0.000000      16.000000         1.000000     9.615000e+03   \n",
       "25%            0.000000     294.500000        43.000000     7.847200e+04   \n",
       "50%            0.000000     509.000000       114.000000     9.610300e+04   \n",
       "75%            1.000000     734.000000       255.000000     1.149120e+05   \n",
       "max            3.000000    1344.000000       988.000000     1.736842e+06   \n",
       "\n",
       "               year  living_area_ratio  kitchen_area_ratio  \n",
       "count  10901.000000       10901.000000        10326.000000  \n",
       "mean    2017.348408           0.565902            0.186329  \n",
       "std        0.926706           0.105446            0.072138  \n",
       "min     2014.000000           0.000000            0.025381  \n",
       "25%     2017.000000           0.500000            0.133333  \n",
       "50%     2017.000000           0.600000            0.172198  \n",
       "75%     2018.000000           0.600000            0.228571  \n",
       "max     2019.000000           1.000000            0.747500  \n",
       "\n",
       "[8 rows x 21 columns]"
      ]
     },
     "execution_count": 86,
     "metadata": {},
     "output_type": "execute_result"
    }
   ],
   "source": [
    "new_df.describe()"
   ]
  },
  {
   "cell_type": "markdown",
   "metadata": {},
   "source": [
    "### 5.1 Цена/площадь<a id=\"5.1id\"></a>"
   ]
  },
  {
   "cell_type": "code",
   "execution_count": 87,
   "metadata": {},
   "outputs": [
    {
     "data": {
      "image/png": "[encoded data removed]",
      "text/plain": [
       "<Figure size 504x360 with 1 Axes>"
      ]
     },
     "metadata": {
      "needs_background": "light"
     },
     "output_type": "display_data"
    }
   ],
   "source": [
    "new_df.plot(x='last_price', y='total_area', kind='scatter', grid=True, alpha=0.3, figsize=(7,5), title='Зависимость цены от площади квартиры');"
   ]
  },
  {
   "cell_type": "code",
   "execution_count": 88,
   "metadata": {},
   "outputs": [
    {
     "name": "stdout",
     "output_type": "stream",
     "text": [
      "Коэффициент корреляции: 0.7055856756025671\n"
     ]
    }
   ],
   "source": [
    "print('Коэффициент корреляции:', new_df['last_price'].corr(new_df['total_area']))"
   ]
  },
  {
   "cell_type": "markdown",
   "metadata": {},
   "source": [
    "По диаграмме рассеивания и коэффициенту корреляции можем утверждать, что связь между площадью и ценой есть: как правило, чем площадь квартиры больше, тем выше ее цена. "
   ]
  },
  {
   "cell_type": "markdown",
   "metadata": {},
   "source": [
    "### 5.2 Цена/число комнат<a id=\"5.2id\"></a>"
   ]
  },
  {
   "cell_type": "code",
   "execution_count": 89,
   "metadata": {},
   "outputs": [
    {
     "data": {
      "image/png": "[encoded data removed]",
      "text/plain": [
       "<Figure size 504x360 with 1 Axes>"
      ]
     },
     "metadata": {
      "needs_background": "light"
     },
     "output_type": "display_data"
    }
   ],
   "source": [
    "new_df.plot(x='last_price', y='rooms', kind='scatter', grid=True, alpha=0.3, figsize=(7,5), title='Зависимость цены от количества комнат');"
   ]
  },
  {
   "cell_type": "code",
   "execution_count": 90,
   "metadata": {},
   "outputs": [
    {
     "name": "stdout",
     "output_type": "stream",
     "text": [
      "Коэффициент корреляции: 0.3968327352107628\n"
     ]
    }
   ],
   "source": [
    "print('Коэффициент корреляции:', new_df['last_price'].corr(df['rooms']))"
   ]
  },
  {
   "cell_type": "markdown",
   "metadata": {},
   "source": [
    "По диаграмме видно, что квартир, у котороых от 3 до 7 комнат, стоимость может быть выше, чем у остальных. Дальше этот показатель падает. Коэффициент корреляции также показывает не сильную связь между этими факторами. "
   ]
  },
  {
   "cell_type": "markdown",
   "metadata": {},
   "source": [
    "### 5.3 Цена/удаленность от центра города<a id=\"5.3id\"></a>"
   ]
  },
  {
   "cell_type": "code",
   "execution_count": 91,
   "metadata": {},
   "outputs": [
    {
     "data": {
      "image/png": "[encoded data removed]",
      "text/plain": [
       "<Figure size 504x360 with 1 Axes>"
      ]
     },
     "metadata": {
      "needs_background": "light"
     },
     "output_type": "display_data"
    }
   ],
   "source": [
    "new_df.plot(x='last_price', y='cityCenters_nearest', kind='scatter', grid=True, alpha=0.3, figsize=(7,5), title='Зависимость цены от дальности центра города');"
   ]
  },
  {
   "cell_type": "code",
   "execution_count": 92,
   "metadata": {},
   "outputs": [
    {
     "name": "stdout",
     "output_type": "stream",
     "text": [
      "Коэффициент корреляции: -0.18872589744480633\n"
     ]
    }
   ],
   "source": [
    "print('Коэффициент корреляции:', new_df['cityCenters_nearest'].corr(df['rooms']))"
   ]
  },
  {
   "cell_type": "markdown",
   "metadata": {},
   "source": [
    "Корреляция цен на квартиры от центра города отрицательная: чем меньше километров до центра, тем выше цена (квартиры в центре дороже квартир не в центре)."
   ]
  },
  {
   "cell_type": "markdown",
   "metadata": {},
   "source": [
    "### 5.4 Цена/этаж<a id=\"5.4id\"></a>"
   ]
  },
  {
   "cell_type": "code",
   "execution_count": 93,
   "metadata": {},
   "outputs": [
    {
     "data": {
      "image/png": "[encoded data removed]",
      "text/plain": [
       "<Figure size 432x288 with 1 Axes>"
      ]
     },
     "metadata": {
      "needs_background": "light"
     },
     "output_type": "display_data"
    }
   ],
   "source": [
    "(new_df.pivot_table(index='floor_category',values='last_price',aggfunc='median')\n",
    "       .plot(kind='bar')\n",
    "       .set_title('Зависимость цены от этажа'));"
   ]
  },
  {
   "cell_type": "code",
   "execution_count": 94,
   "metadata": {},
   "outputs": [
    {
     "name": "stdout",
     "output_type": "stream",
     "text": [
      "Коэффициент корреляции: 0.0265756432844708\n"
     ]
    }
   ],
   "source": [
    "print('Коэффициент корреляции:', df['last_price'].corr(df['floor']))"
   ]
  },
  {
   "cell_type": "markdown",
   "metadata": {},
   "source": [
    "Зависимость цены и этажа очень слабая. На диаграмме можем увидеть, что только первый этаж немного проседает в цене."
   ]
  },
  {
   "cell_type": "markdown",
   "metadata": {},
   "source": [
    "### 5.5 Цена/дата размещения<a id=\"5.5id\"></a>"
   ]
  },
  {
   "cell_type": "code",
   "execution_count": 95,
   "metadata": {},
   "outputs": [
    {
     "data": {
      "image/png": "[encoded data removed]",
      "text/plain": [
       "<Figure size 504x360 with 1 Axes>"
      ]
     },
     "metadata": {
      "needs_background": "light"
     },
     "output_type": "display_data"
    }
   ],
   "source": [
    "# зависимость цены от дня недели\n",
    "df.plot(x='last_price', y='weekday', kind='scatter', grid=True, alpha=0.3, figsize=(7,5), title='Зависимость цены от дня недели');"
   ]
  },
  {
   "cell_type": "code",
   "execution_count": 96,
   "metadata": {},
   "outputs": [
    {
     "data": {
      "image/png": "[encoded data removed]",
      "text/plain": [
       "<Figure size 504x360 with 1 Axes>"
      ]
     },
     "metadata": {
      "needs_background": "light"
     },
     "output_type": "display_data"
    }
   ],
   "source": [
    "# зависимость цены от месяца\n",
    "df.plot(x='last_price', y='month', kind='scatter', grid=True, alpha=0.3, figsize=(7,5), title='Зависимость цены от месяца');"
   ]
  },
  {
   "cell_type": "code",
   "execution_count": 97,
   "metadata": {},
   "outputs": [
    {
     "data": {
      "image/png": "[encoded data removed]",
      "text/plain": [
       "<Figure size 504x360 with 1 Axes>"
      ]
     },
     "metadata": {
      "needs_background": "light"
     },
     "output_type": "display_data"
    }
   ],
   "source": [
    "# зависимость цены от года\n",
    "df.plot(x='last_price', y='year', kind='scatter', grid=True, alpha=0.3, figsize=(7,5), title='Зависимость цены от года');"
   ]
  },
  {
   "cell_type": "code",
   "execution_count": 98,
   "metadata": {},
   "outputs": [
    {
     "name": "stdout",
     "output_type": "stream",
     "text": [
      "      last_price\n",
      "year            \n",
      "2014     7700000\n",
      "2015     5350000\n",
      "2016     4550000\n",
      "2017     4500000\n",
      "2018     4550000\n",
      "2019     5050000\n"
     ]
    }
   ],
   "source": [
    "print(df.pivot_table(index='year', values='last_price', aggfunc='median').round())"
   ]
  },
  {
   "cell_type": "markdown",
   "metadata": {},
   "source": [
    "### Вывод"
   ]
  },
  {
   "cell_type": "markdown",
   "metadata": {},
   "source": [
    "Проверив диаграммы по дням недели и месяцам зависимости цены от даты размещения, можно сказать, что если и есть корреляция, то она совсем небольшая. Данные по году немного отличаются. Здесь наблюдаются высокие цены в 2014 году. Судя из открытых источников, проект Я.Недвижимость запустился только в 2014 году. Вероятно, в начале было очень мало данных и сыграла случайность, что первыми пришли более дорогие квартиры."
   ]
  },
  {
   "cell_type": "markdown",
   "metadata": {},
   "source": [
    "## 6. Анализ среза с наибольшим количеством объявлений<a id=\"6id\"></a>"
   ]
  },
  {
   "cell_type": "markdown",
   "metadata": {},
   "source": [
    "Выберем 10 населённых пунктов с наибольшим числом объявлений. Посчитаем среднюю цену квадратного метра в этих населённых пунктах"
   ]
  },
  {
   "cell_type": "code",
   "execution_count": 99,
   "metadata": {},
   "outputs": [
    {
     "data": {
      "text/html": [
       "<div>\n",
       "<style scoped>\n",
       "    .dataframe tbody tr th:only-of-type {\n",
       "        vertical-align: middle;\n",
       "    }\n",
       "\n",
       "    .dataframe tbody tr th {\n",
       "        vertical-align: top;\n",
       "    }\n",
       "\n",
       "    .dataframe thead th {\n",
       "        text-align: right;\n",
       "    }\n",
       "</style>\n",
       "<table border=\"1\" class=\"dataframe\">\n",
       "  <thead>\n",
       "    <tr style=\"text-align: right;\">\n",
       "      <th></th>\n",
       "      <th>count</th>\n",
       "      <th>median</th>\n",
       "    </tr>\n",
       "    <tr>\n",
       "      <th>locality_name</th>\n",
       "      <th></th>\n",
       "      <th></th>\n",
       "    </tr>\n",
       "  </thead>\n",
       "  <tbody>\n",
       "    <tr>\n",
       "      <th>Санкт-Петербург</th>\n",
       "      <td>15721</td>\n",
       "      <td>105263.0</td>\n",
       "    </tr>\n",
       "    <tr>\n",
       "      <th>поселок Мурино</th>\n",
       "      <td>556</td>\n",
       "      <td>86410.5</td>\n",
       "    </tr>\n",
       "    <tr>\n",
       "      <th>поселок Шушары</th>\n",
       "      <td>440</td>\n",
       "      <td>77222.5</td>\n",
       "    </tr>\n",
       "    <tr>\n",
       "      <th>Всеволожск</th>\n",
       "      <td>398</td>\n",
       "      <td>65811.0</td>\n",
       "    </tr>\n",
       "    <tr>\n",
       "      <th>Пушкин</th>\n",
       "      <td>369</td>\n",
       "      <td>100000.0</td>\n",
       "    </tr>\n",
       "    <tr>\n",
       "      <th>Колпино</th>\n",
       "      <td>338</td>\n",
       "      <td>74861.0</td>\n",
       "    </tr>\n",
       "    <tr>\n",
       "      <th>поселок Парголово</th>\n",
       "      <td>327</td>\n",
       "      <td>92222.0</td>\n",
       "    </tr>\n",
       "    <tr>\n",
       "      <th>Гатчина</th>\n",
       "      <td>307</td>\n",
       "      <td>67924.0</td>\n",
       "    </tr>\n",
       "    <tr>\n",
       "      <th>деревня Кудрово</th>\n",
       "      <td>299</td>\n",
       "      <td>92647.0</td>\n",
       "    </tr>\n",
       "    <tr>\n",
       "      <th>Выборг</th>\n",
       "      <td>237</td>\n",
       "      <td>58333.0</td>\n",
       "    </tr>\n",
       "  </tbody>\n",
       "</table>\n",
       "</div>"
      ],
      "text/plain": [
       "                   count    median\n",
       "locality_name                     \n",
       "Санкт-Петербург    15721  105263.0\n",
       "поселок Мурино       556   86410.5\n",
       "поселок Шушары       440   77222.5\n",
       "Всеволожск           398   65811.0\n",
       "Пушкин               369  100000.0\n",
       "Колпино              338   74861.0\n",
       "поселок Парголово    327   92222.0\n",
       "Гатчина              307   67924.0\n",
       "деревня Кудрово      299   92647.0\n",
       "Выборг               237   58333.0"
      ]
     },
     "execution_count": 99,
     "metadata": {},
     "output_type": "execute_result"
    }
   ],
   "source": [
    "top_10=df.pivot_table(index='locality_name',values='price_per_meter',aggfunc=('count','median'))\n",
    "top_10.sort_values(by='count',ascending=False).head(10)"
   ]
  },
  {
   "cell_type": "markdown",
   "metadata": {},
   "source": [
    "### Вывод"
   ]
  },
  {
   "cell_type": "markdown",
   "metadata": {},
   "source": [
    "Мы вывели то 10 населенных пунктов с наибольшим количеством объявлений. Посчитали среднюю стоимость за кв.метр\n",
    "Самая высокая стоимость жилья за кв. метр в Санкт-Петербурге. А самая низкая - в Выборге"
   ]
  },
  {
   "cell_type": "markdown",
   "metadata": {},
   "source": [
    "## 7. Анализ квартир в Санкт-Петербурге<a id=\"7id\"></a>"
   ]
  },
  {
   "cell_type": "markdown",
   "metadata": {},
   "source": [
    "Выделим квартиры в Сантк-Петербурге и определим, как область входит в центр"
   ]
  },
  {
   "cell_type": "code",
   "execution_count": 100,
   "metadata": {},
   "outputs": [
    {
     "data": {
      "text/html": [
       "<div>\n",
       "<style scoped>\n",
       "    .dataframe tbody tr th:only-of-type {\n",
       "        vertical-align: middle;\n",
       "    }\n",
       "\n",
       "    .dataframe tbody tr th {\n",
       "        vertical-align: top;\n",
       "    }\n",
       "\n",
       "    .dataframe thead th {\n",
       "        text-align: right;\n",
       "    }\n",
       "</style>\n",
       "<table border=\"1\" class=\"dataframe\">\n",
       "  <thead>\n",
       "    <tr style=\"text-align: right;\">\n",
       "      <th></th>\n",
       "      <th>total_images</th>\n",
       "      <th>last_price</th>\n",
       "      <th>total_area</th>\n",
       "      <th>first_day_exposition</th>\n",
       "      <th>rooms</th>\n",
       "      <th>ceiling_height</th>\n",
       "      <th>floors_total</th>\n",
       "      <th>living_area</th>\n",
       "      <th>floor</th>\n",
       "      <th>is_apartment</th>\n",
       "      <th>...</th>\n",
       "      <th>ponds_around3000</th>\n",
       "      <th>ponds_nearest</th>\n",
       "      <th>days_exposition</th>\n",
       "      <th>price_per_meter</th>\n",
       "      <th>weekday</th>\n",
       "      <th>month</th>\n",
       "      <th>year</th>\n",
       "      <th>floor_category</th>\n",
       "      <th>living_area_ratio</th>\n",
       "      <th>kitchen_area_ratio</th>\n",
       "    </tr>\n",
       "  </thead>\n",
       "  <tbody>\n",
       "    <tr>\n",
       "      <th>0</th>\n",
       "      <td>2</td>\n",
       "      <td>10000000</td>\n",
       "      <td>100</td>\n",
       "      <td>2018-06-19</td>\n",
       "      <td>2</td>\n",
       "      <td>3.03</td>\n",
       "      <td>14.0</td>\n",
       "      <td>32</td>\n",
       "      <td>13</td>\n",
       "      <td>NaN</td>\n",
       "      <td>...</td>\n",
       "      <td>1</td>\n",
       "      <td>48.0</td>\n",
       "      <td>121</td>\n",
       "      <td>100000</td>\n",
       "      <td>вторник</td>\n",
       "      <td>июнь</td>\n",
       "      <td>2018</td>\n",
       "      <td>другой</td>\n",
       "      <td>0.3</td>\n",
       "      <td>0.410000</td>\n",
       "    </tr>\n",
       "    <tr>\n",
       "      <th>1</th>\n",
       "      <td>18</td>\n",
       "      <td>5400000</td>\n",
       "      <td>61</td>\n",
       "      <td>2017-02-26</td>\n",
       "      <td>3</td>\n",
       "      <td>2.50</td>\n",
       "      <td>9.0</td>\n",
       "      <td>43</td>\n",
       "      <td>7</td>\n",
       "      <td>NaN</td>\n",
       "      <td>...</td>\n",
       "      <td>0</td>\n",
       "      <td>NaN</td>\n",
       "      <td>289</td>\n",
       "      <td>88524</td>\n",
       "      <td>воскресенье</td>\n",
       "      <td>февраль</td>\n",
       "      <td>2017</td>\n",
       "      <td>другой</td>\n",
       "      <td>0.7</td>\n",
       "      <td>0.106557</td>\n",
       "    </tr>\n",
       "    <tr>\n",
       "      <th>2</th>\n",
       "      <td>5</td>\n",
       "      <td>5050000</td>\n",
       "      <td>39</td>\n",
       "      <td>2017-11-16</td>\n",
       "      <td>1</td>\n",
       "      <td>2.67</td>\n",
       "      <td>12.0</td>\n",
       "      <td>20</td>\n",
       "      <td>3</td>\n",
       "      <td>NaN</td>\n",
       "      <td>...</td>\n",
       "      <td>2</td>\n",
       "      <td>553.0</td>\n",
       "      <td>137</td>\n",
       "      <td>129487</td>\n",
       "      <td>четверг</td>\n",
       "      <td>ноябрь</td>\n",
       "      <td>2017</td>\n",
       "      <td>другой</td>\n",
       "      <td>0.5</td>\n",
       "      <td>0.217949</td>\n",
       "    </tr>\n",
       "    <tr>\n",
       "      <th>3</th>\n",
       "      <td>11</td>\n",
       "      <td>6700000</td>\n",
       "      <td>82</td>\n",
       "      <td>2017-11-23</td>\n",
       "      <td>3</td>\n",
       "      <td>3.05</td>\n",
       "      <td>5.0</td>\n",
       "      <td>55</td>\n",
       "      <td>1</td>\n",
       "      <td>NaN</td>\n",
       "      <td>...</td>\n",
       "      <td>0</td>\n",
       "      <td>NaN</td>\n",
       "      <td>397</td>\n",
       "      <td>81707</td>\n",
       "      <td>четверг</td>\n",
       "      <td>ноябрь</td>\n",
       "      <td>2017</td>\n",
       "      <td>первый</td>\n",
       "      <td>0.7</td>\n",
       "      <td>0.109756</td>\n",
       "    </tr>\n",
       "    <tr>\n",
       "      <th>4</th>\n",
       "      <td>8</td>\n",
       "      <td>3250000</td>\n",
       "      <td>31</td>\n",
       "      <td>2017-01-27</td>\n",
       "      <td>1</td>\n",
       "      <td>2.50</td>\n",
       "      <td>5.0</td>\n",
       "      <td>19</td>\n",
       "      <td>2</td>\n",
       "      <td>NaN</td>\n",
       "      <td>...</td>\n",
       "      <td>0</td>\n",
       "      <td>NaN</td>\n",
       "      <td>168</td>\n",
       "      <td>104838</td>\n",
       "      <td>пятница</td>\n",
       "      <td>январь</td>\n",
       "      <td>2017</td>\n",
       "      <td>другой</td>\n",
       "      <td>0.6</td>\n",
       "      <td>0.180645</td>\n",
       "    </tr>\n",
       "    <tr>\n",
       "      <th>5</th>\n",
       "      <td>16</td>\n",
       "      <td>14200000</td>\n",
       "      <td>121</td>\n",
       "      <td>2019-01-09</td>\n",
       "      <td>3</td>\n",
       "      <td>2.75</td>\n",
       "      <td>16.0</td>\n",
       "      <td>76</td>\n",
       "      <td>8</td>\n",
       "      <td>NaN</td>\n",
       "      <td>...</td>\n",
       "      <td>0</td>\n",
       "      <td>NaN</td>\n",
       "      <td>97</td>\n",
       "      <td>117355</td>\n",
       "      <td>среда</td>\n",
       "      <td>январь</td>\n",
       "      <td>2019</td>\n",
       "      <td>другой</td>\n",
       "      <td>0.6</td>\n",
       "      <td>0.099174</td>\n",
       "    </tr>\n",
       "    <tr>\n",
       "      <th>6</th>\n",
       "      <td>11</td>\n",
       "      <td>2950000</td>\n",
       "      <td>32</td>\n",
       "      <td>2016-10-29</td>\n",
       "      <td>1</td>\n",
       "      <td>2.60</td>\n",
       "      <td>9.0</td>\n",
       "      <td>17</td>\n",
       "      <td>9</td>\n",
       "      <td>NaN</td>\n",
       "      <td>...</td>\n",
       "      <td>1</td>\n",
       "      <td>190.0</td>\n",
       "      <td>615</td>\n",
       "      <td>92187</td>\n",
       "      <td>суббота</td>\n",
       "      <td>октябрь</td>\n",
       "      <td>2016</td>\n",
       "      <td>последний</td>\n",
       "      <td>0.5</td>\n",
       "      <td>0.190625</td>\n",
       "    </tr>\n",
       "    <tr>\n",
       "      <th>7</th>\n",
       "      <td>3</td>\n",
       "      <td>6800000</td>\n",
       "      <td>76</td>\n",
       "      <td>2015-10-01</td>\n",
       "      <td>2</td>\n",
       "      <td>2.75</td>\n",
       "      <td>23.0</td>\n",
       "      <td>39</td>\n",
       "      <td>18</td>\n",
       "      <td>False</td>\n",
       "      <td>...</td>\n",
       "      <td>1</td>\n",
       "      <td>564.0</td>\n",
       "      <td>300</td>\n",
       "      <td>89473</td>\n",
       "      <td>четверг</td>\n",
       "      <td>октябрь</td>\n",
       "      <td>2015</td>\n",
       "      <td>другой</td>\n",
       "      <td>0.5</td>\n",
       "      <td>0.197368</td>\n",
       "    </tr>\n",
       "    <tr>\n",
       "      <th>8</th>\n",
       "      <td>20</td>\n",
       "      <td>7100000</td>\n",
       "      <td>70</td>\n",
       "      <td>2017-05-12</td>\n",
       "      <td>3</td>\n",
       "      <td>2.60</td>\n",
       "      <td>17.0</td>\n",
       "      <td>49</td>\n",
       "      <td>11</td>\n",
       "      <td>NaN</td>\n",
       "      <td>...</td>\n",
       "      <td>1</td>\n",
       "      <td>779.0</td>\n",
       "      <td>151</td>\n",
       "      <td>101428</td>\n",
       "      <td>пятница</td>\n",
       "      <td>май</td>\n",
       "      <td>2017</td>\n",
       "      <td>другой</td>\n",
       "      <td>0.7</td>\n",
       "      <td>0.131429</td>\n",
       "    </tr>\n",
       "    <tr>\n",
       "      <th>9</th>\n",
       "      <td>8</td>\n",
       "      <td>7200000</td>\n",
       "      <td>67</td>\n",
       "      <td>2017-10-26</td>\n",
       "      <td>2</td>\n",
       "      <td>2.80</td>\n",
       "      <td>16.0</td>\n",
       "      <td>38</td>\n",
       "      <td>4</td>\n",
       "      <td>NaN</td>\n",
       "      <td>...</td>\n",
       "      <td>0</td>\n",
       "      <td>NaN</td>\n",
       "      <td>112</td>\n",
       "      <td>107462</td>\n",
       "      <td>четверг</td>\n",
       "      <td>октябрь</td>\n",
       "      <td>2017</td>\n",
       "      <td>другой</td>\n",
       "      <td>0.6</td>\n",
       "      <td>0.200000</td>\n",
       "    </tr>\n",
       "  </tbody>\n",
       "</table>\n",
       "<p>10 rows × 29 columns</p>\n",
       "</div>"
      ],
      "text/plain": [
       "   total_images  last_price  total_area first_day_exposition  rooms  \\\n",
       "0             2    10000000         100           2018-06-19      2   \n",
       "1            18     5400000          61           2017-02-26      3   \n",
       "2             5     5050000          39           2017-11-16      1   \n",
       "3            11     6700000          82           2017-11-23      3   \n",
       "4             8     3250000          31           2017-01-27      1   \n",
       "5            16    14200000         121           2019-01-09      3   \n",
       "6            11     2950000          32           2016-10-29      1   \n",
       "7             3     6800000          76           2015-10-01      2   \n",
       "8            20     7100000          70           2017-05-12      3   \n",
       "9             8     7200000          67           2017-10-26      2   \n",
       "\n",
       "   ceiling_height  floors_total  living_area  floor is_apartment  ...  \\\n",
       "0            3.03          14.0           32     13          NaN  ...   \n",
       "1            2.50           9.0           43      7          NaN  ...   \n",
       "2            2.67          12.0           20      3          NaN  ...   \n",
       "3            3.05           5.0           55      1          NaN  ...   \n",
       "4            2.50           5.0           19      2          NaN  ...   \n",
       "5            2.75          16.0           76      8          NaN  ...   \n",
       "6            2.60           9.0           17      9          NaN  ...   \n",
       "7            2.75          23.0           39     18        False  ...   \n",
       "8            2.60          17.0           49     11          NaN  ...   \n",
       "9            2.80          16.0           38      4          NaN  ...   \n",
       "\n",
       "   ponds_around3000  ponds_nearest  days_exposition  price_per_meter  \\\n",
       "0                 1           48.0              121           100000   \n",
       "1                 0            NaN              289            88524   \n",
       "2                 2          553.0              137           129487   \n",
       "3                 0            NaN              397            81707   \n",
       "4                 0            NaN              168           104838   \n",
       "5                 0            NaN               97           117355   \n",
       "6                 1          190.0              615            92187   \n",
       "7                 1          564.0              300            89473   \n",
       "8                 1          779.0              151           101428   \n",
       "9                 0            NaN              112           107462   \n",
       "\n",
       "       weekday    month  year  floor_category  living_area_ratio  \\\n",
       "0      вторник     июнь  2018          другой                0.3   \n",
       "1  воскресенье  февраль  2017          другой                0.7   \n",
       "2      четверг   ноябрь  2017          другой                0.5   \n",
       "3      четверг   ноябрь  2017          первый                0.7   \n",
       "4      пятница   январь  2017          другой                0.6   \n",
       "5        среда   январь  2019          другой                0.6   \n",
       "6      суббота  октябрь  2016       последний                0.5   \n",
       "7      четверг  октябрь  2015          другой                0.5   \n",
       "8      пятница      май  2017          другой                0.7   \n",
       "9      четверг  октябрь  2017          другой                0.6   \n",
       "\n",
       "   kitchen_area_ratio  \n",
       "0            0.410000  \n",
       "1            0.106557  \n",
       "2            0.217949  \n",
       "3            0.109756  \n",
       "4            0.180645  \n",
       "5            0.099174  \n",
       "6            0.190625  \n",
       "7            0.197368  \n",
       "8            0.131429  \n",
       "9            0.200000  \n",
       "\n",
       "[10 rows x 29 columns]"
      ]
     },
     "execution_count": 100,
     "metadata": {},
     "output_type": "execute_result"
    }
   ],
   "source": [
    "spb_flats = new_df.query('locality_name == \"Санкт-Петербург\"').reset_index(drop=True)\n",
    "spb_flats.head(10)"
   ]
  },
  {
   "cell_type": "markdown",
   "metadata": {},
   "source": [
    "Создадим столбец с расстоянием до центра в километрах, округлим до целых значений"
   ]
  },
  {
   "cell_type": "code",
   "execution_count": 101,
   "metadata": {},
   "outputs": [
    {
     "data": {
      "text/html": [
       "<div>\n",
       "<style scoped>\n",
       "    .dataframe tbody tr th:only-of-type {\n",
       "        vertical-align: middle;\n",
       "    }\n",
       "\n",
       "    .dataframe tbody tr th {\n",
       "        vertical-align: top;\n",
       "    }\n",
       "\n",
       "    .dataframe thead th {\n",
       "        text-align: right;\n",
       "    }\n",
       "</style>\n",
       "<table border=\"1\" class=\"dataframe\">\n",
       "  <thead>\n",
       "    <tr style=\"text-align: right;\">\n",
       "      <th></th>\n",
       "      <th>total_images</th>\n",
       "      <th>last_price</th>\n",
       "      <th>total_area</th>\n",
       "      <th>first_day_exposition</th>\n",
       "      <th>rooms</th>\n",
       "      <th>ceiling_height</th>\n",
       "      <th>floors_total</th>\n",
       "      <th>living_area</th>\n",
       "      <th>floor</th>\n",
       "      <th>is_apartment</th>\n",
       "      <th>...</th>\n",
       "      <th>ponds_nearest</th>\n",
       "      <th>days_exposition</th>\n",
       "      <th>price_per_meter</th>\n",
       "      <th>weekday</th>\n",
       "      <th>month</th>\n",
       "      <th>year</th>\n",
       "      <th>floor_category</th>\n",
       "      <th>living_area_ratio</th>\n",
       "      <th>kitchen_area_ratio</th>\n",
       "      <th>cityCenters_nearest_kms</th>\n",
       "    </tr>\n",
       "  </thead>\n",
       "  <tbody>\n",
       "    <tr>\n",
       "      <th>0</th>\n",
       "      <td>2</td>\n",
       "      <td>10000000</td>\n",
       "      <td>100</td>\n",
       "      <td>2018-06-19</td>\n",
       "      <td>2</td>\n",
       "      <td>3.03</td>\n",
       "      <td>14.0</td>\n",
       "      <td>32</td>\n",
       "      <td>13</td>\n",
       "      <td>NaN</td>\n",
       "      <td>...</td>\n",
       "      <td>48.0</td>\n",
       "      <td>121</td>\n",
       "      <td>100000</td>\n",
       "      <td>вторник</td>\n",
       "      <td>июнь</td>\n",
       "      <td>2018</td>\n",
       "      <td>другой</td>\n",
       "      <td>0.3</td>\n",
       "      <td>0.410000</td>\n",
       "      <td>8.0</td>\n",
       "    </tr>\n",
       "    <tr>\n",
       "      <th>1</th>\n",
       "      <td>18</td>\n",
       "      <td>5400000</td>\n",
       "      <td>61</td>\n",
       "      <td>2017-02-26</td>\n",
       "      <td>3</td>\n",
       "      <td>2.50</td>\n",
       "      <td>9.0</td>\n",
       "      <td>43</td>\n",
       "      <td>7</td>\n",
       "      <td>NaN</td>\n",
       "      <td>...</td>\n",
       "      <td>NaN</td>\n",
       "      <td>289</td>\n",
       "      <td>88524</td>\n",
       "      <td>воскресенье</td>\n",
       "      <td>февраль</td>\n",
       "      <td>2017</td>\n",
       "      <td>другой</td>\n",
       "      <td>0.7</td>\n",
       "      <td>0.106557</td>\n",
       "      <td>15.0</td>\n",
       "    </tr>\n",
       "    <tr>\n",
       "      <th>2</th>\n",
       "      <td>5</td>\n",
       "      <td>5050000</td>\n",
       "      <td>39</td>\n",
       "      <td>2017-11-16</td>\n",
       "      <td>1</td>\n",
       "      <td>2.67</td>\n",
       "      <td>12.0</td>\n",
       "      <td>20</td>\n",
       "      <td>3</td>\n",
       "      <td>NaN</td>\n",
       "      <td>...</td>\n",
       "      <td>553.0</td>\n",
       "      <td>137</td>\n",
       "      <td>129487</td>\n",
       "      <td>четверг</td>\n",
       "      <td>ноябрь</td>\n",
       "      <td>2017</td>\n",
       "      <td>другой</td>\n",
       "      <td>0.5</td>\n",
       "      <td>0.217949</td>\n",
       "      <td>14.0</td>\n",
       "    </tr>\n",
       "    <tr>\n",
       "      <th>3</th>\n",
       "      <td>11</td>\n",
       "      <td>6700000</td>\n",
       "      <td>82</td>\n",
       "      <td>2017-11-23</td>\n",
       "      <td>3</td>\n",
       "      <td>3.05</td>\n",
       "      <td>5.0</td>\n",
       "      <td>55</td>\n",
       "      <td>1</td>\n",
       "      <td>NaN</td>\n",
       "      <td>...</td>\n",
       "      <td>NaN</td>\n",
       "      <td>397</td>\n",
       "      <td>81707</td>\n",
       "      <td>четверг</td>\n",
       "      <td>ноябрь</td>\n",
       "      <td>2017</td>\n",
       "      <td>первый</td>\n",
       "      <td>0.7</td>\n",
       "      <td>0.109756</td>\n",
       "      <td>11.0</td>\n",
       "    </tr>\n",
       "    <tr>\n",
       "      <th>4</th>\n",
       "      <td>8</td>\n",
       "      <td>3250000</td>\n",
       "      <td>31</td>\n",
       "      <td>2017-01-27</td>\n",
       "      <td>1</td>\n",
       "      <td>2.50</td>\n",
       "      <td>5.0</td>\n",
       "      <td>19</td>\n",
       "      <td>2</td>\n",
       "      <td>NaN</td>\n",
       "      <td>...</td>\n",
       "      <td>NaN</td>\n",
       "      <td>168</td>\n",
       "      <td>104838</td>\n",
       "      <td>пятница</td>\n",
       "      <td>январь</td>\n",
       "      <td>2017</td>\n",
       "      <td>другой</td>\n",
       "      <td>0.6</td>\n",
       "      <td>0.180645</td>\n",
       "      <td>11.0</td>\n",
       "    </tr>\n",
       "    <tr>\n",
       "      <th>5</th>\n",
       "      <td>16</td>\n",
       "      <td>14200000</td>\n",
       "      <td>121</td>\n",
       "      <td>2019-01-09</td>\n",
       "      <td>3</td>\n",
       "      <td>2.75</td>\n",
       "      <td>16.0</td>\n",
       "      <td>76</td>\n",
       "      <td>8</td>\n",
       "      <td>NaN</td>\n",
       "      <td>...</td>\n",
       "      <td>NaN</td>\n",
       "      <td>97</td>\n",
       "      <td>117355</td>\n",
       "      <td>среда</td>\n",
       "      <td>январь</td>\n",
       "      <td>2019</td>\n",
       "      <td>другой</td>\n",
       "      <td>0.6</td>\n",
       "      <td>0.099174</td>\n",
       "      <td>13.0</td>\n",
       "    </tr>\n",
       "    <tr>\n",
       "      <th>6</th>\n",
       "      <td>11</td>\n",
       "      <td>2950000</td>\n",
       "      <td>32</td>\n",
       "      <td>2016-10-29</td>\n",
       "      <td>1</td>\n",
       "      <td>2.60</td>\n",
       "      <td>9.0</td>\n",
       "      <td>17</td>\n",
       "      <td>9</td>\n",
       "      <td>NaN</td>\n",
       "      <td>...</td>\n",
       "      <td>190.0</td>\n",
       "      <td>615</td>\n",
       "      <td>92187</td>\n",
       "      <td>суббота</td>\n",
       "      <td>октябрь</td>\n",
       "      <td>2016</td>\n",
       "      <td>последний</td>\n",
       "      <td>0.5</td>\n",
       "      <td>0.190625</td>\n",
       "      <td>14.0</td>\n",
       "    </tr>\n",
       "    <tr>\n",
       "      <th>7</th>\n",
       "      <td>3</td>\n",
       "      <td>6800000</td>\n",
       "      <td>76</td>\n",
       "      <td>2015-10-01</td>\n",
       "      <td>2</td>\n",
       "      <td>2.75</td>\n",
       "      <td>23.0</td>\n",
       "      <td>39</td>\n",
       "      <td>18</td>\n",
       "      <td>False</td>\n",
       "      <td>...</td>\n",
       "      <td>564.0</td>\n",
       "      <td>300</td>\n",
       "      <td>89473</td>\n",
       "      <td>четверг</td>\n",
       "      <td>октябрь</td>\n",
       "      <td>2015</td>\n",
       "      <td>другой</td>\n",
       "      <td>0.5</td>\n",
       "      <td>0.197368</td>\n",
       "      <td>15.0</td>\n",
       "    </tr>\n",
       "    <tr>\n",
       "      <th>8</th>\n",
       "      <td>20</td>\n",
       "      <td>7100000</td>\n",
       "      <td>70</td>\n",
       "      <td>2017-05-12</td>\n",
       "      <td>3</td>\n",
       "      <td>2.60</td>\n",
       "      <td>17.0</td>\n",
       "      <td>49</td>\n",
       "      <td>11</td>\n",
       "      <td>NaN</td>\n",
       "      <td>...</td>\n",
       "      <td>779.0</td>\n",
       "      <td>151</td>\n",
       "      <td>101428</td>\n",
       "      <td>пятница</td>\n",
       "      <td>май</td>\n",
       "      <td>2017</td>\n",
       "      <td>другой</td>\n",
       "      <td>0.7</td>\n",
       "      <td>0.131429</td>\n",
       "      <td>11.0</td>\n",
       "    </tr>\n",
       "    <tr>\n",
       "      <th>9</th>\n",
       "      <td>8</td>\n",
       "      <td>7200000</td>\n",
       "      <td>67</td>\n",
       "      <td>2017-10-26</td>\n",
       "      <td>2</td>\n",
       "      <td>2.80</td>\n",
       "      <td>16.0</td>\n",
       "      <td>38</td>\n",
       "      <td>4</td>\n",
       "      <td>NaN</td>\n",
       "      <td>...</td>\n",
       "      <td>NaN</td>\n",
       "      <td>112</td>\n",
       "      <td>107462</td>\n",
       "      <td>четверг</td>\n",
       "      <td>октябрь</td>\n",
       "      <td>2017</td>\n",
       "      <td>другой</td>\n",
       "      <td>0.6</td>\n",
       "      <td>0.200000</td>\n",
       "      <td>13.0</td>\n",
       "    </tr>\n",
       "  </tbody>\n",
       "</table>\n",
       "<p>10 rows × 30 columns</p>\n",
       "</div>"
      ],
      "text/plain": [
       "   total_images  last_price  total_area first_day_exposition  rooms  \\\n",
       "0             2    10000000         100           2018-06-19      2   \n",
       "1            18     5400000          61           2017-02-26      3   \n",
       "2             5     5050000          39           2017-11-16      1   \n",
       "3            11     6700000          82           2017-11-23      3   \n",
       "4             8     3250000          31           2017-01-27      1   \n",
       "5            16    14200000         121           2019-01-09      3   \n",
       "6            11     2950000          32           2016-10-29      1   \n",
       "7             3     6800000          76           2015-10-01      2   \n",
       "8            20     7100000          70           2017-05-12      3   \n",
       "9             8     7200000          67           2017-10-26      2   \n",
       "\n",
       "   ceiling_height  floors_total  living_area  floor is_apartment  ...  \\\n",
       "0            3.03          14.0           32     13          NaN  ...   \n",
       "1            2.50           9.0           43      7          NaN  ...   \n",
       "2            2.67          12.0           20      3          NaN  ...   \n",
       "3            3.05           5.0           55      1          NaN  ...   \n",
       "4            2.50           5.0           19      2          NaN  ...   \n",
       "5            2.75          16.0           76      8          NaN  ...   \n",
       "6            2.60           9.0           17      9          NaN  ...   \n",
       "7            2.75          23.0           39     18        False  ...   \n",
       "8            2.60          17.0           49     11          NaN  ...   \n",
       "9            2.80          16.0           38      4          NaN  ...   \n",
       "\n",
       "   ponds_nearest  days_exposition  price_per_meter      weekday    month  \\\n",
       "0           48.0              121           100000      вторник     июнь   \n",
       "1            NaN              289            88524  воскресенье  февраль   \n",
       "2          553.0              137           129487      четверг   ноябрь   \n",
       "3            NaN              397            81707      четверг   ноябрь   \n",
       "4            NaN              168           104838      пятница   январь   \n",
       "5            NaN               97           117355        среда   январь   \n",
       "6          190.0              615            92187      суббота  октябрь   \n",
       "7          564.0              300            89473      четверг  октябрь   \n",
       "8          779.0              151           101428      пятница      май   \n",
       "9            NaN              112           107462      четверг  октябрь   \n",
       "\n",
       "   year  floor_category  living_area_ratio  kitchen_area_ratio  \\\n",
       "0  2018          другой                0.3            0.410000   \n",
       "1  2017          другой                0.7            0.106557   \n",
       "2  2017          другой                0.5            0.217949   \n",
       "3  2017          первый                0.7            0.109756   \n",
       "4  2017          другой                0.6            0.180645   \n",
       "5  2019          другой                0.6            0.099174   \n",
       "6  2016       последний                0.5            0.190625   \n",
       "7  2015          другой                0.5            0.197368   \n",
       "8  2017          другой                0.7            0.131429   \n",
       "9  2017          другой                0.6            0.200000   \n",
       "\n",
       "   cityCenters_nearest_kms  \n",
       "0                      8.0  \n",
       "1                     15.0  \n",
       "2                     14.0  \n",
       "3                     11.0  \n",
       "4                     11.0  \n",
       "5                     13.0  \n",
       "6                     14.0  \n",
       "7                     15.0  \n",
       "8                     11.0  \n",
       "9                     13.0  \n",
       "\n",
       "[10 rows x 30 columns]"
      ]
     },
     "execution_count": 101,
     "metadata": {},
     "output_type": "execute_result"
    }
   ],
   "source": [
    "spb_flats['cityCenters_nearest_kms'] = (spb_flats['cityCenters_nearest']/1000).round()\n",
    "spb_flats.head(10)"
   ]
  },
  {
   "cell_type": "markdown",
   "metadata": {},
   "source": [
    "Строим график средней стоимости за каждый километр"
   ]
  },
  {
   "cell_type": "code",
   "execution_count": 102,
   "metadata": {},
   "outputs": [
    {
     "data": {
      "image/png": "[encoded data removed]",
      "text/plain": [
       "<Figure size 720x360 with 1 Axes>"
      ]
     },
     "metadata": {
      "needs_background": "light"
     },
     "output_type": "display_data"
    }
   ],
   "source": [
    "(\n",
    "    spb_flats\n",
    "    .pivot_table(index='cityCenters_nearest_kms', values='last_price')\n",
    "    .plot(grid=True, style='o-', xlim=(0,30), figsize=(10, 5), title='Средяя стоимость за км')\n",
    ")\n",
    "plt.show()"
   ]
  },
  {
   "cell_type": "markdown",
   "metadata": {},
   "source": [
    "В самом центре, от 0 до примерно 3 км от центра, цены достигают пика, а потом резко падают. Затем примерно от 3 км до 7 цены снова вырастают. Вероятно, это связано с неоднородностью \"центра\". Обозначим центр города в радиусе до 7 км"
   ]
  },
  {
   "cell_type": "markdown",
   "metadata": {},
   "source": [
    "## 8. Анализ центральной части города<a id=\"8id\"></a>"
   ]
  },
  {
   "cell_type": "markdown",
   "metadata": {},
   "source": [
    "Сделаем срез квартир, которые находятся в радиусе 7 км от центра и проанализируем по следующим параметрам: площадь, цена, число комнат, высота потолков"
   ]
  },
  {
   "cell_type": "code",
   "execution_count": 103,
   "metadata": {},
   "outputs": [],
   "source": [
    "spb_flats_center = spb_flats.query('cityCenters_nearest_kms <= 7').reset_index(drop=True)"
   ]
  },
  {
   "cell_type": "code",
   "execution_count": 104,
   "metadata": {},
   "outputs": [
    {
     "data": {
      "text/html": [
       "<div>\n",
       "<style scoped>\n",
       "    .dataframe tbody tr th:only-of-type {\n",
       "        vertical-align: middle;\n",
       "    }\n",
       "\n",
       "    .dataframe tbody tr th {\n",
       "        vertical-align: top;\n",
       "    }\n",
       "\n",
       "    .dataframe thead th {\n",
       "        text-align: right;\n",
       "    }\n",
       "</style>\n",
       "<table border=\"1\" class=\"dataframe\">\n",
       "  <thead>\n",
       "    <tr style=\"text-align: right;\">\n",
       "      <th></th>\n",
       "      <th>total_area</th>\n",
       "      <th>last_price</th>\n",
       "      <th>rooms</th>\n",
       "      <th>ceiling_height</th>\n",
       "    </tr>\n",
       "  </thead>\n",
       "  <tbody>\n",
       "    <tr>\n",
       "      <th>count</th>\n",
       "      <td>1632.0</td>\n",
       "      <td>1632.0</td>\n",
       "      <td>1632.0</td>\n",
       "      <td>1632.0</td>\n",
       "    </tr>\n",
       "    <tr>\n",
       "      <th>mean</th>\n",
       "      <td>92.0</td>\n",
       "      <td>14262462.0</td>\n",
       "      <td>3.0</td>\n",
       "      <td>3.0</td>\n",
       "    </tr>\n",
       "    <tr>\n",
       "      <th>std</th>\n",
       "      <td>59.0</td>\n",
       "      <td>21032765.0</td>\n",
       "      <td>1.0</td>\n",
       "      <td>0.0</td>\n",
       "    </tr>\n",
       "    <tr>\n",
       "      <th>min</th>\n",
       "      <td>12.0</td>\n",
       "      <td>1600000.0</td>\n",
       "      <td>0.0</td>\n",
       "      <td>2.0</td>\n",
       "    </tr>\n",
       "    <tr>\n",
       "      <th>25%</th>\n",
       "      <td>56.0</td>\n",
       "      <td>6500000.0</td>\n",
       "      <td>2.0</td>\n",
       "      <td>3.0</td>\n",
       "    </tr>\n",
       "    <tr>\n",
       "      <th>50%</th>\n",
       "      <td>77.0</td>\n",
       "      <td>8772500.0</td>\n",
       "      <td>3.0</td>\n",
       "      <td>3.0</td>\n",
       "    </tr>\n",
       "    <tr>\n",
       "      <th>75%</th>\n",
       "      <td>108.0</td>\n",
       "      <td>13457500.0</td>\n",
       "      <td>3.0</td>\n",
       "      <td>3.0</td>\n",
       "    </tr>\n",
       "    <tr>\n",
       "      <th>max</th>\n",
       "      <td>618.0</td>\n",
       "      <td>330000000.0</td>\n",
       "      <td>11.0</td>\n",
       "      <td>5.0</td>\n",
       "    </tr>\n",
       "  </tbody>\n",
       "</table>\n",
       "</div>"
      ],
      "text/plain": [
       "       total_area   last_price   rooms  ceiling_height\n",
       "count      1632.0       1632.0  1632.0          1632.0\n",
       "mean         92.0   14262462.0     3.0             3.0\n",
       "std          59.0   21032765.0     1.0             0.0\n",
       "min          12.0    1600000.0     0.0             2.0\n",
       "25%          56.0    6500000.0     2.0             3.0\n",
       "50%          77.0    8772500.0     3.0             3.0\n",
       "75%         108.0   13457500.0     3.0             3.0\n",
       "max         618.0  330000000.0    11.0             5.0"
      ]
     },
     "execution_count": 104,
     "metadata": {},
     "output_type": "execute_result"
    }
   ],
   "source": [
    "spb_flats_center[['total_area', 'last_price', 'rooms', 'ceiling_height']].describe().round()"
   ]
  },
  {
   "cell_type": "markdown",
   "metadata": {},
   "source": [
    "В центральном районе Санкт-Петербурга 3525 квартир, которые ждут своего покупателя. Минимальная стоимость квартиры составляет 1 600 000 рублей. Максимальная - 763 миллионов. Достаточно большой разброс."
   ]
  },
  {
   "cell_type": "code",
   "execution_count": 105,
   "metadata": {},
   "outputs": [
    {
     "name": "stdout",
     "output_type": "stream",
     "text": [
      "Медианная площадь в городе: 54\n",
      "Медианная площадь в центре: 77\n",
      "Средняя площадь в городе: 63\n",
      "Средняя площадь в ценре: 92\n"
     ]
    },
    {
     "data": {
      "image/png": "[encoded data removed]",
      "text/plain": [
       "<Figure size 504x504 with 1 Axes>"
      ]
     },
     "metadata": {
      "needs_background": "light"
     },
     "output_type": "display_data"
    }
   ],
   "source": [
    "# Изучим площадь\n",
    "\n",
    "print('Медианная площадь в городе:', round(new_df.query('locality_name == \"Санкт-Петербург\"')['total_area'].median()))\n",
    "print('Медианная площадь в центре:', round(spb_flats_center['total_area'].median()))\n",
    "print('Средняя площадь в городе:', round(new_df.query('locality_name == \"Санкт-Петербург\"')['total_area'].mean()))\n",
    "print('Средняя площадь в ценре:', round(spb_flats_center['total_area'].mean()))\n",
    "spb_flats_center['total_area'].hist(bins=30, range=(25,350), figsize=(7,7))\n",
    "plt.show()"
   ]
  },
  {
   "cell_type": "code",
   "execution_count": 106,
   "metadata": {},
   "outputs": [
    {
     "name": "stdout",
     "output_type": "stream",
     "text": [
      "Средняя цена по городу: 7681884\n",
      "Средняя цена по центру: 14262462\n",
      "Медианная цена по городу: 5400000\n",
      "Медианная цена по центру: 8772500\n"
     ]
    },
    {
     "data": {
      "image/png": "[encoded data removed]",
      "text/plain": [
       "<Figure size 504x504 with 1 Axes>"
      ]
     },
     "metadata": {
      "needs_background": "light"
     },
     "output_type": "display_data"
    }
   ],
   "source": [
    "# проверяем цену\n",
    "\n",
    "spb_flats_center['last_price'].hist(bins=70, figsize=(7,7))\n",
    "print('Средняя цена по городу:', round(new_df.query('locality_name == \"Санкт-Петербург\"')['last_price'].mean()))\n",
    "print('Средняя цена по центру:', round(spb_flats_center['last_price'].mean()))\n",
    "print('Медианная цена по городу:', round(new_df.query('locality_name == \"Санкт-Петербург\"')['last_price'].median()))\n",
    "print('Медианная цена по центру:', round(spb_flats_center['last_price'].median()))\n",
    "plt.show()"
   ]
  },
  {
   "cell_type": "code",
   "execution_count": 107,
   "metadata": {},
   "outputs": [
    {
     "name": "stdout",
     "output_type": "stream",
     "text": [
      "Среднее количество комнат по городу: 2\n",
      "Среднее количество комнат по ценру: 3\n"
     ]
    },
    {
     "data": {
      "image/png": "[encoded data removed]",
      "text/plain": [
       "<Figure size 504x504 with 1 Axes>"
      ]
     },
     "metadata": {
      "needs_background": "light"
     },
     "output_type": "display_data"
    }
   ],
   "source": [
    "# считаем комнаты\n",
    "\n",
    "spb_flats_center['rooms'].hist(bins=70, figsize=(7,7))\n",
    "print('Среднее количество комнат по городу:', round(new_df['rooms'].mean()))\n",
    "print('Среднее количество комнат по ценру:', round(spb_flats_center['rooms'].mean()))\n",
    "plt.show()"
   ]
  },
  {
   "cell_type": "code",
   "execution_count": 108,
   "metadata": {},
   "outputs": [
    {
     "name": "stdout",
     "output_type": "stream",
     "text": [
      "Медианная высота потолков по городу: 2.7\n",
      "Медианная высота потолков по центру: 3.0\n",
      "Средняя высота потолков по городу: 2.751075114304377\n",
      "Средняя высота потолков по центру: 3.080508578431372\n"
     ]
    },
    {
     "data": {
      "image/png": "[encoded data removed]",
      "text/plain": [
       "<Figure size 504x504 with 1 Axes>"
      ]
     },
     "metadata": {
      "needs_background": "light"
     },
     "output_type": "display_data"
    }
   ],
   "source": [
    "# высота потолков\n",
    "\n",
    "spb_flats_center['ceiling_height'].hist(bins=70, figsize=(7,7))\n",
    "print('Медианная высота потолков по городу:', new_df.query('locality_name == \"Санкт-Петербург\"')['ceiling_height'].median())\n",
    "print('Медианная высота потолков по центру:', spb_flats_center['ceiling_height'].median())\n",
    "print('Средняя высота потолков по городу:', new_df.query('locality_name == \"Санкт-Петербург\"')['ceiling_height'].mean())\n",
    "print('Средняя высота потолков по центру:', spb_flats_center['ceiling_height'].mean())\n",
    "plt.show()"
   ]
  },
  {
   "cell_type": "markdown",
   "metadata": {},
   "source": [
    "### Вывод"
   ]
  },
  {
   "cell_type": "markdown",
   "metadata": {},
   "source": [
    "Средние показатели площади, цены, числа комнат, высоты потолков центральной части города сильно отличаются от остальной."
   ]
  },
  {
   "cell_type": "markdown",
   "metadata": {},
   "source": [
    "### 9. Факторы влиящие на стоимость квартир в центре <a id=\"9id\"></a>"
   ]
  },
  {
   "cell_type": "markdown",
   "metadata": {},
   "source": [
    "Выдели факторы, влияющие на цену (число комнат, этаж, удалённость от центра, дата размещения объявления), а также сравним их с общими выводами по городу."
   ]
  },
  {
   "cell_type": "code",
   "execution_count": 109,
   "metadata": {},
   "outputs": [
    {
     "data": {
      "image/png": "[encoded data removed]",
      "text/plain": [
       "<Figure size 720x360 with 1 Axes>"
      ]
     },
     "metadata": {
      "needs_background": "light"
     },
     "output_type": "display_data"
    },
    {
     "name": "stdout",
     "output_type": "stream",
     "text": [
      "Коэффициент корреляции: 0.6912737736966474\n"
     ]
    }
   ],
   "source": [
    "# влияние числа комнат на цену\n",
    "\n",
    "(spb_flats_center\n",
    "     .sort_values(by='last_price',ascending=True)\n",
    "     .groupby('rooms')['last_price'].median()\n",
    "     .plot(x='rooms',y='last_price',style='o-',grid=True,figsize=(10,5),legend=True)\n",
    ").set_title('Зависимость цены от числа комнат')\n",
    "\n",
    "(new_df\n",
    "     .groupby('rooms')['last_price'].median()\n",
    "     .plot(x='rooms',y='last_price',style='o-',grid=True,figsize=(10,5),legend=True)\n",
    ")\n",
    "plt.show()\n",
    "\n",
    "print('Коэффициент корреляции:', spb_flats_center['last_price'].corr(spb_flats_center['total_area']))"
   ]
  },
  {
   "cell_type": "markdown",
   "metadata": {},
   "source": [
    "Судя по графику, стоимость цены на квартиры растет пропорционально количеству комнат. В центре цены выше, чем в общем по городу. После отметки в 7 комнат графики меняются местами. Возможно, загородом есть дома и коттеджи, где количество комнат превышает средние показатели по городу. Стоимость тоже сильно возрастает."
   ]
  },
  {
   "cell_type": "code",
   "execution_count": 110,
   "metadata": {},
   "outputs": [
    {
     "data": {
      "image/png": "[encoded data removed]",
      "text/plain": [
       "<Figure size 432x288 with 1 Axes>"
      ]
     },
     "metadata": {
      "needs_background": "light"
     },
     "output_type": "display_data"
    },
    {
     "name": "stdout",
     "output_type": "stream",
     "text": [
      "Коэффициент корреляции: 0.034655346838006314\n"
     ]
    }
   ],
   "source": [
    "# влияние этажа\n",
    "\n",
    "(spb_flats_center\n",
    "    .groupby('floor_category')['last_price'].median()\n",
    "    .plot(x='floor_category',y='last_price',style='o-',legend=True)\n",
    ").set_title('Зависимость цены от этажа')\n",
    "\n",
    "\n",
    "(new_df\n",
    "    .groupby('floor_category')['last_price'].median()\n",
    "    .plot(x='floor_category',y='last_price',style='o-',legend=True)\n",
    ")\n",
    "\n",
    "plt.show()\n",
    "\n",
    "print('Коэффициент корреляции:', spb_flats_center['last_price'].corr(spb_flats_center['total_area'].value_counts()))"
   ]
  },
  {
   "cell_type": "markdown",
   "metadata": {},
   "source": [
    "Этажи на первом этаже покупают меньше, чем на остальных. Оба графика показывают примерно одинаковую картину. Стоимость в центре выше"
   ]
  },
  {
   "cell_type": "code",
   "execution_count": 111,
   "metadata": {},
   "outputs": [
    {
     "data": {
      "image/png": "[encoded data removed]",
      "text/plain": [
       "<Figure size 432x288 with 1 Axes>"
      ]
     },
     "metadata": {
      "needs_background": "light"
     },
     "output_type": "display_data"
    },
    {
     "name": "stdout",
     "output_type": "stream",
     "text": [
      "Коэффициент корреляции: -0.04719499724075366\n"
     ]
    }
   ],
   "source": [
    "# влияние удаленности от центра\n",
    "\n",
    "(spb_flats_center\n",
    "     .groupby('cityCenters_nearest')['last_price'].median()\n",
    "     .plot(x='cityCenters_nearest',y='last_price',style='o-',  legend=True)\n",
    ").set_title('Зависимость цены от удаленности от центра')\n",
    "\n",
    "(new_df\n",
    "     .groupby('cityCenters_nearest')['last_price'].median()\n",
    "     .plot(x='cityCenters_nearest',y='last_price',style='o-',alpha=0.3, legend=True)\n",
    ")\n",
    "\n",
    "plt.show()\n",
    "\n",
    "print('Коэффициент корреляции:', spb_flats_center['last_price'].corr(spb_flats_center['cityCenters_nearest']))"
   ]
  },
  {
   "cell_type": "markdown",
   "metadata": {},
   "source": [
    "Оба графика говорят, что, как правило, чем ближе к центру, тем стоимость квартиры выше. Стоимость квартир в центре напорядок выше"
   ]
  },
  {
   "cell_type": "code",
   "execution_count": 112,
   "metadata": {},
   "outputs": [
    {
     "data": {
      "image/png": "[encoded data removed]",
      "text/plain": [
       "<Figure size 720x360 with 1 Axes>"
      ]
     },
     "metadata": {
      "needs_background": "light"
     },
     "output_type": "display_data"
    }
   ],
   "source": [
    "# влияние дня недели \n",
    "\n",
    "(spb_flats_center\n",
    "     .groupby('weekday')['last_price'].count()\n",
    "     .plot(x='weekday',y='last_price',style='o-', figsize=(10,5), legend=True)\n",
    ").set_title('Зависимость цены от размещения по дню недели')\n",
    " \n",
    "(new_df\n",
    "     .groupby('weekday')['last_price'].count()\n",
    "     .plot(x='weekday',y='last_price',style='o-', legend=True)\n",
    "\n",
    " )\n",
    "\n",
    "plt.show()\n",
    "\n"
   ]
  },
  {
   "cell_type": "markdown",
   "metadata": {},
   "source": [
    "Сложно проследить определенную зависимость. График продаж квартир в центре достаточно отнороден. По всему городу - в субботу и воскресенье покупательская активность ниже"
   ]
  },
  {
   "cell_type": "code",
   "execution_count": 113,
   "metadata": {},
   "outputs": [
    {
     "data": {
      "image/png": "[encoded data removed]",
      "text/plain": [
       "<Figure size 720x360 with 1 Axes>"
      ]
     },
     "metadata": {
      "needs_background": "light"
     },
     "output_type": "display_data"
    }
   ],
   "source": [
    "# влияние месяца \n",
    "\n",
    "(spb_flats_center\n",
    "     .groupby('month')['last_price'].count()\n",
    "     .plot(x='month',y='last_price',style='o-', figsize=(10,5), legend=True)\n",
    ").set_title('Зависимость цены от размещения по месяцу')\n",
    " \n",
    "(new_df\n",
    "     .groupby('month')['last_price'].count()\n",
    "     .plot(x='month',y='last_price',style='o-', legend=True)\n",
    "\n",
    " )\n",
    "\n",
    "plt.show()\n",
    "\n"
   ]
  },
  {
   "cell_type": "markdown",
   "metadata": {},
   "source": [
    "По месяцам ситуация примерно похожая. Сегмент квартир в центре не сильно засит от месяца продаж. Ситуация по всему городу отличается: есть пиковые месяцы и месяцы спада покупательской активости"
   ]
  },
  {
   "cell_type": "code",
   "execution_count": 114,
   "metadata": {},
   "outputs": [
    {
     "data": {
      "image/png": "[encoded data removed]",
      "text/plain": [
       "<Figure size 720x360 with 1 Axes>"
      ]
     },
     "metadata": {
      "needs_background": "light"
     },
     "output_type": "display_data"
    }
   ],
   "source": [
    "# влияние года\n",
    "\n",
    "(spb_flats_center\n",
    "     .groupby('year')['last_price'].count()\n",
    "     .plot(x='year',y='last_price',style='o-', figsize=(10,5), legend=True)\n",
    ").set_title('Зависимость цены от размещения по году')\n",
    " \n",
    "(new_df\n",
    "     .groupby('year')['last_price'].count()\n",
    "     .plot(x='year',y='last_price',style='o-', legend=True)\n",
    "\n",
    " )\n",
    "\n",
    "plt.show()"
   ]
  },
  {
   "cell_type": "markdown",
   "metadata": {},
   "source": [
    "Пик продажи квартир приходится на период со второй половины 2017 года по 2018 год."
   ]
  },
  {
   "cell_type": "markdown",
   "metadata": {},
   "source": [
    "## Общий вывод<a id=\"10id\"></a>"
   ]
  },
  {
   "cell_type": "markdown",
   "metadata": {},
   "source": [
    "Мы проанализировали жилищный фонд Санкт-Петербурга (его центральной части и переферии), а также ближайших к нему населенных пунктов. В ходе исследования посчитали цену квадратного метра предлагаемых на портале квартир, смогли определить точную дату публикации, категоризовали некоторые данные, а также смогли определить, какую долю кухни и жилые помещения занимают от общей площади квартир.\n",
    "Проанализировали, какие характеристики влияют на цену квартиры. Определили среднее время продажи квартиры и пердположили причины сильных отклонений от средних показателей.\n",
    "Также удалось изучить центральную часть города и сравнить ее показатели с показателями переферии."
   ]
  },
  {
   "cell_type": "code",
   "execution_count": null,
   "metadata": {},
   "outputs": [],
   "source": []
  }
 ],
 "metadata": {
  "ExecuteTimeLog": [
   {
    "duration": 979,
    "start_time": "2022-02-10T07:46:38.335Z"
   },
   {
    "duration": 99,
    "start_time": "2022-02-10T07:46:39.317Z"
   },
   {
    "duration": 141,
    "start_time": "2022-02-10T07:46:39.419Z"
   },
   {
    "duration": 20,
    "start_time": "2022-02-10T07:46:39.563Z"
   },
   {
    "duration": 11,
    "start_time": "2022-02-10T07:46:39.586Z"
   },
   {
    "duration": 43,
    "start_time": "2022-02-10T07:46:39.600Z"
   },
   {
    "duration": 7,
    "start_time": "2022-02-10T07:46:39.645Z"
   },
   {
    "duration": 40,
    "start_time": "2022-02-10T07:46:39.654Z"
   },
   {
    "duration": 12,
    "start_time": "2022-02-10T07:46:39.735Z"
   },
   {
    "duration": 7,
    "start_time": "2022-02-10T07:46:39.751Z"
   },
   {
    "duration": 15,
    "start_time": "2022-02-10T07:46:39.761Z"
   },
   {
    "duration": 54,
    "start_time": "2022-02-10T07:46:39.778Z"
   },
   {
    "duration": 12,
    "start_time": "2022-02-10T07:46:39.835Z"
   },
   {
    "duration": 36,
    "start_time": "2022-02-10T07:46:39.850Z"
   },
   {
    "duration": 43,
    "start_time": "2022-02-10T07:46:39.889Z"
   },
   {
    "duration": 5,
    "start_time": "2022-02-10T07:46:39.935Z"
   },
   {
    "duration": 17,
    "start_time": "2022-02-10T07:46:39.943Z"
   },
   {
    "duration": 15,
    "start_time": "2022-02-10T07:46:39.963Z"
   },
   {
    "duration": 6,
    "start_time": "2022-02-10T07:46:39.981Z"
   },
   {
    "duration": 50,
    "start_time": "2022-02-10T07:46:39.990Z"
   },
   {
    "duration": 6,
    "start_time": "2022-02-10T07:46:40.042Z"
   },
   {
    "duration": 11,
    "start_time": "2022-02-10T07:46:40.050Z"
   },
   {
    "duration": 6,
    "start_time": "2022-02-10T07:46:40.064Z"
   },
   {
    "duration": 6,
    "start_time": "2022-02-10T07:46:40.073Z"
   },
   {
    "duration": 7,
    "start_time": "2022-02-10T07:46:40.081Z"
   },
   {
    "duration": 53,
    "start_time": "2022-02-10T07:46:40.090Z"
   },
   {
    "duration": 6,
    "start_time": "2022-02-10T07:46:40.150Z"
   },
   {
    "duration": 8,
    "start_time": "2022-02-10T07:46:40.160Z"
   },
   {
    "duration": 10,
    "start_time": "2022-02-10T07:46:40.170Z"
   },
   {
    "duration": 14,
    "start_time": "2022-02-10T07:46:40.182Z"
   },
   {
    "duration": 48,
    "start_time": "2022-02-10T07:46:40.199Z"
   },
   {
    "duration": 9,
    "start_time": "2022-02-10T07:46:40.249Z"
   },
   {
    "duration": 10,
    "start_time": "2022-02-10T07:46:40.260Z"
   },
   {
    "duration": 12,
    "start_time": "2022-02-10T07:46:40.272Z"
   },
   {
    "duration": 6,
    "start_time": "2022-02-10T07:46:40.286Z"
   },
   {
    "duration": 38,
    "start_time": "2022-02-10T07:46:40.295Z"
   },
   {
    "duration": 16,
    "start_time": "2022-02-10T07:46:40.335Z"
   },
   {
    "duration": 9,
    "start_time": "2022-02-10T07:46:40.354Z"
   },
   {
    "duration": 5,
    "start_time": "2022-02-10T07:46:40.366Z"
   },
   {
    "duration": 7,
    "start_time": "2022-02-10T07:46:40.374Z"
   },
   {
    "duration": 6,
    "start_time": "2022-02-10T07:46:40.383Z"
   },
   {
    "duration": 47,
    "start_time": "2022-02-10T07:46:40.392Z"
   },
   {
    "duration": 19,
    "start_time": "2022-02-10T07:46:40.442Z"
   },
   {
    "duration": 10,
    "start_time": "2022-02-10T07:46:40.464Z"
   },
   {
    "duration": 6,
    "start_time": "2022-02-10T07:46:40.477Z"
   },
   {
    "duration": 48,
    "start_time": "2022-02-10T07:46:40.485Z"
   },
   {
    "duration": 5,
    "start_time": "2022-02-10T07:46:40.536Z"
   },
   {
    "duration": 7,
    "start_time": "2022-02-10T07:46:40.544Z"
   },
   {
    "duration": 9,
    "start_time": "2022-02-10T07:46:40.553Z"
   },
   {
    "duration": 11,
    "start_time": "2022-02-10T07:46:40.564Z"
   },
   {
    "duration": 6,
    "start_time": "2022-02-10T07:46:40.577Z"
   },
   {
    "duration": 46,
    "start_time": "2022-02-10T07:46:40.586Z"
   },
   {
    "duration": 13,
    "start_time": "2022-02-10T07:46:40.634Z"
   },
   {
    "duration": 8,
    "start_time": "2022-02-10T07:46:40.649Z"
   },
   {
    "duration": 10,
    "start_time": "2022-02-10T07:46:40.659Z"
   },
   {
    "duration": 4,
    "start_time": "2022-02-10T07:46:40.672Z"
   },
   {
    "duration": 12,
    "start_time": "2022-02-10T07:46:40.678Z"
   },
   {
    "duration": 11,
    "start_time": "2022-02-10T07:46:40.733Z"
   },
   {
    "duration": 16,
    "start_time": "2022-02-10T07:46:40.746Z"
   },
   {
    "duration": 43,
    "start_time": "2022-02-10T07:46:40.777Z"
   },
   {
    "duration": 12,
    "start_time": "2022-02-10T07:46:40.823Z"
   },
   {
    "duration": 1005,
    "start_time": "2022-02-10T07:46:40.838Z"
   },
   {
    "duration": 7,
    "start_time": "2022-02-10T07:46:41.845Z"
   },
   {
    "duration": 12,
    "start_time": "2022-02-10T07:46:41.854Z"
   },
   {
    "duration": 12,
    "start_time": "2022-02-10T07:46:41.869Z"
   },
   {
    "duration": 77,
    "start_time": "2022-02-10T07:46:41.883Z"
   },
   {
    "duration": 677,
    "start_time": "2022-02-10T07:46:41.963Z"
   },
   {
    "duration": 268,
    "start_time": "2022-02-10T07:46:42.642Z"
   },
   {
    "duration": 20,
    "start_time": "2022-02-10T07:46:42.912Z"
   },
   {
    "duration": 562,
    "start_time": "2022-02-10T07:46:42.935Z"
   },
   {
    "duration": 242,
    "start_time": "2022-02-10T07:46:43.500Z"
   },
   {
    "duration": 11,
    "start_time": "2022-02-10T07:46:43.745Z"
   },
   {
    "duration": 423,
    "start_time": "2022-02-10T07:46:43.759Z"
   },
   {
    "duration": 274,
    "start_time": "2022-02-10T07:46:44.185Z"
   },
   {
    "duration": 580,
    "start_time": "2022-02-10T07:46:44.462Z"
   },
   {
    "duration": 280,
    "start_time": "2022-02-10T07:46:45.045Z"
   },
   {
    "duration": 23,
    "start_time": "2022-02-10T07:46:45.332Z"
   },
   {
    "duration": 657,
    "start_time": "2022-02-10T07:46:45.357Z"
   },
   {
    "duration": 685,
    "start_time": "2022-02-10T07:46:46.016Z"
   },
   {
    "duration": 786,
    "start_time": "2022-02-10T07:46:46.703Z"
   },
   {
    "duration": 7,
    "start_time": "2022-02-10T07:46:47.497Z"
   },
   {
    "duration": 803,
    "start_time": "2022-02-10T07:46:47.507Z"
   },
   {
    "duration": 7,
    "start_time": "2022-02-10T07:46:48.312Z"
   },
   {
    "duration": 778,
    "start_time": "2022-02-10T07:46:48.333Z"
   },
   {
    "duration": 6,
    "start_time": "2022-02-10T07:46:49.114Z"
   },
   {
    "duration": 427,
    "start_time": "2022-02-10T07:46:49.133Z"
   },
   {
    "duration": -863,
    "start_time": "2022-02-10T07:46:50.425Z"
   },
   {
    "duration": -868,
    "start_time": "2022-02-10T07:46:50.432Z"
   },
   {
    "duration": -886,
    "start_time": "2022-02-10T07:46:50.451Z"
   },
   {
    "duration": -892,
    "start_time": "2022-02-10T07:46:50.459Z"
   },
   {
    "duration": -897,
    "start_time": "2022-02-10T07:46:50.465Z"
   },
   {
    "duration": -904,
    "start_time": "2022-02-10T07:46:50.474Z"
   },
   {
    "duration": -909,
    "start_time": "2022-02-10T07:46:50.481Z"
   },
   {
    "duration": -917,
    "start_time": "2022-02-10T07:46:50.491Z"
   },
   {
    "duration": -923,
    "start_time": "2022-02-10T07:46:50.498Z"
   },
   {
    "duration": -929,
    "start_time": "2022-02-10T07:46:50.506Z"
   },
   {
    "duration": -935,
    "start_time": "2022-02-10T07:46:50.513Z"
   },
   {
    "duration": -942,
    "start_time": "2022-02-10T07:46:50.521Z"
   },
   {
    "duration": -958,
    "start_time": "2022-02-10T07:46:50.539Z"
   },
   {
    "duration": -964,
    "start_time": "2022-02-10T07:46:50.546Z"
   },
   {
    "duration": -970,
    "start_time": "2022-02-10T07:46:50.553Z"
   },
   {
    "duration": 35,
    "start_time": "2022-02-10T07:58:11.874Z"
   },
   {
    "duration": 155,
    "start_time": "2022-02-10T08:02:48.664Z"
   },
   {
    "duration": 112,
    "start_time": "2022-02-10T08:05:54.981Z"
   },
   {
    "duration": 374,
    "start_time": "2022-02-10T08:15:15.934Z"
   },
   {
    "duration": 376,
    "start_time": "2022-02-10T08:15:27.784Z"
   },
   {
    "duration": 773,
    "start_time": "2022-02-10T08:15:37.793Z"
   },
   {
    "duration": 34,
    "start_time": "2022-02-10T08:17:01.401Z"
   },
   {
    "duration": 50,
    "start_time": "2022-02-10T08:18:28.905Z"
   },
   {
    "duration": 42,
    "start_time": "2022-02-10T08:18:36.783Z"
   },
   {
    "duration": 349,
    "start_time": "2022-02-10T08:18:41.671Z"
   },
   {
    "duration": 12,
    "start_time": "2022-02-10T08:19:11.570Z"
   },
   {
    "duration": 33,
    "start_time": "2022-02-10T08:19:13.344Z"
   },
   {
    "duration": 395,
    "start_time": "2022-02-10T08:19:31.054Z"
   },
   {
    "duration": 607,
    "start_time": "2022-02-10T08:19:35.507Z"
   },
   {
    "duration": 517,
    "start_time": "2022-02-10T08:19:38.634Z"
   },
   {
    "duration": 521,
    "start_time": "2022-02-10T08:19:41.353Z"
   },
   {
    "duration": 719,
    "start_time": "2022-02-16T10:37:40.932Z"
   },
   {
    "duration": 74,
    "start_time": "2022-02-16T10:37:41.653Z"
   },
   {
    "duration": 99,
    "start_time": "2022-02-16T10:37:41.729Z"
   },
   {
    "duration": 11,
    "start_time": "2022-02-16T10:37:41.830Z"
   },
   {
    "duration": 27,
    "start_time": "2022-02-16T10:37:41.843Z"
   },
   {
    "duration": 9,
    "start_time": "2022-02-16T10:37:41.872Z"
   },
   {
    "duration": 4,
    "start_time": "2022-02-16T10:37:41.883Z"
   },
   {
    "duration": 28,
    "start_time": "2022-02-16T10:37:41.888Z"
   },
   {
    "duration": 9,
    "start_time": "2022-02-16T10:37:41.919Z"
   },
   {
    "duration": 38,
    "start_time": "2022-02-16T10:37:41.931Z"
   },
   {
    "duration": 12,
    "start_time": "2022-02-16T10:37:41.971Z"
   },
   {
    "duration": 11,
    "start_time": "2022-02-16T10:37:41.984Z"
   },
   {
    "duration": 9,
    "start_time": "2022-02-16T10:37:41.997Z"
   },
   {
    "duration": 27,
    "start_time": "2022-02-16T10:37:42.008Z"
   },
   {
    "duration": 40,
    "start_time": "2022-02-16T10:37:42.037Z"
   },
   {
    "duration": 4,
    "start_time": "2022-02-16T10:37:42.078Z"
   },
   {
    "duration": 6,
    "start_time": "2022-02-16T10:37:42.084Z"
   },
   {
    "duration": 12,
    "start_time": "2022-02-16T10:37:42.091Z"
   },
   {
    "duration": 4,
    "start_time": "2022-02-16T10:37:42.105Z"
   },
   {
    "duration": 12,
    "start_time": "2022-02-16T10:37:42.111Z"
   },
   {
    "duration": 4,
    "start_time": "2022-02-16T10:37:42.125Z"
   },
   {
    "duration": 46,
    "start_time": "2022-02-16T10:37:42.131Z"
   },
   {
    "duration": 6,
    "start_time": "2022-02-16T10:37:42.179Z"
   },
   {
    "duration": 7,
    "start_time": "2022-02-16T10:37:42.187Z"
   },
   {
    "duration": 7,
    "start_time": "2022-02-16T10:37:42.196Z"
   },
   {
    "duration": 9,
    "start_time": "2022-02-16T10:37:42.205Z"
   },
   {
    "duration": 4,
    "start_time": "2022-02-16T10:37:42.219Z"
   },
   {
    "duration": 47,
    "start_time": "2022-02-16T10:37:42.226Z"
   },
   {
    "duration": 5,
    "start_time": "2022-02-16T10:37:42.275Z"
   },
   {
    "duration": 11,
    "start_time": "2022-02-16T10:37:42.282Z"
   },
   {
    "duration": 9,
    "start_time": "2022-02-16T10:37:42.295Z"
   },
   {
    "duration": 8,
    "start_time": "2022-02-16T10:37:42.305Z"
   },
   {
    "duration": 7,
    "start_time": "2022-02-16T10:37:42.315Z"
   },
   {
    "duration": 46,
    "start_time": "2022-02-16T10:37:42.324Z"
   },
   {
    "duration": 6,
    "start_time": "2022-02-16T10:37:42.372Z"
   },
   {
    "duration": 6,
    "start_time": "2022-02-16T10:37:42.380Z"
   },
   {
    "duration": 7,
    "start_time": "2022-02-16T10:37:42.388Z"
   },
   {
    "duration": 9,
    "start_time": "2022-02-16T10:37:42.397Z"
   },
   {
    "duration": 14,
    "start_time": "2022-02-16T10:37:42.408Z"
   },
   {
    "duration": 6,
    "start_time": "2022-02-16T10:37:42.425Z"
   },
   {
    "duration": 7,
    "start_time": "2022-02-16T10:37:43.472Z"
   },
   {
    "duration": 9,
    "start_time": "2022-02-16T10:37:43.481Z"
   },
   {
    "duration": 14,
    "start_time": "2022-02-16T10:37:43.493Z"
   },
   {
    "duration": 11,
    "start_time": "2022-02-16T10:37:43.510Z"
   },
   {
    "duration": 48,
    "start_time": "2022-02-16T10:37:43.523Z"
   },
   {
    "duration": 9,
    "start_time": "2022-02-16T10:37:43.573Z"
   },
   {
    "duration": 6,
    "start_time": "2022-02-16T10:37:43.585Z"
   },
   {
    "duration": 9,
    "start_time": "2022-02-16T10:37:43.593Z"
   },
   {
    "duration": 8,
    "start_time": "2022-02-16T10:37:43.606Z"
   },
   {
    "duration": 7,
    "start_time": "2022-02-16T10:37:43.617Z"
   },
   {
    "duration": 47,
    "start_time": "2022-02-16T10:37:43.626Z"
   },
   {
    "duration": 8,
    "start_time": "2022-02-16T10:37:43.676Z"
   },
   {
    "duration": 16,
    "start_time": "2022-02-16T10:37:43.686Z"
   },
   {
    "duration": 14,
    "start_time": "2022-02-16T10:37:43.704Z"
   },
   {
    "duration": 11,
    "start_time": "2022-02-16T10:37:43.720Z"
   },
   {
    "duration": 4,
    "start_time": "2022-02-16T10:37:43.733Z"
   },
   {
    "duration": 35,
    "start_time": "2022-02-16T10:37:43.738Z"
   },
   {
    "duration": 7,
    "start_time": "2022-02-16T10:37:43.775Z"
   },
   {
    "duration": 10,
    "start_time": "2022-02-16T10:37:43.784Z"
   },
   {
    "duration": 2,
    "start_time": "2022-02-16T10:37:43.796Z"
   },
   {
    "duration": 7,
    "start_time": "2022-02-16T10:37:43.799Z"
   },
   {
    "duration": 623,
    "start_time": "2022-02-16T10:37:43.809Z"
   },
   {
    "duration": 5,
    "start_time": "2022-02-16T10:37:44.434Z"
   },
   {
    "duration": 22,
    "start_time": "2022-02-16T10:37:44.441Z"
   },
   {
    "duration": 21,
    "start_time": "2022-02-16T10:37:44.465Z"
   },
   {
    "duration": 48,
    "start_time": "2022-02-16T10:37:44.488Z"
   },
   {
    "duration": 8,
    "start_time": "2022-02-16T10:37:44.541Z"
   },
   {
    "duration": 488,
    "start_time": "2022-02-16T10:37:44.551Z"
   },
   {
    "duration": 192,
    "start_time": "2022-02-16T10:37:45.041Z"
   },
   {
    "duration": 9,
    "start_time": "2022-02-16T10:37:45.234Z"
   },
   {
    "duration": 399,
    "start_time": "2022-02-16T10:37:45.245Z"
   },
   {
    "duration": 185,
    "start_time": "2022-02-16T10:37:45.645Z"
   },
   {
    "duration": 9,
    "start_time": "2022-02-16T10:37:45.832Z"
   },
   {
    "duration": 311,
    "start_time": "2022-02-16T10:37:45.842Z"
   },
   {
    "duration": 203,
    "start_time": "2022-02-16T10:37:46.155Z"
   },
   {
    "duration": 441,
    "start_time": "2022-02-16T10:37:46.360Z"
   },
   {
    "duration": 204,
    "start_time": "2022-02-16T10:37:46.803Z"
   },
   {
    "duration": 20,
    "start_time": "2022-02-16T10:37:47.009Z"
   },
   {
    "duration": 511,
    "start_time": "2022-02-16T10:37:47.030Z"
   },
   {
    "duration": 416,
    "start_time": "2022-02-16T10:37:47.543Z"
   },
   {
    "duration": 20,
    "start_time": "2022-02-16T10:37:47.960Z"
   },
   {
    "duration": 30,
    "start_time": "2022-02-16T10:37:47.981Z"
   },
   {
    "duration": 22,
    "start_time": "2022-02-16T10:37:48.012Z"
   },
   {
    "duration": 18,
    "start_time": "2022-02-16T10:37:48.036Z"
   },
   {
    "duration": 19,
    "start_time": "2022-02-16T10:37:48.056Z"
   },
   {
    "duration": 31,
    "start_time": "2022-02-16T10:37:48.077Z"
   },
   {
    "duration": 31,
    "start_time": "2022-02-16T10:37:48.110Z"
   },
   {
    "duration": 106,
    "start_time": "2022-02-16T10:37:48.143Z"
   },
   {
    "duration": 532,
    "start_time": "2022-02-16T10:37:48.251Z"
   },
   {
    "duration": 5,
    "start_time": "2022-02-16T10:37:48.785Z"
   },
   {
    "duration": 578,
    "start_time": "2022-02-16T10:37:48.791Z"
   },
   {
    "duration": 6,
    "start_time": "2022-02-16T10:37:49.371Z"
   },
   {
    "duration": 574,
    "start_time": "2022-02-16T10:37:49.379Z"
   },
   {
    "duration": 15,
    "start_time": "2022-02-16T10:37:49.955Z"
   },
   {
    "duration": 362,
    "start_time": "2022-02-16T10:37:49.972Z"
   },
   {
    "duration": -3523,
    "start_time": "2022-02-16T10:37:53.859Z"
   },
   {
    "duration": -3529,
    "start_time": "2022-02-16T10:37:53.866Z"
   },
   {
    "duration": -3535,
    "start_time": "2022-02-16T10:37:53.873Z"
   },
   {
    "duration": -3541,
    "start_time": "2022-02-16T10:37:53.880Z"
   },
   {
    "duration": -3549,
    "start_time": "2022-02-16T10:37:53.889Z"
   },
   {
    "duration": -3554,
    "start_time": "2022-02-16T10:37:53.895Z"
   },
   {
    "duration": -3561,
    "start_time": "2022-02-16T10:37:53.903Z"
   },
   {
    "duration": -3567,
    "start_time": "2022-02-16T10:37:53.910Z"
   },
   {
    "duration": -3593,
    "start_time": "2022-02-16T10:37:53.937Z"
   },
   {
    "duration": -3599,
    "start_time": "2022-02-16T10:37:53.944Z"
   },
   {
    "duration": -3606,
    "start_time": "2022-02-16T10:37:53.952Z"
   },
   {
    "duration": -3612,
    "start_time": "2022-02-16T10:37:53.959Z"
   },
   {
    "duration": -3801,
    "start_time": "2022-02-16T10:37:54.149Z"
   },
   {
    "duration": -3807,
    "start_time": "2022-02-16T10:37:54.156Z"
   },
   {
    "duration": -3813,
    "start_time": "2022-02-16T10:37:54.163Z"
   },
   {
    "duration": -3819,
    "start_time": "2022-02-16T10:37:54.170Z"
   },
   {
    "duration": -3826,
    "start_time": "2022-02-16T10:37:54.178Z"
   },
   {
    "duration": -3831,
    "start_time": "2022-02-16T10:37:54.185Z"
   },
   {
    "duration": -3838,
    "start_time": "2022-02-16T10:37:54.193Z"
   },
   {
    "duration": -3844,
    "start_time": "2022-02-16T10:37:54.200Z"
   },
   {
    "duration": -3851,
    "start_time": "2022-02-16T10:37:54.208Z"
   },
   {
    "duration": 162,
    "start_time": "2022-02-16T10:39:32.935Z"
   }
  ],
  "kernelspec": {
   "display_name": "Python 3 (ipykernel)",
   "language": "python",
   "name": "python3"
  },
  "language_info": {
   "codemirror_mode": {
    "name": "ipython",
    "version": 3
   },
   "file_extension": ".py",
   "mimetype": "text/x-python",
   "name": "python",
   "nbconvert_exporter": "python",
   "pygments_lexer": "ipython3",
   "version": "3.10.4"
  },
  "toc": {
   "base_numbering": 1,
   "nav_menu": {},
   "number_sections": true,
   "sideBar": true,
   "skip_h1_title": true,
   "title_cell": "Содержание",
   "title_sidebar": "Contents",
   "toc_cell": true,
   "toc_position": {
    "height": "calc(100% - 180px)",
    "left": "10px",
    "top": "150px",
    "width": "165px"
   },
   "toc_section_display": true,
   "toc_window_display": true
  }
 },
 "nbformat": 4,
 "nbformat_minor": 2
}
